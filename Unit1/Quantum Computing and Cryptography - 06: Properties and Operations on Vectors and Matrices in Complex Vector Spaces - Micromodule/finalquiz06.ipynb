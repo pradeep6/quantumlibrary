{
 "cells": [
  {
   "cell_type": "markdown",
   "metadata": {
    "nbgrader": {
     "grade": false,
     "grade_id": "cell-0162b43588c01cbb",
     "locked": true,
     "schema_version": 1,
     "solution": false
    }
   },
   "source": [
    "# Final Quiz 6\n",
    "\n",
    "### nanomodule 6\n",
    "\n",
    "#### Your Name: "
   ]
  },
  {
   "cell_type": "markdown",
   "metadata": {
    "nbgrader": {
     "grade": true,
     "grade_id": "cell-2d49ca6dd1444c11",
     "locked": false,
     "points": 5,
     "schema_version": 1,
     "solution": true
    }
   },
   "source": [
    "<b>6.1 (5 points) True/False:</b>\n",
    "\n",
    "1. The inner product of two complex matrices is given by: $\\left<A,B\\right>=Trace(A^\\dagger\\cdot B)$\n",
    "2. Norm of a vector can also be thought of as its length.\n",
    "3. Orthogonal vectors have an inner product of zero.\n",
    "4. If the inner product of two vectors is zero then they are orthogonal to each other.\n",
    "5. Vectors are said to be orthonormal if their inner product is zero and they are both of unit length."
   ]
  },
  {
   "cell_type": "markdown",
   "metadata": {
    "nbgrader": {
     "grade": true,
     "grade_id": "cell-4d0f3e9c32fcbf52",
     "locked": false,
     "points": 2,
     "schema_version": 1,
     "solution": true
    }
   },
   "source": [
    "<b>6.2 (2 points) Compute the inner product of $V_1=\\begin{bmatrix}1\\\\2\\\\0\\end{bmatrix}$ and $V_2=\\begin{bmatrix}2\\\\-1\\\\10\\end{bmatrix}$.</b>"
   ]
  },
  {
   "cell_type": "markdown",
   "metadata": {
    "nbgrader": {
     "grade": true,
     "grade_id": "cell-c743085a3be29328",
     "locked": false,
     "points": 6,
     "schema_version": 1,
     "solution": true
    }
   },
   "source": [
    "<b>6.3 (6 points) Compute the inner product of each pair, for $V_1=\\begin{bmatrix}1\\\\0\\\\0\\end{bmatrix}$, $V_2=\\begin{bmatrix}1\\\\1\\\\0\\end{bmatrix}$ and $V_3=\\begin{bmatrix}0\\\\0\\\\1+i\\end{bmatrix}$.</b>"
   ]
  },
  {
   "cell_type": "markdown",
   "metadata": {
    "nbgrader": {
     "grade": true,
     "grade_id": "cell-afa5a830d30dc58c",
     "locked": false,
     "points": 6,
     "schema_version": 1,
     "solution": true
    }
   },
   "source": [
    "<b>6.4 (6 points) Compute the norms of $V_1$, $V_2$ and $V_3$ from question 6.3.</b>"
   ]
  },
  {
   "cell_type": "markdown",
   "metadata": {
    "nbgrader": {
     "grade": true,
     "grade_id": "cell-aa3a9e82dfa18569",
     "locked": false,
     "points": 5,
     "schema_version": 1,
     "solution": true
    }
   },
   "source": [
    "<b>6.5 (5 points) Prove that norm is nondegenerate: $|V|>0$ if $V\\neq\\boldsymbol{0}$ and $|\\boldsymbol{0}|=0$.</b>"
   ]
  },
  {
   "cell_type": "markdown",
   "metadata": {
    "nbgrader": {
     "grade": true,
     "grade_id": "cell-025fb7eb68dbeb34",
     "locked": false,
     "points": 6,
     "schema_version": 1,
     "solution": true
    }
   },
   "source": [
    "<b>6.6 (6 points) Express the following vectors in terms of basis set, $\\left\\{\\begin{bmatrix}i\\\\0\\\\0\\end{bmatrix},\\begin{bmatrix}i\\\\i\\\\0\\end{bmatrix},\\begin{bmatrix}i\\\\i\\\\i\\end{bmatrix}\\right\\}$.</b>\n",
    "\n",
    "a. $\\begin{bmatrix}1& 2& 0\\end{bmatrix}^T$\n",
    "\n",
    "b. $\\begin{bmatrix}1-i& 1+i& -3\\end{bmatrix}^T$\n",
    "\n",
    "c. $\\begin{bmatrix}-i& 2+i& -1\\end{bmatrix}^T$\n",
    "    "
   ]
  },
  {
   "cell_type": "markdown",
   "metadata": {
    "nbgrader": {
     "grade": true,
     "grade_id": "cell-5bdfaebfe432ff9f",
     "locked": false,
     "points": 3,
     "schema_version": 1,
     "solution": true
    }
   },
   "source": [
    "<b>6.7 (3 points) Calculate the angle between the vectors given in question 6.6a and 6.6b.</b>"
   ]
  },
  {
   "cell_type": "markdown",
   "metadata": {
    "nbgrader": {
     "grade": true,
     "grade_id": "cell-5fe70614147f1b2e",
     "locked": false,
     "points": 4,
     "schema_version": 1,
     "solution": true
    }
   },
   "source": [
    "<b>6.8 (4 points) Which of the following two basis sets forms an orthogonal basis set and which one forms a orthonormal basis set? Also check if the given set <i>is</i> a basis set.</b>\n",
    "\n",
    "1. $\\left\\{\\begin{bmatrix}0\\\\1\\end{bmatrix},\\begin{bmatrix}1\\\\0\\end{bmatrix}\\right\\}$\n",
    "<br><br>\n",
    "2. $\\left\\{\\begin{bmatrix}0\\\\1\\end{bmatrix},\\begin{bmatrix}1\\\\1\\end{bmatrix}\\right\\}$"
   ]
  },
  {
   "cell_type": "markdown",
   "metadata": {
    "nbgrader": {
     "grade": true,
     "grade_id": "cell-d8285f9397abdf7f",
     "locked": false,
     "points": 5,
     "schema_version": 1,
     "solution": true
    }
   },
   "source": [
    "<b>6.9 (5 points) Write a Python function that takes two well-formed complex vectors/matrices as its input and outputs the inner product of its inputs.</b>"
   ]
  },
  {
   "cell_type": "code",
   "execution_count": 67,
   "metadata": {},
   "outputs": [
    {
     "name": "stderr",
     "output_type": "stream",
     "text": [
      "........\n",
      "----------------------------------------------------------------------\n",
      "Ran 8 tests in 0.006s\n",
      "\n",
      "OK\n"
     ]
    }
   ],
   "source": [
    "import numpy\n",
    "def innerprod(m1,m2):\n",
    "    #Complete the function\n",
    "    \n",
    "#Example execution    \n",
    "assert numpy.allclose(innerprod([1 + 2j, -2 ,4j],[1j, -5+3j, 7]), (12-33j))"
   ]
  },
  {
   "cell_type": "markdown",
   "metadata": {
    "nbgrader": {
     "grade": true,
     "grade_id": "cell-33c7b44482c16613",
     "locked": false,
     "points": 5,
     "schema_version": 1,
     "solution": true
    }
   },
   "source": [
    "<b>6.10 (5 points) Write a Python function that takes a complex vector of size $n$ as its input and outputs the norm of its input vector.</b>"
   ]
  },
  {
   "cell_type": "code",
   "execution_count": 68,
   "metadata": {},
   "outputs": [
    {
     "name": "stderr",
     "output_type": "stream",
     "text": [
      "........\n",
      "----------------------------------------------------------------------\n",
      "Ran 8 tests in 0.008s\n",
      "\n",
      "OK\n"
     ]
    }
   ],
   "source": [
    "import numpy\n",
    "def norm_nvec(v):\n",
    "    #Complete the function\n",
    "    \n",
    "#Example execution    \n",
    "assert numpy.allclose(norm_nvec([9,3,7,1,9,4,3]), 15.684387141358123)"
   ]
  },
  {
   "cell_type": "markdown",
   "metadata": {
    "nbgrader": {
     "grade": false,
     "grade_id": "cell-901dfb594eff8964",
     "locked": true,
     "schema_version": 1,
     "solution": false
    }
   },
   "source": [
    "***\n",
    "#### End of Quiz 6\n",
    "***"
   ]
  }
 ],
 "metadata": {
  "kernelspec": {
   "display_name": "Python 3",
   "language": "python",
   "name": "python3"
  },
  "language_info": {
   "codemirror_mode": {
    "name": "ipython",
    "version": 3
   },
   "file_extension": ".py",
   "mimetype": "text/x-python",
   "name": "python",
   "nbconvert_exporter": "python",
   "pygments_lexer": "ipython3",
   "version": "3.6.4"
  }
 },
 "nbformat": 4,
 "nbformat_minor": 2
}
