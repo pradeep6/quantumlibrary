{
 "cells": [
  {
   "cell_type": "markdown",
   "metadata": {
    "slideshow": {
     "slide_type": "slide"
    }
   },
   "source": [
    "# 1. The Basics of Complex Numbers \n",
    "\n",
    "### This lesson belongs to nanomodule 1, micromodule 1, module 0\n",
    "\n",
    "\n",
    "<b>Learning Outcomes:</b>\n",
    "\n",
    "Upon completion of this lesson:\n",
    "\n",
    "1.1\tStudents will master the concept of complex number representations.\n",
    "\n",
    "1.2\tStudents will be able to perform basic additive and multiplicative operations on complex numbers.\n",
    "\n",
    "1.3\tStudents will be able to implement Python programs that perform basic operations of addition and multiplication on complex numbers.\n"
   ]
  },
  {
   "cell_type": "markdown",
   "metadata": {
    "slideshow": {
     "slide_type": "slide"
    }
   },
   "source": [
    "## 1.1 Warm-up\n",
    "\n",
    "Somethings to discuss:\n",
    "1. How would you solve equations such as $x^2+5x+6=0$ or $x^2+1=0$?\n",
    "2. Where do complex numbers fit in with respect to other number systems?\n",
    "3. Open discussions on systems that \"need\" complex numbers for description of system state (such as electromagnetic waves, electrical systems, etc.)"
   ]
  },
  {
   "cell_type": "markdown",
   "metadata": {
    "slideshow": {
     "slide_type": "slide"
    }
   },
   "source": [
    "## 1.2 Background\n",
    "\n",
    "In order to start understanding the theory behind quantum computing and cryptography, one needs to first understand what complex numbers are. It often comes as a surprise to many that complex numbers are deeply ingrained in quantum theory!\n",
    "\n",
    "We usually work with the following number systems:\n",
    "<ul>\n",
    "     <li> Positive numbers, $\\mathbb{P} = {1, 2, 3, \\ldots}$ </li>\n",
    "     <li> Natural numbers, $\\mathbb{N} = {0, 1, 2, 3, \\ldots}$ </li>\n",
    "     <li> Integers, $\\mathbb{Z} = {\\ldots, -3, -2, -1, 0, 1, 2, 3, \\ldots}$ </li>\n",
    "     <li> Rational numbers, $\\mathbb{Q} = {\\frac{m}{n}|m\\in\\mathbb{Z}, n\\in\\mathbb{P}}$ </li>\n",
    "     <li> Real numbers, $\\mathbb{R} = \\mathbb{Q}\\cup{\\ldots,\\sqrt{2},\\ldots,e,\\ldots,\\pi,\\ldots,\\frac{e}{\\pi},\\ldots}$ </li>\n",
    "</ul>\n",
    "\n",
    "The last of these, set of real numbers, encompasses all the other types of number systems. So where do complex numbers come from and how do they fit in with the above commonly used number systems?"
   ]
  },
  {
   "cell_type": "markdown",
   "metadata": {
    "slideshow": {
     "slide_type": "slide"
    }
   },
   "source": [
    "## 1.3 Imaginary Numbers\n",
    "\n",
    "The birth of complex numbers is motivated by the desire to find solutions for polynomial equations. It is easy to see that some polynomials such as $x^2=-1$ do not have any solutions in real numbers. Mathematicians therefore had to take a leap of faith and assume that a solution to such equations does exist. In other words, there is a number that when squared will result in -1.\n",
    "\n",
    "They denoted this number by $i$, such that $i=\\sqrt{-1}$. Indeed, $i^2=-1$. Therefore, the solution to the above equation is $x=i$.\n",
    "\n",
    "This new number, $i$, clearly does not exist within the set of real numbers and is aptly called *imaginary number*.\n",
    "\n",
    "We can use $i$ to do arithmetic operations. Therefore, $i^2=-1$, $i^3 = i\\times i\\times i = i^2\\times i=-1\\times i=-i$, $i^4=(i^2)^2=1$ and so on. Very soon a pattern emerges that can be used to compute higher powers of $i$."
   ]
  },
  {
   "cell_type": "markdown",
   "metadata": {
    "slideshow": {
     "slide_type": "slide"
    }
   },
   "source": [
    "## Quiz 1.1 Self Assessment Quiz \n",
    "<b>Maybe used for in-class hands-on practice.</b>\n",
    "\n",
    "<b><i>Run the code in the next cell to generate a interactive version of this quiz.</i></b>\n",
    "\n",
    "1. Solve for $x$ where $x^2+25=0$. Choose the right answer:\n",
    "\n",
    "    a. x=5i\n",
    "\n",
    "    b. x=-5i\n",
    "\n",
    "    c. x=i\n",
    "\n",
    "    d. x=5\n",
    "<br><br>\n",
    "2. Simplify $i^{225}$. (Hint: find a pattern)"
   ]
  },
  {
   "cell_type": "code",
   "execution_count": 1,
   "metadata": {
    "slideshow": {
     "slide_type": "slide"
    }
   },
   "outputs": [
    {
     "data": {
      "application/vnd.jupyter.widget-view+json": {
       "model_id": "5e4065fccb7249788353b8be149ad179",
       "version_major": 2,
       "version_minor": 0
      },
      "text/html": [
       "<p>Failed to display Jupyter Widget of type <code>VBox</code>.</p>\n",
       "<p>\n",
       "  If you're reading this message in the Jupyter Notebook or JupyterLab Notebook, it may mean\n",
       "  that the widgets JavaScript is still loading. If this message persists, it\n",
       "  likely means that the widgets JavaScript library is either not installed or\n",
       "  not enabled. See the <a href=\"https://ipywidgets.readthedocs.io/en/stable/user_install.html\">Jupyter\n",
       "  Widgets Documentation</a> for setup instructions.\n",
       "</p>\n",
       "<p>\n",
       "  If you're reading this message in another frontend (for example, a static\n",
       "  rendering on GitHub or <a href=\"https://nbviewer.jupyter.org/\">NBViewer</a>),\n",
       "  it may mean that your frontend doesn't currently support widgets.\n",
       "</p>\n"
      ],
      "text/plain": [
       "VBox(children=(HTML(value='<b><font size=\"+2\">Quiz 1.1 Self Assessment Quiz'), HTML(value='<b><font size=\"-1\"<b>Maybe used for in-class hands-on practice.</b>'), HTMLMath(value='<font size=\"+0\">1. Solve for $x$ where $x^2+25=0$. Choose the right answer:'), HBox(children=(RadioButtons(options=('a. x=5i', 'b. x=-5i', 'c. x=i', 'd. x=5'), value='a. x=5i'), Valid(value=False, layout=Layout(visibility='hidden'), readout='Incorrect'))), HTMLMath(value='<font size=\"+0\">2. Simplify $i^{225}$. (Hint: find a pattern)'), HBox(children=(Dropdown(description='----->', options={'1': 1, '-1': 2, ' i': 3, '-i': 4}, value=1), Valid(value=False, layout=Layout(visibility='hidden'), readout='Incorrect'))), VBox(children=(HBox(children=(Button(button_style='success', description='Check Answers', icon='check', style=ButtonStyle(), tooltip='Check Answers'),)),), layout=Layout(align_items='center'))))"
      ]
     },
     "metadata": {},
     "output_type": "display_data"
    }
   ],
   "source": [
    "%run pyfiles/saquiz1_1  #This runs the file that has the quiz code\n",
    "SAQuiz1_1"
   ]
  },
  {
   "cell_type": "markdown",
   "metadata": {
    "slideshow": {
     "slide_type": "slide"
    }
   },
   "source": [
    "## 1.4 Complex Numbers\n",
    "\n",
    "Now that we know what real numbers look like and what imaginary numbers look like, we can define a complex number as follows,\n",
    "\n",
    "*A <b>complex number</b> is a combination of real and imaginary numbers. Therefore, an expression $c=a+b\\times i = a+bi$, where $a$ and $b$ are real numbers is said to be a complex number. Here $bi=b\\times i$ is understood.*\n",
    "\n",
    "Note that when $a=0$, we only have $c=bi$ and is a valid complex number. Often $a$ is called the real part of $c$ and $b$ is called the imaginary part of $c$. The set of all complex numbers is denoted by $\\mathbb{C}$."
   ]
  },
  {
   "cell_type": "markdown",
   "metadata": {
    "slideshow": {
     "slide_type": "slide"
    }
   },
   "source": [
    "## 1.5 Operations on Complex Numbers\n",
    "\n",
    "Let's look at couple of operations on complex numbers: addition and multiplication,\n",
    "\n",
    "<b>Addition:</b> If $c_1 = a_1+b_1i$ and $c_2=a_2+b_2i$, then $c_1+c_2=(a_1+a_2)+(b_1+b_2)i$.\n",
    "\n",
    "<b>Multiplication:</b> If $c_1 = a_1+b_1i$ and $c_2=a_2+b_2i$, then $c_1\\times c_2=(a_1a_2-b_1b_2)+(a_1b_2+a_2b_1)i$.\n",
    "\n",
    "Example:\n",
    "\n",
    "Let $c_1=5+11i$ and $c_2=3+8i$, then\n",
    "\n",
    "<ul>\n",
    "    <li> $c_1+c_2 = (5+3) + (11+8)i = 8+19i$</li>\n",
    "    <li> $c_1\\times c_2 = (5\\times3-11\\times8)+(5\\times8+11\\times3)i=-73+73i$ </li>\n",
    "</ul>"
   ]
  },
  {
   "cell_type": "markdown",
   "metadata": {
    "slideshow": {
     "slide_type": "slide"
    }
   },
   "source": [
    "## Quiz 1.2 Self Assessment Quiz\n",
    "<b>Maybe used for in-class hands-on practice.</b>\n",
    "\n",
    "<b><i>Run the code in the next cell to generate a interactive version of this quiz.</i></b>\n",
    "\n",
    "1\\. Solve for $x$, where $x^2+2x+10=0$.\n",
    "\n",
    "Let $c_1=2+50i$ and $c_2=3+\\frac{1}{2}i$, compute the following:\n",
    "\n",
    "2\\. $c_1+c_2$\n",
    "\n",
    "3\\. $c_1\\times c_2$\n",
    "\n",
    "4\\. $7\\times c_2$"
   ]
  },
  {
   "cell_type": "code",
   "execution_count": 2,
   "metadata": {
    "scrolled": false,
    "slideshow": {
     "slide_type": "slide"
    }
   },
   "outputs": [
    {
     "data": {
      "application/vnd.jupyter.widget-view+json": {
       "model_id": "6ea6fc52018e407f80af51b6c63d3022",
       "version_major": 2,
       "version_minor": 0
      },
      "text/html": [
       "<p>Failed to display Jupyter Widget of type <code>VBox</code>.</p>\n",
       "<p>\n",
       "  If you're reading this message in the Jupyter Notebook or JupyterLab Notebook, it may mean\n",
       "  that the widgets JavaScript is still loading. If this message persists, it\n",
       "  likely means that the widgets JavaScript library is either not installed or\n",
       "  not enabled. See the <a href=\"https://ipywidgets.readthedocs.io/en/stable/user_install.html\">Jupyter\n",
       "  Widgets Documentation</a> for setup instructions.\n",
       "</p>\n",
       "<p>\n",
       "  If you're reading this message in another frontend (for example, a static\n",
       "  rendering on GitHub or <a href=\"https://nbviewer.jupyter.org/\">NBViewer</a>),\n",
       "  it may mean that your frontend doesn't currently support widgets.\n",
       "</p>\n"
      ],
      "text/plain": [
       "VBox(children=(HTML(value='<b><font size=\"+2\">Quiz 1.2 Self Assessment Quiz'), HTML(value='<b><font size=\"-1\"<b>Maybe used for in-class hands-on practice.</b>'), HTMLMath(value='<font size=\"+1\">1. Solve for $x$, where $x^2+2x+10=0$.'), HBox(children=(Text(value='', layout=Layout(width='90px'), placeholder='a + bi'), HTML(value='<b><font size=\"-1\"<b>and</b>'), Text(value='', layout=Layout(width='90px'), placeholder='a + bi'), Valid(value=False, layout=Layout(visibility='hidden'), readout='Incorrect'), HTML(value=''))), Label(value=''), HTMLMath(value='<font size=\"+1\">Let $c_1=2+50i$ and $c_2=3+0.5i$, compute the following:'), HTMLMath(value='<font size=\"+0\">2. $c_1+c_2$'), HBox(children=(Text(value='', layout=Layout(width='130px'), placeholder='a + bi'), Valid(value=False, layout=Layout(visibility='hidden'), readout='Incorrect'), HTML(value=''))), Label(value=''), HTMLMath(value='<font size=\"+0\">3. $c_1$ &#10005; $c_2$'), HBox(children=(Text(value='', layout=Layout(width='130px'), placeholder='a + bi'), Valid(value=False, layout=Layout(visibility='hidden'), readout='Incorrect'), HTML(value=''))), Label(value=''), HTMLMath(value='<font size=\"+0\">4. $7$ &#10005; $c_2$'), HBox(children=(Text(value='', layout=Layout(width='130px'), placeholder='a + bi'), Valid(value=False, layout=Layout(visibility='hidden'), readout='Incorrect'), HTML(value=''))), VBox(children=(HBox(children=(Button(button_style='success', description='Check Answers', icon='check', style=ButtonStyle(), tooltip='Check Answers'),)),), layout=Layout(align_items='center'))))"
      ]
     },
     "metadata": {},
     "output_type": "display_data"
    }
   ],
   "source": [
    "%run pyfiles/saquiz1_2  \n",
    "SAQuiz1_2"
   ]
  },
  {
   "cell_type": "code",
   "execution_count": 3,
   "metadata": {
    "scrolled": false,
    "slideshow": {
     "slide_type": "slide"
    }
   },
   "outputs": [
    {
     "data": {
      "application/vnd.jupyter.widget-view+json": {
       "model_id": "31b2d0b115404750b88914351569161c",
       "version_major": 2,
       "version_minor": 0
      },
      "text/html": [
       "<p>Failed to display Jupyter Widget of type <code>VBox</code>.</p>\n",
       "<p>\n",
       "  If you're reading this message in the Jupyter Notebook or JupyterLab Notebook, it may mean\n",
       "  that the widgets JavaScript is still loading. If this message persists, it\n",
       "  likely means that the widgets JavaScript library is either not installed or\n",
       "  not enabled. See the <a href=\"https://ipywidgets.readthedocs.io/en/stable/user_install.html\">Jupyter\n",
       "  Widgets Documentation</a> for setup instructions.\n",
       "</p>\n",
       "<p>\n",
       "  If you're reading this message in another frontend (for example, a static\n",
       "  rendering on GitHub or <a href=\"https://nbviewer.jupyter.org/\">NBViewer</a>),\n",
       "  it may mean that your frontend doesn't currently support widgets.\n",
       "</p>\n"
      ],
      "text/plain": [
       "VBox(children=(VBox(children=(Label(value=''), HTML(value='<font size=\"+2\">Complete the exercises.</font>'), Label(value='')), layout=Layout(align_items='center')), HBox(children=(HTML(value='', layout=Layout(width='15%')), HTML(value='', layout=Layout(width='70%'))), layout=Layout(align_items='stretch')), VBox(children=(Label(value=''), Accordion(children=(VBox(children=(HTML(value='<font size=\"+1\">Make all functions true.</font>'), HTML(value='1 &#10097;'), HBox(children=(HTML(value='<font size=\"+1\">&emsp;&emsp;(-8 +'), FloatText(value=0.0, layout=Layout(width='55px')), HTML(value='<font size=\"+1\">i) + ('), FloatText(value=0.0, layout=Layout(width='55px')), HTML(value='<font size=\"+1\"> + i) = (4 - 7i)'), Valid(value=False, layout=Layout(visibility='hidden'), readout='Incorrect'))), HTML(value='2 &#10097;'), HBox(children=(HTML(value='<font size=\"+1\">&emsp;&emsp;('), FloatText(value=0.0, layout=Layout(width='55px')), HTML(value='<font size=\"+1\"> + 6i) + -(9 - 3i) = (10 + '), FloatText(value=0.0, layout=Layout(width='55px')), HTML(value='<font size=\"+1\">i)'), Valid(value=False, layout=Layout(visibility='hidden'), readout='Incorrect'))), HTML(value='3 &#10097;'), HBox(children=(HTML(value='<font size=\"+1\">&emsp;&emsp;( 9 + 6i)(-10 - 2i) = ('), FloatText(value=0.0, layout=Layout(width='55px')), HTML(value='<font size=\"+1\"> + '), FloatText(value=0.0, layout=Layout(width='55px')), HTML(value='<font size=\"+1\">i)'), Valid(value=False, layout=Layout(visibility='hidden'), readout='Incorrect'))), HTML(value='4 &#10097;'), HBox(children=(HTML(value='<font size=\"+1\">&emsp;&emsp;( 5 )(4 + 3i) = ('), FloatText(value=0.0, layout=Layout(width='55px')), HTML(value='<font size=\"+1\"> + '), FloatText(value=0.0, layout=Layout(width='55px')), HTML(value='<font size=\"+1\">i)'), Valid(value=False, layout=Layout(visibility='hidden'), readout='Incorrect'))), VBox(children=(Button(button_style='success', description='Check Answers', icon='check', style=ButtonStyle(), tooltip='Check Answers'),), layout=Layout(align_items='center')))), VBox(children=(HTML(value='<font size=\"+1\">Solve 5 randomly generated problems in a row.'), Label(value=''), HBox(children=(HTML(value='<font size=\"+1\">&emsp;&emsp;(0 - 6i) + (11 - 14i)'), HTML(value='<font size=\"+1\"> = ('), FloatText(value=0.0, layout=Layout(width='60px')), HTML(value='<font size=\"+1\"> + '), FloatText(value=0.0, layout=Layout(width='60px')), HTML(value='<font size=\"+1\">i)'))), Label(value=''), VBox(children=(HBox(children=(Button(button_style='success', description='Check 1/5', icon='check', style=ButtonStyle(), tooltip='Check Answer'), Label(value=''), Button(button_style='warning', description='Restart', style=ButtonStyle(), tooltip=\"Don't give up :)\"))),), layout=Layout(align_items='center'))))), _titles={'1': 'Exercise 2', '0': 'Exercise 1', '2': 'Exercise 3'})), layout=Layout(align_items='stretch', width='100%'))), layout=Layout(align_items='stretch', border='solid 1px', display='flex', flex_flow='column', width='100%'))"
      ]
     },
     "metadata": {},
     "output_type": "display_data"
    }
   ],
   "source": [
    "%run pyfiles/saquiz1_3\n",
    "SAQuiz1_3"
   ]
  },
  {
   "cell_type": "markdown",
   "metadata": {
    "slideshow": {
     "slide_type": "slide"
    }
   },
   "source": [
    "## 1.6 Summary\n",
    "\n",
    "We learned about complex numbers and how to add and subtract complex numbers. Indeed, complex numbers have a very rich set of operations defined on them besides just addition and multiplication. We will learn about these and their geometrical interpretations in subsequent lessons."
   ]
  },
  {
   "cell_type": "markdown",
   "metadata": {
    "slideshow": {
     "slide_type": "slide"
    }
   },
   "source": [
    "#### Final Quiz 1 is in a separate notebook with filename: finalquiz1.ipynb or finalquiz1.pdf (use whichever is convenient).\n",
    "Final quiz is intended to be completed and submitted to the instructor for grading."
   ]
  }
 ],
 "metadata": {
  "celltoolbar": "Slideshow",
  "kernelspec": {
   "display_name": "Python 3",
   "language": "python",
   "name": "python3"
  },
  "language_info": {
   "codemirror_mode": {
    "name": "ipython",
    "version": 3
   },
   "file_extension": ".py",
   "mimetype": "text/x-python",
   "name": "python",
   "nbconvert_exporter": "python",
   "pygments_lexer": "ipython3",
   "version": "3.5.2"
  }
 },
 "nbformat": 4,
 "nbformat_minor": 2
}
