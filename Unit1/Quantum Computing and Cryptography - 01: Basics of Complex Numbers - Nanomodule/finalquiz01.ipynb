{
 "cells": [
  {
   "cell_type": "markdown",
   "metadata": {
    "nbgrader": {
     "grade": false,
     "grade_id": "cell-3ca670b12bb1fd23",
     "locked": true,
     "schema_version": 1,
     "solution": false
    },
    "slideshow": {
     "slide_type": "slide"
    }
   },
   "source": [
    "# Final Quiz 1\n",
    "\n",
    "### nanomodule 1"
   ]
  },
  {
   "cell_type": "markdown",
   "metadata": {
    "nbgrader": {
     "grade": true,
     "grade_id": "cell-e81a9fb8789ed4e8",
     "locked": false,
     "points": 4,
     "schema_version": 1,
     "solution": true
    }
   },
   "source": [
    "<b>1.1 (4 points) True/False:</b>\n",
    "<ol>\n",
    "    <li>$\\mathbb{R}\\subset\\mathbb{C}$</li>\n",
    "    <li>$i^2=-1$</li>\n",
    "    <li>$x^2+4x+5=0$ has a solution in $\\mathbb{C}$</li>\n",
    "    <li>$i^{301} = 1$</li>\n",
    "</ol>"
   ]
  },
  {
   "cell_type": "markdown",
   "metadata": {
    "nbgrader": {
     "grade": true,
     "grade_id": "cell-e5815223cca410df",
     "locked": false,
     "points": 5,
     "schema_version": 1,
     "solution": true
    }
   },
   "source": [
    "<b>1.2 (5 points) Solve for $x$ where $6x^2-6x+2=0$</b>\n"
   ]
  },
  {
   "cell_type": "markdown",
   "metadata": {
    "nbgrader": {
     "grade": true,
     "grade_id": "cell-2cf57c8633aa27e4",
     "locked": false,
     "points": 2,
     "schema_version": 1,
     "solution": true
    }
   },
   "source": [
    "<b>1.3 (2 points) Simplify $i^2\\times i^{31}\\times i^{41}$</b>"
   ]
  },
  {
   "cell_type": "markdown",
   "metadata": {
    "nbgrader": {
     "grade": true,
     "grade_id": "cell-99bae756cac50f8c",
     "locked": false,
     "points": 8,
     "schema_version": 1,
     "solution": true
    }
   },
   "source": [
    "<b>1.4 (8 points) Add the following complex numbers,</b>\n",
    "\n",
    "<ol>\n",
    "    <li>$c_1=10+4i$ and $c_2=10i$</li>\n",
    "    <li>$c_1=100-81i$ and $c_2=-11+2i$</li>\n",
    "    <li>$c_1=-1-i$ and $c_2=1$</li>\n",
    "    <li>$c_1=41+81i$ and $c_2=-41-81i$</li>\n",
    "</ol>"
   ]
  },
  {
   "cell_type": "markdown",
   "metadata": {
    "nbgrader": {
     "grade": true,
     "grade_id": "cell-d1894023c1f9725d",
     "locked": false,
     "points": 12,
     "schema_version": 1,
     "solution": true
    }
   },
   "source": [
    "<b>1.5 (12 points) Multiply the following complex numbers,</b>\n",
    "\n",
    "<ol>\n",
    "    <li>$c_1=-10i$ and $c_2=-4+10i$</li>\n",
    "    <li>$c_1=-1-i$ and $c_2=-1+i$</li>\n",
    "    <li>$c_1=10+3i$ and $c_2=-10+11i$</li>\n",
    "    <li>$c_1=1-7i$ and $c_3=-11$</li>\n",
    "</ol>"
   ]
  },
  {
   "cell_type": "markdown",
   "metadata": {
    "nbgrader": {
     "grade": true,
     "grade_id": "cell-3b2ba91c3e05539c",
     "locked": false,
     "points": 5,
     "schema_version": 1,
     "solution": true
    }
   },
   "source": [
    "<b>1.6 (5 points) Write a Python function that takes two well-formed complex numbers as its inputs and outputs their sum as a well-formed complex number.</b>"
   ]
  },
  {
   "cell_type": "code",
   "execution_count": 4,
   "metadata": {},
   "outputs": [],
   "source": [
    "def sumComplex(num1,num2):\n",
    "    #Complete the function\n",
    "    \n",
    "    \n",
    "#Example execution    \n",
    "assert sumComplex(1+2j, 3-1j) == 4 + 1j"
   ]
  },
  {
   "cell_type": "markdown",
   "metadata": {},
   "source": [
    "<b>1.7 (5 points) Write a Python function that takes two well-formed complex numbers as its inputs and outputs their product as a well-formed complex number.</b>\n"
   ]
  },
  {
   "cell_type": "code",
   "execution_count": null,
   "metadata": {},
   "outputs": [],
   "source": [
    "def productComplex(num1,num2):\n",
    "    #Complete the function\n",
    "    \n",
    "    \n",
    "#Example execution    \n",
    "assert productComplex(-20 + -12j, 13 + 16j) == (-68 - 476j)"
   ]
  },
  {
   "cell_type": "markdown",
   "metadata": {},
   "source": [
    "<b>1.8 (5 points) Write a Python function that takes a well-formed complex number as its input and outputs its real component.</b>\n"
   ]
  },
  {
   "cell_type": "code",
   "execution_count": 4,
   "metadata": {},
   "outputs": [
    {
     "ename": "IndentationError",
     "evalue": "expected an indented block (<ipython-input-4-24cde1be39ff>, line 5)",
     "output_type": "error",
     "traceback": [
      "\u001b[1;36m  File \u001b[1;32m\"<ipython-input-4-24cde1be39ff>\"\u001b[1;36m, line \u001b[1;32m5\u001b[0m\n\u001b[1;33m    assert getReal(3 + 4j) == 3\u001b[0m\n\u001b[1;37m         ^\u001b[0m\n\u001b[1;31mIndentationError\u001b[0m\u001b[1;31m:\u001b[0m expected an indented block\n"
     ]
    }
   ],
   "source": [
    "def getReal(num):\n",
    "    #Complete the function\n",
    "    \n",
    "#Example execution    \n",
    "assert getReal(3 + 4j) == 3"
   ]
  },
  {
   "cell_type": "markdown",
   "metadata": {},
   "source": [
    "<b>1.9 (5 points) Write a Python function that takes a well-formed complex number as its input and outputs its imaginary component.</b>\n"
   ]
  },
  {
   "cell_type": "code",
   "execution_count": null,
   "metadata": {},
   "outputs": [],
   "source": [
    "def getImaginary(num):\n",
    "    #Complete the function\n",
    "    \n",
    "    \n",
    "#Example execution    \n",
    "assert getImaginary(3 + 4j) == 4"
   ]
  },
  {
   "cell_type": "markdown",
   "metadata": {
    "nbgrader": {
     "grade": false,
     "grade_id": "cell-44017c368aeb4bb7",
     "locked": true,
     "schema_version": 1,
     "solution": false
    }
   },
   "source": [
    "---\n",
    "#### End of Quiz 1\n",
    "---"
   ]
  },
  {
   "cell_type": "code",
   "execution_count": null,
   "metadata": {},
   "outputs": [],
   "source": []
  }
 ],
 "metadata": {
  "kernelspec": {
   "display_name": "Python 3",
   "language": "python",
   "name": "python3"
  },
  "language_info": {
   "codemirror_mode": {
    "name": "ipython",
    "version": 3
   },
   "file_extension": ".py",
   "mimetype": "text/x-python",
   "name": "python",
   "nbconvert_exporter": "python",
   "pygments_lexer": "ipython3",
   "version": "3.6.4"
  }
 },
 "nbformat": 4,
 "nbformat_minor": 2
}
