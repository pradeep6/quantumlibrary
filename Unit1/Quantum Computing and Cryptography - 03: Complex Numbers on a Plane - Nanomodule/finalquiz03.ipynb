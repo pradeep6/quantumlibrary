{
 "cells": [
  {
   "cell_type": "markdown",
   "metadata": {
    "nbgrader": {
     "grade": false,
     "grade_id": "cell-f7cbf7c35ca534f8",
     "locked": true,
     "schema_version": 1,
     "solution": false
    }
   },
   "source": [
    "# Final Quiz 3\n",
    "\n",
    "### nanomodule 3"
   ]
  },
  {
   "cell_type": "markdown",
   "metadata": {
    "nbgrader": {
     "grade": true,
     "grade_id": "cell-61a290b157868e02",
     "locked": false,
     "points": 3,
     "schema_version": 1,
     "solution": true
    }
   },
   "source": [
    "<b>3.1 (3 points) True/False:</b>\n",
    "\n",
    "1. The polar and cartesian representations are complex numbers are equivalent.\n",
    "2. Complex numbers can be represented as cartesian coordinates in the complex plane.\n",
    "3. Multiplying two complex numbers, multiplies their magnitudes and adds their phase."
   ]
  },
  {
   "cell_type": "markdown",
   "metadata": {
    "nbgrader": {
     "grade": true,
     "grade_id": "cell-de5b66195b937a78",
     "locked": false,
     "points": 15,
     "schema_version": 1,
     "solution": true
    }
   },
   "source": [
    "<b>3.2 (15 points) Convert the following into polar representations,</b>\n",
    "1. 1+10i\n",
    "2. 0.707 + 0.707i\n",
    "3. -0.707 + 0.707i\n",
    "4. 20+10i\n",
    "5. -1+2i"
   ]
  },
  {
   "cell_type": "markdown",
   "metadata": {
    "nbgrader": {
     "grade": true,
     "grade_id": "cell-9042f5777dba2c79",
     "locked": false,
     "points": 15,
     "schema_version": 1,
     "solution": true
    }
   },
   "source": [
    "<b>3.3 (15 points) Convert the following polar representations into cartesian representations (all angles are in degrees),</b>\n",
    "\n",
    "1. $\\rho=1$ and $\\theta=180$\n",
    "2. $\\rho=17$ and $\\theta=180$\n",
    "3. $\\rho=49$ and $\\theta=-330$\n",
    "4. $\\rho=16$ and $\\theta=90$\n",
    "5. $\\rho=5$ and $\\theta=-90$"
   ]
  },
  {
   "cell_type": "markdown",
   "metadata": {
    "nbgrader": {
     "grade": true,
     "grade_id": "cell-debc7e1eac51032a",
     "locked": false,
     "points": 5,
     "schema_version": 1,
     "solution": true
    }
   },
   "source": [
    "<b>3.4 (5 points) Write a Python function that takes a well formed complex number in cartesian form as its input and outputs the polar representation of its input.</b>"
   ]
  },
  {
   "cell_type": "code",
   "execution_count": 62,
   "metadata": {
    "scrolled": true
   },
   "outputs": [
    {
     "name": "stderr",
     "output_type": "stream",
     "text": [
      ".........\n",
      "----------------------------------------------------------------------\n",
      "Ran 9 tests in 0.007s\n",
      "\n",
      "OK\n"
     ]
    }
   ],
   "source": [
    "def toPolar(c1):\n",
    "    #Complete the function\n",
    "    \n",
    "#Example execution    \n",
    "assert toPolar(-6) == (6,180)"
   ]
  },
  {
   "cell_type": "markdown",
   "metadata": {
    "nbgrader": {
     "grade": true,
     "grade_id": "cell-b21e674d6b3fce00",
     "locked": false,
     "points": 5,
     "schema_version": 1,
     "solution": true
    }
   },
   "source": [
    "<b>3.5 (5 points) Write a Python function that takes a well formed polar representation of a complex number as its input and outputs the cartesian representation of its input.</b>"
   ]
  },
  {
   "cell_type": "code",
   "execution_count": 1,
   "metadata": {},
   "outputs": [
    {
     "ename": "IndentationError",
     "evalue": "expected an indented block (<ipython-input-1-8a756b472c03>, line 6)",
     "output_type": "error",
     "traceback": [
      "\u001b[1;36m  File \u001b[1;32m\"<ipython-input-1-8a756b472c03>\"\u001b[1;36m, line \u001b[1;32m6\u001b[0m\n\u001b[1;33m    assert math.isclose(toCart(3.6055512754639896,56.309932474020215).real, 2) and math.isclose(toCart(3.6055512754639896,56.309932474020215).imag, 3)\u001b[0m\n\u001b[1;37m         ^\u001b[0m\n\u001b[1;31mIndentationError\u001b[0m\u001b[1;31m:\u001b[0m expected an indented block\n"
     ]
    }
   ],
   "source": [
    "def toCart(mag, angle):\n",
    "    #Complete the function\n",
    "    \n",
    "#Example execution    \n",
    "#return a complex number\n",
    "assert math.isclose(toCart(3.6055512754639896,56.309932474020215).real, 2) and math.isclose(toCart(3.6055512754639896,56.309932474020215).imag, 3)"
   ]
  },
  {
   "cell_type": "markdown",
   "metadata": {
    "nbgrader": {
     "grade": true,
     "grade_id": "cell-0fb2524e75bbf544",
     "locked": false,
     "points": 5,
     "schema_version": 1,
     "solution": true
    }
   },
   "source": [
    "<b>3.6 (5 points) Write a Python function that takes two complex numbers in polar form as its inputs and outputs the product of its two inputs in polar form.</b>"
   ]
  },
  {
   "cell_type": "code",
   "execution_count": 121,
   "metadata": {},
   "outputs": [
    {
     "name": "stderr",
     "output_type": "stream",
     "text": [
      "........\n",
      "----------------------------------------------------------------------\n",
      "Ran 8 tests in 0.005s\n",
      "\n",
      "OK\n"
     ]
    }
   ],
   "source": [
    "from math import isclose\n",
    "def multPolar(m1, a1, m2, a2):\n",
    "    #Complete the function\n",
    "    \n",
    "#Example execution    \n",
    "assert isclose(multPolar(5, 30, 4, -45)[0],20) and isclose(multPolar(5, 30, 4, -45)[1],-15)"
   ]
  },
  {
   "cell_type": "code",
   "execution_count": null,
   "metadata": {},
   "outputs": [],
   "source": []
  },
  {
   "cell_type": "markdown",
   "metadata": {
    "nbgrader": {
     "grade": false,
     "grade_id": "cell-0d04913f6a376422",
     "locked": true,
     "schema_version": 1,
     "solution": false
    }
   },
   "source": [
    "---\n",
    "#### End of Quiz 3\n",
    "---"
   ]
  }
 ],
 "metadata": {
  "celltoolbar": "Raw Cell Format",
  "kernelspec": {
   "display_name": "Python 3",
   "language": "python",
   "name": "python3"
  },
  "language_info": {
   "codemirror_mode": {
    "name": "ipython",
    "version": 3
   },
   "file_extension": ".py",
   "mimetype": "text/x-python",
   "name": "python",
   "nbconvert_exporter": "python",
   "pygments_lexer": "ipython3",
   "version": "3.6.4"
  }
 },
 "nbformat": 4,
 "nbformat_minor": 2
}
