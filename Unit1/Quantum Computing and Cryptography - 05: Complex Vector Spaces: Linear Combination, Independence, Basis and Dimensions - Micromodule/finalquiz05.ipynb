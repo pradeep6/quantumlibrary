{
 "cells": [
  {
   "cell_type": "markdown",
   "metadata": {
    "nbgrader": {
     "grade": false,
     "grade_id": "cell-f8c4445f05127fb2",
     "locked": true,
     "schema_version": 1,
     "solution": false
    }
   },
   "source": [
    "# Final Quiz 5\n",
    "\n",
    "### nanomodule 5"
   ]
  },
  {
   "cell_type": "markdown",
   "metadata": {
    "nbgrader": {
     "grade": true,
     "grade_id": "cell-19be30af8967a712",
     "locked": false,
     "points": 7,
     "schema_version": 1,
     "solution": true
    }
   },
   "source": [
    "<b>5.1 (7 points) True/False:</b>\n",
    "\n",
    "1. Given $A_{n\\times p}$ and $B_{p\\times q}$, $C=A\\cdot B$ is of dimension $n\\times q$.\n",
    "2. Identity matrix is a square matrix.\n",
    "3. $(A\\cdot B)^T=B^T\\cdot A^T$\n",
    "4. $\\overline{A\\cdot B}=\\overline{A}\\cdot\\overline{B}$\n",
    "5. Vectors in a basis set must be linearly independent.\n",
    "6. The dimension of a vector space is the number of vectors in its basis set.\n",
    "7. Given vector representations with respect to standard/computational basis, Hadamard matrix can be used to represent the same vectors with respect to diagonal basis."
   ]
  },
  {
   "cell_type": "markdown",
   "metadata": {
    "nbgrader": {
     "grade": true,
     "grade_id": "cell-a073ebe0dd0fafa1",
     "locked": false,
     "points": 3,
     "schema_version": 1,
     "solution": true
    }
   },
   "source": [
    "<b>5.2 (3 points) Multiply the following matrices:</b>\n",
    "\n",
    "$A=\\begin{bmatrix}1& 2i& 0\\\\-2i& 3& 2-i\\\\0& 2+i& 6\\end{bmatrix}$ and $B=\\begin{bmatrix}2+3i& -i\\\\4-7i& 6\\\\8& 9+i\\end{bmatrix}$"
   ]
  },
  {
   "cell_type": "markdown",
   "metadata": {
    "nbgrader": {
     "grade": true,
     "grade_id": "cell-732ead42999c454c",
     "locked": false,
     "points": 5,
     "schema_version": 1,
     "solution": true
    }
   },
   "source": [
    "<b>5.3 (5 points) Verify using matrices in question 5.2 that $\\overline{A\\cdot B}=\\overline{A}\\cdot\\overline{B}$, where $A$ and $B$ are complex matrices</b>"
   ]
  },
  {
   "cell_type": "markdown",
   "metadata": {
    "nbgrader": {
     "grade": true,
     "grade_id": "cell-f2eba88b14f08dae",
     "locked": false,
     "points": 5,
     "schema_version": 1,
     "solution": true
    }
   },
   "source": [
    "<b>5.4 (5 points) Verify using matrices in question 5.2 that $(A\\cdot B)^\\dagger=B^\\dagger\\cdot A^\\dagger$</b>"
   ]
  },
  {
   "cell_type": "markdown",
   "metadata": {
    "nbgrader": {
     "grade": true,
     "grade_id": "cell-4a71e9d95afe2c02",
     "locked": false,
     "points": 5,
     "schema_version": 1,
     "solution": true
    }
   },
   "source": [
    "<b>5.5 (5 points) Prove that the following vectors are linearly independent.</b>\n",
    "\n",
    "$V_1=\\begin{bmatrix}2\\\\5\\\\3\\end{bmatrix}$, $V_2=\\begin{bmatrix}1\\\\1\\\\1\\end{bmatrix}$ and $V_3=\\begin{bmatrix}4\\\\-2\\\\0\\end{bmatrix}$"
   ]
  },
  {
   "cell_type": "markdown",
   "metadata": {
    "nbgrader": {
     "grade": true,
     "grade_id": "cell-29d6411ad7e9cc09",
     "locked": false,
     "points": 4,
     "schema_version": 1,
     "solution": true
    }
   },
   "source": [
    "<b>5.6 (4 points) Given the vector $[0, 1]^T$ in standard basis, represent it in diagonal basis. What is the dimension of the vector here?</b>"
   ]
  }
 ],
 "metadata": {
  "kernelspec": {
   "display_name": "Python 3",
   "language": "python",
   "name": "python3"
  },
  "language_info": {
   "codemirror_mode": {
    "name": "ipython",
    "version": 3
   },
   "file_extension": ".py",
   "mimetype": "text/x-python",
   "name": "python",
   "nbconvert_exporter": "python",
   "pygments_lexer": "ipython3",
   "version": "3.6.4"
  }
 },
 "nbformat": 4,
 "nbformat_minor": 2
}
