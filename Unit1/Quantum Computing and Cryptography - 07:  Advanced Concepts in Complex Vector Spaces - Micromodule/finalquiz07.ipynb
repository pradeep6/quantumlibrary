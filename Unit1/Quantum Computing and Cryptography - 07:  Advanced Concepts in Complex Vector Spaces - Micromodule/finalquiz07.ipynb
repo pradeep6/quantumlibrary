{
 "cells": [
  {
   "cell_type": "markdown",
   "metadata": {},
   "source": [
    "# Final Quiz 7\n",
    "\n",
    "### nanomodule 7\n",
    "\n",
    "#### Your Name:"
   ]
  },
  {
   "cell_type": "markdown",
   "metadata": {
    "nbgrader": {
     "grade": true,
     "grade_id": "cell-8c7598cf8ee58e1c",
     "locked": false,
     "points": 4,
     "schema_version": 1,
     "solution": true
    }
   },
   "source": [
    "<b>7.1 (4 points) True/False:</b>\n",
    "\n",
    "1. If for a matrix, $A$, complex number $c$ and vector $V$, $A\\cdot V=c\\cdot V$ then we say that $V$ is the eigenvector of $A$ and $c$ is the the associated eigenvalue.\n",
    "\n",
    "2. Hermitian matrices are matrices such that the complex conjugate is equal to the matrix itself.\n",
    "\n",
    "3. If $U$ is a unitary matrix then, $U\\cdot U^\\dagger=U^\\dagger\\cdot U=I$\n",
    "\n",
    "4. Unitary operations enable quantum system to be reversible."
   ]
  },
  {
   "cell_type": "markdown",
   "metadata": {
    "nbgrader": {
     "grade": true,
     "grade_id": "cell-322a48539bb365aa",
     "locked": false,
     "points": 8,
     "schema_version": 1,
     "solution": true
    }
   },
   "source": [
    "<b>7.2 (8 points) Find the eigenvectors and eigenvalues for the following matrices:</b>\n",
    "\n",
    "a. $A=\\begin{bmatrix}1&-2\\\\1&3\\end{bmatrix}$\n",
    "\n",
    "b. $B=\\begin{bmatrix}-2&-2&-9\\\\ -1&1&-3\\\\ 1&1&4\\end{bmatrix}$"
   ]
  },
  {
   "cell_type": "markdown",
   "metadata": {
    "nbgrader": {
     "grade": true,
     "grade_id": "cell-0b2977aa721337b7",
     "locked": false,
     "points": 5,
     "schema_version": 1,
     "solution": true
    }
   },
   "source": [
    "<b>7.3 (5 points) Prove that for a Hermitian matrix $A^T=\\overline{A}$.</b>"
   ]
  },
  {
   "cell_type": "markdown",
   "metadata": {
    "nbgrader": {
     "grade": true,
     "grade_id": "cell-68b9ffe1a9509abe",
     "locked": false,
     "points": 5,
     "schema_version": 1,
     "solution": true
    }
   },
   "source": [
    "<b>7.4 (5 points) Verify the property $\\left<UV,UV'\\right>=\\left<V,V'\\right>$ for two vectors $V$ and $V'$.</b>"
   ]
  },
  {
   "cell_type": "markdown",
   "metadata": {
    "nbgrader": {
     "grade": true,
     "grade_id": "cell-677e69f80db76f80",
     "locked": false,
     "points": 5,
     "schema_version": 1,
     "solution": true
    }
   },
   "source": [
    "<b>7.5 (5 points) Verify that $|UV|=|V|$ for a unitary matrix $U$ and some vector $V$.</b>"
   ]
  },
  {
   "cell_type": "markdown",
   "metadata": {
    "nbgrader": {
     "grade": true,
     "grade_id": "cell-c715a00770fd41a1",
     "locked": false,
     "points": 5,
     "schema_version": 1,
     "solution": true
    }
   },
   "source": [
    "<b>7.6 (5 points) Write a Python function that takes a well-formed matrix with real/complex entries as its input and outputs true if the input matrix is Hermitian and outputs false if the matrix is not Hermitian.</b>"
   ]
  },
  {
   "cell_type": "code",
   "execution_count": 53,
   "metadata": {},
   "outputs": [
    {
     "name": "stderr",
     "output_type": "stream",
     "text": [
      "........\n",
      "----------------------------------------------------------------------\n",
      "Ran 8 tests in 0.005s\n",
      "\n",
      "OK\n"
     ]
    }
   ],
   "source": [
    "import numpy\n",
    "def isHermitian(m):\n",
    "    #Complete the function\n",
    "    \n",
    "#Example execution    \n",
    "assert isHermitian([[1,2-1j],[2 + 1j, 0]]) == True"
   ]
  },
  {
   "cell_type": "markdown",
   "metadata": {
    "nbgrader": {
     "grade": true,
     "grade_id": "cell-98c5b5179c7d1d0d",
     "locked": false,
     "points": 5,
     "schema_version": 1,
     "solution": true
    }
   },
   "source": [
    "<b>7.7 (5 points) Write a Python function takes a well-formed matrix with real/complex entries as its input and outputs true if the input matrix is unitary and outputs false if the input matrix is not unitary.</b>"
   ]
  },
  {
   "cell_type": "code",
   "execution_count": 85,
   "metadata": {},
   "outputs": [
    {
     "name": "stderr",
     "output_type": "stream",
     "text": [
      "........"
     ]
    },
    {
     "name": "stdout",
     "output_type": "stream",
     "text": [
      "True\n"
     ]
    },
    {
     "name": "stderr",
     "output_type": "stream",
     "text": [
      "\n",
      "----------------------------------------------------------------------\n",
      "Ran 8 tests in 0.009s\n",
      "\n",
      "OK\n"
     ]
    }
   ],
   "source": [
    "import numpy\n",
    "def isUnitary(m):\n",
    "    #Complete the function\n",
    "    \n",
    "#Example execution    \n",
    "assert isUnitary([[.5+.5j,.5+.5j],[.5-.5j,-.5 + .5j]]) == True"
   ]
  },
  {
   "cell_type": "markdown",
   "metadata": {
    "nbgrader": {
     "grade": false,
     "grade_id": "cell-67f632862a2991db",
     "locked": true,
     "schema_version": 1,
     "solution": false
    }
   },
   "source": [
    "***\n",
    "#### End of Quiz 7\n",
    "***"
   ]
  }
 ],
 "metadata": {
  "kernelspec": {
   "display_name": "Python 3",
   "language": "python",
   "name": "python3"
  },
  "language_info": {
   "codemirror_mode": {
    "name": "ipython",
    "version": 3
   },
   "file_extension": ".py",
   "mimetype": "text/x-python",
   "name": "python",
   "nbconvert_exporter": "python",
   "pygments_lexer": "ipython3",
   "version": "3.6.4"
  }
 },
 "nbformat": 4,
 "nbformat_minor": 2
}
