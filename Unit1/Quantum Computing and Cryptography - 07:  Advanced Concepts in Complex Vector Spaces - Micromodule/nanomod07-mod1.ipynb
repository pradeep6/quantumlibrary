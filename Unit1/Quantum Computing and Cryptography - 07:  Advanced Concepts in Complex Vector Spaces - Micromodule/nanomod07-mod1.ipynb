{
 "cells": [
  {
   "cell_type": "markdown",
   "metadata": {
    "collapsed": true,
    "slideshow": {
     "slide_type": "slide"
    }
   },
   "source": [
    "# 7. Advanced Concepts in Complex Vector Spaces\n",
    "\n",
    "### This lesson belongs to nanonodule 7- micromodule 2- module 0\n",
    "\n",
    "<b>Learning Outcomes: </b>\n",
    "\n",
    "Upon completion of this lesson:\n",
    "\n",
    "7.1\tStudents will understand the definition and meaning of eigenvalues and eigenvectors and compute them.\n",
    "\n",
    "7.2\tStudents will prove properties of Hermitian and unitary matrices.\n",
    "\n",
    "7.3\tStudents will be able to verify properties of unitary and Hermitian matrices.\n",
    "\n",
    "7.4\tStudents will know the implication of unitary matrices as transformations in quantum computing.\n",
    "\n",
    "7.5\tStudents will be able to implement Python programs that check if a given matrix is Hermitian or unitary.\n"
   ]
  },
  {
   "cell_type": "markdown",
   "metadata": {
    "slideshow": {
     "slide_type": "slide"
    }
   },
   "source": [
    "## 7.1 Eigenvalues and Eigenvectors\n",
    "\n",
    "<b>Examples: </b>Consider the following $2\\times2$ matrix\n",
    "\n",
    "$$\\begin{bmatrix}6&-1.5\\\\3&1.5\\end{bmatrix}$$\n",
    "\n",
    "We see that\n",
    "\n",
    "$$\\begin{bmatrix}6&-1.5\\\\3&1.5\\end{bmatrix}\\begin{bmatrix}1\\\\1\\end{bmatrix}=\\begin{bmatrix}4.5\\\\4.5\\end{bmatrix}=4.5\\begin{bmatrix}1\\\\1\\end{bmatrix}$$\n",
    "\n",
    "Therefore, multiplying the matrix with the vector is equivalent to scaling the vector. Although this is not true for all the matrices and vectors, when this does happen we call the vector eigenvectors of the matrix and the scalar is called eigenvalue corresponding to the eigenvector."
   ]
  },
  {
   "cell_type": "markdown",
   "metadata": {
    "collapsed": true,
    "slideshow": {
     "slide_type": "slide"
    }
   },
   "source": [
    "## 7.2 Definition: Eigenvectors and eigenvalues\n",
    "\n",
    "Given a complex matrix $A\\in \\mathbb{C}$ and a complex vector $V\\neq0$ if,\n",
    "\n",
    "$$A\\cdot V = c\\cdot V$$\n",
    "\n",
    "where $c$ is a complex scalar, then $V$ is called the eigenvector of $A$ corresponding to the eigenvalue $c$.\n",
    "\n",
    "<b>Example:</b> Matrix $A=\\begin{bmatrix}0&1\\\\-2&-3\\end{bmatrix}$ has eigenvectors $v_1=\\begin{bmatrix}\\frac{1}{\\sqrt{2}}\\\\-\\frac{1}{\\sqrt{2}}\\end{bmatrix}$ and $v_2=\\begin{bmatrix}-\\frac{1}{\\sqrt{5}}\\\\\\frac{2}{\\sqrt{5}}\\end{bmatrix}$. The corresponding eigenvalues are $c_1=-1$ and $c_2=-2$, respectively."
   ]
  },
  {
   "cell_type": "markdown",
   "metadata": {
    "slideshow": {
     "slide_type": "slide"
    }
   },
   "source": [
    "## 7.3 Hermitian Matrices\n",
    "\n",
    "For a matrix $A$, if $A^T=A$ then we say that $A$ is a symmetric matrix. If we generalize this notion to matrices with complex number then we need to take not just the transpose but also the conjugate of matrix $A$. Further, we have a different name for these matrices.\n",
    "\n",
    "<b>Hermitian matrix: </b>An $n\\times n$ matrix $A$ is called <b>hermitian</b> if $A^\\dagger=A$.\n",
    "\n",
    "<b>Examples:</b> $A=\\begin{bmatrix}1&2-i\\\\2+i&0\\end{bmatrix}$ and $B=\\begin{bmatrix}-1& 1-2i& 0\\\\1+2i& 0 &i\\\\0&-i&1\\end{bmatrix}$ are hermitian.\n",
    "\n"
   ]
  },
  {
   "cell_type": "markdown",
   "metadata": {
    "slideshow": {
     "slide_type": "slide"
    }
   },
   "source": [
    "## Quiz 7.1 Self Assessment Quiz\n",
    "\n",
    "1. Compute the eigenvectors and eigenvalues associated with the following matrices.\n",
    "\n",
    "    a. $\\begin{bmatrix}2&-4\\\\-1&-1\\end{bmatrix}$\n",
    "\n",
    "    b. $\\begin{bmatrix}3&-2\\\\4&-1\\end{bmatrix}$\n",
    "<br><br>\n",
    "2. Verify that the following matrices are Hermitian.\n",
    "\n",
    "    a. $\\begin{bmatrix}2&-i\\\\i&1\\end{bmatrix}$\n",
    "\n",
    "    b. $\\begin{bmatrix}1&1+i&2i\\\\1-i&5&-3\\\\-2i&-3&0\\end{bmatrix}$\n"
   ]
  },
  {
   "cell_type": "code",
   "execution_count": 3,
   "metadata": {
    "scrolled": false,
    "slideshow": {
     "slide_type": "slide"
    }
   },
   "outputs": [
    {
     "data": {
      "application/vnd.jupyter.widget-view+json": {
       "model_id": "d936a50245604748babdbbac981ee986",
       "version_major": 2,
       "version_minor": 0
      },
      "text/html": [
       "<p>Failed to display Jupyter Widget of type <code>VBox</code>.</p>\n",
       "<p>\n",
       "  If you're reading this message in the Jupyter Notebook or JupyterLab Notebook, it may mean\n",
       "  that the widgets JavaScript is still loading. If this message persists, it\n",
       "  likely means that the widgets JavaScript library is either not installed or\n",
       "  not enabled. See the <a href=\"https://ipywidgets.readthedocs.io/en/stable/user_install.html\">Jupyter\n",
       "  Widgets Documentation</a> for setup instructions.\n",
       "</p>\n",
       "<p>\n",
       "  If you're reading this message in another frontend (for example, a static\n",
       "  rendering on GitHub or <a href=\"https://nbviewer.jupyter.org/\">NBViewer</a>),\n",
       "  it may mean that your frontend doesn't currently support widgets.\n",
       "</p>\n"
      ],
      "text/plain": [
       "VBox(children=(HTML(value='<b><font size=\"+2\">Quiz 7.1 Self Assessment Quiz'),), layout=Layout(display='flex_flow', height='100%'))"
      ]
     },
     "metadata": {},
     "output_type": "display_data"
    },
    {
     "data": {
      "application/vnd.jupyter.widget-view+json": {
       "model_id": "11087978a6f84401972f6c7365fcb3d4",
       "version_major": 2,
       "version_minor": 0
      },
      "text/html": [
       "<p>Failed to display Jupyter Widget of type <code>HTMLMath</code>.</p>\n",
       "<p>\n",
       "  If you're reading this message in the Jupyter Notebook or JupyterLab Notebook, it may mean\n",
       "  that the widgets JavaScript is still loading. If this message persists, it\n",
       "  likely means that the widgets JavaScript library is either not installed or\n",
       "  not enabled. See the <a href=\"https://ipywidgets.readthedocs.io/en/stable/user_install.html\">Jupyter\n",
       "  Widgets Documentation</a> for setup instructions.\n",
       "</p>\n",
       "<p>\n",
       "  If you're reading this message in another frontend (for example, a static\n",
       "  rendering on GitHub or <a href=\"https://nbviewer.jupyter.org/\">NBViewer</a>),\n",
       "  it may mean that your frontend doesn't currently support widgets.\n",
       "</p>\n"
      ],
      "text/plain": [
       "HTMLMath(value='<font size=\"+1\">1. Compute the eigenvectors and eigenvalues associated with the following matrices.')"
      ]
     },
     "metadata": {},
     "output_type": "display_data"
    },
    {
     "data": {
      "application/vnd.jupyter.widget-view+json": {
       "model_id": "45c4f469b1c242b1a132c6db361521e3",
       "version_major": 2,
       "version_minor": 0
      },
      "text/html": [
       "<p>Failed to display Jupyter Widget of type <code>HTMLMath</code>.</p>\n",
       "<p>\n",
       "  If you're reading this message in the Jupyter Notebook or JupyterLab Notebook, it may mean\n",
       "  that the widgets JavaScript is still loading. If this message persists, it\n",
       "  likely means that the widgets JavaScript library is either not installed or\n",
       "  not enabled. See the <a href=\"https://ipywidgets.readthedocs.io/en/stable/user_install.html\">Jupyter\n",
       "  Widgets Documentation</a> for setup instructions.\n",
       "</p>\n",
       "<p>\n",
       "  If you're reading this message in another frontend (for example, a static\n",
       "  rendering on GitHub or <a href=\"https://nbviewer.jupyter.org/\">NBViewer</a>),\n",
       "  it may mean that your frontend doesn't currently support widgets.\n",
       "</p>\n"
      ],
      "text/plain": [
       "HTMLMath(value='<font size=\"+0\">&emsp;a. $\\\\begin{bmatrix}2&-4\\\\\\\\-1&-1\\\\end{bmatrix}$')"
      ]
     },
     "metadata": {},
     "output_type": "display_data"
    },
    {
     "data": {
      "application/vnd.jupyter.widget-view+json": {
       "model_id": "fa116b0a69ea42bd86b24ad046130f5c",
       "version_major": 2,
       "version_minor": 0
      },
      "text/html": [
       "<p>Failed to display Jupyter Widget of type <code>VBox</code>.</p>\n",
       "<p>\n",
       "  If you're reading this message in the Jupyter Notebook or JupyterLab Notebook, it may mean\n",
       "  that the widgets JavaScript is still loading. If this message persists, it\n",
       "  likely means that the widgets JavaScript library is either not installed or\n",
       "  not enabled. See the <a href=\"https://ipywidgets.readthedocs.io/en/stable/user_install.html\">Jupyter\n",
       "  Widgets Documentation</a> for setup instructions.\n",
       "</p>\n",
       "<p>\n",
       "  If you're reading this message in another frontend (for example, a static\n",
       "  rendering on GitHub or <a href=\"https://nbviewer.jupyter.org/\">NBViewer</a>),\n",
       "  it may mean that your frontend doesn't currently support widgets.\n",
       "</p>\n"
      ],
      "text/plain": [
       "VBox(children=(VBox(children=(HBox(children=(HTML(value=' '), Label(value='')), layout=Layout(height='40px')), VBox(children=(HTMLMath(value='<font size=\"+0\">&emsp;<font size=\"+3\"> (Answer Hidden)'),), layout=Layout(align_items='center', height='105px')), Label(value='')), layout=Layout(border='solid 1px', height='145px', width='75%')), HBox(children=(Button(button_style='info', description='Show Answer', icon='check', layout=Layout(width='100%'), style=ButtonStyle(font_weight='1000'), tooltip='Show Answer'),), layout=Layout(width='75%'))), layout=Layout(align_items='center'))"
      ]
     },
     "metadata": {},
     "output_type": "display_data"
    },
    {
     "data": {
      "application/vnd.jupyter.widget-view+json": {
       "model_id": "0c0767b7b3c241fcbab754522b03d40e",
       "version_major": 2,
       "version_minor": 0
      },
      "text/html": [
       "<p>Failed to display Jupyter Widget of type <code>HTMLMath</code>.</p>\n",
       "<p>\n",
       "  If you're reading this message in the Jupyter Notebook or JupyterLab Notebook, it may mean\n",
       "  that the widgets JavaScript is still loading. If this message persists, it\n",
       "  likely means that the widgets JavaScript library is either not installed or\n",
       "  not enabled. See the <a href=\"https://ipywidgets.readthedocs.io/en/stable/user_install.html\">Jupyter\n",
       "  Widgets Documentation</a> for setup instructions.\n",
       "</p>\n",
       "<p>\n",
       "  If you're reading this message in another frontend (for example, a static\n",
       "  rendering on GitHub or <a href=\"https://nbviewer.jupyter.org/\">NBViewer</a>),\n",
       "  it may mean that your frontend doesn't currently support widgets.\n",
       "</p>\n"
      ],
      "text/plain": [
       "HTMLMath(value='<font size=\"+0\">&emsp;b. $\\\\begin{bmatrix}3&-2\\\\\\\\4&-1\\\\end{bmatrix}$')"
      ]
     },
     "metadata": {},
     "output_type": "display_data"
    },
    {
     "data": {
      "application/vnd.jupyter.widget-view+json": {
       "model_id": "6c583cc69ee44d89acc36add3da2d19c",
       "version_major": 2,
       "version_minor": 0
      },
      "text/html": [
       "<p>Failed to display Jupyter Widget of type <code>VBox</code>.</p>\n",
       "<p>\n",
       "  If you're reading this message in the Jupyter Notebook or JupyterLab Notebook, it may mean\n",
       "  that the widgets JavaScript is still loading. If this message persists, it\n",
       "  likely means that the widgets JavaScript library is either not installed or\n",
       "  not enabled. See the <a href=\"https://ipywidgets.readthedocs.io/en/stable/user_install.html\">Jupyter\n",
       "  Widgets Documentation</a> for setup instructions.\n",
       "</p>\n",
       "<p>\n",
       "  If you're reading this message in another frontend (for example, a static\n",
       "  rendering on GitHub or <a href=\"https://nbviewer.jupyter.org/\">NBViewer</a>),\n",
       "  it may mean that your frontend doesn't currently support widgets.\n",
       "</p>\n"
      ],
      "text/plain": [
       "VBox(children=(VBox(children=(HBox(children=(HTML(value=' '), Label(value='')), layout=Layout(height='40px')), VBox(children=(HTMLMath(value='<font size=\"+0\">&emsp;<font size=\"+3\"> (Answer Hidden)'),), layout=Layout(align_items='center', height='105px')), Label(value='')), layout=Layout(border='solid 1px', height='145px', width='75%')), HBox(children=(Button(button_style='info', description='Show Answer', icon='check', layout=Layout(width='100%'), style=ButtonStyle(font_weight='1000'), tooltip='Show Answer'),), layout=Layout(width='75%'))), layout=Layout(align_items='center'))"
      ]
     },
     "metadata": {},
     "output_type": "display_data"
    },
    {
     "data": {
      "application/vnd.jupyter.widget-view+json": {
       "model_id": "2dd02affce6843d4853a3cd5d31271d0",
       "version_major": 2,
       "version_minor": 0
      },
      "text/html": [
       "<p>Failed to display Jupyter Widget of type <code>HTMLMath</code>.</p>\n",
       "<p>\n",
       "  If you're reading this message in the Jupyter Notebook or JupyterLab Notebook, it may mean\n",
       "  that the widgets JavaScript is still loading. If this message persists, it\n",
       "  likely means that the widgets JavaScript library is either not installed or\n",
       "  not enabled. See the <a href=\"https://ipywidgets.readthedocs.io/en/stable/user_install.html\">Jupyter\n",
       "  Widgets Documentation</a> for setup instructions.\n",
       "</p>\n",
       "<p>\n",
       "  If you're reading this message in another frontend (for example, a static\n",
       "  rendering on GitHub or <a href=\"https://nbviewer.jupyter.org/\">NBViewer</a>),\n",
       "  it may mean that your frontend doesn't currently support widgets.\n",
       "</p>\n"
      ],
      "text/plain": [
       "HTMLMath(value='<font size=\"+1\">2. Verify that the following matrices are Hermitian.')"
      ]
     },
     "metadata": {},
     "output_type": "display_data"
    },
    {
     "data": {
      "application/vnd.jupyter.widget-view+json": {
       "model_id": "f53f3032bf0a4c9fa991fbae179c8b60",
       "version_major": 2,
       "version_minor": 0
      },
      "text/html": [
       "<p>Failed to display Jupyter Widget of type <code>HTMLMath</code>.</p>\n",
       "<p>\n",
       "  If you're reading this message in the Jupyter Notebook or JupyterLab Notebook, it may mean\n",
       "  that the widgets JavaScript is still loading. If this message persists, it\n",
       "  likely means that the widgets JavaScript library is either not installed or\n",
       "  not enabled. See the <a href=\"https://ipywidgets.readthedocs.io/en/stable/user_install.html\">Jupyter\n",
       "  Widgets Documentation</a> for setup instructions.\n",
       "</p>\n",
       "<p>\n",
       "  If you're reading this message in another frontend (for example, a static\n",
       "  rendering on GitHub or <a href=\"https://nbviewer.jupyter.org/\">NBViewer</a>),\n",
       "  it may mean that your frontend doesn't currently support widgets.\n",
       "</p>\n"
      ],
      "text/plain": [
       "HTMLMath(value='<font size=\"+0\">&emsp;a. $A$&emsp;=&emsp;$\\\\begin{bmatrix}2&-i\\\\\\\\i&1\\\\end{bmatrix}$')"
      ]
     },
     "metadata": {},
     "output_type": "display_data"
    },
    {
     "data": {
      "application/vnd.jupyter.widget-view+json": {
       "model_id": "3972fc7f05294c3e9f7981be6b2f44a4",
       "version_major": 2,
       "version_minor": 0
      },
      "text/html": [
       "<p>Failed to display Jupyter Widget of type <code>VBox</code>.</p>\n",
       "<p>\n",
       "  If you're reading this message in the Jupyter Notebook or JupyterLab Notebook, it may mean\n",
       "  that the widgets JavaScript is still loading. If this message persists, it\n",
       "  likely means that the widgets JavaScript library is either not installed or\n",
       "  not enabled. See the <a href=\"https://ipywidgets.readthedocs.io/en/stable/user_install.html\">Jupyter\n",
       "  Widgets Documentation</a> for setup instructions.\n",
       "</p>\n",
       "<p>\n",
       "  If you're reading this message in another frontend (for example, a static\n",
       "  rendering on GitHub or <a href=\"https://nbviewer.jupyter.org/\">NBViewer</a>),\n",
       "  it may mean that your frontend doesn't currently support widgets.\n",
       "</p>\n"
      ],
      "text/plain": [
       "VBox(children=(VBox(children=(HBox(children=(HTML(value=' '), Label(value='')), layout=Layout(height='40px')), VBox(children=(HTMLMath(value='<font size=\"+0\">&emsp;<font size=\"+3\"> (Answer Hidden)'),), layout=Layout(align_items='center', height='105px')), Label(value='')), layout=Layout(border='solid 1px', height='145px', width='75%')), HBox(children=(Button(button_style='info', description='Show Answer', icon='check', layout=Layout(width='100%'), style=ButtonStyle(font_weight='1000'), tooltip='Show Answer'),), layout=Layout(width='75%'))), layout=Layout(align_items='center'))"
      ]
     },
     "metadata": {},
     "output_type": "display_data"
    },
    {
     "data": {
      "application/vnd.jupyter.widget-view+json": {
       "model_id": "e8f8d4f409cd472a9ece55a44e6e8209",
       "version_major": 2,
       "version_minor": 0
      },
      "text/html": [
       "<p>Failed to display Jupyter Widget of type <code>HTMLMath</code>.</p>\n",
       "<p>\n",
       "  If you're reading this message in the Jupyter Notebook or JupyterLab Notebook, it may mean\n",
       "  that the widgets JavaScript is still loading. If this message persists, it\n",
       "  likely means that the widgets JavaScript library is either not installed or\n",
       "  not enabled. See the <a href=\"https://ipywidgets.readthedocs.io/en/stable/user_install.html\">Jupyter\n",
       "  Widgets Documentation</a> for setup instructions.\n",
       "</p>\n",
       "<p>\n",
       "  If you're reading this message in another frontend (for example, a static\n",
       "  rendering on GitHub or <a href=\"https://nbviewer.jupyter.org/\">NBViewer</a>),\n",
       "  it may mean that your frontend doesn't currently support widgets.\n",
       "</p>\n"
      ],
      "text/plain": [
       "HTMLMath(value='<font size=\"+0\">&emsp;b. $B$&emsp;=&emsp;$\\\\begin{bmatrix}1&1+i&2i\\\\\\\\1-i&5&-3\\\\\\\\-2i&-3&0\\\\end{bmatrix}$')"
      ]
     },
     "metadata": {},
     "output_type": "display_data"
    },
    {
     "data": {
      "application/vnd.jupyter.widget-view+json": {
       "model_id": "7720323cc2fd4708b81c9a6e808591f6",
       "version_major": 2,
       "version_minor": 0
      },
      "text/html": [
       "<p>Failed to display Jupyter Widget of type <code>VBox</code>.</p>\n",
       "<p>\n",
       "  If you're reading this message in the Jupyter Notebook or JupyterLab Notebook, it may mean\n",
       "  that the widgets JavaScript is still loading. If this message persists, it\n",
       "  likely means that the widgets JavaScript library is either not installed or\n",
       "  not enabled. See the <a href=\"https://ipywidgets.readthedocs.io/en/stable/user_install.html\">Jupyter\n",
       "  Widgets Documentation</a> for setup instructions.\n",
       "</p>\n",
       "<p>\n",
       "  If you're reading this message in another frontend (for example, a static\n",
       "  rendering on GitHub or <a href=\"https://nbviewer.jupyter.org/\">NBViewer</a>),\n",
       "  it may mean that your frontend doesn't currently support widgets.\n",
       "</p>\n"
      ],
      "text/plain": [
       "VBox(children=(VBox(children=(HBox(children=(HTML(value=' '), Label(value='')), layout=Layout(height='40px')), VBox(children=(HTMLMath(value='<font size=\"+0\">&emsp;<font size=\"+3\"> (Answer Hidden)'),), layout=Layout(align_items='center', height='105px')), Label(value='')), layout=Layout(border='solid 1px', height='145px', width='75%')), HBox(children=(Button(button_style='info', description='Show Answer', icon='check', layout=Layout(width='100%'), style=ButtonStyle(font_weight='1000'), tooltip='Show Answer'),), layout=Layout(width='75%'))), layout=Layout(align_items='center'))"
      ]
     },
     "metadata": {},
     "output_type": "display_data"
    }
   ],
   "source": [
    "%run pyfiles/saquiz7_1  #This runs the file that has the quiz code\n",
    "createQuiz7_1()"
   ]
  },
  {
   "cell_type": "markdown",
   "metadata": {
    "slideshow": {
     "slide_type": "slide"
    }
   },
   "source": [
    "## 7.4 Unitary Matrices\n",
    "\n",
    "Recall that a matrix is said to be invertible if there exists a matrix $B$ such that $A\\cdot B=I$ where $I$ is the identity matrix. $B$ is often denoted as $A^{-1}$. Unitary matrices are a type of invertible matrices with the following definition,\n",
    "\n",
    "<b>Unitary Matrix:</b> An $n\\times n$ matrix $U$ is unitary if $U\\cdot U^\\dagger=U^\\dagger U=I$.\n",
    "\n",
    "<b>Examples:</b>\n",
    "\n",
    "$$\\begin{bmatrix}cos\\theta&-sin\\theta\\\\sin\\theta&cos\\theta\\end{bmatrix} \\mbox{ and }\\frac{1}{2}\\begin{bmatrix}1&-i&-1+i\\\\i&1&1+i\\\\1+i&-1+i&0\\end{bmatrix}$$\n"
   ]
  },
  {
   "cell_type": "markdown",
   "metadata": {
    "slideshow": {
     "slide_type": "slide"
    }
   },
   "source": [
    "## 7.5 Implication of Unitary Transformations\n",
    "\n",
    "Since unitary matrices preserve the geometry of a vector space, if we have a system that evolves according to unitary operations then we can always undo the operation and return the system to its initial state. For example, if unitary operation $U$ acts on a system represented by state $V$, then the new state is given by $V'=U\\cdot V$. However, since $U$ is unitary that means $U^\\dagger U=I$. Therefore, we can multiply both sides with $U^\\dagger$ and get $U^\\dagger V' = U^\\dagger U\\cdot V=V$. In other words, $U^\\dagger$ undoes the action of $U$. \n",
    "\n",
    "It turn out that the only operations allowable on a quantum state are unitary operations and therefore the quantum systems are <b>reversible</b> systems."
   ]
  },
  {
   "cell_type": "markdown",
   "metadata": {
    "slideshow": {
     "slide_type": "slide"
    }
   },
   "source": [
    "## Quiz 7.2 Self Assessment Quiz\n",
    "\n",
    "1. Verify that the following matrices are unitary,\n",
    "\n",
    "    a. $\\frac{1}{2}\\begin{bmatrix}1+i& 1+i\\\\1-i&-1+i\\end{bmatrix}$\n",
    "<br><br>\n",
    "    b. $\\begin{bmatrix}cos\\theta&-sin\\theta&0\\\\sin\\theta&cos\\theta&0\\\\0&0&1\\end{bmatrix}$\n",
    "<br><br>\n",
    "2. Prove the following. For a unitary matrix $U$,\n",
    "$\\left<UV,UV'\\right>=\\left<V,V'\\right>$"
   ]
  },
  {
   "cell_type": "code",
   "execution_count": 4,
   "metadata": {
    "slideshow": {
     "slide_type": "slide"
    }
   },
   "outputs": [
    {
     "data": {
      "application/vnd.jupyter.widget-view+json": {
       "model_id": "f7528bb00b6b4283bd98c36f005ecfbc",
       "version_major": 2,
       "version_minor": 0
      },
      "text/html": [
       "<p>Failed to display Jupyter Widget of type <code>VBox</code>.</p>\n",
       "<p>\n",
       "  If you're reading this message in the Jupyter Notebook or JupyterLab Notebook, it may mean\n",
       "  that the widgets JavaScript is still loading. If this message persists, it\n",
       "  likely means that the widgets JavaScript library is either not installed or\n",
       "  not enabled. See the <a href=\"https://ipywidgets.readthedocs.io/en/stable/user_install.html\">Jupyter\n",
       "  Widgets Documentation</a> for setup instructions.\n",
       "</p>\n",
       "<p>\n",
       "  If you're reading this message in another frontend (for example, a static\n",
       "  rendering on GitHub or <a href=\"https://nbviewer.jupyter.org/\">NBViewer</a>),\n",
       "  it may mean that your frontend doesn't currently support widgets.\n",
       "</p>\n"
      ],
      "text/plain": [
       "VBox(children=(HTML(value='<b><font size=\"+2\">Quiz 7.2 Self Assessment Quiz'),), layout=Layout(display='flex_flow', height='100%'))"
      ]
     },
     "metadata": {},
     "output_type": "display_data"
    },
    {
     "data": {
      "application/vnd.jupyter.widget-view+json": {
       "model_id": "c5d1d89d4041457da5ce23fd74e9edaf",
       "version_major": 2,
       "version_minor": 0
      },
      "text/html": [
       "<p>Failed to display Jupyter Widget of type <code>HTMLMath</code>.</p>\n",
       "<p>\n",
       "  If you're reading this message in the Jupyter Notebook or JupyterLab Notebook, it may mean\n",
       "  that the widgets JavaScript is still loading. If this message persists, it\n",
       "  likely means that the widgets JavaScript library is either not installed or\n",
       "  not enabled. See the <a href=\"https://ipywidgets.readthedocs.io/en/stable/user_install.html\">Jupyter\n",
       "  Widgets Documentation</a> for setup instructions.\n",
       "</p>\n",
       "<p>\n",
       "  If you're reading this message in another frontend (for example, a static\n",
       "  rendering on GitHub or <a href=\"https://nbviewer.jupyter.org/\">NBViewer</a>),\n",
       "  it may mean that your frontend doesn't currently support widgets.\n",
       "</p>\n"
      ],
      "text/plain": [
       "HTMLMath(value='<font size=\"+1\">1. Verify that the following matrices are unitary,')"
      ]
     },
     "metadata": {},
     "output_type": "display_data"
    },
    {
     "data": {
      "application/vnd.jupyter.widget-view+json": {
       "model_id": "5c5d8070132249118f70db0fad9a3ca9",
       "version_major": 2,
       "version_minor": 0
      },
      "text/html": [
       "<p>Failed to display Jupyter Widget of type <code>HTMLMath</code>.</p>\n",
       "<p>\n",
       "  If you're reading this message in the Jupyter Notebook or JupyterLab Notebook, it may mean\n",
       "  that the widgets JavaScript is still loading. If this message persists, it\n",
       "  likely means that the widgets JavaScript library is either not installed or\n",
       "  not enabled. See the <a href=\"https://ipywidgets.readthedocs.io/en/stable/user_install.html\">Jupyter\n",
       "  Widgets Documentation</a> for setup instructions.\n",
       "</p>\n",
       "<p>\n",
       "  If you're reading this message in another frontend (for example, a static\n",
       "  rendering on GitHub or <a href=\"https://nbviewer.jupyter.org/\">NBViewer</a>),\n",
       "  it may mean that your frontend doesn't currently support widgets.\n",
       "</p>\n"
      ],
      "text/plain": [
       "HTMLMath(value='<font size=\"+0\">&emsp;a. $\\\\frac{1}{2}\\\\begin{bmatrix}1+i& 1+i\\\\\\\\1-i&-1+i\\\\end{bmatrix}$')"
      ]
     },
     "metadata": {},
     "output_type": "display_data"
    },
    {
     "data": {
      "application/vnd.jupyter.widget-view+json": {
       "model_id": "3f16bc1704ac4f38b800ddbf6ff863cd",
       "version_major": 2,
       "version_minor": 0
      },
      "text/html": [
       "<p>Failed to display Jupyter Widget of type <code>VBox</code>.</p>\n",
       "<p>\n",
       "  If you're reading this message in the Jupyter Notebook or JupyterLab Notebook, it may mean\n",
       "  that the widgets JavaScript is still loading. If this message persists, it\n",
       "  likely means that the widgets JavaScript library is either not installed or\n",
       "  not enabled. See the <a href=\"https://ipywidgets.readthedocs.io/en/stable/user_install.html\">Jupyter\n",
       "  Widgets Documentation</a> for setup instructions.\n",
       "</p>\n",
       "<p>\n",
       "  If you're reading this message in another frontend (for example, a static\n",
       "  rendering on GitHub or <a href=\"https://nbviewer.jupyter.org/\">NBViewer</a>),\n",
       "  it may mean that your frontend doesn't currently support widgets.\n",
       "</p>\n"
      ],
      "text/plain": [
       "VBox(children=(VBox(children=(HBox(children=(HTML(value=' '), Label(value='')), layout=Layout(height='40px')), VBox(children=(HTMLMath(value='<font size=\"+0\">&emsp;<font size=\"+3\"> (Answer Hidden)'),), layout=Layout(align_items='center', height='105px')), Label(value='')), layout=Layout(border='solid 1px', height='145px', width='75%')), HBox(children=(Button(button_style='info', description='Show Answer', icon='check', layout=Layout(width='100%'), style=ButtonStyle(font_weight='1000'), tooltip='Show Answer'),), layout=Layout(width='75%'))), layout=Layout(align_items='center'))"
      ]
     },
     "metadata": {},
     "output_type": "display_data"
    },
    {
     "data": {
      "application/vnd.jupyter.widget-view+json": {
       "model_id": "ce1ec21c76384be59ef2dd638286474c",
       "version_major": 2,
       "version_minor": 0
      },
      "text/html": [
       "<p>Failed to display Jupyter Widget of type <code>HTMLMath</code>.</p>\n",
       "<p>\n",
       "  If you're reading this message in the Jupyter Notebook or JupyterLab Notebook, it may mean\n",
       "  that the widgets JavaScript is still loading. If this message persists, it\n",
       "  likely means that the widgets JavaScript library is either not installed or\n",
       "  not enabled. See the <a href=\"https://ipywidgets.readthedocs.io/en/stable/user_install.html\">Jupyter\n",
       "  Widgets Documentation</a> for setup instructions.\n",
       "</p>\n",
       "<p>\n",
       "  If you're reading this message in another frontend (for example, a static\n",
       "  rendering on GitHub or <a href=\"https://nbviewer.jupyter.org/\">NBViewer</a>),\n",
       "  it may mean that your frontend doesn't currently support widgets.\n",
       "</p>\n"
      ],
      "text/plain": [
       "HTMLMath(value='<font size=\"+0\">&emsp;b. $\\\\begin{bmatrix}cos\\\\theta&-sin\\\\theta&0\\\\\\\\sin\\\\theta&cos\\\\theta&0\\\\\\\\0&0&1\\\\end{bmatrix}$')"
      ]
     },
     "metadata": {},
     "output_type": "display_data"
    },
    {
     "data": {
      "application/vnd.jupyter.widget-view+json": {
       "model_id": "ec53b4df5ebd414e9b21956e553c4b07",
       "version_major": 2,
       "version_minor": 0
      },
      "text/html": [
       "<p>Failed to display Jupyter Widget of type <code>VBox</code>.</p>\n",
       "<p>\n",
       "  If you're reading this message in the Jupyter Notebook or JupyterLab Notebook, it may mean\n",
       "  that the widgets JavaScript is still loading. If this message persists, it\n",
       "  likely means that the widgets JavaScript library is either not installed or\n",
       "  not enabled. See the <a href=\"https://ipywidgets.readthedocs.io/en/stable/user_install.html\">Jupyter\n",
       "  Widgets Documentation</a> for setup instructions.\n",
       "</p>\n",
       "<p>\n",
       "  If you're reading this message in another frontend (for example, a static\n",
       "  rendering on GitHub or <a href=\"https://nbviewer.jupyter.org/\">NBViewer</a>),\n",
       "  it may mean that your frontend doesn't currently support widgets.\n",
       "</p>\n"
      ],
      "text/plain": [
       "VBox(children=(VBox(children=(HBox(children=(HTML(value=' '), Label(value='')), layout=Layout(height='40px')), VBox(children=(HTMLMath(value='<font size=\"+0\">&emsp;<font size=\"+3\"> (Answer Hidden)'),), layout=Layout(align_items='center', height='105px')), Label(value='')), layout=Layout(border='solid 1px', height='145px', width='75%')), HBox(children=(Button(button_style='info', description='Show Answer', icon='check', layout=Layout(width='100%'), style=ButtonStyle(font_weight='1000'), tooltip='Show Answer'),), layout=Layout(width='75%'))), layout=Layout(align_items='center'))"
      ]
     },
     "metadata": {},
     "output_type": "display_data"
    },
    {
     "data": {
      "application/vnd.jupyter.widget-view+json": {
       "model_id": "1daf9faed58d4c98b97b43c2f5ea73e9",
       "version_major": 2,
       "version_minor": 0
      },
      "text/html": [
       "<p>Failed to display Jupyter Widget of type <code>HTMLMath</code>.</p>\n",
       "<p>\n",
       "  If you're reading this message in the Jupyter Notebook or JupyterLab Notebook, it may mean\n",
       "  that the widgets JavaScript is still loading. If this message persists, it\n",
       "  likely means that the widgets JavaScript library is either not installed or\n",
       "  not enabled. See the <a href=\"https://ipywidgets.readthedocs.io/en/stable/user_install.html\">Jupyter\n",
       "  Widgets Documentation</a> for setup instructions.\n",
       "</p>\n",
       "<p>\n",
       "  If you're reading this message in another frontend (for example, a static\n",
       "  rendering on GitHub or <a href=\"https://nbviewer.jupyter.org/\">NBViewer</a>),\n",
       "  it may mean that your frontend doesn't currently support widgets.\n",
       "</p>\n"
      ],
      "text/plain": [
       "HTMLMath(value='<font size=\"+1\">2. Prove the following. For a unitary matrix $U$,')"
      ]
     },
     "metadata": {},
     "output_type": "display_data"
    },
    {
     "data": {
      "application/vnd.jupyter.widget-view+json": {
       "model_id": "c1c3373364c646f3b5f08d90ef27e5ad",
       "version_major": 2,
       "version_minor": 0
      },
      "text/html": [
       "<p>Failed to display Jupyter Widget of type <code>HTMLMath</code>.</p>\n",
       "<p>\n",
       "  If you're reading this message in the Jupyter Notebook or JupyterLab Notebook, it may mean\n",
       "  that the widgets JavaScript is still loading. If this message persists, it\n",
       "  likely means that the widgets JavaScript library is either not installed or\n",
       "  not enabled. See the <a href=\"https://ipywidgets.readthedocs.io/en/stable/user_install.html\">Jupyter\n",
       "  Widgets Documentation</a> for setup instructions.\n",
       "</p>\n",
       "<p>\n",
       "  If you're reading this message in another frontend (for example, a static\n",
       "  rendering on GitHub or <a href=\"https://nbviewer.jupyter.org/\">NBViewer</a>),\n",
       "  it may mean that your frontend doesn't currently support widgets.\n",
       "</p>\n"
      ],
      "text/plain": [
       "HTMLMath(value='<font size=\"+0\">&emsp;$\\\\left&#60;UV,UV\\'\\\\right&#62;$&emsp;=&emsp;$\\\\left&#60;V,V\\'\\\\right&#62;$')"
      ]
     },
     "metadata": {},
     "output_type": "display_data"
    },
    {
     "data": {
      "application/vnd.jupyter.widget-view+json": {
       "model_id": "e8bd23964114440eb0c819359f54549c",
       "version_major": 2,
       "version_minor": 0
      },
      "text/html": [
       "<p>Failed to display Jupyter Widget of type <code>VBox</code>.</p>\n",
       "<p>\n",
       "  If you're reading this message in the Jupyter Notebook or JupyterLab Notebook, it may mean\n",
       "  that the widgets JavaScript is still loading. If this message persists, it\n",
       "  likely means that the widgets JavaScript library is either not installed or\n",
       "  not enabled. See the <a href=\"https://ipywidgets.readthedocs.io/en/stable/user_install.html\">Jupyter\n",
       "  Widgets Documentation</a> for setup instructions.\n",
       "</p>\n",
       "<p>\n",
       "  If you're reading this message in another frontend (for example, a static\n",
       "  rendering on GitHub or <a href=\"https://nbviewer.jupyter.org/\">NBViewer</a>),\n",
       "  it may mean that your frontend doesn't currently support widgets.\n",
       "</p>\n"
      ],
      "text/plain": [
       "VBox(children=(VBox(children=(HBox(children=(HTML(value=' '), Label(value='')), layout=Layout(height='40px')), VBox(children=(HTMLMath(value='<font size=\"+0\">&emsp;<font size=\"+3\"> (Answer Hidden)'),), layout=Layout(align_items='center', height='105px')), Label(value='')), layout=Layout(border='solid 1px', height='145px', width='75%')), HBox(children=(Button(button_style='info', description='Show Answer', icon='check', layout=Layout(width='100%'), style=ButtonStyle(font_weight='1000'), tooltip='Show Answer'),), layout=Layout(width='75%'))), layout=Layout(align_items='center'))"
      ]
     },
     "metadata": {},
     "output_type": "display_data"
    }
   ],
   "source": [
    "%run pyfiles/saquiz7_2  #This runs the file that has the quiz code\n",
    "createQuiz7_2()"
   ]
  },
  {
   "cell_type": "markdown",
   "metadata": {
    "slideshow": {
     "slide_type": "slide"
    }
   },
   "source": [
    "#### Final Quiz 7  is in a separate notebook with filename: finalquiz7.ipynb or finalquiz7.pdf. Use whichever is convenient.\n",
    "Final quiz is intended to be completed and submitted to the instructor for grading."
   ]
  }
 ],
 "metadata": {
  "celltoolbar": "Slideshow",
  "kernelspec": {
   "display_name": "Python 3",
   "language": "python",
   "name": "python3"
  },
  "language_info": {
   "codemirror_mode": {
    "name": "ipython",
    "version": 3
   },
   "file_extension": ".py",
   "mimetype": "text/x-python",
   "name": "python",
   "nbconvert_exporter": "python",
   "pygments_lexer": "ipython3",
   "version": "3.5.2"
  }
 },
 "nbformat": 4,
 "nbformat_minor": 2
}
