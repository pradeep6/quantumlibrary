{
 "cells": [
  {
   "cell_type": "markdown",
   "metadata": {
    "nbgrader": {
     "grade": false,
     "grade_id": "cell-a65a586b238ae9a4",
     "locked": true,
     "schema_version": 1,
     "solution": false
    }
   },
   "source": [
    "# Final Quiz 8\n",
    "\n",
    "### nanomodule 8\n",
    "\n",
    "#### Your Name:"
   ]
  },
  {
   "cell_type": "markdown",
   "metadata": {
    "nbgrader": {
     "grade": true,
     "grade_id": "cell-9a6cd2c0d4995528",
     "locked": false,
     "points": 5,
     "schema_version": 1,
     "solution": true
    }
   },
   "source": [
    "<b>8.1 (5 points) Compute the tensor product for the following,</b>\n",
    "\n",
    "a. $A=\\begin{bmatrix}1& 4+3i& i\\\\0& 1& i-2\\end{bmatrix}$ and $B=\\begin{bmatrix}2 &3+i &1\\\\3-i& 5& 0\\\\-9i& 1+i& 11i\\end{bmatrix}$\n",
    "\n",
    "b. $A=\\begin{bmatrix}2 &1\\\\9 &7\\\\2 &8\\\\3 &5\\end{bmatrix}$ and $B=\\begin{bmatrix}2 &3+i\\\\3-i& 5\\\\-9i& 1+i\\end{bmatrix}$"
   ]
  },
  {
   "cell_type": "markdown",
   "metadata": {
    "nbgrader": {
     "grade": true,
     "grade_id": "cell-714824ae50dfd9ab",
     "locked": false,
     "points": 5,
     "schema_version": 1,
     "solution": true
    }
   },
   "source": [
    "<b>8.2 (5 points) Prove that for three matrices $A, B$ and $C$, $A\\otimes(B\\otimes C)=(A\\otimes B)\\otimes C$</b>"
   ]
  },
  {
   "cell_type": "markdown",
   "metadata": {
    "nbgrader": {
     "grade": true,
     "grade_id": "cell-a99d01835a899617",
     "locked": false,
     "points": 5,
     "schema_version": 1,
     "solution": true
    }
   },
   "source": [
    "<b>8.3 (5 points) Prove that $(A\\otimes B)^\\dagger=A^\\dagger\\otimes B^\\dagger$.</b>"
   ]
  },
  {
   "cell_type": "markdown",
   "metadata": {
    "nbgrader": {
     "grade": true,
     "grade_id": "cell-e144a5fb02a40ff6",
     "locked": false,
     "points": 5,
     "schema_version": 1,
     "solution": true
    }
   },
   "source": [
    "<b>8.4 (5 points) Write a Python function that take two well-formed matrices with real/complex entries and outputs the tensor product of is inputs.</b>"
   ]
  },
  {
   "cell_type": "code",
   "execution_count": 27,
   "metadata": {
    "scrolled": false
   },
   "outputs": [
    {
     "ename": "IndentationError",
     "evalue": "expected an indented block (<ipython-input-27-d90e5ffab9ef>, line 6)",
     "output_type": "error",
     "traceback": [
      "\u001b[1;36m  File \u001b[1;32m\"<ipython-input-27-d90e5ffab9ef>\"\u001b[1;36m, line \u001b[1;32m6\u001b[0m\n\u001b[1;33m    assert isHermitian([[1,2-1j],[2 + 1j, 0]]) == True   #Vector\u001b[0m\n\u001b[1;37m         ^\u001b[0m\n\u001b[1;31mIndentationError\u001b[0m\u001b[1;31m:\u001b[0m expected an indented block\n"
     ]
    }
   ],
   "source": [
    "import numpy\n",
    "def tensor(m1,m2):\n",
    "    #Complete the function\n",
    "    \n",
    "#Example execution\n",
    "\n",
    "assert numpy.allclose(tensor([1,2j],[2+3j,4]), [(2+3j), (4+0j), (-6+4j), 8j])  #Vector\n",
    "assert numpy.allclose(tensor([[3,4j],[1+7j,0]],[2-17j,4]),[[(6-51j), (68+8j)], [(12+0j), 16j], [(121-3j), 0j], [(4+28j), 0j]]) #Matrix and Vector"
   ]
  },
  {
   "cell_type": "markdown",
   "metadata": {
    "nbgrader": {
     "grade": false,
     "grade_id": "cell-8cdcf73f457a8869",
     "locked": true,
     "schema_version": 1,
     "solution": false
    }
   },
   "source": [
    "***\n",
    "#### End of Quiz 8\n",
    "***"
   ]
  }
 ],
 "metadata": {
  "kernelspec": {
   "display_name": "Python 3",
   "language": "python",
   "name": "python3"
  },
  "language_info": {
   "codemirror_mode": {
    "name": "ipython",
    "version": 3
   },
   "file_extension": ".py",
   "mimetype": "text/x-python",
   "name": "python",
   "nbconvert_exporter": "python",
   "pygments_lexer": "ipython3",
   "version": "3.6.4"
  }
 },
 "nbformat": 4,
 "nbformat_minor": 2
}
