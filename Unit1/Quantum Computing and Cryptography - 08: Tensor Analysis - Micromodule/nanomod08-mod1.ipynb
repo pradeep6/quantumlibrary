{
 "cells": [
  {
   "cell_type": "markdown",
   "metadata": {
    "slideshow": {
     "slide_type": "slide"
    }
   },
   "source": [
    "# 8. Overview of Tensor Analysis\n",
    "\n",
    "### This lesson belongs to nanomodule 8 - micromodule 2 - module 0\n",
    "\n",
    "<b>Learning Outcomes: </b>\n",
    "\n",
    "Upon completion of this lesson:\n",
    "\n",
    "8.1\tStudents will prove properties Tensor products of matrices and vectors.\n",
    "\n",
    "8.2\tStudents will be able to compute tensor products.\n",
    "\n",
    "8.3\tStudents will implement a program that computes the Tensor product of two matrices.\n"
   ]
  },
  {
   "cell_type": "markdown",
   "metadata": {
    "slideshow": {
     "slide_type": "slide"
    }
   },
   "source": [
    "## 8.1 Tensor Product\n",
    "\n",
    "Tensor products are used to describe the joint state of two or more systems. For example, if the state of one quantum system is described by $\\mathbb{V}$ and the state of another quantum system is decribed by $\\mathbb{V}'$ then $\\mathbb{V}\\otimes\\mathbb{V}'$ describes the joint state of the two systems.\n",
    "\n",
    "More concretely if $V_0, V_1, \\ldots, V_{q}$ are vectors in $\\mathbb{V}$ and $V'_0, V'_1,\\ldots, V'_{p}$ are vectors in $\\mathbb{V}'$ then the tensor product is given by the set of \"tensors\" of all vectors in the two spaces.\n",
    "$$\\{V\\otimes V'|V\\in\\mathbb{V}\\mbox{ and }V'\\in\\mathbb{V'}\\}$$\n",
    "\n",
    "Tensor product distributes over addition and respects scalar multiplication."
   ]
  },
  {
   "cell_type": "markdown",
   "metadata": {
    "slideshow": {
     "slide_type": "slide"
    }
   },
   "source": [
    "## 8.2 Joint Basis for $\\mathbb{V}$ and $\\mathbb{V'}$\n",
    "\n",
    "If $B=\\{B_0,B_1,\\ldots,B_{m-1}\\}$ is the basis for $\\mathbb{V}$ and $B'=\\{B'_0,B'_1,\\ldots,B'_{n-1}\\}$ is the basis for $\\mathbb{V'}$, then the basis for $\\mathbb{V}\\otimes\\mathbb{V'}$ is given by,\n",
    "\n",
    "$$\\{B_j\\otimes B'_k|j=0,1,\\ldots,m-1 \\mbox{ and } k=0,1,\\ldots,n-1\\}$$\n",
    "\n",
    "As mentioned before the dimension of $\\mathbb{V}\\otimes\\mathbb{V'}$ is the dimension of $\\mathbb{V}$ times the dimension of $\\mathbb{V'}$"
   ]
  },
  {
   "cell_type": "markdown",
   "metadata": {
    "slideshow": {
     "slide_type": "slide"
    }
   },
   "source": [
    "## 8.3 Examples: Tensor Product\n",
    "\n",
    "Let us look at some concrete examples of Tensor product of vectors,\n",
    "\n",
    "$$\\begin{bmatrix}a_0\\\\a_1\\\\a_2\\end{bmatrix}\\otimes\n",
    "\\begin{bmatrix}b_0\\\\b_1\\end{bmatrix} = \\begin{bmatrix}\n",
    "a_0\\cdot\\begin{bmatrix}b_0\\\\b_1\\end{bmatrix}\\\\\n",
    "a_1\\cdot\\begin{bmatrix}b_0\\\\b_1\\end{bmatrix}\\\\\n",
    "a_2\\cdot\\begin{bmatrix}b_0\\\\b_1\\end{bmatrix}\\end{bmatrix}=\\begin{bmatrix}\n",
    "a_0b_0\\\\\n",
    "a_0b_1\\\\\n",
    "a_1b_0\\\\\n",
    "a_1b_1\\\\\n",
    "a_2b_0\\\\\n",
    "a_2b_1\\end{bmatrix}$$"
   ]
  },
  {
   "cell_type": "markdown",
   "metadata": {
    "slideshow": {
     "slide_type": "slide"
    }
   },
   "source": [
    "<b>Example:</b> Consider the vectors $V=\\begin{bmatrix}1\\\\2i\\end{bmatrix}$ and $W=\\begin{bmatrix}2+3i\\\\4\\end{bmatrix}$\n",
    "\n",
    "The Tensor product $V\\otimes W$ is given by,\n",
    "\n",
    "$$\\begin{bmatrix}1\\\\2i\\end{bmatrix}\\otimes\\begin{bmatrix}2+3i\\\\4\\end{bmatrix}=\\begin{bmatrix}1\\cdot\\begin{bmatrix}2+3i\\\\4\\end{bmatrix}\\\\2i\\cdot\\begin{bmatrix}2+3i\\\\4\\end{bmatrix}\\end{bmatrix}=\\begin{bmatrix}2+3i\\\\4\\\\-6+4i\\\\8i\\end{bmatrix}$$"
   ]
  },
  {
   "cell_type": "markdown",
   "metadata": {
    "slideshow": {
     "slide_type": "slide"
    }
   },
   "source": [
    "## Quiz 8.1 Self Assessment Quiz\n",
    "\n",
    "Calculate the tensor product for the following,\n",
    "\n",
    "1. $\\begin{bmatrix}5\\\\4\\\\10\\end{bmatrix}\\otimes\\begin{bmatrix}-1\\\\2\\end{bmatrix}$\n",
    "<br><br>\n",
    "\n",
    "2. $\\begin{bmatrix}2+3i\\\\10-4i\\end{bmatrix}\\otimes\\begin{bmatrix}4\\\\-1+i\\end{bmatrix}$"
   ]
  },
  {
   "cell_type": "code",
   "execution_count": 1,
   "metadata": {
    "slideshow": {
     "slide_type": "slide"
    }
   },
   "outputs": [
    {
     "data": {
      "application/vnd.jupyter.widget-view+json": {
       "model_id": "bb118aba542d42219c5decbd484e54f1",
       "version_major": 2,
       "version_minor": 0
      },
      "text/html": [
       "<p>Failed to display Jupyter Widget of type <code>VBox</code>.</p>\n",
       "<p>\n",
       "  If you're reading this message in the Jupyter Notebook or JupyterLab Notebook, it may mean\n",
       "  that the widgets JavaScript is still loading. If this message persists, it\n",
       "  likely means that the widgets JavaScript library is either not installed or\n",
       "  not enabled. See the <a href=\"https://ipywidgets.readthedocs.io/en/stable/user_install.html\">Jupyter\n",
       "  Widgets Documentation</a> for setup instructions.\n",
       "</p>\n",
       "<p>\n",
       "  If you're reading this message in another frontend (for example, a static\n",
       "  rendering on GitHub or <a href=\"https://nbviewer.jupyter.org/\">NBViewer</a>),\n",
       "  it may mean that your frontend doesn't currently support widgets.\n",
       "</p>\n"
      ],
      "text/plain": [
       "VBox(children=(HTML(value='<b><font size=\"+2\">Quiz 8.1 Self Assessment Quiz'),), layout=Layout(display='flex_flow', height='100%'))"
      ]
     },
     "metadata": {},
     "output_type": "display_data"
    },
    {
     "data": {
      "application/vnd.jupyter.widget-view+json": {
       "model_id": "17000ea51eff4cb1b20031defe63841b",
       "version_major": 2,
       "version_minor": 0
      },
      "text/html": [
       "<p>Failed to display Jupyter Widget of type <code>HTMLMath</code>.</p>\n",
       "<p>\n",
       "  If you're reading this message in the Jupyter Notebook or JupyterLab Notebook, it may mean\n",
       "  that the widgets JavaScript is still loading. If this message persists, it\n",
       "  likely means that the widgets JavaScript library is either not installed or\n",
       "  not enabled. See the <a href=\"https://ipywidgets.readthedocs.io/en/stable/user_install.html\">Jupyter\n",
       "  Widgets Documentation</a> for setup instructions.\n",
       "</p>\n",
       "<p>\n",
       "  If you're reading this message in another frontend (for example, a static\n",
       "  rendering on GitHub or <a href=\"https://nbviewer.jupyter.org/\">NBViewer</a>),\n",
       "  it may mean that your frontend doesn't currently support widgets.\n",
       "</p>\n"
      ],
      "text/plain": [
       "HTMLMath(value='<font size=\"+1\">Calculate the tensor product for the following,')"
      ]
     },
     "metadata": {},
     "output_type": "display_data"
    },
    {
     "data": {
      "application/vnd.jupyter.widget-view+json": {
       "model_id": "c5b8eed31da84e469e51be70ce204fed",
       "version_major": 2,
       "version_minor": 0
      },
      "text/html": [
       "<p>Failed to display Jupyter Widget of type <code>HTMLMath</code>.</p>\n",
       "<p>\n",
       "  If you're reading this message in the Jupyter Notebook or JupyterLab Notebook, it may mean\n",
       "  that the widgets JavaScript is still loading. If this message persists, it\n",
       "  likely means that the widgets JavaScript library is either not installed or\n",
       "  not enabled. See the <a href=\"https://ipywidgets.readthedocs.io/en/stable/user_install.html\">Jupyter\n",
       "  Widgets Documentation</a> for setup instructions.\n",
       "</p>\n",
       "<p>\n",
       "  If you're reading this message in another frontend (for example, a static\n",
       "  rendering on GitHub or <a href=\"https://nbviewer.jupyter.org/\">NBViewer</a>),\n",
       "  it may mean that your frontend doesn't currently support widgets.\n",
       "</p>\n"
      ],
      "text/plain": [
       "HTMLMath(value='<font size=\"+0\">&emsp;1. $\\\\begin{bmatrix}5\\\\\\\\4\\\\\\\\10\\\\end{bmatrix}\\\\otimes\\\\begin{bmatrix}-1\\\\\\\\2\\\\end{bmatrix}$')"
      ]
     },
     "metadata": {},
     "output_type": "display_data"
    },
    {
     "data": {
      "application/vnd.jupyter.widget-view+json": {
       "model_id": "774efbe6ac42447488c3a2502d873646",
       "version_major": 2,
       "version_minor": 0
      },
      "text/html": [
       "<p>Failed to display Jupyter Widget of type <code>VBox</code>.</p>\n",
       "<p>\n",
       "  If you're reading this message in the Jupyter Notebook or JupyterLab Notebook, it may mean\n",
       "  that the widgets JavaScript is still loading. If this message persists, it\n",
       "  likely means that the widgets JavaScript library is either not installed or\n",
       "  not enabled. See the <a href=\"https://ipywidgets.readthedocs.io/en/stable/user_install.html\">Jupyter\n",
       "  Widgets Documentation</a> for setup instructions.\n",
       "</p>\n",
       "<p>\n",
       "  If you're reading this message in another frontend (for example, a static\n",
       "  rendering on GitHub or <a href=\"https://nbviewer.jupyter.org/\">NBViewer</a>),\n",
       "  it may mean that your frontend doesn't currently support widgets.\n",
       "</p>\n"
      ],
      "text/plain": [
       "VBox(children=(VBox(children=(HBox(children=(HTML(value=' '), Label(value='')), layout=Layout(height='40px')), VBox(children=(HTMLMath(value='<font size=\"+0\">&emsp;<font size=\"+3\"> (Answer Hidden)'),), layout=Layout(align_items='center', height='190px')), Label(value='')), layout=Layout(border='solid 1px', height='230px', width='75%')), HBox(children=(Button(button_style='info', description='Show Answer', icon='check', layout=Layout(width='100%'), style=ButtonStyle(font_weight='1000'), tooltip='Show Answer'),), layout=Layout(width='75%'))), layout=Layout(align_items='center'))"
      ]
     },
     "metadata": {},
     "output_type": "display_data"
    },
    {
     "data": {
      "application/vnd.jupyter.widget-view+json": {
       "model_id": "7f53a4a333bf488799ba6aefe3cc3501",
       "version_major": 2,
       "version_minor": 0
      },
      "text/html": [
       "<p>Failed to display Jupyter Widget of type <code>HTMLMath</code>.</p>\n",
       "<p>\n",
       "  If you're reading this message in the Jupyter Notebook or JupyterLab Notebook, it may mean\n",
       "  that the widgets JavaScript is still loading. If this message persists, it\n",
       "  likely means that the widgets JavaScript library is either not installed or\n",
       "  not enabled. See the <a href=\"https://ipywidgets.readthedocs.io/en/stable/user_install.html\">Jupyter\n",
       "  Widgets Documentation</a> for setup instructions.\n",
       "</p>\n",
       "<p>\n",
       "  If you're reading this message in another frontend (for example, a static\n",
       "  rendering on GitHub or <a href=\"https://nbviewer.jupyter.org/\">NBViewer</a>),\n",
       "  it may mean that your frontend doesn't currently support widgets.\n",
       "</p>\n"
      ],
      "text/plain": [
       "HTMLMath(value='<font size=\"+0\">&emsp;2. $\\\\begin{bmatrix}2+3i\\\\\\\\10-4i\\\\end{bmatrix}\\\\otimes\\\\begin{bmatrix}4\\\\\\\\-1+i\\\\end{bmatrix}$')"
      ]
     },
     "metadata": {},
     "output_type": "display_data"
    },
    {
     "data": {
      "application/vnd.jupyter.widget-view+json": {
       "model_id": "c9f449bcc2d445ba9a1b89e02b8e82fd",
       "version_major": 2,
       "version_minor": 0
      },
      "text/html": [
       "<p>Failed to display Jupyter Widget of type <code>VBox</code>.</p>\n",
       "<p>\n",
       "  If you're reading this message in the Jupyter Notebook or JupyterLab Notebook, it may mean\n",
       "  that the widgets JavaScript is still loading. If this message persists, it\n",
       "  likely means that the widgets JavaScript library is either not installed or\n",
       "  not enabled. See the <a href=\"https://ipywidgets.readthedocs.io/en/stable/user_install.html\">Jupyter\n",
       "  Widgets Documentation</a> for setup instructions.\n",
       "</p>\n",
       "<p>\n",
       "  If you're reading this message in another frontend (for example, a static\n",
       "  rendering on GitHub or <a href=\"https://nbviewer.jupyter.org/\">NBViewer</a>),\n",
       "  it may mean that your frontend doesn't currently support widgets.\n",
       "</p>\n"
      ],
      "text/plain": [
       "VBox(children=(VBox(children=(HBox(children=(HTML(value=' '), Label(value='')), layout=Layout(height='40px')), VBox(children=(HTMLMath(value='<font size=\"+0\">&emsp;<font size=\"+3\"> (Answer Hidden)'),), layout=Layout(align_items='center', height='190px')), Label(value='')), layout=Layout(border='solid 1px', height='230px', width='75%')), HBox(children=(Button(button_style='info', description='Show Answer', icon='check', layout=Layout(width='100%'), style=ButtonStyle(font_weight='1000'), tooltip='Show Answer'),), layout=Layout(width='75%'))), layout=Layout(align_items='center'))"
      ]
     },
     "metadata": {},
     "output_type": "display_data"
    }
   ],
   "source": [
    "%run pyfiles/saquiz8_1  #This runs the file that has the quiz code\n",
    "createQuiz8_1()"
   ]
  },
  {
   "cell_type": "markdown",
   "metadata": {
    "slideshow": {
     "slide_type": "slide"
    }
   },
   "source": [
    "## 8.4 Inseparability of Systems (Entanglement)\n",
    "\n",
    "While some systems can clearly be written as Tensor product of two or more vectors, other systems cannot. For example, consider a system represented by a $4\\times1$ matrix,\n",
    "\n",
    "$$\\begin{bmatrix}\n",
    "2\\\\0\\\\0\\\\1\n",
    "\\end{bmatrix}$$\n",
    "\n",
    "The above vector cannot be represented as a Tensor product of two different $2\\times1$ vectors. In such a case we say that the two vectors are entangled and therefore the systems these vectors represent are entangled as well."
   ]
  },
  {
   "cell_type": "markdown",
   "metadata": {
    "slideshow": {
     "slide_type": "slide"
    }
   },
   "source": [
    "## 8.5 Tensor Product of Matrices\n",
    "\n",
    "The definition of Tensor product can be readily extended to matrices as well. We will need to do this in order to construct joint operators for joint system states. For example, consider a $2\\times2$ matrix applied to vector $V$ in $\\mathbb{V}$ and a $3\\times3$ matrix applied to vector $V'$ in $\\mathbb{V'}$. Then the joint matrix operation is given by $A\\otimes B$. More specifically, \n",
    "\n",
    "$$A=\\begin{bmatrix}a_{0,0}&a_{0,1}\\\\a_{1,0}&a_{1,1}\\end{bmatrix}$$ and\n",
    "$$B=\\begin{bmatrix}b_{0,0}&b_{0,1}&b_{0,2}\\\\b_{1,0}&b_{1,1}&b_{1,2}\\\\b_{2,0}&b_{2,1}&b_{2,2}\\end{bmatrix}$$\n",
    "\n",
    "The tensor product $A\\otimes B$ is the matrix that has every element of $A$, scalar multiplied with the entire matrix $B$. Therefore,\n",
    "\n",
    "$$A\\otimes B=\\begin{bmatrix}a_{0,0}\\cdot\\begin{bmatrix}b_{0,0}&b_{0,1}&b_{0,2}\\\\b_{1,0}&b_{1,1}&b_{1,2}\\\\b_{2,0}&b_{2,1}&b_{2,2}\\end{bmatrix}&\n",
    "a_{0,1}\\cdot\\begin{bmatrix}b_{0,0}&b_{0,1}&b_{0,2}\\\\b_{1,0}&b_{1,1}&b_{1,2}\\\\b_{2,0}&b_{2,1}&b_{2,2}\\end{bmatrix}\\\\\n",
    "a_{1,0}\\cdot\\begin{bmatrix}b_{0,0}&b_{0,1}&b_{0,2}\\\\b_{1,0}&b_{1,1}&b_{1,2}\\\\b_{2,0}&b_{2,1}&b_{2,2}\\end{bmatrix}&\n",
    "a_{1,1}\\cdot\\begin{bmatrix}b_{0,0}&b_{0,1}&b_{0,2}\\\\b_{1,0}&b_{1,1}&b_{1,2}\\\\b_{2,0}&b_{2,1}&b_{2,2}\\end{bmatrix}\\end{bmatrix}$$"
   ]
  },
  {
   "cell_type": "markdown",
   "metadata": {
    "slideshow": {
     "slide_type": "slide"
    }
   },
   "source": [
    "## 8.6 Examples of Tensor Product of Matrices\n",
    "\n",
    "Let $A=\\begin{bmatrix}3&4i\\\\1+7i&0\\end{bmatrix}$ and $B=\\begin{bmatrix}2-17i\\\\4\\end{bmatrix}$. The tensor product is,\n",
    "\n",
    "$$A\\otimes B=\\begin{bmatrix}3\\cdot\\begin{bmatrix}2-17i\\\\4\\end{bmatrix}& 4i\\cdot\\begin{bmatrix}2-17i\\\\4\\end{bmatrix}\\\\(1+7i)\\cdot\\begin{bmatrix}2-17i\\\\4\\end{bmatrix}&0\\cdot\\begin{bmatrix}2-17i\\\\4\\end{bmatrix}\\end{bmatrix}=\\begin{bmatrix}6-51i&8i+68\\\\12&16i\\\\ 121-3i& 0\\\\4+28i&0\\end{bmatrix}$$"
   ]
  },
  {
   "cell_type": "markdown",
   "metadata": {
    "slideshow": {
     "slide_type": "slide"
    }
   },
   "source": [
    "## 8.7 Properties of Tensor Product of Matrices\n",
    "\n",
    "<b>Associativity:</b> For three matrices $A, B$ and $C$, $A\\otimes(B\\otimes C)=(A\\otimes B)\\otimes C$\n",
    "\n",
    "<b>Respects adjoint operation:</b> $(A\\otimes B)^\\dagger=A^\\dagger\\otimes B^\\dagger$"
   ]
  },
  {
   "cell_type": "markdown",
   "metadata": {
    "slideshow": {
     "slide_type": "slide"
    }
   },
   "source": [
    "#### Final Quiz 8 is in a separate notebook with filename: finalquiz8.ipynb or finalquiz8.pdf. Use whichever is convenient.\n",
    "Final quiz is intended to be completed and submitted to the instructor for grading."
   ]
  }
 ],
 "metadata": {
  "celltoolbar": "Slideshow",
  "kernelspec": {
   "display_name": "Python 3",
   "language": "python",
   "name": "python3"
  },
  "language_info": {
   "codemirror_mode": {
    "name": "ipython",
    "version": 3
   },
   "file_extension": ".py",
   "mimetype": "text/x-python",
   "name": "python",
   "nbconvert_exporter": "python",
   "pygments_lexer": "ipython3",
   "version": "3.5.2"
  }
 },
 "nbformat": 4,
 "nbformat_minor": 2
}
