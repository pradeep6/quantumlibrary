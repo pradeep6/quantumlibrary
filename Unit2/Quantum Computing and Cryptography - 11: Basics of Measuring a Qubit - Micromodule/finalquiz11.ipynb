{
 "cells": [
  {
   "cell_type": "markdown",
   "metadata": {},
   "source": [
    "# Final Quiz 11\n",
    "\n",
    "### nanomodule 11\n",
    "\n",
    "#### Name: ________________"
   ]
  },
  {
   "cell_type": "markdown",
   "metadata": {},
   "source": [
    "<b>11.1 Assume that Alice and Bob are communicating using a noisy channel. The noise is such that if Alice sends $\\rvert0\\rangle$ to Bob he receives $\\frac{1}{\\sqrt{2}}\\rvert0\\rangle+\\frac{1}{\\sqrt{2}}\\rvert1\\rangle$, and if she sends $\\rvert1\\rangle$ he receives $\\frac{1}{\\sqrt{3}}\\rvert0\\rangle+\\frac{\\sqrt{2}}{\\sqrt{3}}\\rvert1\\rangle$. Bob can only measure in two bases $\\{\\rvert0\\rangle, \\rvert1\\rangle\\}$ and $\\{\\rvert+\\rangle,\\rvert-\\rangle\\}$. Which basis should Bob use to maximize the number of correctly received qubits?</b>"
   ]
  },
  {
   "cell_type": "markdown",
   "metadata": {},
   "source": [
    "<b>11.2 Write a Python function that takes a qubit and an orthonormal basis set as inputs. All inputs are provided in vector form. Given the qubit and basis set the function computes the probability of collapse of the qubit to each of the component of the basis set. (Question 10.6 in nanomodule 10 was similar)</b>"
   ]
  }
 ],
 "metadata": {
  "kernelspec": {
   "display_name": "Python 3",
   "language": "python",
   "name": "python3"
  },
  "language_info": {
   "codemirror_mode": {
    "name": "ipython",
    "version": 3
   },
   "file_extension": ".py",
   "mimetype": "text/x-python",
   "name": "python",
   "nbconvert_exporter": "python",
   "pygments_lexer": "ipython3",
   "version": "3.5.2"
  }
 },
 "nbformat": 4,
 "nbformat_minor": 2
}
