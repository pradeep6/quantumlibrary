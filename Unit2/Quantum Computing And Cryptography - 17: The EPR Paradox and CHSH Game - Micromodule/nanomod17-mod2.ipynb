{
 "cells": [
  {
   "cell_type": "markdown",
   "metadata": {
    "slideshow": {
     "slide_type": "slide"
    }
   },
   "source": [
    "# 17. The EPR Paradox and CHSH Game\n",
    "\n",
    "### This lesson belongs to nanomodule 17 - module 2\n",
    "\n",
    "Upon completion of this lesson:\n",
    "\n",
    "17.1 Students will understand the significance of EPR pairs and their implications.\n",
    "\n",
    "17.2 Students will understand Bell's inequality and CHSH game that verifies Bell's inequality."
   ]
  },
  {
   "cell_type": "markdown",
   "metadata": {
    "slideshow": {
     "slide_type": "slide"
    }
   },
   "source": [
    "## 17.1 The EPR paradox \n",
    "\n",
    "**Changing the basis of Bell Pairs**\n",
    "\n",
    "The Bell state $\\frac{\\rvert00\\rangle + \\rvert 11 \\rangle}{\\sqrt{2}}$ can also be written as $\\frac{\\rvert++\\rangle+\\rvert--\\rangle}{\\sqrt{2}}$ in the Hadamard basis.\n",
    "\n",
    "To see this,\n",
    "\n",
    "$\\frac{1}{\\sqrt{2}}\\rvert++\\rangle $ $+$ $  \\frac{1}{\\sqrt{2}}\\rvert--\\rangle$\n",
    "\n",
    "$= \\frac{1}{\\sqrt{2}}\\bigg[\\Big(\\frac{\\rvert0\\rangle+\\rvert1\\rangle}{\\sqrt{2}}\\Big)\\Big(\\frac{\\rvert0\\rangle+\\rvert1\\rangle}{\\sqrt{2}}\\Big)\\bigg]+\\frac{1}{\\sqrt{2}}\n",
    "\\bigg[\\Big(\\frac{\\rvert0\\rangle-\\rvert1\\rangle}{\\sqrt{2}}\\Big)\\Big(\\frac{\\rvert0\\rangle-\\rvert1\\rangle}{\\sqrt{2}}\\Big)\\bigg]$\n",
    "\n",
    "Collecting Terms\n",
    "\n",
    "$= \\frac{1}{\\sqrt{2}}\\bigg[\\Big(\\frac{\\rvert00\\rangle+\\rvert01\\rangle + \\rvert10\\rangle+\\rvert11\\rangle}{2}\\Big)+\\Big(\\frac{\\rvert00\\rangle-\\rvert01\\rangle - \\rvert10\\rangle+\\rvert11\\rangle}{2}\\Big)\\bigg]$\n",
    "\n",
    "$=\\frac{1}{\\sqrt{2}} \\bigg[\\rvert00\\rangle+\\rvert11\\rangle \\bigg]$"
   ]
  },
  {
   "cell_type": "markdown",
   "metadata": {
    "slideshow": {
     "slide_type": "slide"
    }
   },
   "source": [
    "One could ask the question when we physically separate these two qubits giving one to Alice and the other to Bob, do they really stay entangled or maybe when the state was formed with $\\frac{1}{2}$ probability the qubits went in to state $\\rvert 00 \\rangle$ and $\\frac{1}{2}$ probability they went into the state $\\rvert 11 \\rangle$ instead of a superposition of the two states.\n",
    "\n",
    "Now that we have seen the basis of the Bell pair, it can be changed (Is this right?). Therefore the qubits can also be measured in the $\\{\\rvert + \\rangle,\\rvert - \\rangle\\}$ basis,\n",
    "\n",
    "The probabilities of outcomes in this new basis are computed as follows \n",
    "\n",
    "$P[+] = \\frac{1}{2}$, new state $\\rvert++\\rangle$\n",
    "\n",
    "$P[-] = \\frac{1}{2}$, new state $\\rvert--\\rangle$\n",
    "\n",
    "Therefore, irrespective of the basis the Bell pair is measured, the results will match.\n",
    "\n",
    "Consequently, the qubits could not have been in states of $\\rvert00\\rangle$ or $\\rvert11\\rangle$ to start with, measuring such states in the Hadamard basis would potentially result in different outcomes at Alice’s and Bob’s end.\n"
   ]
  },
  {
   "cell_type": "markdown",
   "metadata": {
    "slideshow": {
     "slide_type": "slide"
    }
   },
   "source": [
    "## 17.2 Rotational Invariance of Bell State\n",
    "\n",
    "We know that, $\\rvert \\psi \\rangle=\\frac{\\rvert00\\rangle + \\rvert 11 \\rangle}{\\sqrt{2}}=\\frac{\\rvert++\\rangle+\\rvert--\\rangle}{\\sqrt{2}}$. \n",
    "\n",
    "We can go further and claim, $\\rvert \\psi \\rangle = \\frac{1}{\\sqrt{2}}\\rvert aa\\rangle +  \\frac{1}{\\sqrt{2}}\\rvert a^\\bot a^\\bot\\rangle$ where $\\{\\rvert a\\rangle\\ , \\rvert a^\\bot\\rangle\\}$ form a orthogonal basis\n",
    "\n",
    "$P[a] = \\frac{1}{2}$, new state $\\rvert aa\\rangle$\n",
    "\n",
    "\n",
    "$P[a^\\bot] = \\frac{1}{2}$, new state $\\rvert a^\\bot a^\\bot\\rangle$\n",
    "\n",
    "Consider the bases as shown below\n",
    "\n",
    "![](nanomod17-fig1.png)\n",
    "\n",
    "\n",
    "\n",
    "\n",
    "Now consider what happens if the two qubits in the Bell pair are measured in different bases.\n",
    "If the first qubit of the Bell pair is measured in $\\{\\rvert u\\rangle,\\rvert u^\\bot\\rangle \\}$ and the outcome is the $\\rvert u \\rangle$\n",
    "the $P[u] = \\frac{1}{2}$ and the new state is $\\rvert uu \\rangle$. Therefore the second qubit is also in the state $\\rvert u \\rangle$.\n",
    "\n",
    "Now when the second qubit is measured in $\\{ \\rvert v\\rangle,\\rvert v^\\bot \\rangle \\}$ basis the outcomes will be $\\rvert v \\rangle$ and $\\rvert v^\\bot \\rangle$ with the following probabilities\n",
    "\n",
    "$P[v] = cos^2\\theta_2$\n",
    "\n",
    "$P[v^\\bot] = 1-cos^2\\theta_2$\n",
    "\n",
    "***\n",
    "Whereas if the first qubit had collapsed to $\\rvert u^\\bot \\rangle$ then the second qubit will also collapse to $\\rvert u^\\bot \\rangle$ and then the probabilities of outcomes are \n",
    "\n",
    "$P[v^\\bot] = cos^2\\theta_2$\n",
    "\n",
    "$P[v] = 1-cos^2\\theta_2$"
   ]
  },
  {
   "cell_type": "markdown",
   "metadata": {
    "slideshow": {
     "slide_type": "slide"
    }
   },
   "source": [
    "## 17.3 CHSH Inequality\n",
    "\n",
    "CHSH is a simplification of Bell’s work in 1965. It was proposed by Clauser, Horne, Shimony and Holt in 1969. Bell's inequality from 1965 showed that quantum mechanics and achieve results that cannot be achieved classically. It dispelled all the hidden variable theories that were constructed in order to provide an alternative explanation to the phenomenon such as quantum entanglement.\n",
    "\n",
    "The inequality is set up as a game between two parties Alice and Bob. Let's discuss the process.\n",
    "\n",
    "__Alice__ \n",
    "\n",
    "Input: $x \\in \\{0,1\\}$\n",
    "\n",
    "Output:   a\n",
    "\n",
    "__Bob__ \n",
    "\n",
    "Input: $y \\in \\{0,1\\}$\n",
    "\n",
    "Output:   b\n",
    "\n",
    "Alice and Bob are not allowed to see each others inputs but know that all the possibilities are equally likely. Their task is to produce matching outputs $a$ and $b$ for all the possible inputs except $x = 1$ and $ y = 1 $.\n",
    "\n",
    "Therefore, $x=y=1$, output $a\\neq b$ else $a = b$\n",
    "\n",
    "In a classical scenario their probability of “winning” the game is at most $\\frac{3}{4}$. By winning we mean meet the condition on the outputs. This can simply be achieved by either fixing $a=b=0$ or $a=b=1$."
   ]
  },
  {
   "cell_type": "markdown",
   "metadata": {
    "slideshow": {
     "slide_type": "slide"
    }
   },
   "source": [
    " \n",
    "**The question is can they do better than $\\frac{3}{4}$ using quantum mechanics?**\n",
    "\n",
    "**The answer, as you may have guessed, is : Yes**\n",
    "\n",
    "Suppose Alice and Bob share a Bell pair. We can rewrite the condition as shown in the table below,\n",
    "\n",
    "||| Alice| ||| Bob|    \n",
    "|: -- :|:--:|:--:|:--:|:--:|:--:|\n",
    "| **Bell Pair** ||✓||||✓|\n",
    "| **Input** | |$x$||||$y$|  \n",
    "| **Output** | |$a$||||$b$|   \n",
    "| **Condition:** | ||| $xy $=$ a \\oplus b$||||\n",
    "\n",
    "\n",
    "We will see that they can meet the condition with probability $cos^2 \\frac{\\pi}{8} \\approx 0.85$. Much higher than is the case with classical mechanics."
   ]
  },
  {
   "cell_type": "markdown",
   "metadata": {
    "slideshow": {
     "slide_type": "slide"
    }
   },
   "source": [
    "_Alice_\n",
    "\n",
    "Depending on the value of $x$, Alice measures her qubit (from the Bell pair) in one of two bases, say ✚ or ✖\n",
    "\n",
    "![](nanomod17-fig2.png)\n",
    "\n",
    "_Bob_\n",
    "\n",
    "Depending on the value of $y$, Bob measures his qubit in one of two bases (slightly different than Alice’s) \n",
    "\n",
    "![](nanomod17-fig3.png)"
   ]
  },
  {
   "cell_type": "markdown",
   "metadata": {
    "slideshow": {
     "slide_type": "slide"
    }
   },
   "source": [
    "The outcome of measurements are their outputs $a$ and $b$, it turns out they will meet the  condition on outputs about 85% of the time!\n",
    "\n",
    "It is easy to figure out why this is the case. Note that Alice and Bob's bases are displaced by an angle of $\\frac{\\pi}{8}$ except in the case when $x=y=1$\n",
    "\n",
    "![](nanomod17-fig4.png)\n",
    "\n",
    "\n"
   ]
  },
  {
   "cell_type": "markdown",
   "metadata": {
    "slideshow": {
     "slide_type": "slide"
    }
   },
   "source": [
    "Remember from the earlier example when we measured the qubits from a Bell pair in different bases the probability of the same outcome was $cos^2\\theta$ where $\\theta$ was the angle between the bases. \n",
    "\n",
    "Lets work out the probabilities in our CHSH game.\n",
    "\n",
    "|$x$| $y$ |$P[$same outcome$]$|$P[$different outcome$]$     \n",
    "|: -- :|:--:|:--:|:--:|\n",
    "| 0 |0|$cos^2\\frac{\\pi}{8}$| ||\n",
    "| 0 |1|$cos^2\\frac{\\pi}{8}$|  |  |   \n",
    "| 1 |0|$cos^2\\frac{\\pi}{8}$| | |\n",
    "| 1 |1|$cos^2\\frac{3\\pi}{8}$|$cos^2\\frac{\\pi}{8}$ |||\n",
    "\n",
    "As a result Alice and Bob can succeed in meeting the condition  $x y = a \\oplus b$ with probability of $cos^2\\frac{\\pi}{8}$\n",
    "\n",
    "This is not possible classically.\n",
    "\n",
    "Later we will see that this game is used to detect an eavesdropper in a quantum key distribution protocol called E91."
   ]
  },
  {
   "cell_type": "markdown",
   "metadata": {
    "slideshow": {
     "slide_type": "slide"
    }
   },
   "source": [
    "#### Final quiz can be found in finalquiz17.ipynb"
   ]
  },
  {
   "cell_type": "markdown",
   "metadata": {
    "slideshow": {
     "slide_type": "slide"
    }
   },
   "source": [
    "***\n",
    "***\n",
    "### End of Nanomodule 17\n",
    "***\n",
    "***"
   ]
  }
 ],
 "metadata": {
  "celltoolbar": "Slideshow",
  "kernelspec": {
   "display_name": "Python 3",
   "language": "python",
   "name": "python3"
  },
  "language_info": {
   "codemirror_mode": {
    "name": "ipython",
    "version": 3
   },
   "file_extension": ".py",
   "mimetype": "text/x-python",
   "name": "python",
   "nbconvert_exporter": "python",
   "pygments_lexer": "ipython3",
   "version": "3.5.2"
  }
 },
 "nbformat": 4,
 "nbformat_minor": 2
}
