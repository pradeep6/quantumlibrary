{
 "cells": [
  {
   "cell_type": "markdown",
   "metadata": {},
   "source": [
    "# Final Quiz 17\n",
    "\n",
    "### nanomodule 17\n",
    "\n",
    "#### Name: ________________"
   ]
  },
  {
   "cell_type": "markdown",
   "metadata": {
    "slideshow": {
     "slide_type": "slide"
    }
   },
   "source": [
    "17.1 We have two qubits originally in the state $\\rvert0+\\rangle$ (which means that the first qubit is in $\\rvert0\\rangle$ and the second qubit is in $\\rvert+\\rangle$), which we want to entangle by performing a measurement. Which of the following measurements should we perform?\n",
    "\n",
    "   1. $\\rvert00\\rangle$, $\\rvert01\\rangle$, $\\rvert10\\rangle$, $\\rvert11\\rangle$\n",
    "   <br><br>\n",
    "   2. $\\rvert++\\rangle$, $\\rvert+-\\rangle$, $\\rvert-+\\rangle$, $\\rvert--\\rangle$\n",
    "   <br><br>\n",
    "   3. $\\rvert0+\\rangle$, $\\rvert0-\\rangle$, $\\rvert1+\\rangle$, $\\rvert1-\\rangle$\n",
    "   <br><br>\n",
    "   4. $\\frac{1}{\\sqrt{2}}\\rvert00\\rangle+\\frac{1}{\\sqrt{2}}\\rvert11\\rangle$, $\\frac{1}{\\sqrt{2}}\\rvert00\\rangle-\\frac{1}{\\sqrt{2}}\\rvert11\\rangle$, $\\frac{1}{\\sqrt{2}}\\rvert01\\rangle+\\frac{1}{\\sqrt{2}}\\rvert10\\rangle$, $\\frac{1}{\\sqrt{2}}\\rvert01\\rangle-\\frac{1}{\\sqrt{2}}\\rvert10\\rangle$\n",
    "   <br><br>\n",
    "   5. There is no way to entangle two qubits by a measurement.\n",
    "\n",
    "(Credit: Umesh Vazirani, University of California, Berkley, MOOC on edX)"
   ]
  },
  {
   "cell_type": "markdown",
   "metadata": {
    "slideshow": {
     "slide_type": "slide"
    }
   },
   "source": [
    "17.2 Again we have two qubits in the state $\\rvert0+\\rangle$, but this time we want to entangle them by performing a partial measurement on the first qubit. Which of the following measurements should we perform on the first qubit?\n",
    "\n",
    "   1. $\\rvert0\\rangle$, $\\rvert1\\rangle$\n",
    "   2. $\\rvert+\\rangle$, $\\rvert-\\rangle$\n",
    "   3. $\\frac{1}{\\sqrt{2}}\\rvert0\\rangle+\\frac{i}{\\sqrt{2}}\\rvert1\\rangle$, $-\\frac{i}{\\sqrt{2}}\\rvert0\\rangle-\\frac{1}{\\sqrt{2}}\\rvert1\\rangle$\n",
    "   4. $\\frac{1}{\\sqrt{2}}\\rvert0\\rangle-\\frac{i}{\\sqrt{2}}\\rvert1\\rangle$, $\\frac{i}{\\sqrt{2}}\\rvert0\\rangle-\\frac{1}{\\sqrt{2}}\\rvert1\\rangle$\n",
    "   5. There is no way to entangle two qubits by a partial measurement.\n",
    "   \n",
    "(Credit: Umesh Vazirani, University of California, Berkley, MOOC on edX)"
   ]
  },
  {
   "cell_type": "markdown",
   "metadata": {},
   "source": [
    "### End of final quiz 17"
   ]
  }
 ],
 "metadata": {
  "celltoolbar": "Slideshow",
  "kernelspec": {
   "display_name": "Python 3",
   "language": "python",
   "name": "python3"
  },
  "language_info": {
   "codemirror_mode": {
    "name": "ipython",
    "version": 3
   },
   "file_extension": ".py",
   "mimetype": "text/x-python",
   "name": "python",
   "nbconvert_exporter": "python",
   "pygments_lexer": "ipython3",
   "version": "3.5.2"
  }
 },
 "nbformat": 4,
 "nbformat_minor": 2
}
