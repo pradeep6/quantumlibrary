{
 "cells": [
  {
   "cell_type": "code",
   "execution_count": 1,
   "metadata": {
    "scrolled": true,
    "slideshow": {
     "slide_type": "skip"
    }
   },
   "outputs": [],
   "source": [
    "#It is important to run this cell before starting with this notebook\n",
    "#All imports are put here\n",
    "#from IPython.core.display import HTML\n",
    "import qutip as qt\n",
    "import numpy as np\n",
    "import ipywidgets as widgets   #you have to enable extensions for jupyter notebook after installing\n",
    "import sys\n",
    "from ipywidgets import interact\n",
    "\n",
    "import matplotlib.pyplot as plt"
   ]
  },
  {
   "cell_type": "markdown",
   "metadata": {
    "slideshow": {
     "slide_type": "slide"
    }
   },
   "source": [
    "# 12. Visualizing a qubit\n",
    "\n",
    "### nanomodule 12 - micromodule 1 - module 1"
   ]
  },
  {
   "cell_type": "markdown",
   "metadata": {
    "slideshow": {
     "slide_type": "slide"
    }
   },
   "source": [
    "## 12.1 Bloch Sphere\n",
    "\n",
    "Qubits have an interesting three dimensional interpretation. Called the <b><i>Bloch sphere</i></b> every qubit can be thought of as a point on its surface and every operation as rotation of the sphere. It, however, works only for a single qubit. For multiple qubits, it becomes very difficult to visualize higher dimensions.\n",
    "\n",
    "Let's start from our Ket notation and figure out how to map it onto a Block sphere. Consider a generic qubit $|\\psi\\rangle = \\alpha|0\\rangle+\\beta|1\\rangle$ where $|\\alpha|^2+|\\beta|^2=1$. A three dimensional ball of finite radius (here radius is 1) has only two degrees of freedom (think plant Earth with latitude and longitude). Here, we will use the angles the vector representing a qubit makes with the $x$ and the $z$ axis.\n",
    "\n",
    "Rewriting $\\alpha$ and $\\beta$ in the polar form, $\\alpha=r_0e^{i\\phi_0}$ and $\\beta=r_1e^{i\\phi_1}$ and so,\n",
    "$$|\\psi\\rangle=r_0e^{i\\phi_0}|0\\rangle+r_1e^{i\\phi_1}|1\\rangle$$\n",
    "\n",
    "There are still four real parameters: $r_0, r_1, \\phi_0$, and $\\phi_1$."
   ]
  },
  {
   "cell_type": "markdown",
   "metadata": {
    "slideshow": {
     "slide_type": "slide"
    }
   },
   "source": [
    "## Block Sphere Contd.\n",
    "\n",
    "We know that multiplying a qubit with a complex number, eg. $c|\\psi\\rangle$ does not change the physical state of the qubit therefore we will multiply our expression above with $c=e^{-i\\phi_0}$ and remove the phase attached to state $|0\\rangle$.\n",
    "\n",
    "$$e^{-i\\phi_0}|\\psi\\rangle=e^{-i\\phi_0}(r_0e^{i\\phi_0}|0\\rangle+r_1e^{i\\phi_1}|1\\rangle)=r_0|0\\rangle+r_1e^{i(\\phi_1-\\phi_0)}|1\\rangle$$\n",
    "\n",
    "We now have only three real parameters left $r_0, r_1$, and $\\phi=\\phi_0-\\phi_1$.\n",
    "\n",
    "Given that $|\\alpha|^2+|\\beta|^2=1 \\implies |r_0e^{i\\phi_0}|^2+|r_1e^{i\\phi_1}|^2 = 1 \\implies  |r_0|^2|e^{i\\phi_0}|^2+|r_1|^2|e^{i\\phi_1}|^2=1$.\n",
    "\n",
    "We, therefore, get $r_0^2+r_1^2=1$."
   ]
  },
  {
   "cell_type": "markdown",
   "metadata": {
    "slideshow": {
     "slide_type": "slide"
    }
   },
   "source": [
    "## Block Sphere Contd.\n",
    "\n",
    "If we rename them as $r_0=cos(\\theta)$ and $r_1=sin(\\theta)$. Substituting we get,\n",
    "\n",
    "$$|\\psi\\rangle=cos(\\theta)|0\\rangle+e^{i\\phi}sin(\\theta)|1\\rangle$$\n",
    "\n",
    "which only has two free parameters $\\theta$ and $\\phi$. Therefore, the qubit can then be plotted in a Bloch sphere as shown in the interactive simulation below.\n",
    "\n",
    "We see in the simulation below that $0\\leq\\phi<2\\pi$ and $0\\leq\\theta<\\frac{\\pi}{2}$ are enough to cover all possible qubits. Given just $\\theta$ and $\\phi$ we can compute $x,y$, and $z$ as follows,\n",
    "$$x=cos(\\phi)\\cdot sin(2\\theta)$$\n",
    "$$y=sin(2\\theta)\\cdot sin(\\phi)$$\n",
    "$$z=cos(2\\theta)$$"
   ]
  },
  {
   "cell_type": "code",
   "execution_count": 2,
   "metadata": {
    "slideshow": {
     "slide_type": "slide"
    }
   },
   "outputs": [],
   "source": [
    "def ket_to_bloch(t,p):\n",
    "    r = 1    #radius of the vector, 1 for block sphere\n",
    "    x = r * np.cos(p) * np.sin(2*t)\n",
    "    y = r * np.sin(2*t) * np.sin(p)\n",
    "    z = r * np.cos(2*t)\n",
    "    return [x,y,z]\n",
    "\n",
    "def displayBlochSphere(theta=45, phi=45, azimuth=-60, elevation=30 ):\n",
    "    bs = qt.Bloch()\n",
    "    bs.view = [azimuth, elevation]\n",
    "    t=theta*np.pi/180   #convert to radians\n",
    "    p=phi*np.pi/180     #convert to radians\n",
    "    vec=ket_to_bloch(t,p)    \n",
    "    bs.add_vectors(vec)\n",
    "    bs.show()"
   ]
  },
  {
   "cell_type": "code",
   "execution_count": 3,
   "metadata": {
    "slideshow": {
     "slide_type": "slide"
    }
   },
   "outputs": [
    {
     "data": {
      "application/vnd.jupyter.widget-view+json": {
       "model_id": "36e0947e74c544c0afee596c664227ee",
       "version_major": 2,
       "version_minor": 0
      },
      "text/plain": [
       "interactive(children=(IntSlider(value=45, description='theta', max=90, step=5), IntSlider(value=45, descriptio…"
      ]
     },
     "metadata": {},
     "output_type": "display_data"
    },
    {
     "data": {
      "text/plain": [
       "<function __main__.displayBlochSphere(theta=45, phi=45, azimuth=-60, elevation=30)>"
      ]
     },
     "execution_count": 3,
     "metadata": {},
     "output_type": "execute_result"
    }
   ],
   "source": [
    "#Run this cell to simulate an interactive Bloch sphere\n",
    "interact(displayBlochSphere, theta=(0,90,5), phi=(0,360,10), azimuth=(-180,180,10), elevation=(0,180,10))"
   ]
  },
  {
   "cell_type": "markdown",
   "metadata": {
    "slideshow": {
     "slide_type": "slide"
    }
   },
   "source": [
    "## Geometry of Bloch Sphere\n",
    "\n",
    "As can be seen from the simulation, the north pole of the sphere corresponds to $|0\\rangle$ and its polar opposite, south pole, is the state $|1\\rangle$. Further, $\\phi$ is the angle that $|\\psi\\rangle$ makes with the $z$ axis and $\\theta$ is the angle that $|\\psi\\rangle$ makes from the $x$ axis along the equator."
   ]
  },
  {
   "cell_type": "markdown",
   "metadata": {
    "slideshow": {
     "slide_type": "slide"
    }
   },
   "source": [
    "## 12.2 Simple 2-D representation\n",
    "\n",
    "Since the global phase of the qubit has no measureable effect, often we will use a simple 2D representation of the qubit as shown below. The vector represents the qubit in a unit circle. Therefore, we are assuming that qubits are normalized."
   ]
  },
  {
   "cell_type": "code",
   "execution_count": 7,
   "metadata": {
    "slideshow": {
     "slide_type": "slide"
    }
   },
   "outputs": [],
   "source": [
    "def ket_to_bloch2d(p):\n",
    "    r = 1    #radius of the vector, 1 for block sphere\n",
    "    x = r * np.cos(p)\n",
    "    y = r * np.sin(p)\n",
    "    z = 0\n",
    "    return [x,y,z]\n",
    "\n",
    "def displayUnitCircle2d(phi):\n",
    "    bs = qt.Bloch()\n",
    "    bs.view = [180, 90]\n",
    "    bs.zlabel = ['','']\n",
    "    p=phi*np.pi/180     #convert to radians\n",
    "    vec=ket_to_bloch2d(p)    \n",
    "    bs.add_vectors(vec)\n",
    "    bs.show()"
   ]
  },
  {
   "cell_type": "code",
   "execution_count": 8,
   "metadata": {
    "scrolled": false,
    "slideshow": {
     "slide_type": "slide"
    }
   },
   "outputs": [
    {
     "data": {
      "application/vnd.jupyter.widget-view+json": {
       "model_id": "2072a1274e1a4f4793a596b6eb1bbba1",
       "version_major": 2,
       "version_minor": 0
      },
      "text/plain": [
       "interactive(children=(IntSlider(value=180, description='phi', max=360, step=10), Output()), _dom_classes=('wid…"
      ]
     },
     "metadata": {},
     "output_type": "display_data"
    },
    {
     "data": {
      "text/plain": [
       "<function __main__.displayUnitCircle2d(phi)>"
      ]
     },
     "execution_count": 8,
     "metadata": {},
     "output_type": "execute_result"
    }
   ],
   "source": [
    "#Run this cell to simulate an interactive unit circle\n",
    "interact(displayUnitCircle2d, phi=(0,360,10))"
   ]
  },
  {
   "cell_type": "code",
   "execution_count": 6,
   "metadata": {
    "slideshow": {
     "slide_type": "slide"
    }
   },
   "outputs": [],
   "source": [
    "def displayUnitCircle(phi=0):\n",
    "    ρ = 1\n",
    "    φ = phi*np.pi/180\n",
    "    plt.polar()\n",
    "    plt.ylim(0, 1)\n",
    "    plt.tick_params(labelleft=False)\n",
    "    plt.annotate(\"\", xy=(φ, ρ), xytext=(0,0), arrowprops=dict(arrowstyle=\"-|>\"))\n",
    "    plt.show()"
   ]
  },
  {
   "cell_type": "code",
   "execution_count": 6,
   "metadata": {
    "slideshow": {
     "slide_type": "slide"
    }
   },
   "outputs": [
    {
     "ename": "NameError",
     "evalue": "name 'displayUnitCircle' is not defined",
     "output_type": "error",
     "traceback": [
      "\u001b[0;31m---------------------------------------------------------------------------\u001b[0m",
      "\u001b[0;31mNameError\u001b[0m                                 Traceback (most recent call last)",
      "\u001b[0;32m<ipython-input-6-fee2a27cc28f>\u001b[0m in \u001b[0;36m<module>\u001b[0;34m\u001b[0m\n\u001b[1;32m      1\u001b[0m \u001b[0;31m#Run this cell to simulate an interactive unit circle\u001b[0m\u001b[0;34m\u001b[0m\u001b[0;34m\u001b[0m\u001b[0;34m\u001b[0m\u001b[0m\n\u001b[0;32m----> 2\u001b[0;31m \u001b[0minteract\u001b[0m\u001b[0;34m(\u001b[0m\u001b[0mdisplayUnitCircle\u001b[0m\u001b[0;34m,\u001b[0m \u001b[0mphi\u001b[0m\u001b[0;34m=\u001b[0m\u001b[0;34m(\u001b[0m\u001b[0;36m0\u001b[0m\u001b[0;34m,\u001b[0m\u001b[0;36m360\u001b[0m\u001b[0;34m,\u001b[0m\u001b[0;36m5\u001b[0m\u001b[0;34m)\u001b[0m\u001b[0;34m)\u001b[0m\u001b[0;34m\u001b[0m\u001b[0;34m\u001b[0m\u001b[0m\n\u001b[0m",
      "\u001b[0;31mNameError\u001b[0m: name 'displayUnitCircle' is not defined"
     ]
    }
   ],
   "source": [
    "#Run this cell to simulate an interactive unit circle\n",
    "interact(displayUnitCircle, phi=(0,360,5))"
   ]
  },
  {
   "cell_type": "code",
   "execution_count": null,
   "metadata": {},
   "outputs": [],
   "source": []
  }
 ],
 "metadata": {
  "celltoolbar": "Slideshow",
  "kernelspec": {
   "display_name": "Python 3",
   "language": "python",
   "name": "python3"
  },
  "language_info": {
   "codemirror_mode": {
    "name": "ipython",
    "version": 3
   },
   "file_extension": ".py",
   "mimetype": "text/x-python",
   "name": "python",
   "nbconvert_exporter": "python",
   "pygments_lexer": "ipython3",
   "version": "3.7.2"
  }
 },
 "nbformat": 4,
 "nbformat_minor": 2
}
