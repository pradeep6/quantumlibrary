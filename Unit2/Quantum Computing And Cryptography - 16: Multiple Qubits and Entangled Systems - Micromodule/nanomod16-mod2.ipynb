{
 "cells": [
  {
   "cell_type": "markdown",
   "metadata": {},
   "source": [
    "# 16. Multiple Qubits and Entangled Systems\n",
    "\n",
    "### This lesson belongs to nanmodule 16 - module 2\n",
    "\n",
    "**Learning Outcomes:**\n",
    "\n",
    "1. Students will be able to create joint state representations of quantum systems with multiple qubits.\n",
    "2. Students will understand the notion of entangled quantum systems.\n",
    "3. Students will be able to perform measurements on joint quantum states.\n",
    "4. Students will be able to perform partial-measurements on joint quantum states."
   ]
  },
  {
   "cell_type": "markdown",
   "metadata": {},
   "source": [
    "## 16.1 Two Qubit Systems\n",
    "\n",
    "Consider two qubits each of which can be in $\\rvert 0\\rangle$ or $\\rvert 1\\rangle$ state. Therefore, according to the superposition principle taken together these two qubits can be in superposition of possible states: $\\rvert 00\\rangle$, $\\rvert 01\\rangle$, $\\rvert 10\\rangle$, and $\\rvert 11\\rangle$ and can be written as \n",
    "\n",
    "$\\rvert \\psi \\rangle = \\alpha_{00} \\rvert00\\rangle + \\alpha_{01} \\rvert01\\rangle+\\alpha_{10} \\rvert10\\rangle+\\alpha_{11} \\rvert11\\rangle$\n",
    "\n",
    "$\\alpha_{ij} \\in \\mathbb{C}$ and $\\sum \\rvert\\alpha_{ij}\\rvert^2 = 1$\n"
   ]
  },
  {
   "cell_type": "markdown",
   "metadata": {},
   "source": [
    "## 16.2 Measurement\n",
    "Now when you measure these qubits they will collapse to one of the four possibilities with the following probability:\n",
    "\n",
    "$P [00] = \\rvert\\alpha_{00}\\rvert^2$, new state $ \\rvert 00 \\rangle$\n",
    "\n",
    "$P [01] = \\rvert\\alpha_{01}\\rvert^2$, new state $ \\rvert 01 \\rangle$\n",
    "\n",
    "$P [10] = \\rvert\\alpha_{10}\\rvert^2$, new state $ \\rvert 10 \\rangle$\n",
    "\n",
    "$P [11] = \\rvert\\alpha_{11}\\rvert^2$, new state $ \\rvert 11 \\rangle$\n",
    "\n",
    "For example,\n",
    "\n",
    "$\\rvert \\psi \\rangle = \\frac{1}{2} \\rvert00\\rangle + (\\frac{1}{2} + \\frac{i}{2}) \\rvert10\\rangle - \\frac{i}{2} \\rvert11\\rangle\n",
    "$\n",
    "\n",
    "Then,\n",
    "\n",
    "$P [00] = \\frac{1}{4}$\n",
    "\n",
    "$P [10]= \\frac{1}{2}$\n",
    "\n",
    "$P [11]= \\frac{1}{4}$\n",
    "\n"
   ]
  },
  {
   "cell_type": "markdown",
   "metadata": {},
   "source": [
    "## 16.3 Partial Measurement \n",
    "\n",
    "Again assume you have two qubits.\n",
    "\n",
    "In general form these are represented as:\n",
    "\n",
    "$\\rvert \\psi \\rangle = \\alpha_{00} \\rvert00\\rangle + \\alpha_{01} \\rvert01\\rangle+\\alpha_{10} \\rvert10\\rangle+\\alpha_{11} \\rvert11\\rangle$\n",
    "\n",
    "Now instead of measuring both the qubits what if we only measure the first qubit. What is the probability that we see a 0 for the first qubit? \n",
    "\n",
    "**In short the answer is:** The probability of seeing a 0 on the first qubit is the same as the probability of seeing a 0 if we measured both the qubits. This turns out to be $P[0] = \\rvert\\alpha_{00}\\rvert^2 +\\rvert\\alpha_{01}\\rvert^2 $\n",
    "\n",
    "Now the new state, after measuring the first qubit, can be computed by dropping the terms in $\\rvert \\psi \\rangle$ that cannot result in a 0 for the first qubit.\n",
    "\n",
    "Therefore, the new state is $\\rvert \\psi' \\rangle = \\alpha_{00} \\rvert00\\rangle + \\alpha_{01} \\rvert01\\rangle$.\n",
    "\n",
    "But you will notice that this is not normalized.\n",
    "\n",
    "Therefore, the normalized new state is $\\rvert \\psi' \\rangle = \\frac{\\alpha_{00} \\rvert00\\rangle + \\alpha_{01} \\rvert01\\rangle}{\\sqrt{\\rvert\\alpha_{00}\\rvert^2 +\\rvert\\alpha_{01}\\rvert^2 }}$"
   ]
  },
  {
   "cell_type": "markdown",
   "metadata": {},
   "source": [
    "### Example\n",
    "\n",
    "Consider the state we had earlier, $\\rvert \\psi \\rangle = \\frac{1}{2} \\rvert00\\rangle + (\\frac{1}{2} + \\frac{i}{2}) \\rvert10\\rangle - \\frac{i}{2} \\rvert11\\rangle$\n",
    "\n",
    "$P[0$ on the first qubit$]$ $=$ $\\rvert\\frac{1}{2}\\rvert^2 = \\frac{1}{4}$\n",
    "\n",
    "$P[1$ on the first qubit$]$  $=$ $ \\rvert\\frac{1}{2}+\\frac{i}{2}\\rvert^2 + \\rvert \\frac{-i}{2} \\rvert^2$ $ =\\frac{1}{2}+\\frac{1}{4}$ $ =\\frac{3}{4}$\n",
    "\n",
    "If we get a 0 then the new state is,\n",
    "\n",
    "$\\rvert \\psi' \\rangle = \\frac{\\frac{1}{2}\\rvert 00 \\rangle}{\\sqrt{\\frac{1}{4}}} = \\rvert00\\rangle$\n",
    "\n",
    "If we get a 1 then the new state is,\n",
    "\n",
    "\n",
    "$\\rvert \\psi' \\rangle = \\frac{(\\frac{1}{2} + \\frac{i}{2})\\rvert 10 \\rangle - \\frac{i}{2}\\rvert11\\rangle}{\\sqrt{\\frac{3}{4}}} = \\rvert00\\rangle$\n",
    "***"
   ]
  },
  {
   "cell_type": "markdown",
   "metadata": {},
   "source": [
    "## Quiz 16.1 Self Assessment Quiz\n",
    "\n",
    "1. Compute the measurement probability for all possible outcomes\n",
    "\n",
    "    (i) $\\frac{1}{2} \\big( \\rvert 00 \\rangle - \\rvert 01 \\rangle + \\rvert 10 \\rangle - \\rvert 11 \\rangle \\big)$\n",
    "\n",
    "    (ii) $\\frac{7}{10}\\rvert 00 \\rangle + \\frac{1}{10} \\rvert 01 \\rangle + \\frac{1}{10}\\rvert 10 \\rangle + \\frac{7}{10} \\rvert 11 \\rangle $\n",
    "\n",
    "    (iii) $\\frac{1}{\\sqrt{2}} \\big( \\rvert 00 \\rangle - i\\rvert 11 \\rangle \\big)$\n",
    "\n",
    "    (iv) $\\frac{1}{2\\sqrt{2}} \\rvert 00 \\rangle + \\frac{i}{2\\sqrt{2}}\\rvert 01 \\rangle + \\frac{\\sqrt{3}}{2\\sqrt{2}}\\rvert 10 \\rangle + \\frac{i \\sqrt{3}}{2\\sqrt{2}}\\rvert 11 \\rangle$\n",
    "\n",
    "    (v) $\\frac{1}{2} \\rvert 00 \\rangle + \\frac{i}{2} \\rvert 01 \\rangle + \\frac{1}{\\sqrt{2}} \\rvert 11 \\rangle$\n",
    "<br><br>\n",
    "2. For each of the qubits in problem 1 compute the probability of outcomes when only first qubit is measured, what is the final state of the system.\n",
    "<br><br>\n",
    "3. Now measure the second qubit. What are probabilities of outcomes and what is the final state of the system? Do this for qubits (iv) and (v) in problem 1.\n",
    "***"
   ]
  },
  {
   "cell_type": "markdown",
   "metadata": {},
   "source": [
    "## 16.4 Entangled Systems \n",
    "\n",
    "Assume you have two qubits \n",
    "\n",
    "$\\rvert \\psi_1 \\rangle = \\alpha_0\\rvert0\\rangle + \\alpha_1\\rvert1\\rangle$ and $\\rvert \\psi_2 \\rangle = \\beta_0\\rvert0\\rangle + \\beta_1\\rvert1\\rangle$\n",
    "\n",
    "\n",
    "Now the state of the composite system, as we learned earlier, is a tensor product of these two qubit states.\n",
    "\n",
    "$\\rvert \\psi \\rangle = (\\alpha_0\\rvert0\\rangle + \\alpha_1\\rvert1\\rangle)\\otimes(\\beta_0\\rvert0\\rangle + \\beta_1\\rvert1\\rangle) = \\alpha_0\\beta_0\\rvert00\\rangle + \\alpha_0\\beta_1\\rvert01\\rangle + \\alpha_1\\beta_0\\rvert10\\rangle + \\alpha_1\\beta_1\\rvert11\\rangle$\n",
    "\n",
    "__Example__\n",
    "\n",
    "$\\rvert \\psi_1 \\rangle = \\frac{1}{\\sqrt{2}}\\rvert0\\rangle + \\frac{1}{\\sqrt{2}}\\rvert1\\rangle$\n",
    "\n",
    "$\\rvert \\psi_2 \\rangle = \\frac{i}{2}\\rvert0\\rangle + \\frac{\\sqrt{3}}{2}\\rvert1\\rangle$\n",
    "\n",
    "\n",
    "\n",
    "Then the composite system is written as.\n",
    "$\\rvert \\psi \\rangle = \\rvert \\psi_1 \\rangle \\otimes\\rvert \\psi_2 \\rangle = \\rvert \\psi_1 \\rangle\\rvert \\psi_2 \\rangle=\\rvert \\psi_1 \\psi_2 \\rangle$\n",
    "\n",
    "$ = (\\frac{1}{\\sqrt{2}}\\rvert0\\rangle + \\frac{1}{\\sqrt{2}}\\rvert1\\rangle)(\\frac{i}{2}\\rvert0\\rangle + \\frac{\\sqrt{3}}{2}\\rvert1\\rangle)  $\n",
    "\n",
    "$ = \\frac{i}{2\\sqrt{2}}\\rvert00\\rangle + \\frac{\\sqrt{3}}{2\\sqrt{2}}\\rvert01\\rangle + \\frac{i}{2\\sqrt{2}}\\rvert10\\rangle + \\frac{\\sqrt{3}}{2\\sqrt{2}}\\rvert11\\rangle$\n",
    "\n"
   ]
  },
  {
   "cell_type": "markdown",
   "metadata": {},
   "source": [
    "## 16.5 Can we ask the reverse question?\n",
    "\n",
    "Given a general two qubit state can it be decomposed into a tensor product of two individual qubit states? In the above example it is true but in general it turns out that such a decomposition is not always possible.\n",
    "\n",
    "Let's see an example.\n",
    "\n",
    "Consider the Bell state\n",
    "\n",
    "1)   $\\rvert \\psi \\rangle = \\frac{1}{\\sqrt{2}}\\rvert00\\rangle +\\frac{1}{\\sqrt{2}}\\rvert11\\rangle $\n",
    "\n",
    "Let us compare this state with the tensor product of two qubits\n",
    "\n",
    "2) $(\\alpha_0\\rvert0\\rangle + \\alpha_1\\rvert1\\rangle)\\otimes(\\beta_0\\rvert0\\rangle + \\beta_1\\rvert1\\rangle)$\n",
    "\n",
    "  $= \\alpha_0\\beta_0\\rvert00\\rangle + \\alpha_0\\beta_1\\rvert01\\rangle + \\alpha_1\\beta_0\\rvert10\\rangle + \\alpha_1\\beta_1\\rvert11\\rangle$\n",
    "\n",
    "From equations 1 and 2 above\n",
    "\n",
    "$\\alpha_1\\beta_1 = \\alpha_0\\beta_0 = \\frac{1}{\\sqrt{2}}$\n",
    "\n",
    "which  implies $\\alpha_0,\\beta_0,\\alpha_1,\\beta_1$ are all non-zero\n",
    "\n",
    "However, both $\\alpha_0\\beta_1 = 0$ and $\\alpha_1\\beta_0 = 0$\n",
    "\n",
    "which implies either $\\alpha_0 = 0$ or $\\beta_1 = 0$ and either $\\alpha_1 = 0$ or $\\beta_0 = 0$.\n",
    "\n",
    "\n",
    "This is a contradiction and therefore Bell state $\\rvert \\psi \\rangle = \\frac{1}{\\sqrt{2}}\\rvert00\\rangle +\\frac{1}{\\sqrt{2}}\\rvert11\\rangle$ cannot be decomposed into tensor product of two individual qubit states. \n"
   ]
  },
  {
   "cell_type": "markdown",
   "metadata": {},
   "source": [
    "## 16.6 Measuring the Bell state\n",
    "\n",
    "Again consider the Bell state,\n",
    "\n",
    "$\\frac{\\rvert00\\rangle +\\rvert11\\rangle}{\\sqrt{2}} $\n",
    "\n",
    "Even if one of the particles of this state is on earth and another is on Jupiter, the states will remain entangled. Now if we measure the particle on Earth, the probabilities of 0 and 1 are as follows, \n",
    "\n",
    "\n",
    "$P[0] = \\frac{1}{2}$ and $\\rvert \\psi' \\rangle = \\rvert 00 \\rangle$ is the new state\n",
    "\n",
    "$P[1] = \\frac{1}{2}$ and $\\rvert \\psi' \\rangle = \\rvert 11 \\rangle$ is the new state\n",
    "\n",
    "As we can see the act of measuring the Earth particle has instantaneously collapsed the particle on Jupiter to the same exact state.\n",
    "\n",
    "This is a troubling phenomenon because the effect measurement has instantaneously traveled to Jupiter (faster than the speed of light). Einstein, Podolsky and Rosen discovered the phenomenon and presented it as a contradiction to the theory of relativity. \n",
    "\n",
    "However, later it was understood that this can not be used to send any meaningful information faster than light and is one of the major ***no-go theorems*** in quantum mechanics. \n",
    "\n",
    "***"
   ]
  },
  {
   "cell_type": "markdown",
   "metadata": {},
   "source": [
    "## Quiz 16.2 Self Assessment Quiz\n",
    "\n",
    "1. Entanglement is not an absolute property of the system. It depends on particular decomposition. For example, a four qubit state that is entangled with respect to single qubit decomposition may not be entangled with respect to two qubit decomposition.\n",
    "\n",
    "    Check this for the following state.\n",
    "\n",
    "    $\\rvert \\psi \\rangle = \\frac{1}{2} \\big( \\rvert 0000 \\rangle + \\rvert 0101 \\rangle + \\rvert 1010\\rangle + \\rvert 1111 \\rangle \\big)$\n",
    "<br><br>\n",
    "2. Is the state $\\frac{1}{\\sqrt{2}} \\big( \\rvert 0 \\rangle \\rvert + \\rangle + \\rvert 1 \\rangle \\rvert - \\rangle \\big)$ entangled?\n",
    "***"
   ]
  },
  {
   "cell_type": "markdown",
   "metadata": {},
   "source": [
    "#### Final Quiz 16 is in a separate notebook with filename: finalquiz16.ipynb.\n",
    "Final quiz is intended to be completed and submitted to the instructor for grading."
   ]
  },
  {
   "cell_type": "markdown",
   "metadata": {},
   "source": [
    "***\n",
    "***\n",
    "### End of nanomodule 16\n",
    "***\n",
    "***"
   ]
  }
 ],
 "metadata": {
  "kernelspec": {
   "display_name": "Python 3",
   "language": "python",
   "name": "python3"
  },
  "language_info": {
   "codemirror_mode": {
    "name": "ipython",
    "version": 3
   },
   "file_extension": ".py",
   "mimetype": "text/x-python",
   "name": "python",
   "nbconvert_exporter": "python",
   "pygments_lexer": "ipython3",
   "version": "3.5.2"
  }
 },
 "nbformat": 4,
 "nbformat_minor": 2
}
