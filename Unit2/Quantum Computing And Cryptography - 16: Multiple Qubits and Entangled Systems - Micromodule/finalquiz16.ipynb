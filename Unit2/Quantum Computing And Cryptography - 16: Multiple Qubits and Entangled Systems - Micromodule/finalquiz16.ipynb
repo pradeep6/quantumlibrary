{
 "cells": [
  {
   "cell_type": "markdown",
   "metadata": {},
   "source": [
    "# Final Quiz 16\n",
    "\n",
    "### nanomodule 16\n",
    "\n",
    "#### Name: ________________"
   ]
  },
  {
   "cell_type": "markdown",
   "metadata": {},
   "source": [
    "<b>16.1 Compute the probabilities of measurement for all possible outcomes for joint qubit states.</b>\n",
    "\n",
    "a. $\\frac{1}{2}(\\rvert00\\rangle-\\rvert10\\rangle-\\rvert01\\rangle-i\\rvert11\\rangle)$\n",
    "\n",
    "b. $\\left(\\frac{i}{2\\sqrt{2}}\\rvert0\\rangle+\\frac{\\sqrt{7}}{2\\sqrt{2}}\\rvert1\\rangle\\right)\\otimes\\left(\\frac{1}{\\sqrt{2}}(\\rvert0\\rangle+\\rvert1\\rangle)\\right)$\n",
    "\n",
    "c. $\\left(\\frac{\\rvert0\\rangle+i\\rvert1\\rangle}{\\sqrt{2}}\\right)\\otimes\\left(\\frac{\\rvert0\\rangle-i\\rvert1\\rangle}{\\sqrt{2}}\\right)$\n",
    "\n",
    "d. $\\frac{1}{\\sqrt{3}}\\rvert00\\rangle+\\frac{2}{\\sqrt{3}}\\rvert11\\rangle$"
   ]
  },
  {
   "cell_type": "markdown",
   "metadata": {},
   "source": [
    "<b>16.2 Measure only the second qubit in the basis given below. What are the probabilities of outcome and the final state of the system?</b>\n",
    "\n",
    "Measurement basis:\n",
    "\n",
    "a. Hadamard\n",
    "\n",
    "b. Rectilinear"
   ]
  },
  {
   "cell_type": "markdown",
   "metadata": {},
   "source": [
    "<b>16.3 Which ones of the following multi-qubit systems are entangled? For the systems that are not entangled, decompose them into tensor product of two or more quantum system states.</b>\n",
    "\n",
    "a. $\\frac{\\rvert001\\rangle+\\rvert010\\rangle}{\\sqrt{2}}$\n",
    "\n",
    "b. $\\frac{\\rvert001\\rangle+\\rvert010\\rangle+i\\rvert101\\rangle+i\\rvert110\\rangle}{2}$\n",
    "\n",
    "c. $\\frac{1}{2}\\left(\\rvert0010\\rangle-\\rvert0001\\rangle+\\rvert1110\\rangle-\\rvert1101\\rangle\\right)$\n",
    "\n",
    "d. $\\frac{1}{2}\\left(\\rvert0+\\rangle-\\rvert01\\rangle+\\rvert1+\\rangle-\\rvert11\\rangle\\right)$"
   ]
  },
  {
   "cell_type": "markdown",
   "metadata": {},
   "source": [
    "### End of final quiz 16"
   ]
  },
  {
   "cell_type": "code",
   "execution_count": null,
   "metadata": {},
   "outputs": [],
   "source": []
  }
 ],
 "metadata": {
  "celltoolbar": "Slideshow",
  "kernelspec": {
   "display_name": "Python 3",
   "language": "python",
   "name": "python3"
  },
  "language_info": {
   "codemirror_mode": {
    "name": "ipython",
    "version": 3
   },
   "file_extension": ".py",
   "mimetype": "text/x-python",
   "name": "python",
   "nbconvert_exporter": "python",
   "pygments_lexer": "ipython3",
   "version": "3.5.2"
  }
 },
 "nbformat": 4,
 "nbformat_minor": 2
}
