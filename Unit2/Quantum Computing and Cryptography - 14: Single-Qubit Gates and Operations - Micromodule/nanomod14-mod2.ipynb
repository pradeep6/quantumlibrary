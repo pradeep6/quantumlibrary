{
 "cells": [
  {
   "cell_type": "markdown",
   "metadata": {
    "slideshow": {
     "slide_type": "slide"
    }
   },
   "source": [
    "# 14. Single-Qubit Gates and Operations\n",
    "\n",
    "### This lesson belongs to nanomodule 14 - micromodule 2 - module 1\n",
    "\n",
    "<b>Learning Outcomes: </b>\n",
    "\n",
    "Upon completion of this lesson:\n",
    "\n",
    "14.1 Students will understand and will be able to apply common single-qubit operations (gates).\n",
    "\n",
    "14.2 Students will be able to build sequential quantum circuits for single qubits.\n",
    "\n",
    "14.3 Students will be able to compute the effect of given sequential quantum circuit on a qubit."
   ]
  },
  {
   "cell_type": "markdown",
   "metadata": {
    "slideshow": {
     "slide_type": "slide"
    }
   },
   "source": [
    "## 14.1 Transformations on Qubits\n",
    "\n",
    "So far, we've seen some basic operations on qubits. We've eluded to the ability to apply NOT and identity operations and that all the quantum operations can be represented using unitary matrices. Therefore, an operator $U$ maps an input quantum state to an output quantum state,\n",
    "\n",
    "$$\\rvert\\psi_{out}\\rangle=U\\rvert\\psi_{in}\\rangle$$\n",
    "\n",
    "for some unitary matrix $U$. Since we are only considering single qubits at this point, the unitary matrices we are interested in are $2\\times2$ matrices. Further, since we restrict the length of the vectors representing qubits to be 1, we know that the inner product $\\langle\\psi\\rvert\\psi\\rangle=1$.\n",
    "\n",
    "Therefore, the unitary transformation must preserve the inner product.\n",
    "\n",
    "$\\langle\\psi_{out}\\rvert\\psi_{out}\\rangle=\\langle\\psi_{in}\\rvert U^\\dagger U\\rvert\\psi_{in}\\rangle=1$\n",
    "\n",
    "This happens when $U^\\dagger U=I$ and therefore $U$ is a unitary matrix."
   ]
  },
  {
   "cell_type": "markdown",
   "metadata": {
    "slideshow": {
     "slide_type": "slide"
    }
   },
   "source": [
    "## 14.2 Single Qubit Transformations\n",
    "\n",
    "#### Hadamard Transform\n",
    "\n",
    "We've seen the matrix $H=\\frac{1}{\\sqrt{2}}\\begin{bmatrix}1&1\\\\1&-1\\end{bmatrix}$ before. It was used as a transition matrix from standard basis to the Hadamard basis.\n",
    "\n",
    "#### Rotation Operator\n",
    "\n",
    "Consider the matrix $R(\\theta)=\\begin{bmatrix}\\cos\\frac{\\theta}{2}& -\\sin\\frac{\\theta}{2}\\\\ \\sin\\frac{\\theta}{2} & \\cos\\frac{\\theta}{2}\\end{bmatrix}$\n",
    "\n",
    "It is easy to verify that $R(\\theta)$ is unitary. It essentially rotates the vector by $\\theta$ degrees.\n",
    "\n",
    "$R(\\theta)\\rvert0\\rangle=\\begin{bmatrix}\\cos\\frac{\\theta}{2}& -\\sin\\frac{\\theta}{2}\\\\ \\sin\\frac{\\theta}{2} & \\cos\\frac{\\theta}{2}\\end{bmatrix}\\begin{bmatrix}1\\\\0\\end{bmatrix}=\\begin{bmatrix}\\cos\\frac{\\theta}{2}\\\\ \\sin\\frac{\\theta}{2}\\end{bmatrix}$\n",
    "\n",
    "and\n",
    "\n",
    "$R(\\theta)\\rvert1\\rangle=\\begin{bmatrix}\\cos\\frac{\\theta}{2}& -\\sin\\frac{\\theta}{2}\\\\ \\sin\\frac{\\theta}{2} & \\cos\\frac{\\theta}{2}\\end{bmatrix}\\begin{bmatrix}0\\\\1\\end{bmatrix}=\\begin{bmatrix}-\\sin\\frac{\\theta}{2}\\\\ \\cos\\frac{\\theta}{2}\\end{bmatrix}$\n",
    "\n",
    "Therefore, if we take $\\theta=\\frac{\\pi}{2}$, then we have $R(\\frac{\\pi}{4})$ and $R(\\frac{\\pi}{4})\\rvert0\\rangle=\\rvert+\\rangle$ and $R(\\frac{\\pi}{4})\\rvert1\\rangle=-\\rvert-\\rangle$."
   ]
  },
  {
   "cell_type": "markdown",
   "metadata": {
    "slideshow": {
     "slide_type": "slide"
    }
   },
   "source": [
    "## 14.3 Pauli Matrices\n",
    "\n",
    "Perhaps the three most famous matrices in quantum mechanics are the Pauli matrices denoted by $X, Y$ and $Z$. These are single qubit $2\\times2$ operations with following descriptions,\n",
    "\n",
    "$$X=\\begin{bmatrix}0&1\\\\1&0\\end{bmatrix}$$\n",
    "\n",
    "$$Z=\\begin{bmatrix}1&0\\\\0&-1\\end{bmatrix}$$\n",
    "\n",
    "$$Y=iXZ$$\n",
    "\n",
    "The $X$ transformation is nothing but the NOT operation and therefore called the bit-flip operation.\n",
    "\n",
    "The Pauli-$Z$ matrix flips the phase of $\\rvert1\\rangle$ in the standard basis. Its effect in other basis can be computed using linearity. \n",
    "\n",
    "$Z\\rvert0\\rangle=\\rvert0\\rangle$ and $Z\\rvert1\\rangle=-\\rvert1\\rangle$\n",
    "\n",
    "Note that in the Hadamard basis $Z\\rvert+\\rangle=\\rvert-\\rangle$ and viceversa. Therefore, it acts as the NOT operator in the Hadamard basis.\n",
    "\n",
    "The last Pauli operation performs both a phase and a bit flip operation, $Y=iXZ$. Here, $i$ makes the operation Hermitian. The action of Pauli-$Y$ is given by,\n",
    "\n",
    "$$Y\\rvert0\\rangle=iXZ\\rvert0\\rangle=i\\rvert1\\rangle$$\n",
    "\n",
    "$$Y\\rvert1\\rangle=-iXZ\\rvert0\\rangle=-iX\\rvert1\\rangle=-i\\rvert0\\rangle$$"
   ]
  },
  {
   "cell_type": "markdown",
   "metadata": {
    "slideshow": {
     "slide_type": "slide"
    }
   },
   "source": [
    "## Self-Assessment Quiz 1\n",
    "<b>Maybe used for in-class hands-on practice.</b>\n",
    "\n",
    "In addition to the above gates, there are a few more that show up in literature quite often. These are: the phase shift gates $T=e^{i\\frac{\\pi}{8}}\\begin{bmatrix}e^{-i\\frac{\\pi}{8}}&0\\\\0&e^{i\\frac{\\pi}{8}}\\end{bmatrix}$ and $S=\\begin{bmatrix}1&0\\\\0&i\\end{bmatrix}$, the square-root of NOT gate $\\sqrt{NOT}=\\frac{1}{2}\\begin{bmatrix}1+i&1-i\\\\1-i&1+i\\end{bmatrix}$.\n",
    "\n",
    "1. Prove that all the Pauli gates are Unitary operations.\n",
    "\n",
    "2. Prove $H=\\frac{1}{\\sqrt{2}}(X+Z)$\n",
    "\n",
    "3. Prove $X=HZH$\n",
    "\n",
    "4. Prove $S=T^2$"
   ]
  },
  {
   "cell_type": "markdown",
   "metadata": {
    "slideshow": {
     "slide_type": "slide"
    }
   },
   "source": [
    "## 14.4 Building Circuits\n",
    "\n",
    "Let's briefly build some simple sequential single-qubit circuits that are going to become the building blocks for larger circuits that are the primary way of expressing quantum algorithms.\n",
    "\n",
    "The general rule for quantum circuits is that the input enters the circuit on the left, gets processed through the various quantum operators and exits to the right. This is shown in figure 1 below,\n",
    "\n",
    "![Figure 1. Three single qubit gates: X, Z and Y are shown in circuit form.](nanomod14-fig1.png)\n",
    "<b>Figure 1.</b> Three single qubit gates: X, Z and Y are shown in circuit form.\n",
    "\n",
    "These gates can be connected in a sequence. For example if a qubit is first acted upon by the Pauli-Z gate and then by Pauli-X then the circuit is shown in figure 2.\n",
    "\n",
    "![Figure 2. Gates Z and X in sequence](nanomod14-fig2.png)\n",
    "<b>Figure 2.</b> Pauli-Z gate is applied to the qubit first followed by Pauli-X gate.\n",
    "\n",
    "Although, in the circuit diagram the input flows from left to right, when we write it as a linear expression we use the convention that the input vector is written to the right of the operator. For example if Pauli-Y is applied to $\\rvert0\\rangle$, we write $Y\\rvert0\\rangle$. As a result, the action of the circuit shown in figure 2 is written as,\n",
    "\n",
    "$$XZ\\rvert\\psi\\rangle$$\n",
    "\n",
    "where $\\rvert\\psi\\rangle$ is a single-qubit input. This looks the reverse of what is shown in the figure but is a little idiosyncrasy we have to get used to!\n"
   ]
  },
  {
   "cell_type": "markdown",
   "metadata": {
    "slideshow": {
     "slide_type": "slide"
    }
   },
   "source": [
    "## 14.5 Computing the Circuit Operation\n",
    "\n",
    "Given a circuit, we can compute the overall effect of the circuit on a qubit by simply multiplying the operators together (in order) and then applying them with the qubit. \n",
    "\n",
    "For example, the operations shown in the circuit for figure 2 reduces to $XZ=\\begin{bmatrix}0&1\\\\1&0\\end{bmatrix}\\begin{bmatrix}1&0\\\\0&-1\\end{bmatrix}=\\begin{bmatrix}0&-1\\\\1&0\\end{bmatrix}$. \n",
    "\n",
    "If $\\rvert\\psi\\rangle=\\rvert+\\rangle$, then the resulting output is $\\begin{bmatrix}0&-1\\\\1&0\\end{bmatrix}\\begin{bmatrix}\\frac{1}{\\sqrt{2}}\\\\\\frac{1}{\\sqrt{2}}\\end{bmatrix}=\\begin{bmatrix}-\\frac{1}{\\sqrt{2}}\\\\\\frac{1}{\\sqrt{2}}\\end{bmatrix}$.\n",
    "\n",
    "This rule applies to as many sequential gate operations as we'd like to apply on a qubit."
   ]
  },
  {
   "cell_type": "markdown",
   "metadata": {
    "slideshow": {
     "slide_type": "slide"
    }
   },
   "source": [
    "## Self-Assessment Quiz 2\n",
    "<b>Maybe used for in-class hands-on practice.</b>\n",
    "\n",
    "Compute the effect of the following circuit on each of the qubits given. Comment on your observations.\n",
    "\n",
    "![Gates Z and X in sequence.](nanomod14-fig1-sa2.png)\n",
    "\n",
    "![Gates square-root-of-NOT, X and T in sequence.](nanomod14-fig2-sa2.png)\n",
    "\n",
    "![The S gate.](nanomod14-fig3-sa2.png)\n",
    "\n",
    "![Gates T and T in sequence.](nanomod14-fig4-sa2.png)\n",
    "\n",
    "Qubits:\n",
    "\n",
    "1. $\\rvert0\\rangle$\n",
    "\n",
    "2. $\\rvert1\\rangle$\n",
    "\n",
    "3. $\\rvert+\\rangle$\n",
    "\n",
    "4. $\\rvert-\\rangle$"
   ]
  },
  {
   "cell_type": "markdown",
   "metadata": {
    "slideshow": {
     "slide_type": "slide"
    }
   },
   "source": [
    "#### Final Quiz 14 is in a separate notebook with filename: finalquiz14.ipynb or finalquiz14.pdf. Use whichever is convenient.\n",
    "Final quiz is intended to be completed and submitted to the instructor for grading."
   ]
  }
 ],
 "metadata": {
  "celltoolbar": "Slideshow",
  "kernelspec": {
   "display_name": "Python 3",
   "language": "python",
   "name": "python3"
  },
  "language_info": {
   "codemirror_mode": {
    "name": "ipython",
    "version": 3
   },
   "file_extension": ".py",
   "mimetype": "text/x-python",
   "name": "python",
   "nbconvert_exporter": "python",
   "pygments_lexer": "ipython3",
   "version": "3.5.2"
  }
 },
 "nbformat": 4,
 "nbformat_minor": 2
}
