{
 "cells": [
  {
   "cell_type": "markdown",
   "metadata": {},
   "source": [
    "# Final Quiz 14\n",
    "\n",
    "### nanomodule 14\n",
    "\n",
    "#### Name: ________________"
   ]
  },
  {
   "cell_type": "markdown",
   "metadata": {},
   "source": [
    "<b>14.1 Why is Pauli-Z gate called the $\\frac{\\pi}{2}$ phase shift gate?</b>"
   ]
  },
  {
   "cell_type": "markdown",
   "metadata": {},
   "source": [
    "<b>14.2 What is the effect of applying the $\\sqrt{NOT}$ gate on $\\rvert0\\rangle$ and $\\rvert+\\rangle$? What is the effect of applying it twice on the same qubit? Comment on your observations.</b>"
   ]
  },
  {
   "attachments": {},
   "cell_type": "markdown",
   "metadata": {},
   "source": [
    "<b>14.3 Compute the outputs of the following circuits on inputs given below. </b>\n",
    "<br>\n",
    "![finalquiz14-fig1.png](finalquiz14-fig1.png)\n",
    "<br>\n",
    "![finalquiz14-fig2.png](finalquiz14-fig2.png)\n",
    "<br>\n",
    "![finalquiz14-fig3.png](finalquiz14-fig3.png)\n",
    "<br><br>\n",
    "   1. $\\frac{1}{\\sqrt{2}}\\rvert0\\rangle+\\frac{1}{\\sqrt{2}}\\rvert1\\rangle$\n",
    "   <br><br>\n",
    "   2. $e^{i\\pi}\\rvert-\\rangle$\n",
    "   <br><br>\n",
    "   3. $\\frac{1}{\\sqrt{2}}(\\rvert0\\rangle+e^{i\\pi}\\rvert1\\rangle)$\n",
    "   <br><br>\n",
    "   4. $\\rvert1\\rangle$\n",
    "   <br><br>\n",
    "   5. $\\frac{1}{\\sqrt{2}}(\\rvert+\\rangle-\\rvert-\\rangle)$  \n",
    "\n",
    "\n"
   ]
  },
  {
   "cell_type": "markdown",
   "metadata": {},
   "source": [
    "<b>14.4 Write separate Python functions that implement the following transformations: Hadamard, rotation operator, Pauli operators, and the phase shift operator.</b>"
   ]
  },
  {
   "cell_type": "markdown",
   "metadata": {},
   "source": [
    "<b>14.5 Write a Python function that takes as input a string that represents the gate operations that must be applied from right to left. In the case of a rotation operator and phase shift gate, the program should prompt the user for the angle in radians. Your function must take a qubit as an additional input (in vector form) and apply the given gate operations to produce an output state.</b>\n",
    "\n",
    "For example: You want to apply X gate, then H gate and then S gate. Then the input string will be SHX."
   ]
  }
 ],
 "metadata": {
  "kernelspec": {
   "display_name": "Python 3",
   "language": "python",
   "name": "python3"
  },
  "language_info": {
   "codemirror_mode": {
    "name": "ipython",
    "version": 3
   },
   "file_extension": ".py",
   "mimetype": "text/x-python",
   "name": "python",
   "nbconvert_exporter": "python",
   "pygments_lexer": "ipython3",
   "version": "3.5.2"
  }
 },
 "nbformat": 4,
 "nbformat_minor": 2
}
