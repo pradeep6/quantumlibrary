{
 "cells": [
  {
   "cell_type": "markdown",
   "metadata": {},
   "source": [
    "# 18. Multi-Qubit Gates and Operations\n",
    "\n",
    "#### This is nanomodule 18 - module 2\n",
    "\n",
    "**Learning objectives:**\n",
    "\n",
    "1. Students will be able to construct multi-qubit gates from single qubit gates.\n",
    "\n",
    "2. Students will understand the operations of new multi-qubit gates.\n",
    "\n",
    "3. Students will be able to compute outputs of circuits consisting of multiple qubits.\n",
    "***"
   ]
  },
  {
   "cell_type": "markdown",
   "metadata": {},
   "source": [
    "## 18.1 Composing Single Qubit Operations into Multi-qubit Operations\n",
    "\n",
    "We studied several single qubit gates before. In this nanomodule we will study multi-qubit gates.\n",
    "\n",
    "Note that just like we can create a multi-qubit system representation by taking the tensor product of individual qubit vectors, we can create large multi-qubit gates by taking tensor product of individual single qubit gates.\n",
    "\n",
    "For example, consider two qubits $\\rvert0\\rangle$ and $\\frac{\\rvert0\\rangle + \\rvert 1 \\rangle}{\\sqrt{2}}$ with Pauli gates $X$, $Z$ acting on them, respectively.\n",
    "\n",
    "Therefore,\n",
    "\n",
    "$X \\rvert 0 \\rangle = \\rvert 1 \\rangle$\n",
    "\n",
    "$Z \\Big(\\frac{\\rvert 0 \\rangle + \\rvert 1 \\rangle}{\\sqrt{2}}\\Big) = \\frac{\\rvert 0 \\rangle - \\rvert 1 \\rangle}{\\sqrt{2}}$\n"
   ]
  },
  {
   "cell_type": "markdown",
   "metadata": {},
   "source": [
    "\n",
    "In matrix form the calculations are. \n",
    "\n",
    "$X (\\rvert 0 \\rangle) = \\begin{bmatrix}0 & 1 \\\\ 1 & 0\\end{bmatrix}\\begin{bmatrix}1  \\\\ 0 \\end{bmatrix}=\\begin{bmatrix}0 \\\\ 1 \\end{bmatrix}$\n",
    "\n",
    "$Z \\Big(\\frac{\\rvert 0 \\rangle + \\rvert 1 \\rangle}{\\sqrt{2}}\\Big) =\\begin{bmatrix}1 & 0 \\\\ 0 & -1\\end{bmatrix}\\begin{bmatrix}\\frac{1}{\\sqrt{2}}  \\\\ \\frac{1}{\\sqrt{2}} \\end{bmatrix}=\\begin{bmatrix}\\frac{1}{\\sqrt{2}} \\\\ -\\frac{1}{\\sqrt{2}} \\end{bmatrix} $\n"
   ]
  },
  {
   "cell_type": "markdown",
   "metadata": {},
   "source": [
    "\n",
    "Now consider their joint states. Before applying the transformations their joint state is given by.\n",
    "\n",
    "$(\\rvert 0 \\rangle) \\otimes \\Big(\\frac{\\rvert 0 \\rangle + \\rvert 1 \\rangle}{\\sqrt{2}}\\Big) = \\frac{\\rvert 00 \\rangle + \\rvert 01\\rangle }{\\sqrt{2}}$\n",
    "\n",
    "What will be the joint gate representation? \n",
    "\n",
    "We are assuming these are being applied in parallel and therefore their circuit is given by.\n",
    "\n",
    "![](nanomod18-fig1.png)"
   ]
  },
  {
   "cell_type": "markdown",
   "metadata": {},
   "source": [
    "The joint gate representation is then given by $X \\otimes Z$\n",
    "\n",
    "That is $ U = \\begin{bmatrix}0 & 1 \\\\ 1 & 0\\end{bmatrix} \\otimes \\begin{bmatrix}1 & 0 \\\\ 0 & -1\\end{bmatrix}$\n",
    "\n",
    "$U = \\begin{bmatrix}0 & 0 & 1 & 0 \\\\ 0 & 0 & 0 & -1 \\\\ 1 & 0 & 0 & 0 \\\\ 0 & -1 & 0 & 0\\end{bmatrix}$\n",
    "\n"
   ]
  },
  {
   "cell_type": "markdown",
   "metadata": {},
   "source": [
    "\n",
    "\n",
    "The action of this two qubit gate can be computed on the joint qubit representation as follows,\n",
    "\n",
    "Before gate operation: $\\rvert \\psi_1 \\rangle = \\Big( \\frac{\\rvert 00 \\rangle + \\rvert 01 \\rangle}{\\sqrt{2}}\\Big) =  \\begin{bmatrix}\\frac{1}{\\sqrt{2}}\\\\ \\frac{1}{\\sqrt{2}}\\\\ 0 \\\\ 0\\end{bmatrix}$\n",
    "\n",
    "After gate operation: $\\rvert \\psi_2 \\rangle = U \\Big( \\frac{\\rvert 00 \\rangle + \\rvert 01 \\rangle}{\\sqrt{2}}\\Big) $\n",
    "\n",
    "$= \\begin{bmatrix}0 & 0 & 1 & 0 \\\\ 0 & 0 & 0 & -1 \\\\ 1 & 0 & 0 & 0 \\\\ 0 & -1 & 0 & 0\\end{bmatrix}\\begin{bmatrix}\\frac{1}{\\sqrt{2}}\\\\ \\frac{1}{\\sqrt{2}}\\\\ 0 \\\\ 0\\end{bmatrix} = \\begin{bmatrix}0\\\\ 0\\\\ \\frac{1}{\\sqrt{2}} \\\\ -\\frac{1}{\\sqrt{2}}\\end{bmatrix} = \\frac{\\rvert 10 \\rangle - \\rvert 11 \\rangle}{\\sqrt{2}}$\n",
    "\n",
    "$\\rvert \\psi_2 \\rangle$ is exactly the state we had computed by applying single qubit gates to individual qubits."
   ]
  },
  {
   "cell_type": "markdown",
   "metadata": {},
   "source": [
    "## 18.2 True Multi-Qubit Gates\n",
    "\n",
    "Although we created a multi-qubit gate by taking tensor product of single qubit gates and can continue this process with more and more gates, it may not seem that exciting!\n",
    "\n",
    "There are “true” multi-qubit gates that cannot be decomposed into individual single qubit gates and therefore __must__ act on multiple qubits together. This is very helpful and can be used to do things that single qubit gates cannot.  The most popular gate that will appear all over the place is a CNOT gate, short for controlled-NOT. In general, we can create an arbitrary controlled-U, gate where U is some 2x2 unitary transformation. Some other gates that appear are Toffoli gate (3 qubit gate) and Fredkin gate (3 qubit gate). Let’s discuss the matrix representation and effect of these gates on our qubits\n"
   ]
  },
  {
   "cell_type": "markdown",
   "metadata": {},
   "source": [
    "### 18.2.1 The CNOT Gate\n",
    "\n",
    "This is the most popular gate. It can be used to entangle and dis-entangle two qubits. It is a two qubit gate and given by the following matrix \n",
    "\n",
    "$\\begin{bmatrix}1 & 0 & 0 & 0 \\\\ 0 & 1 & 0 & 0 \\\\ 0 & 0 & 0 & 1 \\\\ 0 & 0 & 1 & 0\\end{bmatrix}$\n",
    "\n",
    "In the circuit diagram it shows up as \n",
    "\n",
    "![](nanomod18-fig2.png)\n",
    "\n",
    "The top qubit becomes the control qubit and the bottom one is the target qubit."
   ]
  },
  {
   "cell_type": "markdown",
   "metadata": {},
   "source": [
    "If the top qubit is a $\\rvert 0 \\rangle$ then nothing happens to the bottom qubit and if the top qubit is $\\rvert 1 \\rangle$ the bottom qubit is acted upon by an $X$ gate.\n",
    "\n",
    "Eg:\n",
    "![](nanomod18-fig3.png)\n"
   ]
  },
  {
   "cell_type": "markdown",
   "metadata": {},
   "source": [
    "\n",
    "As you can see the top qubit remains unchanged. However, this “unchangeability” is basis dependent. \n",
    "\n",
    "The CNOT gate is also known as the XOR gate because its operation can be written as  \n",
    "\n",
    "$\\rvert x,y \\rangle \\rightarrow \\rvert x, x \\oplus y \\rangle$\n",
    "\n",
    "Where $x$ and $y$ are quantum states. \n",
    "\n",
    "We are, obviously, somewhat abusing the XOR notation here."
   ]
  },
  {
   "cell_type": "markdown",
   "metadata": {},
   "source": [
    "CNOT is also a unitary transformation and therefore its own inverse. \n",
    "\n",
    "![](nanomod18-fig4.png)\n"
   ]
  },
  {
   "cell_type": "markdown",
   "metadata": {},
   "source": [
    "However, we noted earlier that CNOT’s operation is basis dependent. Consider the following circuit:\n",
    "\n",
    "![CNOT is Basis Dependent](nanomod18-cnotBasisDepend.png)\n",
    "\n",
    "Since H is its own inverse, one might think we get back $\\rvert x\\rangle$ on the top line of the circuit. But this is not the case.\n",
    "\n",
    "We leave this as an exercise for the reader to compute the output of the above circuit for different values of $\\rvert x\\rangle$ and $\\rvert y\\rangle$."
   ]
  },
  {
   "cell_type": "markdown",
   "metadata": {},
   "source": [
    "## CNOT for entanglement\n",
    "\n",
    "If the control qubit is in superposition then the application of CNOT can result in entanglement of the control qubit and the target qubit.\n",
    "\n",
    "The circuit that is often used to create Bell pairs is \n",
    "\n",
    "![CNOT for Entanglement](nanomod18-cnotEntangle.png)\n",
    "\n",
    "Appropriate inputs result in different Bell pairs.\n"
   ]
  },
  {
   "cell_type": "markdown",
   "metadata": {},
   "source": [
    "## 18.2.2 General Controlled operation \n",
    "\n",
    "We can denote the circuit as follows\n",
    "\n",
    "![General Control U Gate](nanomod18-cntrlU.png)\n",
    "\n",
    "And the matrix is given by $\\begin{bmatrix}I & 0 \\\\ 0 & U \\end{bmatrix}$ where $I$ is the 2x2 identity matrix and $U$ is an arbitrary 2x2 quantum gate."
   ]
  },
  {
   "cell_type": "markdown",
   "metadata": {},
   "source": [
    "CNOT will be used in the exciting application of teleportation later. We will also provide a circuit built on the IBM quantum simulator.\n",
    "\n",
    "A swap circuit using these CNOTS is shown below. \n",
    "\n",
    "![CNOT for SWAP gate](nanomod18-cnotSwap.png)\n"
   ]
  },
  {
   "cell_type": "markdown",
   "metadata": {},
   "source": [
    "## 18.3 Other Multi-Qubit Gates\n",
    "\n",
    "### 18.3.1 Toffoli Gate\n",
    "\n",
    "It is a 3-qubit gate and its circuit and operation are shown below.\n",
    "\n",
    "![Toffoli Circuit](nanomod18-toffoli.png)\n",
    "\n",
    "This gate has two control bits and one target bit. Both the control bits need to be on in order for the target bit to be affected\n",
    "\n",
    "$X \\wedge Y$ denotes an AND operation. \n",
    "\n",
    "### 18.3.2 Fredkin Gate\n",
    "\n",
    "The circuit and operation are given by.\n",
    "\n",
    "![Fredkin Cicuit](nanomod18-fredkin.png)\n"
   ]
  },
  {
   "cell_type": "markdown",
   "metadata": {},
   "source": [
    "## 18.4 Universal Gate Set\n",
    "\n",
    "Universal gate set is the set of gates using which every logical circuit can be simulated.\n",
    "\n",
    "For example, in classical circuits NAND is a universal gate and so are AND and NOT taken together. NOR is also universal in classical circuits. Both Toffoli and Fredkin are classical universal gates. \n",
    "\n",
    "**Quantum Universal Gate:** In the quantum world the following operations together form a set of universal gates,\n",
    "\n",
    "$\\big\\{ H, CNOT, R(cos^{-1}(\\frac{3}{5}))\\big\\} $ i.e. Hadamard, CNOT, and a phase shift together for a universal set of gates. There are other quantum universal gate sets.\n"
   ]
  },
  {
   "cell_type": "markdown",
   "metadata": {},
   "source": [
    "***\n",
    "***\n",
    "### End of nanomodule 18\n",
    "***\n",
    "***"
   ]
  }
 ],
 "metadata": {
  "kernelspec": {
   "display_name": "Python 3",
   "language": "python",
   "name": "python3"
  },
  "language_info": {
   "codemirror_mode": {
    "name": "ipython",
    "version": 3
   },
   "file_extension": ".py",
   "mimetype": "text/x-python",
   "name": "python",
   "nbconvert_exporter": "python",
   "pygments_lexer": "ipython3",
   "version": "3.5.2"
  }
 },
 "nbformat": 4,
 "nbformat_minor": 2
}
