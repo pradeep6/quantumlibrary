{
 "cells": [
  {
   "cell_type": "markdown",
   "metadata": {
    "collapsed": true,
    "slideshow": {
     "slide_type": "slide"
    }
   },
   "source": [
    "# 10. Basics of Quantum Computing/Cryptography\n",
    "\n",
    "### This lesson belongs to nanomodule 10 - micromodule 1 - module 1\n",
    "\n",
    "<b>Learning Outcomes:</b>\n",
    "\n",
    "Upon completion of this lesson:\n",
    "\n",
    "10.1 Students will be able to model two level quantum systems using vector and ket representations.\n",
    "\n",
    "10.2 Students will understand the notions qubit, amplitude and probability of collapse.\n",
    "\n",
    "10.3 Students will understand the notion of superposition.\n",
    "\n",
    "10.4 Students will be able to change between basis representations for a given qubit."
   ]
  },
  {
   "cell_type": "markdown",
   "metadata": {
    "slideshow": {
     "slide_type": "slide"
    }
   },
   "source": [
    "## 10.1 Classical Bits\n",
    "\n",
    "We know that a <b>bit</b> describes a two-dimensional classical system. It has two values 0 and 1 and may be physically represented using a number of different phenomenons. For example, high and low voltage, direction of magnetic domains, etc. In other words, we are dealing with a system that has two possible states.\n",
    "\n",
    "In the introductory nanomodule, a two state system is described using a $2\\times1$ probability vector with positions representing different bit values. For example, the knowledge that a system is in state 0 can be written as $\\begin{array}{c}\n",
    "\\mathbf{0}\\\\\n",
    "\\mathbf{1}\\\\\n",
    "\\end{array}\n",
    "\\begin{bmatrix}\n",
    "1\\\\\n",
    "0\\\\\n",
    "\\end{bmatrix}$ and that the system is in state 1 can be written as $\\begin{array}{c}\n",
    "\\mathbf{0}\\\\\n",
    "\\mathbf{1}\\\\\n",
    "\\end{array}\n",
    "\\begin{bmatrix}\n",
    "0\\\\\n",
    "1\\\\\n",
    "\\end{bmatrix}$, where the digits in bold outside the matrices represents the position that is reponsible for that bit. In other words, the first row is reserved for bit 0 and second row is reserved for bit 1."
   ]
  },
  {
   "cell_type": "markdown",
   "metadata": {
    "slideshow": {
     "slide_type": "slide"
    }
   },
   "source": [
    "## 10.2 Qubits\n",
    "\n",
    "Let's take a \"quantum\" leap and assume that system $S$ is a quantum state. Now the set of states $\\tau=\\{0,1\\}$ refer to classical states and the $2\\times1$ vectors representing our knowledge of the state of quantum system are no longer probability vectors but the vectors represent the state of the quantum system itself!\n",
    "\n",
    "For example, following are a few examples of valid quantum states that we will see often: $\\begin{bmatrix}1\\\\0\\end{bmatrix}$, $\\begin{bmatrix}0\\\\1\\end{bmatrix}$, $\\begin{bmatrix}\\frac{1}{\\sqrt{2}}\\\\\\frac{1}{\\sqrt{2}}\\end{bmatrix}$, $\\begin{bmatrix}\\frac{1}{\\sqrt{2}}\\\\-\\frac{1}{\\sqrt{2}}\\end{bmatrix}$.\n",
    "\n",
    "Therefore, a <b>qubit</b> is a unit of information describing a two dimentional quantum system. A general representation of a qubit is given by a $2\\times1$ matrix with complex entries \n",
    "$\\begin{bmatrix}\n",
    "\\alpha\\\\\n",
    "\\beta\\\\\n",
    "\\end{bmatrix}$.<br>\n",
    "Here the complex numbers $\\alpha$ and $\\beta$ satisfy the relation $\\rvert\\alpha\\rvert^2+\\rvert\\beta\\rvert^2=1$, and $\\alpha$ and $\\beta$ are known as <b>probability amplitudes</b> or simply <b>amplitudes</b>. \n",
    "\n",
    "Therefore, a quantum system represents the classical bit 0 when $\\alpha=1, \\beta=0$ and the classical bit 1 when $\\alpha=0, \\beta=1$."
   ]
  },
  {
   "cell_type": "markdown",
   "metadata": {
    "hidePrompt": true,
    "slideshow": {
     "slide_type": "slide"
    }
   },
   "source": [
    "## 10.3 Ket Notation\n",
    "\n",
    "Writing out matrices in sentence is quite unseemly. Therefore, we introduce a new notation called the Dirac's notation (Paul Dirac first used this notation in 1958). Bits 0 and 1 will then be written as $\\left|0\\right>$ and $\\left|1\\right>$, where $\\left|0\\right> = \\begin{bmatrix}\n",
    "1\\\\\n",
    "0\\\\\n",
    "\\end{bmatrix}$ and $|1\\rangle = \\begin{bmatrix}\n",
    "0\\\\\n",
    "1\\\\\n",
    "\\end{bmatrix}$, respectively. These are called ket 0 and ket 1, respectively.\n",
    "\n",
    "A general qubit is written as $\\rvert\\psi\\rangle=\\begin{bmatrix}\\alpha\\\\\\beta\\end{bmatrix}$ and called ket $\\psi$.\n",
    "\n",
    "We will see that ket notation is quite useful in quantum theory and is more general than just writing bits 0 and 1. In fact, what sets quantum theory apart from classical theory is that in classical systems a bit can only be in state $\\left|0\\right>$ or state $\\left|1\\right>$ and never in both simultaneously. Whereas in a quantum system, a <b>quantum bit</b> (<i>qubit</i> for short) can be in both the states $\\left|0\\right>$ and $\\left|1\\right>$ simultaneously. When this happens, we say that the qubit is in superposition of $\\left|0\\right>$ and $\\left|1\\right>$."
   ]
  },
  {
   "cell_type": "markdown",
   "metadata": {},
   "source": [
    "## 10.4 Qubits and Measurement\n",
    "\n",
    "We've seen that a general qubit is written as $\\rvert\\psi\\rangle=\\begin{bmatrix}\n",
    "\\alpha\\\\\n",
    "\\beta\\\\\n",
    "\\end{bmatrix}$, where $\\alpha$ and $\\beta$ are probability amplitudes. Given the condition $\\rvert\\alpha\\rvert^2+\\rvert\\beta\\rvert^2=1$, the probability of finding a quantum state, upon measurement, in state $\\rvert0\\rangle$ is $\\rvert\\alpha\\rvert^2$ and the probability of finding a quantum system in state $\\rvert1\\rangle$ is $\\rvert\\beta\\rvert^2$. Further, once a quantum state is \"measured\" it becomes a classical bit with values 0 or 1 with probabilities $\\rvert\\alpha\\rvert^2$ and $\\rvert\\beta\\rvert^2$, respectively. As a result, we can never \"see\" a general qubit or extract more information than one bit out of it! (Yes, nature is quite cruel in this way!)\n",
    "\n",
    "Therefore, we say that a quantum state <b>collapses</b> to 0 or 1 upon measurement. We do, however, know precisely the probabilities of seeing a 0 or a 1."
   ]
  },
  {
   "cell_type": "markdown",
   "metadata": {
    "slideshow": {
     "slide_type": "slide"
    }
   },
   "source": [
    "## 10.5 Linear Combination and Example\n",
    "\n",
    "It is easy to see that the state $\\left|\\psi\\right>$ can be written in terms of linear combination of states $\\left|0\\right>$ and $\\left|1\\right>$ as follows,\n",
    "\n",
    "$$\\begin{bmatrix}\n",
    "\\alpha\\\\\n",
    "\\beta\\\\\n",
    "\\end{bmatrix} = \\alpha\\cdot\n",
    "\\begin{bmatrix}\n",
    "1\\\\\n",
    "0\\\\\n",
    "\\end{bmatrix} + \\beta\\cdot\n",
    "\\begin{bmatrix}\n",
    "0\\\\\n",
    "1\\\\\n",
    "\\end{bmatrix} = \\alpha\\left|0\\right> +\\beta\\left|1\\right>\n",
    "$$\n",
    "\n",
    "Clearly, $\\left|0\\right>$ and $\\left|1\\right>$ form a canonical basis of two dimensional complex vector space $\\mathbb{C}^2$.\n",
    "\n",
    "<b>Example:</b> So far we've seen two examples of a qubit $\\left|0\\right>$ and $\\left|1\\right>$. Another example would be $\\left|+\\right>$, which is a special symbol used to represent state $\\begin{bmatrix}\n",
    "\\frac{1}{\\sqrt{2}}\\\\\n",
    "\\frac{1}{\\sqrt{2}}\\\\\n",
    "\\end{bmatrix}$. Upon measurement, the probability that $\\left|+\\right>$ collapses to $\\left|0\\right>$ or $\\left|1\\right>$ is $\\frac{1}{2}=(\\frac{1}{\\sqrt{2}})^2=\\rvert\\alpha\\rvert^2=\\rvert\\beta\\rvert^2$."
   ]
  },
  {
   "cell_type": "markdown",
   "metadata": {
    "slideshow": {
     "slide_type": "slide"
    }
   },
   "source": [
    "## Quiz 10.1 (Self Assessment)\n",
    "\n",
    "1. Which of the following are examples of valid qubits?\n",
    "\n",
    "    a. $\\rvert-\\rangle=\\frac{1}{\\sqrt{2}}(\\rvert0\\rangle-\\rvert1\\rangle)$\n",
    "    \n",
    "    b. $\\frac{1}{\\sqrt{2}}\\rvert0\\rangle-\\frac{1+i}{2}\\rvert1\\rangle$\n",
    "    \n",
    "    c. $\\frac{1+i}{3}\\rvert0\\rangle-\\frac{1-i}{2}\\rvert1\\rangle$\n",
    "    \n",
    "    d. $\\frac{i}{10}\\rvert0\\rangle+\\frac{99}{10}\\rvert1\\rangle$\n",
    "    \n",
    "    e. $\\frac{\\sqrt{3}}{2}\\rvert0\\rangle+\\frac{1}{3}\\rvert1\\rangle$\n",
    "    \n",
    "    f. $\\frac{i}{\\sqrt{2}}(\\rvert0\\rangle+\\rvert1\\rangle)$\n",
    "    \n",
    "    g. $\\frac{1}{\\sqrt{2}}(\\rvert0\\rangle+e^{\\frac{i\\pi}{2}}\\rvert1\\rangle)$\n",
    "    \n",
    "    h. $\\frac{1}{2}\\rvert0\\rangle-\\frac{i}{2}\\rvert1\\rangle$\n",
    "    \n",
    "    i. $\\frac{\\sqrt{3}}{2}\\rvert0\\rangle+\\frac{1}{4}\\rvert1\\rangle$\n",
    "    \n",
    "    j. $e^{i\\pi}\\rvert-\\rangle$\n",
    "<br><br>\n",
    "2. For the expressions in question 1 that are not valid qubits, re-normalize the coefficients to convert them into valid qubits.\n",
    "    \n"
   ]
  },
  {
   "cell_type": "code",
   "execution_count": 1,
   "metadata": {
    "scrolled": false
   },
   "outputs": [
    {
     "data": {
      "application/vnd.jupyter.widget-view+json": {
       "model_id": "6d6ae8a71da04249a5ad9a9b8734344c",
       "version_major": 2,
       "version_minor": 0
      },
      "text/plain": [
       "VBox(children=(VBox(children=(Label(value=''), HTML(value='<font size=\"+2\">Complete the exercises.</font>'), L…"
      ]
     },
     "metadata": {},
     "output_type": "display_data"
    },
    {
     "data": {
      "application/vnd.jupyter.widget-view+json": {
       "model_id": "01e35e53c6104960abff53b8e8c5a7cd",
       "version_major": 2,
       "version_minor": 0
      },
      "text/plain": [
       "HTMLMath(value='<b><font size=\"+2\">Exercise 2')"
      ]
     },
     "metadata": {},
     "output_type": "display_data"
    },
    {
     "data": {
      "application/vnd.jupyter.widget-view+json": {
       "model_id": "b487947b489f4239b5059e0e28888869",
       "version_major": 2,
       "version_minor": 0
      },
      "text/plain": [
       "HTMLMath(value='<font size=\"+1\">For each non-valid qubit, re-normalize the coefficients to convert them into v…"
      ]
     },
     "metadata": {},
     "output_type": "display_data"
    },
    {
     "data": {
      "application/vnd.jupyter.widget-view+json": {
       "model_id": "f5dc8eac7da3413e947cb601d06b63b0",
       "version_major": 2,
       "version_minor": 0
      },
      "text/plain": [
       "Label(value='')"
      ]
     },
     "metadata": {},
     "output_type": "display_data"
    },
    {
     "data": {
      "application/vnd.jupyter.widget-view+json": {
       "model_id": "4e5e4b8e0baf4f22bd4de2b627dc258c",
       "version_major": 2,
       "version_minor": 0
      },
      "text/plain": [
       "HTMLMath(value='<font size=\"+0\">&emsp;Make $\\\\frac{\\\\sqrt{3}}{2}\\\\rvert0\\\\rangle+\\\\frac{1}{3}\\\\rvert1\\\\rangle$…"
      ]
     },
     "metadata": {},
     "output_type": "display_data"
    },
    {
     "data": {
      "application/vnd.jupyter.widget-view+json": {
       "model_id": "d6f78553072140c08421e8de8bedf342",
       "version_major": 2,
       "version_minor": 0
      },
      "text/plain": [
       "VBox(children=(VBox(children=(HBox(children=(HTML(value=' '), Label(value='')), layout=Layout(height='40px')),…"
      ]
     },
     "metadata": {},
     "output_type": "display_data"
    }
   ],
   "source": [
    "%run pyfiles/saquiz10_1  #This runs the file that has the quiz code\n",
    "createQuiz10_1()"
   ]
  },
  {
   "cell_type": "markdown",
   "metadata": {
    "slideshow": {
     "slide_type": "slide"
    }
   },
   "source": [
    "## 10.6 Superposition\n",
    "\n",
    "A central concept and a major departure from classical thinking and modeling of the systems is that the state vector in quantum systems should not be interpreted as our \"lack\" of knowledge of the state of the system. In fact, if we say that a quantum system is in state $\\begin{bmatrix}\\frac{1}{\\sqrt{2}}\\\\ \\frac{1}{\\sqrt{2}}\\end{bmatrix}$ then the system is simultaneously in both states $\\left|0\\right>$ and $\\left|1\\right>$! Therefore, we say that the system is in superposition.\n",
    "\n",
    "This is quite different from saying that the system is in state $\\left|0\\right>$ with probability $\\frac{1}{2}$ and in state $\\left|1\\right>$ with probability $\\frac{1}{2}$. Now when we actually measure a quantum state then it will collapse to one of the two basis states with equal probability, which in this case are $\\left|0\\right>$ and $\\left|1\\right>$. But before the measurement has taken place, it is in both the states simultaneously.\n",
    "\n",
    "Therefore, we say that qubit $\\rvert\\psi\\rangle=\\alpha\\rvert0\\rangle+\\beta\\rvert1\\rangle$ is in superposition if both $\\alpha$ and $\\beta$ are non-zero."
   ]
  },
  {
   "cell_type": "markdown",
   "metadata": {
    "slideshow": {
     "slide_type": "slide"
    }
   },
   "source": [
    "## 10.7 Basis\n",
    "\n",
    "In general when we say that a vector $\\rvert\\psi\\rangle$ can be represented as a linear combination of vectors $\\rvert b_1\\rangle$, $\\rvert b_2\\rangle$, $\\ldots$, $\\rvert b_n\\rangle$, we mean that there exists some complex coefficients $c_i$ such that $\\rvert\\psi\\rangle=c_1\\rvert b_1\\rangle+c_2\\rvert b_2\\rangle+\\ldots+c_n\\rvert b_n\\rangle$.\n",
    "\n",
    "The set of vectors $B$ is said to be a basis set if every element in the complex vector space defined by $B$ can be represented as a complex linear combination of the vectors in $B$, uniquely. Therefore, in a two-dimensional vector space any two vectors that cannot be written as multiples of each other form a basis. Typically, in quantum mechanics, we will want to use only orthonormal basis. The two vectors $\\{\\rvert0\\rangle, \\rvert1\\rangle\\}$ represent one such basis.\n",
    "\n",
    "In order to determine if two vectors are orthogonal to each other we simply check if their inner product is zero. Recall that the inner product for complex vectors $v_1$ and $v_2$ is defined as the $v_1^\\dagger\\cdot v_2$. In Dirac's notation, we write $\\langle\\psi\\rvert$ to represent a dagger operation on the complex vector. This is called the bra notation and the inner product of two complex vectors representing two qubit state $\\rvert\\psi\\rangle$ and $\\rvert\\phi\\rangle$ can be written as $\\langle\\psi\\rvert\\rvert\\phi\\rangle$. Since we are lazy we drop the double lines in the middle and write $\\left<\\psi\\rvert\\phi\\right>$.\n",
    "\n",
    "Now back to the problem at hand! We say that two states are orthogonal to each other if the inner product of the complex vectors representing these states is zero, i.e. $\\left<\\psi\\rvert\\phi\\right>=0$. Further if in addition the norm of the vectors $\\rvert\\rvert\\psi\\rangle\\rvert=\\sqrt{\\left<\\psi\\rvert\\psi\\right>}=1$ and $\\rvert\\rvert\\phi\\rangle\\rvert=1$ then we say that the two vectors are orthonormal.\n",
    "\n",
    "#### Some Inner Products\n",
    "Consider a qubit $\\left|\\psi\\right>=\\alpha\\left|0\\right>+\\beta\\left|1\\right>$. The following inner products hold: $\\left<0\\rvert\\psi\\right>=\\alpha$ and $\\left<1\\rvert\\psi\\right>=\\beta$. Further, $\\left<0\\rvert0\\right>=1$ and $\\left<1\\rvert1\\right>=1$ and $\\left<0\\rvert1\\right>=0$ and $\\left<1\\rvert0\\right>=0$.\n",
    "\n",
    "(Note that Dirac's bra-ket notation is a funny way of saying bracket because when you put bra and ket together it forms a bracket!)"
   ]
  },
  {
   "cell_type": "markdown",
   "metadata": {},
   "source": [
    "## 10.8 Superposition or Not Superposition!\n",
    "\n",
    "Note that for us to meaningfully say something is in superposition, we must specify basis. For example, when we say that states $\\rvert+\\rangle=\\frac{1}{\\sqrt{2}}\\begin{bmatrix}1\\\\1\\end{bmatrix}$ and $\\rvert-\\rangle=\\frac{1}{\\sqrt{2}}\\begin{bmatrix}1\\\\-1\\end{bmatrix}$ are in superposition we generally mean with respect to the standard basis $\\{\\rvert0\\rangle,\\rvert1\\rangle\\}$.\n",
    "\n",
    "However, we can choose a new basis $\\{\\rvert+\\rangle, \\rvert-\\rangle\\}$ and the two states above are no longer in superposition with respect to this new basis! This basis is also called the Hadamard basis or the diagonal basis. In fact, with respect to this new basis, states $\\rvert0\\rangle$ and $\\rvert1\\rangle$ are in superposition. This is shown below,\n",
    "\n",
    "$$\\rvert0\\rangle=\\frac{1}{\\sqrt{2}}(\\rvert+\\rangle+\\rvert-\\rangle)$$\n",
    "and\n",
    "$$\\rvert1\\rangle=\\frac{1}{\\sqrt{2}}(\\rvert+\\rangle-\\rvert-\\rangle)$$\n"
   ]
  },
  {
   "cell_type": "markdown",
   "metadata": {
    "slideshow": {
     "slide_type": "slide"
    }
   },
   "source": [
    "## Quiz 10.2 (Self Assessment)\n",
    "\n",
    "1. Which of the following qubits are in superposition with respect to the standard basis? \n",
    "\n",
    "    a. $\\frac{1}{\\sqrt{2}}(-\\rvert0\\rangle+i\\rvert1\\rangle)$\n",
    "    \n",
    "    b. $\\frac{1}{2}\\rvert+\\rangle+\\frac{\\sqrt{3}}{2}\\rvert-\\rangle$\n",
    "    \n",
    "    c. $\\rvert-\\rangle$\n",
    "    \n",
    "    d. $\\frac{1}{\\sqrt{2}}\\rvert0\\rangle-\\frac{e^{i\\pi}}{\\sqrt{2}}\\rvert1\\rangle$\n",
    "    \n",
    "    e. $-\\rvert1\\rangle$\n",
    "    \n",
    "    f. $\\frac{1+i}{2}\\rvert+\\rangle+\\frac{1-i}{2}\\rvert-\\rangle$\n",
    "    \n",
    "    g. $\\frac{1+i}{2}\\rvert1\\rangle-\\frac{1-i}{2}\\rvert0\\rangle$\n",
    "<br><br>   \n",
    "2. For the qubits that are in superposition with respect to standard basis, give a basis with respect to which they are not in superposition."
   ]
  },
  {
   "cell_type": "code",
   "execution_count": 16,
   "metadata": {
    "scrolled": false
   },
   "outputs": [
    {
     "data": {
      "application/vnd.jupyter.widget-view+json": {
       "model_id": "c65dc5c53dbb48139baf1f85d580e8a9",
       "version_major": 2,
       "version_minor": 0
      },
      "text/plain": [
       "VBox(children=(VBox(children=(Label(value=''), HTML(value='<font size=\"+2\">Complete the exercises.</font>'), L…"
      ]
     },
     "metadata": {},
     "output_type": "display_data"
    },
    {
     "data": {
      "application/vnd.jupyter.widget-view+json": {
       "model_id": "a34ee8e90e064ed38d414f12edc15db1",
       "version_major": 2,
       "version_minor": 0
      },
      "text/plain": [
       "HTMLMath(value='<b><font size=\"+2\">Exercise 2')"
      ]
     },
     "metadata": {},
     "output_type": "display_data"
    },
    {
     "data": {
      "application/vnd.jupyter.widget-view+json": {
       "model_id": "c74a98b53c614e18a493b73abad432f5",
       "version_major": 2,
       "version_minor": 0
      },
      "text/plain": [
       "HTMLMath(value='<font size=\"+1\">For the qubits that are in superposition with respect to standard basis, give …"
      ]
     },
     "metadata": {},
     "output_type": "display_data"
    },
    {
     "data": {
      "application/vnd.jupyter.widget-view+json": {
       "model_id": "6e064627b0b84dfd833af819ddacf730",
       "version_major": 2,
       "version_minor": 0
      },
      "text/plain": [
       "Label(value='')"
      ]
     },
     "metadata": {},
     "output_type": "display_data"
    },
    {
     "data": {
      "application/vnd.jupyter.widget-view+json": {
       "model_id": "27b53bcc49f844d78b91a1f05fd41737",
       "version_major": 2,
       "version_minor": 0
      },
      "text/plain": [
       "HTMLMath(value='<font size=\"+0\">&emsp;Find a basis where is  $\\\\rvert-\\\\rangle = \\\\frac{\\\\rvert0\\\\rangle - \\\\r…"
      ]
     },
     "metadata": {},
     "output_type": "display_data"
    },
    {
     "data": {
      "application/vnd.jupyter.widget-view+json": {
       "model_id": "cb868885754d4a0d83a54e48d95b3629",
       "version_major": 2,
       "version_minor": 0
      },
      "text/plain": [
       "VBox(children=(VBox(children=(HBox(children=(HTML(value=' '), Label(value='')), layout=Layout(height='40px')),…"
      ]
     },
     "metadata": {},
     "output_type": "display_data"
    },
    {
     "data": {
      "application/vnd.jupyter.widget-view+json": {
       "model_id": "81056f9308bd4dad8abf6b9772fc7a6e",
       "version_major": 2,
       "version_minor": 0
      },
      "text/plain": [
       "HTMLMath(value='<font size=\"+0\">&emsp;Find a basis where is $\\\\rvert\\\\psi\\\\rangle = \\\\frac{1}{2}\\\\rvert+\\\\rang…"
      ]
     },
     "metadata": {},
     "output_type": "display_data"
    },
    {
     "data": {
      "application/vnd.jupyter.widget-view+json": {
       "model_id": "0af9480c688d4632b6de9027d853f7c7",
       "version_major": 2,
       "version_minor": 0
      },
      "text/plain": [
       "VBox(children=(VBox(children=(HBox(children=(HTML(value=' '), Label(value='')), layout=Layout(height='40px')),…"
      ]
     },
     "metadata": {},
     "output_type": "display_data"
    },
    {
     "data": {
      "application/vnd.jupyter.widget-view+json": {
       "model_id": "bbb6654f04e344cd84828642d62816a8",
       "version_major": 2,
       "version_minor": 0
      },
      "text/plain": [
       "HTMLMath(value='<font size=\"+0\">&emsp;Find a basis where is $\\\\rvert\\\\psi\\\\rangle = \\\\frac{1+i}{2}\\\\rvert1\\\\ra…"
      ]
     },
     "metadata": {},
     "output_type": "display_data"
    },
    {
     "data": {
      "application/vnd.jupyter.widget-view+json": {
       "model_id": "acf150d9f5fd4e5f95475bc4f9ed7659",
       "version_major": 2,
       "version_minor": 0
      },
      "text/plain": [
       "VBox(children=(VBox(children=(HBox(children=(HTML(value=' '), Label(value='')), layout=Layout(height='40px')),…"
      ]
     },
     "metadata": {},
     "output_type": "display_data"
    },
    {
     "data": {
      "application/vnd.jupyter.widget-view+json": {
       "model_id": "d64446204ea049eba660af010e52340d",
       "version_major": 2,
       "version_minor": 0
      },
      "text/plain": [
       "HTMLMath(value='<font size=\"+0\">&emsp;Find a basis where is $\\\\rvert\\\\psi\\\\rangle = \\\\frac{-\\\\rvert0\\\\rangle+i…"
      ]
     },
     "metadata": {},
     "output_type": "display_data"
    },
    {
     "data": {
      "application/vnd.jupyter.widget-view+json": {
       "model_id": "2f4f052dd1a24c3790ac0c760703c9d3",
       "version_major": 2,
       "version_minor": 0
      },
      "text/plain": [
       "VBox(children=(VBox(children=(HBox(children=(HTML(value=' '), Label(value='')), layout=Layout(height='40px')),…"
      ]
     },
     "metadata": {},
     "output_type": "display_data"
    },
    {
     "data": {
      "application/vnd.jupyter.widget-view+json": {
       "model_id": "d2dd230ebbf1433084cb0a7d939d77db",
       "version_major": 2,
       "version_minor": 0
      },
      "text/plain": [
       "HTMLMath(value='<font size=\"+0\">&emsp;Find a basis where is $\\\\rvert\\\\psi\\\\rangle = \\\\frac{1}{\\\\sqrt{2}}\\\\rver…"
      ]
     },
     "metadata": {},
     "output_type": "display_data"
    },
    {
     "data": {
      "application/vnd.jupyter.widget-view+json": {
       "model_id": "8171a251a9ad4749bcd1f2748a0982f1",
       "version_major": 2,
       "version_minor": 0
      },
      "text/plain": [
       "VBox(children=(VBox(children=(HBox(children=(HTML(value=' '), Label(value='')), layout=Layout(height='40px')),…"
      ]
     },
     "metadata": {},
     "output_type": "display_data"
    },
    {
     "data": {
      "application/vnd.jupyter.widget-view+json": {
       "model_id": "fd1032504d1b470ab7350de525a8a563",
       "version_major": 2,
       "version_minor": 0
      },
      "text/plain": [
       "HTMLMath(value='<font size=\"+0\">&emsp;Find a basis where is $\\\\rvert\\\\psi\\\\rangle = \\\\frac{1+i}{2}\\\\rvert+\\\\ra…"
      ]
     },
     "metadata": {},
     "output_type": "display_data"
    },
    {
     "data": {
      "application/vnd.jupyter.widget-view+json": {
       "model_id": "5b21c46b95bb41aea94fa1908aded38f",
       "version_major": 2,
       "version_minor": 0
      },
      "text/plain": [
       "VBox(children=(VBox(children=(HBox(children=(HTML(value=' '), Label(value='')), layout=Layout(height='40px')),…"
      ]
     },
     "metadata": {},
     "output_type": "display_data"
    }
   ],
   "source": [
    "%run pyfiles/saquiz10_2  #This runs the file that has the quiz code\n",
    "createQuiz10_2()"
   ]
  },
  {
   "cell_type": "markdown",
   "metadata": {
    "slideshow": {
     "slide_type": "slide"
    }
   },
   "source": [
    "#### Final Quiz 10  is in a separate notebook with filename: finalquiz10.ipynb or finalquiz10.pdf. Use whichever is convenient.\n",
    "Final quiz is intended to be completed and submitted to the instructor for grading."
   ]
  }
 ],
 "metadata": {
  "celltoolbar": "Slideshow",
  "kernelspec": {
   "display_name": "Python 3",
   "language": "python",
   "name": "python3"
  },
  "language_info": {
   "codemirror_mode": {
    "name": "ipython",
    "version": 3
   },
   "file_extension": ".py",
   "mimetype": "text/x-python",
   "name": "python",
   "nbconvert_exporter": "python",
   "pygments_lexer": "ipython3",
   "version": "3.5.2"
  }
 },
 "nbformat": 4,
 "nbformat_minor": 2
}
