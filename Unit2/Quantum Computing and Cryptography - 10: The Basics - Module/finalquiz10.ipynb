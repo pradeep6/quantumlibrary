{
 "cells": [
  {
   "cell_type": "markdown",
   "metadata": {},
   "source": [
    "# Final Quiz 10\n",
    "\n",
    "### nanomodule 10\n",
    "\n",
    "#### Name: ________________\n"
   ]
  },
  {
   "cell_type": "markdown",
   "metadata": {},
   "source": [
    "#### Given the following linear expressions answer questions 10.1-10.5. Note that some of the qubits are not expressed in orthonormal basis. You can convert them to orthonormal basis of your choosing.\n",
    "\n",
    "   1. $\\rvert+\\rangle$\n",
    "   \n",
    "   2. $\\frac{1}{\\sqrt{2}}(\\rvert1\\rangle-\\rvert0\\rangle)$\n",
    "   \n",
    "   3. $\\frac{i}{\\sqrt{3}}(\\rvert0\\rangle+\\sqrt{2}\\rvert1\\rangle)$\n",
    "   \n",
    "   4. $\\cos\\theta\\rvert0\\rangle+\\sin\\theta\\rvert1\\rangle$, for any $\\theta$\n",
    "   \n",
    "   5. $\\frac{1}{i\\sqrt{2}}(\\rvert-\\rangle+\\rvert+\\rangle)$\n",
    "   \n",
    "   6. $\\frac{1}{\\sqrt{3}}(\\sqrt{2}\\rvert-\\rangle+\\rvert+\\rangle)$\n",
    "   \n",
    "   7. $\\frac{1}{\\sqrt{4}}\\rvert0\\rangle-\\rvert1\\rangle$\n",
    "   \n",
    "   8. $\\frac{2}{\\sqrt{3}}\\rvert-\\rangle+\\frac{3i}{\\sqrt{2}}\\rvert+\\rangle$\n",
    "   \n",
    "   9. $\\frac{\\sqrt{2}}{3}\\rvert-\\rangle$\n",
    "   \n",
    "   10. $\\frac{1}{\\sqrt{3}}\\rvert0\\rangle-\\frac{2}{\\sqrt{2}}\\rvert1\\rangle$\n"
   ]
  },
  {
   "cell_type": "markdown",
   "metadata": {},
   "source": [
    "<b>10.1 Identify which of the qubits are valid qubits. By valid we mean qubits in normalized form.</b>   "
   ]
  },
  {
   "cell_type": "markdown",
   "metadata": {},
   "source": [
    "<b>10.2 For expressions that do not form valid qubits, re-normalize the co-efficients to convert them into valid qubit expressions.\n",
    "    "
   ]
  },
  {
   "cell_type": "markdown",
   "metadata": {},
   "source": [
    "<b>10.3 Now that you have ten normalized qubits after the last two questions, express each of them in the following basis.</b> (Note some may already be in appropriate basis.)\n",
    "\n",
    "   1. Standard basis $\\{\\rvert0\\rangle, \\rvert1\\rangle\\}$\n",
    "   \n",
    "   2. Diagonal basis $\\{\\rvert+\\rangle, \\rvert-\\rangle\\}$\n",
    "   \n",
    "   3. Yet another basis $\\left\\{\\begin{bmatrix}\\frac{i\\sqrt{3}}{2}\\\\\\frac{1}{2}\\end{bmatrix}, \\begin{bmatrix}\\frac{1}{2}\\\\\\frac{i\\sqrt{3}}{2}\\end{bmatrix}\\right\\}$ "
   ]
  },
  {
   "cell_type": "markdown",
   "metadata": {},
   "source": [
    "<b>10.4 Identify which of the ten qubits are in superposition with respect to the diagonal basis.</b>"
   ]
  },
  {
   "cell_type": "markdown",
   "metadata": {},
   "source": [
    "<b>10.5 Write a Python function that takes a qubit as input in vector form and tell us if it is a valid (normalized) qubit or not."
   ]
  },
  {
   "cell_type": "markdown",
   "metadata": {},
   "source": [
    "<b>10.6 Write a Python function that takes a qubit and an orthonormal basis set as inputs. All inputs are provided in vector form. The function, in its output, returns if the qubit is in superposition with respect to the given basis set or not.</b>"
   ]
  }
 ],
 "metadata": {
  "kernelspec": {
   "display_name": "Python 3",
   "language": "python",
   "name": "python3"
  },
  "language_info": {
   "codemirror_mode": {
    "name": "ipython",
    "version": 3
   },
   "file_extension": ".py",
   "mimetype": "text/x-python",
   "name": "python",
   "nbconvert_exporter": "python",
   "pygments_lexer": "ipython3",
   "version": "3.5.2"
  }
 },
 "nbformat": 4,
 "nbformat_minor": 2
}
