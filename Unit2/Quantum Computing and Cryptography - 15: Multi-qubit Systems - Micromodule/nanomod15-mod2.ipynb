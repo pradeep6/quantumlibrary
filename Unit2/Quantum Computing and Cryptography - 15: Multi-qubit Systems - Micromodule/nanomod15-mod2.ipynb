{
 "cells": [
  {
   "cell_type": "markdown",
   "metadata": {
    "slideshow": {
     "slide_type": "slide"
    }
   },
   "source": [
    "# 15. Multi-qubit Systems\n",
    "\n",
    "### This lesson belongs to nanomodule 15 - module 2\n",
    "\n",
    "<b>Learning Outcomes: </b>\n",
    "\n",
    "1. Students will represent the state of a multi-qubit system.\n",
    "2. Students will be able to construct the basis for a multi-qubit system."
   ]
  },
  {
   "cell_type": "markdown",
   "metadata": {
    "slideshow": {
     "slide_type": "slide"
    }
   },
   "source": [
    "## 15.1 Multi-qubit Systems\n",
    "\n",
    "As one can imagine, to do anything useful on a quantum computer we will have to deal with multiple qubits at any given time. For example a quantum computer may have a register that can hold 8 qubits at any given time. We already know how to represent the state of any single qubit in the register. However, if we can represent the state of the entire system we can do much more than what we've seen so far with the qubits. For example, we can now apply two or even three qubit gates that operate on more than one qubit at a time. We can also represent, what are called entangled qubits or EPR pairs after their discovers Einstein, Podolsky and Rosen. EPR pairs are very powerful tools in quantum cryptography and the famous application of quantum teleportation.\n"
   ]
  },
  {
   "cell_type": "markdown",
   "metadata": {
    "slideshow": {
     "slide_type": "slide"
    }
   },
   "source": [
    "### 15.2 Exponential Growth in State Space\n",
    "\n",
    "Unlike classical systems, the state space of a quantum system grows exponentially with the number of qubits. For example, there are at the most $2^n$ possible states of a system consisting of $n$-classical bits. However, a $n$-qubit quantum system can have many more states than just $2^n$. In fact, it can have infinite possible states!\n",
    "\n",
    "However, these large number of states are confined to a surprisingly small physical space in a quantum system. Another big difference between classical and quantum states is that if a classical system consists of $n$-bits (components) each of these $n$ components can be precisely and completely described independent of each other.\n",
    "\n",
    "Whereas the individual components of a quantum system may not (always) be describable separate from each other. These states (qubits) are called entangled states (qubits) and crucial ingredients in any quantum computation. Entanglement is a uniquely quantum phenomenon with no classical counterpart. In fact, most of the states in a multi-qubit quantum system are entangled!"
   ]
  },
  {
   "cell_type": "markdown",
   "metadata": {
    "slideshow": {
     "slide_type": "slide"
    }
   },
   "source": [
    "### Representing a qubyte\n",
    "\n",
    "In order to represent the state of a quantum register holding eight individual qubits, we take the tensor product of the individual qubit states,\n",
    "\n",
    "$\\begin{bmatrix}1\\\\0\\end{bmatrix}$, $\\begin{bmatrix}0\\\\1\\end{bmatrix}$, $\\begin{bmatrix}0\\\\1\\end{bmatrix}$, $\\begin{bmatrix}1\\\\0\\end{bmatrix}$, $\\begin{bmatrix}0\\\\1\\end{bmatrix}$, $\\begin{bmatrix}0\\\\1\\end{bmatrix}$, $\\begin{bmatrix}1\\\\0\\end{bmatrix}$, $\\begin{bmatrix}1\\\\0\\end{bmatrix}$\n",
    "\n",
    "=$\\rvert0\\rangle\\otimes\\rvert1\\rangle\\otimes\\rvert1\\rangle\\otimes\\rvert0\\rangle\\otimes\\rvert1\\rangle\\otimes\\rvert0\\rangle\\otimes\\rvert1\\rangle\\otimes\\rvert1\\rangle$\n",
    "\n",
    "In vector form, we write the state as $\\begin{matrix}00000000\\\\00000001\\\\\\vdots\\\\01101011\\\\01101100\\\\01101101\\\\\\vdots\\\\11111110\\\\11111111\\end{matrix}\\begin{bmatrix}0\\\\0\\\\\\vdots\\\\0\\\\1\\\\0\\\\\\vdots\\\\0\\\\0\\end{bmatrix}$\n",
    "\n",
    "The bits numbers outside the vector represent the position of that binary string in the vector.\n",
    "\n",
    "The vector space associated with the quantum systems combined through the tensor product, results in a vector space of $2^n$ dimensions."
   ]
  },
  {
   "cell_type": "markdown",
   "metadata": {
    "slideshow": {
     "slide_type": "slide"
    }
   },
   "source": [
    "### 15.3 Tensor Product of Vector Spaces (Recap)\n",
    "\n",
    "Given two vector spaces $V$ and $W$ with bases $B_1=\\{\\rvert v_1\\rangle, \\rvert v_2\\rangle, \\ldots, \\rvert v_m\\rangle\\}$ and $B_2=\\{\\rvert w_1\\rangle, \\rvert w_2\\rangle, \\ldots, \\rvert w_n\\rangle\\}$, respectively. Then the tensor product of the two vector spaces $V\\otimes W$ has a basis set consisting of elements of the form $\\rvert v_i\\rangle\\otimes \\rvert w_j\\rangle$. Here $\\otimes$ is the tensor product of two vectors.\n",
    "\n",
    "#### Example: \n",
    "\n",
    "Consider a vector space $V$ with basis $B_1=\\left\\{\\begin{bmatrix}0\\\\1\\end{bmatrix}, \\begin{bmatrix}1\\\\0\\end{bmatrix}\\right\\}$ and a vector space $W$ with basis $B_2=\\left\\{\\frac{1}{\\sqrt{2}}\\begin{bmatrix}1\\\\1\\end{bmatrix},\\frac{1}{\\sqrt{2}}\\begin{bmatrix}1\\\\-1\\end{bmatrix}\\right\\}$, then the basis for $V\\otimes W$ is given by $B_1\\otimes B_2=\\left\\{\\frac{1}{\\sqrt{2}}\\begin{bmatrix}0\\\\1\\end{bmatrix}\\otimes\\begin{bmatrix}1\\\\1\\end{bmatrix},\\ldots\\right\\}$\n",
    "\n",
    "Properties of tensor product can be found in earlier nanomodules."
   ]
  },
  {
   "cell_type": "markdown",
   "metadata": {
    "slideshow": {
     "slide_type": "slide"
    }
   },
   "source": [
    "Recall that we often drop the symbol for tensor product when there is no ambiguity. For example, $\\rvert v\\rangle\\otimes\\rvert w\\rangle$ may be written as $\\rvert v\\rangle\\rvert w\\rangle$ and even $\\rvert vw\\rangle$."
   ]
  },
  {
   "cell_type": "markdown",
   "metadata": {
    "slideshow": {
     "slide_type": "slide"
    }
   },
   "source": [
    "### Orthogonal Basis\n",
    "\n",
    "Now if the bases for $\\rvert v\\rangle$, $\\left\\{\\rvert v_i\\rangle\\right\\}$, are orthonormal and similarly bases for $\\rvert w\\rangle$, $\\left\\{\\rvert w_j\\rangle\\right\\}$, are orthonormal, then the basis for their tensor product is also orthonormal.\n",
    "\n",
    "Further, since the tensor product of two vectors $v$ and $w$ has a dimension of $dim(v)\\times dim(w)$, the tensor product of $n$ two-dimensional vector spaces has $2^n$ dimensions."
   ]
  },
  {
   "cell_type": "markdown",
   "metadata": {
    "slideshow": {
     "slide_type": "slide"
    }
   },
   "source": [
    "***\n",
    "***\n",
    "**Decomposability:** Given the above discussion it may seem that given any element in $V\\otimes W$, we should be able to write it as a tensor product of a vector (element) in $V$ and another element $W$. However, it turns out that for a majority of the cases, elements in $V\\otimes W$ cannot be decomposed in such a fashion! This may seem surprising because all the elements in $V\\otimes W$ are indeed linear combination of such elements.\n",
    "***\n",
    "***"
   ]
  },
  {
   "cell_type": "markdown",
   "metadata": {
    "slideshow": {
     "slide_type": "slide"
    }
   },
   "source": [
    "## 15.4 State Space of a n-qubit System\n",
    "\n",
    "Let's start with a small example. Given two qubits in standard basis $V$ and $W$, the states of the joint quantum system are represented by unit vectors in vector space $V\\otimes W$.\n",
    "\n",
    "The two basis are $V=\\{\\rvert0\\rangle, \\rvert1\\rangle\\}$ and $W=\\{\\rvert0\\rangle, \\rvert1\\rangle\\}$. Then the joint state has vectors in $V\\otimes W=\\{\\rvert0\\rangle\\otimes\\rvert0\\rangle, \\rvert0\\rangle\\otimes\\rvert1\\rangle, \\rvert1\\rangle\\otimes\\rvert0\\rangle, \\rvert1\\rangle\\otimes\\rvert1\\rangle\\}$.\n",
    "\n",
    "This is often written in short hand as $V\\otimes W=\\{\\rvert0\\rangle\\rvert0\\rangle, \\rvert0\\rangle\\rvert1\\rangle, \\rvert1\\rangle\\rvert0\\rangle, \\rvert1\\rangle\\rvert1\\rangle\\}=\\{\\rvert00\\rangle, \\rvert01\\rangle, \\rvert10\\rangle, \\rvert11\\rangle\\}$"
   ]
  },
  {
   "cell_type": "markdown",
   "metadata": {
    "slideshow": {
     "slide_type": "slide"
    }
   },
   "source": [
    "This can be easily generalized to $n$-qubits in standard vector spaces. The basis for such a joint system would be represented by\n",
    "\n",
    "$\\{\\rvert0\\rangle_{n-1}\\otimes\\rvert0\\rangle_{n-2}\\otimes\\ldots\\otimes\\rvert0\\rangle_1\\otimes\\rvert0\\rangle_0,\\\\\n",
    "\\rvert0\\rangle_{n-1}\\otimes\\rvert0\\rangle_{n-2}\\otimes\\ldots\\otimes\\rvert0\\rangle_1\\otimes\\rvert1\\rangle_0,\\\\\n",
    "\\rvert0\\rangle_{n-1}\\otimes\\rvert0\\rangle_{n-2}\\otimes\\ldots\\otimes\\rvert1\\rangle_1\\otimes\\rvert0\\rangle_0,\\\\\n",
    "\\vdots\\\\\n",
    "\\rvert1\\rangle_{n-1}\\otimes\\rvert1\\rangle_{n-2}\\otimes\\ldots\\otimes\\rvert1\\rangle_1\\otimes\\rvert1\\rangle_0\\}$\n",
    "\n",
    "which can be rewritten as,\n",
    "\n",
    "$\\{\\rvert00\\ldots00\\rangle, \\rvert00\\ldots01\\rangle, \\rvert00\\ldots10\\rangle, \\rvert11\\ldots11\\rangle\\}$"
   ]
  },
  {
   "cell_type": "markdown",
   "metadata": {
    "slideshow": {
     "slide_type": "slide"
    }
   },
   "source": [
    "## 15.5 Which Qubit belongs to whom?\n",
    "\n",
    "Often in quantum protocols different entities (Alice, Bob and Eve) control different qubits. Or two different processors may hold these qubits in a quantum computer. In order to represent the joint state of such a system while keeping track of which qubit belongs to which entity we often make use of subscripts or other mechanisms as discussed below.\n",
    "\n",
    "For example, if in a 3 qubit system, the first qubit is controlled by Alice and the last two qubits are controlled by Bob then we may write it like,\n",
    "\n",
    "1. $\\frac{\\sqrt{3}}{\\sqrt{5}}\\rvert0\\rangle\\rvert11\\rangle+\\frac{\\sqrt{2}}{\\sqrt{5}}\\rvert1\\rangle\\rvert01\\rangle$, or\n",
    "2. $\\frac{\\sqrt{3}}{\\sqrt{5}}\\rvert0\\rangle_A\\rvert00\\rangle_B+\\frac{\\sqrt{2}}{\\sqrt{5}}\\rvert1\\rangle_A\\rvert01\\rangle_B$"
   ]
  },
  {
   "cell_type": "markdown",
   "metadata": {
    "slideshow": {
     "slide_type": "slide"
    }
   },
   "source": [
    "If one wanted to use the vector notation to represent the joint state, things may get ambiguous because there is no way to put subscripts on the vector notation or group the qubits into Dirac notations. As a result, the order to qubits need to be well established.\n",
    "\n",
    "For example, given qubits $\\frac{1}{\\sqrt{2}}(\\rvert0\\rangle+\\rvert1\\rangle)$ and $\\rvert1\\rangle$ may be written as joint state $\\frac{1}{\\sqrt{2}}(\\rvert0\\rangle+\\rvert1\\rangle)\\otimes\\rvert1\\rangle=\\frac{1}{\\sqrt{2}}\\rvert01\\rangle+\\frac{1}{\\sqrt{2}}\\rvert11\\rangle$"
   ]
  },
  {
   "cell_type": "markdown",
   "metadata": {
    "slideshow": {
     "slide_type": "slide"
    }
   },
   "source": [
    "In vector form, this is written as,\n",
    "\n",
    "$$\\begin{bmatrix}\n",
    "0\\\\\n",
    "\\frac{1}{\\sqrt{2}}\\\\\n",
    "0\\\\\n",
    "\\frac{1}{\\sqrt{2}}\n",
    "\\end{bmatrix}$$\n",
    "\n",
    "The vectors in the standard basis for the joint state are given by,\n",
    "$$\\left\\{\\begin{bmatrix}1\\\\0\\\\0\\\\0\\end{bmatrix},\n",
    "\\begin{bmatrix}0\\\\1\\\\0\\\\0\\end{bmatrix},\n",
    "\\begin{bmatrix}0\\\\0\\\\1\\\\0\\end{bmatrix},\n",
    "\\begin{bmatrix}0\\\\0\\\\0\\\\1\\end{bmatrix}\\right\\}$$"
   ]
  },
  {
   "cell_type": "markdown",
   "metadata": {
    "slideshow": {
     "slide_type": "slide"
    }
   },
   "source": [
    "Although standard basis is used most often, other bases exist. One example is the Bell basis denoted by $\\{\\rvert\\phi^+\\rangle, \\rvert\\phi^-\\rangle, \\rvert\\psi^+\\rangle, \\rvert\\psi^-\\rangle\\}$ where,\n",
    "\n",
    "$\\rvert\\phi^+\\rangle = \\frac{1}{\\sqrt{2}}(\\rvert00\\rangle+\\rvert11\\rangle)$\n",
    "\n",
    "$\\rvert\\phi^-\\rangle = \\frac{1}{\\sqrt{2}}(\\rvert00\\rangle-\\rvert11\\rangle)$\n",
    "\n",
    "$\\rvert\\psi^+\\rangle = \\frac{1}{\\sqrt{2}}(\\rvert01\\rangle+\\rvert10\\rangle)$\n",
    "\n",
    "$\\rvert\\psi^-\\rangle = \\frac{1}{\\sqrt{2}}(\\rvert01\\rangle-\\rvert10\\rangle)$"
   ]
  },
  {
   "cell_type": "markdown",
   "metadata": {
    "slideshow": {
     "slide_type": "slide"
    }
   },
   "source": [
    "## 15.6 Global Phase\n",
    "\n",
    "Just as in the case of single qubits, joint quantum states that differ only in a global phase represent the same qubit.\n",
    "\n",
    "For example,\n",
    "\n",
    "$$\\rvert01\\rangle\\sim e^{i\\phi}\\rvert01\\rangle$$\n",
    "\n",
    "$$\\frac{1}{\\sqrt{2}}(\\rvert00\\rangle+\\rvert11\\rangle)\\sim e^{i\\phi}(\\frac{1}{\\sqrt{2}}\\rvert00\\rangle+\\frac{1}{\\sqrt{2}}\\rvert11\\rangle)$$"
   ]
  },
  {
   "cell_type": "markdown",
   "metadata": {
    "slideshow": {
     "slide_type": "slide"
    }
   },
   "source": [
    "***\n",
    "***\n",
    "## Quiz 15.1 Self Assessment Quiz\n",
    "\n",
    "1. Write the joint state representation of the following qubits in both Ket and vector notations.\n",
    "\n",
    "    a. $\\rvert0\\rangle$ and $\\frac{1}{\\sqrt{2}}(\\rvert0\\rangle+\\rvert1\\rangle)$\n",
    "\n",
    "    b. $\\frac{1}{\\sqrt{2}}(\\rvert0\\rangle-\\rvert1\\rangle)$ and $\\frac{i}{3}\\rvert1\\rangle$\n",
    "\n",
    "    c. $\\frac{1}{\\sqrt{3}}\\rvert0\\rangle+\\frac{i\\sqrt{2}}{\\sqrt{3}}\\rvert1\\rangle$, $\\rvert0\\rangle$ and $\\frac{1}{\\sqrt{2}}(\\rvert0\\rangle+\\rvert1\\rangle)$\n",
    "\n",
    "    d. $\\frac{2}{\\sqrt{3}}\\rvert0\\rangle$, $-\\rvert1\\rangle$, and $\\rvert-\\rangle$\n",
    "\n",
    "    e. $-\\rvert0\\rangle$ and $\\rvert1\\rangle$\n",
    "<br><br>\n",
    "2. Write the following states in terms of the Bell basis.\n",
    "\n",
    "    a. $\\rvert00\\rangle$\n",
    "    \n",
    "    b. $\\rvert+\\rangle\\rvert-\\rangle$\n",
    "    \n",
    "    c. $\\frac{1}{\\sqrt{3}}(\\rvert00\\rangle+\\rvert01\\rangle+\\rvert10\\rangle)$"
   ]
  },
  {
   "cell_type": "markdown",
   "metadata": {
    "slideshow": {
     "slide_type": "slide"
    }
   },
   "source": [
    "#### Final Quiz 15 is in a separate notebook with filename: finalquiz15.ipynb.\n",
    "Final quiz is intended to be completed and submitted to the instructor for grading."
   ]
  },
  {
   "cell_type": "markdown",
   "metadata": {
    "slideshow": {
     "slide_type": "slide"
    }
   },
   "source": [
    "***\n",
    "***\n",
    "### End of nanomodule 15\n",
    "***\n",
    "***"
   ]
  }
 ],
 "metadata": {
  "celltoolbar": "Slideshow",
  "kernelspec": {
   "display_name": "Python 3",
   "language": "python",
   "name": "python3"
  },
  "language_info": {
   "codemirror_mode": {
    "name": "ipython",
    "version": 3
   },
   "file_extension": ".py",
   "mimetype": "text/x-python",
   "name": "python",
   "nbconvert_exporter": "python",
   "pygments_lexer": "ipython3",
   "version": "3.5.2"
  }
 },
 "nbformat": 4,
 "nbformat_minor": 2
}
