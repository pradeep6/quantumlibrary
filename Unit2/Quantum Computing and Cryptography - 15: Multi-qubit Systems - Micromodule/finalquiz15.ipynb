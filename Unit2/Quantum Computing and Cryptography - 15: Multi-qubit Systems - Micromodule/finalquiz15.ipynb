{
 "cells": [
  {
   "cell_type": "markdown",
   "metadata": {},
   "source": [
    "# Final Quiz 15\n",
    "\n",
    "### nanomodule 15\n",
    "\n",
    "#### Name: ________________"
   ]
  },
  {
   "cell_type": "markdown",
   "metadata": {
    "slideshow": {
     "slide_type": "slide"
    }
   },
   "source": [
    "<b>15.1 Write the joint state representation of the following qubits in both Ket and vector notations.</b>\n",
    "\n",
    "a. $\\frac{\\rvert0\\rangle+i\\rvert1\\rangle}{\\sqrt{2}}$ and $i\\rvert0\\rangle$.\n",
    "\n",
    "b. $\\frac{\\rvert00\\rangle+i\\rvert11\\rangle}{\\sqrt{2}}$ and $\\frac{-\\rvert0\\rangle-\\rvert1\\rangle}{\\sqrt{2}}$.\n",
    "\n",
    "c. $\\frac{\\rvert10\\rangle+\\rvert11\\rangle}{\\sqrt{2}}$ and $\\frac{\\sqrt{3}}{5}\\left(\\frac{\\rvert0\\rangle+\\rvert1\\rangle}{\\sqrt{2}}\\right)$\n",
    "\n",
    "d. $-\\rvert1\\rangle$ and $e^{i\\pi}\\rvert1\\rangle$\n"
   ]
  },
  {
   "cell_type": "markdown",
   "metadata": {
    "slideshow": {
     "slide_type": "slide"
    }
   },
   "source": [
    "<b>15.2 Write the vector notation for following qubits given in Ket notation.</b>\n",
    "\n",
    "a. $\\frac{\\rvert001\\rangle+\\rvert100\\rangle}{\\sqrt{2}}$\n",
    "\n",
    "b. $\\frac{\\rvert011\\rangle+\\rvert100\\rangle+\\rvert111\\rangle}{\\sqrt{3}}$\n",
    "\n",
    "c. $\\frac{\\sqrt{2}}{\\sqrt{3}}\\rvert00\\rangle+\\frac{1}{\\sqrt{3}}\\rvert01\\rangle$\n",
    "\n",
    "d. $\\frac{\\rvert0\\rangle+\\rvert1\\rangle}{\\sqrt{2}} \\otimes \\frac{-\\rvert0\\rangle-\\rvert1\\rangle}{\\sqrt{2}}$\n",
    "\n",
    "e. $i\\rvert00\\rangle \\otimes \\frac{\\rvert0\\rangle+i\\rvert1\\rangle}{\\sqrt{2}}$"
   ]
  },
  {
   "cell_type": "markdown",
   "metadata": {
    "slideshow": {
     "slide_type": "slide"
    }
   },
   "source": [
    "<b>15.3 Which of the qubits in question 2 can be decomposed into tensor product of two or more qubits?</b>"
   ]
  },
  {
   "cell_type": "markdown",
   "metadata": {
    "slideshow": {
     "slide_type": "slide"
    }
   },
   "source": [
    "<b>15.4 Write the following qubits in terms of basis created by $V\\otimes W$, where $V=\\{\\rvert0\\rangle, \\rvert1\\rangle\\}$ and $W=\\{\\rvert+\\rangle, \\rvert-\\rangle\\}$.</b>\n",
    "\n",
    "a. $\\rvert00\\rangle$\n",
    "\n",
    "b. $\\rvert+\\rangle\\rvert-\\rangle$\n",
    "\n",
    "c. $\\frac{1}{\\sqrt{3}}\\left(\\rvert00\\rangle+\\rvert01\\rangle+\\rvert10\\rangle\\right)$\n",
    "\n",
    "d. $\\frac{1}{\\sqrt{2}}(\\rvert00\\rangle+\\rvert11\\rangle)$\n",
    "\n",
    "e. $\\frac{1}{\\sqrt{2}}(\\rvert0+\\rangle+\\rvert1-\\rangle)$"
   ]
  },
  {
   "cell_type": "markdown",
   "metadata": {},
   "source": [
    "### End of final quiz 15"
   ]
  }
 ],
 "metadata": {
  "celltoolbar": "Slideshow",
  "kernelspec": {
   "display_name": "Python 3",
   "language": "python",
   "name": "python3"
  },
  "language_info": {
   "codemirror_mode": {
    "name": "ipython",
    "version": 3
   },
   "file_extension": ".py",
   "mimetype": "text/x-python",
   "name": "python",
   "nbconvert_exporter": "python",
   "pygments_lexer": "ipython3",
   "version": "3.5.2"
  }
 },
 "nbformat": 4,
 "nbformat_minor": 2
}
