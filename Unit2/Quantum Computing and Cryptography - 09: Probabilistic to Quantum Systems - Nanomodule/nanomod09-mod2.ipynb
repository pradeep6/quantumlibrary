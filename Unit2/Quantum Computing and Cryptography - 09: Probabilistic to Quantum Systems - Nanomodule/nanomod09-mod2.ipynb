{
 "cells": [
  {
   "cell_type": "markdown",
   "metadata": {
    "slideshow": {
     "slide_type": "slide"
    }
   },
   "source": [
    "# 9. From Probabilistic Systems to Quantum Systems \n",
    "\n",
    "### This lesson belongs to nanomodule 9 - micromodule 1 - module 1\n",
    "\n",
    "<b>Learning Outcomes:</b>\n",
    "\n",
    "Upon completion of this lesson:\n",
    "\n",
    "9.1 Students will understand the notion of probabilistic systems.\n",
    "\n",
    "9.2 Students will be able to create probability vectors for probabilistic systems and apply simple operations on them.\n",
    "\n",
    "9.3 Students will understand the notion of qubits and types of operations that can be applied to them.\n",
    "\n",
    "9.4 Students will understand the notion of modeling light photons as qubits and determine some of their basic properties with respect to measurement."
   ]
  },
  {
   "cell_type": "markdown",
   "metadata": {
    "slideshow": {
     "slide_type": "slide"
    }
   },
   "source": [
    "## 9.1 A Probabilistic Model\n",
    "\n",
    "Since probability is at the heart of quantum mechanics, before diving into quantum mechanics it is helpful to first consider a classical probabilistic system. This is <b><i>not</i></b> to say that classical probabilistic systems are equivalent to quantum systems, but some analogies are helpful to start with.\n",
    "\n",
    "Consider a physical system, called $S$, with some finite (non-empty set $\\tau$) of possible states. For instance, $\\tau=\\{0, 1\\}$, when the system $S$ represents a classical bit. Now assume that, for some reason, we do not exactly know what state $S$ is going to be in at any given moment. However, we do know what state it may probably be in. In other words, we know that at time $t$, $S$ may be in state 0 with probability $\\frac{4}{5}$ and in state 1 with probability $\\frac{1}{5}$.\n",
    "\n",
    "It is common to represent this type of knowledge about state of $S$ with a <i>probability vector</i>, which is essentially a $2\\times1$ vector with non-negative real numbers that sum to 1. In the above example, the associated probability vector for $S$ is, \n",
    "\n",
    "$$v = \\begin{array}{c} \\mathbf{0}\\\\ \\mathbf{1}\\\\ \\end{array}\n",
    "\\begin{bmatrix}\\frac{4}{5}\\\\ \\frac{1}{5}\\end{bmatrix}$$\n",
    "\n",
    "Here the bold numbers outside the vector represents the entry that is indexed by bit 0 and bit 1.\n",
    "\n",
    "<b>An abstract notion:</b> This practice of using \"positional notation\" where depending on which row we put a (complex/real) number in, denotes an entirely new state, will be very useful and turnout to be a succinct way of representing a large number of quantum states."
   ]
  },
  {
   "cell_type": "markdown",
   "metadata": {
    "slideshow": {
     "slide_type": "slide"
    }
   },
   "source": [
    "## 9.2 \"Looking at the state\" (Measurement)\n",
    "\n",
    "Of course, the uncertainity in the knowledge of state of $S$ only persists until we actually \"look\" at the system. Once we look at the system, we will know exactly what state the system is in. Therefore, looking at the state of $S$ changes our knowledge about its state. Consequently, if we look at the system described by vector $v$ and find that the system is in state 0, the description of our knowledge changes from $v$ to a new probability vector $w$:\n",
    "\n",
    "$$ v=\\begin{bmatrix}\\frac{4}{5}\\\\ \\frac{1}{5}\\end{bmatrix}\\rightarrow w=\\begin{bmatrix}1\\\\0\\end{bmatrix}$$\n",
    "\n",
    "Vector $w$ just represents the fact that we know that system $S$ is in state 0. If instead of 0, we see a 1, the vector would be $\\begin{bmatrix}0\\\\1\\end{bmatrix}$."
   ]
  },
  {
   "cell_type": "markdown",
   "metadata": {
    "slideshow": {
     "slide_type": "slide"
    }
   },
   "source": [
    "## Quiz 9.1 (Self Assessment)\n",
    "\n",
    "<b>Fill in the blanks:</b>\n",
    "\n",
    "1. If a two state system has $\\frac{3}{4}$ probability of being in state 0 then we can represent this with a proabibility vector __________________.\n",
    "\n",
    "2. If I \"look\" at a two state system and find it in state 1, then my knowledge of the state of the system is given by ________________.\n",
    "\n",
    "3. Consider a system that can be in states 1, 2 and 3. We know that at time $t$ the system may be in state 1 with probability $\\frac{1}{4}$, in state 2 with probability $\\frac{1}{2}$ and in state 3 with probability $\\frac{1}{4}$. The probability vector representing our system can be written as ____________________________.\n",
    "\n",
    "4. If we \"look\" at a three state system and find it in state 2, then the probability vector representing our knowledge is given by __________________________________."
   ]
  },
  {
   "cell_type": "code",
   "execution_count": 1,
   "metadata": {},
   "outputs": [
    {
     "data": {
      "application/vnd.jupyter.widget-view+json": {
       "model_id": "a05e0973c55c4cd9975e33960597fa54",
       "version_major": 2,
       "version_minor": 0
      },
      "text/plain": [
       "VBox(children=(HTML(value='<b><font size=\"+2\">Quiz 9.1 Self Assessment Quiz'), HTML(value='<b><font size=\"-1\"<…"
      ]
     },
     "metadata": {},
     "output_type": "display_data"
    },
    {
     "data": {
      "application/vnd.jupyter.widget-view+json": {
       "model_id": "82b2433f62f74ea38abf370c79963a96",
       "version_major": 2,
       "version_minor": 0
      },
      "text/plain": [
       "HTMLMath(value='<font size=\"+0\">&emsp;1. If a two state system has $\\\\frac{3}{4}$ probability of being in stat…"
      ]
     },
     "metadata": {},
     "output_type": "display_data"
    },
    {
     "data": {
      "application/vnd.jupyter.widget-view+json": {
       "model_id": "e2a99e7f7db841dd8365e9af682afbf6",
       "version_major": 2,
       "version_minor": 0
      },
      "text/plain": [
       "VBox(children=(VBox(children=(HBox(children=(HTML(value=' '), Label(value='')), layout=Layout(height='40px')),…"
      ]
     },
     "metadata": {},
     "output_type": "display_data"
    },
    {
     "data": {
      "application/vnd.jupyter.widget-view+json": {
       "model_id": "aee3b12026784aa6811a137544c208cf",
       "version_major": 2,
       "version_minor": 0
      },
      "text/plain": [
       "HTMLMath(value='<font size=\"+0\">&emsp;2. If I \"look\" at a two state system and find it in state 1, then my kno…"
      ]
     },
     "metadata": {},
     "output_type": "display_data"
    },
    {
     "data": {
      "application/vnd.jupyter.widget-view+json": {
       "model_id": "02f6cb097193432187f57b1a604f477b",
       "version_major": 2,
       "version_minor": 0
      },
      "text/plain": [
       "VBox(children=(VBox(children=(HBox(children=(HTML(value=' '), Label(value='')), layout=Layout(height='40px')),…"
      ]
     },
     "metadata": {},
     "output_type": "display_data"
    },
    {
     "data": {
      "application/vnd.jupyter.widget-view+json": {
       "model_id": "352032644bfd4e43b9a313342e359113",
       "version_major": 2,
       "version_minor": 0
      },
      "text/plain": [
       "HTMLMath(value='<font size=\"+0\">&emsp;3. Consider a system that can be in states 1, 2 and 3. We know that at t…"
      ]
     },
     "metadata": {},
     "output_type": "display_data"
    },
    {
     "data": {
      "application/vnd.jupyter.widget-view+json": {
       "model_id": "decba47eefb34641ac4874100d4a5984",
       "version_major": 2,
       "version_minor": 0
      },
      "text/plain": [
       "VBox(children=(VBox(children=(HBox(children=(HTML(value=' '), Label(value='')), layout=Layout(height='40px')),…"
      ]
     },
     "metadata": {},
     "output_type": "display_data"
    },
    {
     "data": {
      "application/vnd.jupyter.widget-view+json": {
       "model_id": "c712b15668574905a664dd625a331c1a",
       "version_major": 2,
       "version_minor": 0
      },
      "text/plain": [
       "HTMLMath(value='<font size=\"+0\">&emsp;4. If we \"look\" at a three state system and find it in state 2, then the…"
      ]
     },
     "metadata": {},
     "output_type": "display_data"
    },
    {
     "data": {
      "application/vnd.jupyter.widget-view+json": {
       "model_id": "ed7cf27d0ead48b984f82448377676c7",
       "version_major": 2,
       "version_minor": 0
      },
      "text/plain": [
       "VBox(children=(VBox(children=(HBox(children=(HTML(value=' '), Label(value='')), layout=Layout(height='40px')),…"
      ]
     },
     "metadata": {},
     "output_type": "display_data"
    }
   ],
   "source": [
    "%run pyfiles/saquiz9_1  #This runs the file that has the quiz code\n",
    "createQuiz9_1()"
   ]
  },
  {
   "cell_type": "markdown",
   "metadata": {
    "slideshow": {
     "slide_type": "slide"
    }
   },
   "source": [
    "## 9.3 Operation\n",
    "\n",
    "Let's discuss what kind of operations can be performed on the system $S$. Our knowledge of the state of the system is given by the probability vector $v$. Since it's a two state system, we can perform the usual operations such as NOT or identity operations (which amounts to doing nothing). We will see that all pysically meaningful operations can be represented by a matrix and the effect of the operation can be determined by the matrix-vector multiplication. For instance, \n",
    "$$\n",
    "\\mbox{NOT} = \\begin{bmatrix}0&1\\\\1&0\\end{bmatrix}\\mbox{   and   I} = \\begin{bmatrix}1&0\\\\0&1\\end{bmatrix}\n",
    "$$\n",
    "represent the NOT and identity operations, respectively. Applying the NOT operation to $v=\\begin{bmatrix}\\frac{4}{5}\\\\ \\frac{1}{5}\\end{bmatrix}$ we get,\n",
    "$$\n",
    "w=\\mbox{NOT}\\cdot v= \\begin{bmatrix}0&1\\\\1&0\\end{bmatrix}\\cdot\\begin{bmatrix}\\frac{4}{5}\\\\ \\frac{1}{5}\\end{bmatrix} = \\begin{bmatrix}\\frac{1}{5}\\\\ \\frac{4}{5}\\end{bmatrix}\n",
    "$$\n",
    "\n",
    "This means that now the probabilities of finding the system in state 0 and state 1 are reversed. Remember, we still haven't looked at the system.\n",
    "\n",
    "Further, we can also perform a NOT operation with a probability of $\\frac{3}{4}$ and do nothing with probability $1-\\frac{3}{4}=\\frac{1}{4}$. This last probabilistic application of NOT can be represented by the following matrix.\n",
    "$$\n",
    "\\mbox{NOT}_{prob} = \\begin{bmatrix}\\frac{1}{4}& \\frac{3}{4}\\\\\\frac{3}{4}& \\frac{1}{4}\\end{bmatrix}\n",
    "$$\n"
   ]
  },
  {
   "cell_type": "markdown",
   "metadata": {
    "slideshow": {
     "slide_type": "slide"
    }
   },
   "source": [
    "## 9.4 From Classical to Quantum\n",
    "\n",
    "So far we've seen that the state of classical systems can be described using probability vectors, where the elements are real numbers in $[0,1]$. \n",
    "\n",
    "We'll see that quantum systems are also represented using vectors such as these but with three major differences:\n",
    "\n",
    "1. The vectors are no longer just representing our \"knowledge\" of the state of the system, they <u>are</u> the system-state themselves.\n",
    "\n",
    "2. The elements of the vector are no longer restricted to real numbers. They are complex numbers.\n",
    "\n",
    "3. The elements of the vector representing the quantum states no longer add to 1 but their modulus squared does.\n",
    "\n",
    "Following are some examples of valid quantum states,\n",
    "$$\n",
    "\\begin{bmatrix}\\frac{i}{\\sqrt{2}}\\\\ \\frac{1}{\\sqrt{2}}\\end{bmatrix},\n",
    "\\begin{bmatrix}\\frac{2}{\\sqrt{5}}\\\\ \\frac{1}{\\sqrt{5}}\\end{bmatrix},\n",
    "\\begin{bmatrix}1\\\\0\\end{bmatrix},\n",
    "\\begin{bmatrix}0\\\\1\\end{bmatrix},\n",
    "\\begin{bmatrix}\\frac{\\sqrt{3}}{2}\\\\ \\frac{i}{2}\\end{bmatrix}\n",
    "$$\n",
    "\n",
    "One of the reasons that complex numbers are used is that probabilities based on real numbers can only increase. However, experimental evidence shows that sometimes quantum states \"cancel\" out each other. This is called \"interference\"."
   ]
  },
  {
   "cell_type": "markdown",
   "metadata": {
    "slideshow": {
     "slide_type": "slide"
    }
   },
   "source": [
    "## 9.5 Probabilities and Unitary Matrices\n",
    "\n",
    "Since our formulation for quantum states includes complex entries, it turns out that the condition it must satisfy is that the modulus squared of the entries add to 1. All the above examples satisfy this requirement.\n",
    "\n",
    "With this requirement, the transition matrices need to be unitary matrices that will preserve the property that sum of modulus squared of the entries in a state vector is 1. Remember that a unitary matrix is a matrix $U$ such that $U\\cdot \\overline{U}^T=I$, where $\\overline{U}^T$ is the complex conjugate transpose of $U$. It is common to write $\\overline{U}^T$ as $U^\\dagger$. Examples of unitary matrices include,\n",
    "\n",
    "$$\\begin{bmatrix}\n",
    "\\frac{1}{\\sqrt{2}}&\\frac{1}{\\sqrt{2}}&0\\\\\n",
    "\\frac{-i}{\\sqrt{2}}&\\frac{i}{\\sqrt{2}}&0\\\\\n",
    "0&0&i\n",
    "\\end{bmatrix},\n",
    "\\begin{bmatrix}\n",
    "0&-i\\\\\n",
    "i&0\n",
    "\\end{bmatrix}, \\mbox{ and }\n",
    "\\begin{bmatrix}\n",
    "1&0\\\\\n",
    "0&-1\n",
    "\\end{bmatrix}\n",
    "$$\n"
   ]
  },
  {
   "cell_type": "markdown",
   "metadata": {
    "slideshow": {
     "slide_type": "slide"
    }
   },
   "source": [
    "## 9.6 Going forwards and backwards in time\n",
    "\n",
    "If we consider $U$ to be the matrix that changes the state of the system from time $t$ to $t+1$, then $U^\\dagger$ takes it from $t$ to $t-1$. This makes quantum systems reversible."
   ]
  },
  {
   "cell_type": "markdown",
   "metadata": {
    "slideshow": {
     "slide_type": "slide"
    }
   },
   "source": [
    "## Quiz 9.2 (Self Assessment)\n",
    "\n",
    "1. When quantum system states are represented using vectors, what are the elements of such a vector: complex numbers, real numbers or integers?\n",
    "\n",
    "2. What type of matrices are valid operators for a quantum system?\n",
    "\n",
    "3. Are quantum systems reversible? Why?"
   ]
  },
  {
   "cell_type": "code",
   "execution_count": 2,
   "metadata": {
    "scrolled": false
   },
   "outputs": [
    {
     "data": {
      "application/vnd.jupyter.widget-view+json": {
       "model_id": "b1ded6c6810548f4868aca733076e58e",
       "version_major": 2,
       "version_minor": 0
      },
      "text/html": [
       "<p>Failed to display Jupyter Widget of type <code>VBox</code>.</p>\n",
       "<p>\n",
       "  If you're reading this message in the Jupyter Notebook or JupyterLab Notebook, it may mean\n",
       "  that the widgets JavaScript is still loading. If this message persists, it\n",
       "  likely means that the widgets JavaScript library is either not installed or\n",
       "  not enabled. See the <a href=\"https://ipywidgets.readthedocs.io/en/stable/user_install.html\">Jupyter\n",
       "  Widgets Documentation</a> for setup instructions.\n",
       "</p>\n",
       "<p>\n",
       "  If you're reading this message in another frontend (for example, a static\n",
       "  rendering on GitHub or <a href=\"https://nbviewer.jupyter.org/\">NBViewer</a>),\n",
       "  it may mean that your frontend doesn't currently support widgets.\n",
       "</p>\n"
      ],
      "text/plain": [
       "VBox(children=(HTML(value='<b><font size=\"+2\">Quiz 9.2 Self Assessment Quiz'),), layout=Layout(display='flex_flow', height='100%'))"
      ]
     },
     "metadata": {},
     "output_type": "display_data"
    },
    {
     "data": {
      "application/vnd.jupyter.widget-view+json": {
       "model_id": "9bec68dcdd014f90b1a2e86ae3d849c7",
       "version_major": 2,
       "version_minor": 0
      },
      "text/html": [
       "<p>Failed to display Jupyter Widget of type <code>HTMLMath</code>.</p>\n",
       "<p>\n",
       "  If you're reading this message in the Jupyter Notebook or JupyterLab Notebook, it may mean\n",
       "  that the widgets JavaScript is still loading. If this message persists, it\n",
       "  likely means that the widgets JavaScript library is either not installed or\n",
       "  not enabled. See the <a href=\"https://ipywidgets.readthedocs.io/en/stable/user_install.html\">Jupyter\n",
       "  Widgets Documentation</a> for setup instructions.\n",
       "</p>\n",
       "<p>\n",
       "  If you're reading this message in another frontend (for example, a static\n",
       "  rendering on GitHub or <a href=\"https://nbviewer.jupyter.org/\">NBViewer</a>),\n",
       "  it may mean that your frontend doesn't currently support widgets.\n",
       "</p>\n"
      ],
      "text/plain": [
       "HTMLMath(value='<font size=\"+0\">&emsp;1. When quantum system states are represented using vectors, what are the elements of such a vector: complex numbers, real numbers or integers?')"
      ]
     },
     "metadata": {},
     "output_type": "display_data"
    },
    {
     "data": {
      "application/vnd.jupyter.widget-view+json": {
       "model_id": "c44f777b2eb8476085589e7c331ef786",
       "version_major": 2,
       "version_minor": 0
      },
      "text/html": [
       "<p>Failed to display Jupyter Widget of type <code>VBox</code>.</p>\n",
       "<p>\n",
       "  If you're reading this message in the Jupyter Notebook or JupyterLab Notebook, it may mean\n",
       "  that the widgets JavaScript is still loading. If this message persists, it\n",
       "  likely means that the widgets JavaScript library is either not installed or\n",
       "  not enabled. See the <a href=\"https://ipywidgets.readthedocs.io/en/stable/user_install.html\">Jupyter\n",
       "  Widgets Documentation</a> for setup instructions.\n",
       "</p>\n",
       "<p>\n",
       "  If you're reading this message in another frontend (for example, a static\n",
       "  rendering on GitHub or <a href=\"https://nbviewer.jupyter.org/\">NBViewer</a>),\n",
       "  it may mean that your frontend doesn't currently support widgets.\n",
       "</p>\n"
      ],
      "text/plain": [
       "VBox(children=(VBox(children=(HBox(children=(HTML(value=' '), Label(value='')), layout=Layout(height='40px')), VBox(children=(HTMLMath(value='<font size=\"+0\">&emsp;<font size=\"+3\"> (Answer Hidden)'),), layout=Layout(align_items='center', height='105px')), Label(value='')), layout=Layout(border='solid 1px', height='145px', width='75%')), HBox(children=(Button(button_style='info', description='Show Answer', icon='check', layout=Layout(width='100%'), style=ButtonStyle(font_weight='1000'), tooltip='Show Answer'),), layout=Layout(width='75%'))), layout=Layout(align_items='center'))"
      ]
     },
     "metadata": {},
     "output_type": "display_data"
    },
    {
     "data": {
      "application/vnd.jupyter.widget-view+json": {
       "model_id": "4e22b854b4ba4e318ed0eacfe1ba06e8",
       "version_major": 2,
       "version_minor": 0
      },
      "text/html": [
       "<p>Failed to display Jupyter Widget of type <code>HTMLMath</code>.</p>\n",
       "<p>\n",
       "  If you're reading this message in the Jupyter Notebook or JupyterLab Notebook, it may mean\n",
       "  that the widgets JavaScript is still loading. If this message persists, it\n",
       "  likely means that the widgets JavaScript library is either not installed or\n",
       "  not enabled. See the <a href=\"https://ipywidgets.readthedocs.io/en/stable/user_install.html\">Jupyter\n",
       "  Widgets Documentation</a> for setup instructions.\n",
       "</p>\n",
       "<p>\n",
       "  If you're reading this message in another frontend (for example, a static\n",
       "  rendering on GitHub or <a href=\"https://nbviewer.jupyter.org/\">NBViewer</a>),\n",
       "  it may mean that your frontend doesn't currently support widgets.\n",
       "</p>\n"
      ],
      "text/plain": [
       "HTMLMath(value='<font size=\"+0\">&emsp;2. What type of matrices are valid operators for a quantum system?')"
      ]
     },
     "metadata": {},
     "output_type": "display_data"
    },
    {
     "data": {
      "application/vnd.jupyter.widget-view+json": {
       "model_id": "063a50975a8a4afdaec058598ea14b67",
       "version_major": 2,
       "version_minor": 0
      },
      "text/html": [
       "<p>Failed to display Jupyter Widget of type <code>VBox</code>.</p>\n",
       "<p>\n",
       "  If you're reading this message in the Jupyter Notebook or JupyterLab Notebook, it may mean\n",
       "  that the widgets JavaScript is still loading. If this message persists, it\n",
       "  likely means that the widgets JavaScript library is either not installed or\n",
       "  not enabled. See the <a href=\"https://ipywidgets.readthedocs.io/en/stable/user_install.html\">Jupyter\n",
       "  Widgets Documentation</a> for setup instructions.\n",
       "</p>\n",
       "<p>\n",
       "  If you're reading this message in another frontend (for example, a static\n",
       "  rendering on GitHub or <a href=\"https://nbviewer.jupyter.org/\">NBViewer</a>),\n",
       "  it may mean that your frontend doesn't currently support widgets.\n",
       "</p>\n"
      ],
      "text/plain": [
       "VBox(children=(VBox(children=(HBox(children=(HTML(value=' '), Label(value='')), layout=Layout(height='40px')), VBox(children=(HTMLMath(value='<font size=\"+0\">&emsp;<font size=\"+3\"> (Answer Hidden)'),), layout=Layout(align_items='center', height='105px')), Label(value='')), layout=Layout(border='solid 1px', height='145px', width='75%')), HBox(children=(Button(button_style='info', description='Show Answer', icon='check', layout=Layout(width='100%'), style=ButtonStyle(font_weight='1000'), tooltip='Show Answer'),), layout=Layout(width='75%'))), layout=Layout(align_items='center'))"
      ]
     },
     "metadata": {},
     "output_type": "display_data"
    },
    {
     "data": {
      "application/vnd.jupyter.widget-view+json": {
       "model_id": "29b16efecc4040a39f39ab413d623a4f",
       "version_major": 2,
       "version_minor": 0
      },
      "text/html": [
       "<p>Failed to display Jupyter Widget of type <code>HTMLMath</code>.</p>\n",
       "<p>\n",
       "  If you're reading this message in the Jupyter Notebook or JupyterLab Notebook, it may mean\n",
       "  that the widgets JavaScript is still loading. If this message persists, it\n",
       "  likely means that the widgets JavaScript library is either not installed or\n",
       "  not enabled. See the <a href=\"https://ipywidgets.readthedocs.io/en/stable/user_install.html\">Jupyter\n",
       "  Widgets Documentation</a> for setup instructions.\n",
       "</p>\n",
       "<p>\n",
       "  If you're reading this message in another frontend (for example, a static\n",
       "  rendering on GitHub or <a href=\"https://nbviewer.jupyter.org/\">NBViewer</a>),\n",
       "  it may mean that your frontend doesn't currently support widgets.\n",
       "</p>\n"
      ],
      "text/plain": [
       "HTMLMath(value='<font size=\"+0\">&emsp;3. Are quantum systems reversible? Why?')"
      ]
     },
     "metadata": {},
     "output_type": "display_data"
    },
    {
     "data": {
      "application/vnd.jupyter.widget-view+json": {
       "model_id": "e7d072c6bf2140db863881d18e170277",
       "version_major": 2,
       "version_minor": 0
      },
      "text/html": [
       "<p>Failed to display Jupyter Widget of type <code>VBox</code>.</p>\n",
       "<p>\n",
       "  If you're reading this message in the Jupyter Notebook or JupyterLab Notebook, it may mean\n",
       "  that the widgets JavaScript is still loading. If this message persists, it\n",
       "  likely means that the widgets JavaScript library is either not installed or\n",
       "  not enabled. See the <a href=\"https://ipywidgets.readthedocs.io/en/stable/user_install.html\">Jupyter\n",
       "  Widgets Documentation</a> for setup instructions.\n",
       "</p>\n",
       "<p>\n",
       "  If you're reading this message in another frontend (for example, a static\n",
       "  rendering on GitHub or <a href=\"https://nbviewer.jupyter.org/\">NBViewer</a>),\n",
       "  it may mean that your frontend doesn't currently support widgets.\n",
       "</p>\n"
      ],
      "text/plain": [
       "VBox(children=(VBox(children=(HBox(children=(HTML(value=' '), Label(value='')), layout=Layout(height='40px')), VBox(children=(HTMLMath(value='<font size=\"+0\">&emsp;<font size=\"+3\"> (Answer Hidden)'),), layout=Layout(align_items='center', height='105px')), Label(value='')), layout=Layout(border='solid 1px', height='145px', width='75%')), HBox(children=(Button(button_style='info', description='Show Answer', icon='check', layout=Layout(width='100%'), style=ButtonStyle(font_weight='1000'), tooltip='Show Answer'),), layout=Layout(width='75%'))), layout=Layout(align_items='center'))"
      ]
     },
     "metadata": {},
     "output_type": "display_data"
    }
   ],
   "source": [
    "%run pyfiles/saquiz9_2  #This runs the file that has the quiz code\n",
    "createQuiz9_2()"
   ]
  },
  {
   "cell_type": "markdown",
   "metadata": {},
   "source": [
    "## 9.7 The Classroom Experiment: A Polarized Photon\n",
    "\n",
    "Photons exhibit quantum mechanical properties and enable most of quantum cryptography protocols and algorithms. Experiments with polarized photons can be done with ease, and low cost using a light source (say a laser pointer or a computer monitor screen) and three sheets of linearly polarizing filters (easily available on ebay/Amazon). This simple experiment directly leads to a formulation of the concept of a qubit and illustrates many interesting properties of quantum measurement. \n",
    "\n",
    "The experimental set up: Assuming you are using a laser pointer, shine the laser pointer at a screen and take a note of its intensity. Now place one of the polarizing filter sheets between the laser pointer and the screen as shown in figure 1. Assuming that the filter is vertically polarized as shown in the figure. You will see a dip in light intensity on the screen. This is because the polarizing filter filters out most of the photons and only allows the photons that are vertically polarized through it. Therefore, the photons that are hitting the screen are now vertically polarized. We will call the light intensity on the screen at this stage as bright.\n",
    "\n",
    "![nanomod9-fig1.png](nanomod9-fig1.png)\n",
    "\n",
    "<b>Figure 1.</b> Illustrates a unpolarized source of photons, a vertically polarizing filter and a screen. When the unpolarized photons hit the filter, only vertically polarized photons are allowed through and other polarizations are blocked. We consider the screen to be bright at this point.\n"
   ]
  },
  {
   "cell_type": "markdown",
   "metadata": {
    "slideshow": {
     "slide_type": "slide"
    }
   },
   "source": [
    "Now the fun starts! Place the second polarizing filter in front of the one that you just placed. However, make sure that this filter points horizontally. Therefore, the two polarizing filters are now orthogonal to each other. What do you think will happen to the amount of light you see on the screen?\n",
    "\n",
    "![nanomod9-fig2.png](nanomod9-fig2.png)\n",
    "\n",
    "<b>Figure 2.</b> Illustrates the effect of placing a second filter (horizontally polarized) between the first filter and the screen. The screen now goes dark because only vertically polarized photons hit the second filter and being orthogonal to the filter are not allowed through."
   ]
  },
  {
   "cell_type": "markdown",
   "metadata": {
    "slideshow": {
     "slide_type": "slide"
    }
   },
   "source": [
    "You should expect to see absolutely no light come through at all now. This is because after the first filter the only photons that are coming through are vertically polarized. When the vertically polarized photons hit the filter that is aligned horizontally, all the photons are blocked! Hence no light reaches the screen.\n",
    "\n",
    "Now consider the third filter placed between the first and second filters as shown in figure 3. We’ve deliberately not drawn an arrow on the filter yet (for the direction of polarization).\n",
    "\n",
    "![nanomod9-fig3.png](nanomod9-fig3.png)\n",
    "\n",
    "<b>Figure 3.</b> Now we place a third filter between the vertically and horizontally polarized filter. We haven't chosen an angle of polarization for this new filter yet. Think of the different scenarios and their effect on the brightness of the screen."
   ]
  },
  {
   "cell_type": "markdown",
   "metadata": {
    "slideshow": {
     "slide_type": "slide"
    }
   },
   "source": [
    "Think about the following scenarios.\n",
    "\n",
    "1.\tFilter three is pointing upwards (aligned with filter 1).\n",
    "2.\tFilter three is pointing horizontally (aligned with filter 2).\n",
    "3.\tFilter three is off axis at some angle $\\theta$ with respect to the horizontal.\n",
    "\n",
    "Can you estimate how much light should you see on the screen for each of these cases?\n",
    "\n",
    "It is easy to see that when the third filter is aligned vertically or horizontally no light reaches the screen. However, it comes as a surprise that as we start rotating the third filter light starts to reach the screen! In fact, the spot on the screen keeps getting brighter and brighter until a certain angle $\\theta$ and then starts to reduce again. This is shown in figure 4.\n",
    "\n",
    "![nanomod9-fig4.png](nanomod9-fig4.png)\n",
    "\n",
    "<b>Figure 4.</b> This figure illustrates the effect of assuming the new filter being polarized at $45^\\circ$. For exaggerated effect we've shown the number of polarized photons reduce exactly by half at each step. Note that the photons emerging take on the polarization angle of the filter they just passed through. All previous polarization information is lost!"
   ]
  },
  {
   "cell_type": "markdown",
   "metadata": {
    "slideshow": {
     "slide_type": "slide"
    }
   },
   "source": [
    "## Quiz 9.3 (Self Assessment)\n",
    "What angle should the middle filter be polarized at so that the screen is:\n",
    "\n",
    "1. The brightest.\n",
    "2. About $\\frac{1}{3}$ bright."
   ]
  },
  {
   "cell_type": "code",
   "execution_count": 9,
   "metadata": {
    "scrolled": false
   },
   "outputs": [
    {
     "data": {
      "application/vnd.jupyter.widget-view+json": {
       "model_id": "cb8c3211c8c7430b9b82bb91c65c26a0",
       "version_major": 2,
       "version_minor": 0
      },
      "text/html": [
       "<p>Failed to display Jupyter Widget of type <code>VBox</code>.</p>\n",
       "<p>\n",
       "  If you're reading this message in the Jupyter Notebook or JupyterLab Notebook, it may mean\n",
       "  that the widgets JavaScript is still loading. If this message persists, it\n",
       "  likely means that the widgets JavaScript library is either not installed or\n",
       "  not enabled. See the <a href=\"https://ipywidgets.readthedocs.io/en/stable/user_install.html\">Jupyter\n",
       "  Widgets Documentation</a> for setup instructions.\n",
       "</p>\n",
       "<p>\n",
       "  If you're reading this message in another frontend (for example, a static\n",
       "  rendering on GitHub or <a href=\"https://nbviewer.jupyter.org/\">NBViewer</a>),\n",
       "  it may mean that your frontend doesn't currently support widgets.\n",
       "</p>\n"
      ],
      "text/plain": [
       "VBox(children=(HTML(value='<b><font size=\"+2\">Quiz 9.3 Self Assessment Quiz'), HTML(value='<font size=\"+0\">What angle should the middle filter be polarized at so that the screen is:')), layout=Layout(display='flex_flow', height='100%'))"
      ]
     },
     "metadata": {},
     "output_type": "display_data"
    },
    {
     "data": {
      "application/vnd.jupyter.widget-view+json": {
       "model_id": "64b90c5755c0407f94bd4da06604ccd6",
       "version_major": 2,
       "version_minor": 0
      },
      "text/html": [
       "<p>Failed to display Jupyter Widget of type <code>HTMLMath</code>.</p>\n",
       "<p>\n",
       "  If you're reading this message in the Jupyter Notebook or JupyterLab Notebook, it may mean\n",
       "  that the widgets JavaScript is still loading. If this message persists, it\n",
       "  likely means that the widgets JavaScript library is either not installed or\n",
       "  not enabled. See the <a href=\"https://ipywidgets.readthedocs.io/en/stable/user_install.html\">Jupyter\n",
       "  Widgets Documentation</a> for setup instructions.\n",
       "</p>\n",
       "<p>\n",
       "  If you're reading this message in another frontend (for example, a static\n",
       "  rendering on GitHub or <a href=\"https://nbviewer.jupyter.org/\">NBViewer</a>),\n",
       "  it may mean that your frontend doesn't currently support widgets.\n",
       "</p>\n"
      ],
      "text/plain": [
       "HTMLMath(value='<font size=\"+0\">&emsp;1. The brightest.')"
      ]
     },
     "metadata": {},
     "output_type": "display_data"
    },
    {
     "data": {
      "application/vnd.jupyter.widget-view+json": {
       "model_id": "747d8f7e60fc4da1b1dab03b7e633abb",
       "version_major": 2,
       "version_minor": 0
      },
      "text/html": [
       "<p>Failed to display Jupyter Widget of type <code>VBox</code>.</p>\n",
       "<p>\n",
       "  If you're reading this message in the Jupyter Notebook or JupyterLab Notebook, it may mean\n",
       "  that the widgets JavaScript is still loading. If this message persists, it\n",
       "  likely means that the widgets JavaScript library is either not installed or\n",
       "  not enabled. See the <a href=\"https://ipywidgets.readthedocs.io/en/stable/user_install.html\">Jupyter\n",
       "  Widgets Documentation</a> for setup instructions.\n",
       "</p>\n",
       "<p>\n",
       "  If you're reading this message in another frontend (for example, a static\n",
       "  rendering on GitHub or <a href=\"https://nbviewer.jupyter.org/\">NBViewer</a>),\n",
       "  it may mean that your frontend doesn't currently support widgets.\n",
       "</p>\n"
      ],
      "text/plain": [
       "VBox(children=(VBox(children=(HBox(children=(HTML(value=' '), Label(value='')), layout=Layout(height='40px')), VBox(children=(HTMLMath(value='<font size=\"+0\">&emsp;<font size=\"+3\"> (Answer Hidden)'),), layout=Layout(align_items='center', height='105px')), Label(value='')), layout=Layout(border='solid 1px', height='145px', width='75%')), HBox(children=(Button(button_style='info', description='Show Answer', icon='check', layout=Layout(width='100%'), style=ButtonStyle(font_weight='1000'), tooltip='Show Answer'),), layout=Layout(width='75%'))), layout=Layout(align_items='center'))"
      ]
     },
     "metadata": {},
     "output_type": "display_data"
    },
    {
     "data": {
      "application/vnd.jupyter.widget-view+json": {
       "model_id": "c0474e81ad1343e7b21a18f16ad37b24",
       "version_major": 2,
       "version_minor": 0
      },
      "text/html": [
       "<p>Failed to display Jupyter Widget of type <code>HTMLMath</code>.</p>\n",
       "<p>\n",
       "  If you're reading this message in the Jupyter Notebook or JupyterLab Notebook, it may mean\n",
       "  that the widgets JavaScript is still loading. If this message persists, it\n",
       "  likely means that the widgets JavaScript library is either not installed or\n",
       "  not enabled. See the <a href=\"https://ipywidgets.readthedocs.io/en/stable/user_install.html\">Jupyter\n",
       "  Widgets Documentation</a> for setup instructions.\n",
       "</p>\n",
       "<p>\n",
       "  If you're reading this message in another frontend (for example, a static\n",
       "  rendering on GitHub or <a href=\"https://nbviewer.jupyter.org/\">NBViewer</a>),\n",
       "  it may mean that your frontend doesn't currently support widgets.\n",
       "</p>\n"
      ],
      "text/plain": [
       "HTMLMath(value='<font size=\"+0\">&emsp;2. About $\\\\frac{1}{3}$ bright.')"
      ]
     },
     "metadata": {},
     "output_type": "display_data"
    },
    {
     "data": {
      "application/vnd.jupyter.widget-view+json": {
       "model_id": "ba3c4fd7e94b488bb2f96c07e8855515",
       "version_major": 2,
       "version_minor": 0
      },
      "text/html": [
       "<p>Failed to display Jupyter Widget of type <code>VBox</code>.</p>\n",
       "<p>\n",
       "  If you're reading this message in the Jupyter Notebook or JupyterLab Notebook, it may mean\n",
       "  that the widgets JavaScript is still loading. If this message persists, it\n",
       "  likely means that the widgets JavaScript library is either not installed or\n",
       "  not enabled. See the <a href=\"https://ipywidgets.readthedocs.io/en/stable/user_install.html\">Jupyter\n",
       "  Widgets Documentation</a> for setup instructions.\n",
       "</p>\n",
       "<p>\n",
       "  If you're reading this message in another frontend (for example, a static\n",
       "  rendering on GitHub or <a href=\"https://nbviewer.jupyter.org/\">NBViewer</a>),\n",
       "  it may mean that your frontend doesn't currently support widgets.\n",
       "</p>\n"
      ],
      "text/plain": [
       "VBox(children=(VBox(children=(HBox(children=(HTML(value=' '), Label(value='')), layout=Layout(height='40px')), VBox(children=(HTMLMath(value='<font size=\"+0\">&emsp;<font size=\"+3\"> (Answer Hidden)'),), layout=Layout(align_items='center', height='105px')), Label(value='')), layout=Layout(border='solid 1px', height='145px', width='75%')), HBox(children=(Button(button_style='info', description='Show Answer', icon='check', layout=Layout(width='100%'), style=ButtonStyle(font_weight='1000'), tooltip='Show Answer'),), layout=Layout(width='75%'))), layout=Layout(align_items='center'))"
      ]
     },
     "metadata": {},
     "output_type": "display_data"
    }
   ],
   "source": [
    "%run pyfiles/saquiz9_3  #This runs the file that has the quiz code\n",
    "createQuiz9_3()"
   ]
  },
  {
   "cell_type": "markdown",
   "metadata": {
    "slideshow": {
     "slide_type": "slide"
    }
   },
   "source": [
    "## 9.8 Quantum Theory at Work\n",
    "\n",
    "The photon’s polarization state can be modelled using a unit vector and the direction in which the vector is pointed represents the polarization. We can conveniently write the vertical and horizontal polarizations using the notations: $\\left|\\uparrow\\right>$ and $\\left|\\rightarrow\\right>$, respectively. These are show in figure 5. \n",
    "\n",
    "![nanomod9-fig5.png](nanomod9-fig5.png)\n",
    "\n",
    "<b>Figure 5.</b> This figure models the qubit (photon) in a two dimensional vector space. This modeling will be every useful throughout the course of our study.\n",
    "\n",
    "Now we can see that any other arbitrary polarization can be represented using a linear combination of these two basis states as follows: $\\left|\\phi\\right>=\\alpha\\left|\\uparrow\\right>+\\beta\\left|\\rightarrow\\right>$. Further, we can see that $\\alpha=cos\\theta$ and $\\beta=sin\\theta$ for our purposes. Therefore, it is straightforward to compute the “quantum mechanical” representation of a photon polarized at $\\theta$ degrees; other than $0^\\circ$ (horizontal) and $90^\\circ$ (verticle).\n",
    "\n",
    "The coefficients $\\alpha$ and $\\beta$ are called the probability amplitudes or just amplitudes. The reason is that when a photon $\\left|\\phi\\right>$ encounters, say, a horizontally polarizing filter then the probability that it will be transmitted is equal to $\\left|\\alpha\\right|^2$. Similarly, when the photon encounters a vertically polarizing filter, then the probability that it will be transmitted is given by $\\left|\\beta\\right|^2$. We take the modulus squared of the numbers here because in general the qubit can have complex amplitudes, but probabilities have to be positive. No one know why nature has chosen things to be this way but this is how they are!\n",
    "\n",
    "You can read Scott Aaronson’s interesting theory behind why things are the way they are on his blog: https://www.scottaaronson.com/democritus/lec9.html\n",
    "\n",
    "When $\\alpha$ and $\\beta$ are both non-zero we say that the photon is in the state of a <b><i>superposition</i></b>. And after measurement, the photon if it passes through takes on the new polarization irrespective of its previous state."
   ]
  },
  {
   "cell_type": "markdown",
   "metadata": {
    "slideshow": {
     "slide_type": "slide"
    }
   },
   "source": [
    "Going back to the light intensities on the screen. We see that the probability that a photon gets transmitted is given by the modulus squared of the angle it makes with the axis of the polarizing filter. It is easy to see that the transmission probability is maximized when the angle that incoming photon makes with the filter's axis of polarization is $45^\\circ$. At this angle, half the photons get transmitted and half get blocked. Therefore, figure 4 reduces the number of transmitted photons by half after every filter. Although, in real life it is a probabilistic system and never quite so exact!\n"
   ]
  },
  {
   "cell_type": "markdown",
   "metadata": {
    "slideshow": {
     "slide_type": "slide"
    }
   },
   "source": [
    "## 9.9 Conclusions\n",
    "\n",
    "Open-ended discussion: The legendary Richard Feynman gave some amazing lectures on the topic of quantum mechanics at Caltech in 1960s. These lectures have been made available for free by Caltech at the following link: http://www.feynmanlectures.caltech.edu/.\n",
    "\n",
    "Read Chapter 1: http://www.feynmanlectures.caltech.edu/III_01.html on double slit experiment.\n",
    "\n",
    "Draw parallels between the double slit experiment and the experiment we just discussed involving three filters. What observations can you make about the model of qubit that we constructed as compared to the one that Feynman constructs? Does our model need any modifications to faithfully represent a general qubit or is it \"complete\"?"
   ]
  }
 ],
 "metadata": {
  "celltoolbar": "Slideshow",
  "kernelspec": {
   "display_name": "Python 3",
   "language": "python",
   "name": "python3"
  },
  "language_info": {
   "codemirror_mode": {
    "name": "ipython",
    "version": 3
   },
   "file_extension": ".py",
   "mimetype": "text/x-python",
   "name": "python",
   "nbconvert_exporter": "python",
   "pygments_lexer": "ipython3",
   "version": "3.7.2"
  }
 },
 "nbformat": 4,
 "nbformat_minor": 2
}
