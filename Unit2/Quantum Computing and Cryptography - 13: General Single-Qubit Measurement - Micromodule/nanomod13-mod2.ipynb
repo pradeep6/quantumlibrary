{
 "cells": [
  {
   "cell_type": "markdown",
   "metadata": {},
   "source": [
    "# 13. General Single-Qubit Measurement\n",
    "\n",
    "### This lesson belongs to nanomodule 13 - micromodule 2 - module 1\n",
    "\n",
    "<b>Learning Outcomes: </b>\n",
    "\n",
    "Upon completion of this lesson:\n",
    "\n",
    "13.1 Students will understand the theory behind projective measurements.\n",
    "\n",
    "13.2 Students will understand the measurement postulate in quantum mechanics for projective measurements.\n",
    "\n",
    "13.3 Students will be able to compute the projection operators for a basis.\n",
    "\n",
    "13.4 Students will be able to calculate the probabilities of outcomes for a given basis using projection operator and determine the final state of the qubit.\n",
    "\n",
    "13.5 Students will understand the density matrix formulation and will be able to apply it for projective measurements.\n"
   ]
  },
  {
   "cell_type": "markdown",
   "metadata": {},
   "source": [
    "## 13.1 Quantum Measurements\n",
    "\n",
    "Here we discuss the general theory behind single-qubit measurements. It has no counterpart in classical domain. There are three types of quantum measurements: The basis-state measurements, projection or von Neumann measurements and the POVM measurements. We focus on projective measurements."
   ]
  },
  {
   "cell_type": "markdown",
   "metadata": {},
   "source": [
    "## 13.2 Computing the Projection\n",
    "\n",
    "Given a qubit $\\rvert\\psi\\rangle$ and set of orthonormal basis states $B=\\{\\rvert b_1\\rangle, \\rvert b_2\\rangle, \\ldots, \\rvert b_{n}\\rangle\\}$, we can express the qubit as,\n",
    "\n",
    "$$\\rvert\\psi\\rangle=c_1\\rvert b_1\\rangle+c_2\\rvert b_2\\rangle+\\ldots+c_n \\rvert b_{n}\\rangle$$\n",
    "\n",
    "where $c_i\\in\\mathbb{C}$. The projection of $\\rvert\\psi\\rangle$ on state $\\rvert b_i\\rangle$ can be calculated by taking the left inner product as shown below:\n",
    "\n",
    "$$\\langle b_i\\rvert\\psi\\rangle=\\sum_{b_j}\\langle b_i\\rvert c_j\\rvert b_j\\rangle=c_j\\langle b_i\\rvert b_j\\rangle$$\n",
    "\n",
    "Since the basis set is orthonormal, $\\langle b_i\\rvert b_j\\rangle=1$ only when $i=j$ and zero otherwise. Therefore, the inner product reduces to:\n",
    "\n",
    "$$\\langle b_i\\rvert\\psi\\rangle=c_i$$\n",
    "\n",
    "Therefore $c_i$ is the projection of $\\rvert\\psi\\rangle$ on the pure state $\\rvert b_i\\rangle$."
   ]
  },
  {
   "cell_type": "markdown",
   "metadata": {},
   "source": [
    "## 13.3 The Projection Operators\n",
    "\n",
    "We define a projection operator $U_{b}=\\rvert b\\rangle\\langle b\\rvert$ that projects any qubit onto the state $\\rvert b\\rangle$. We can verify that,\n",
    "\n",
    "$$U_{b}=(\\rvert b\\rangle\\langle b\\rvert)\\rvert b\\rangle=\\rvert b\\rangle\\langle b\\rvert b\\rangle=\\rvert b\\rangle\\delta_{bb}=\\rvert b\\rangle$$\n",
    "\n",
    "where $\\delta_{bb}$ is the Kronecker delta.\n",
    "\n",
    "Given the expansion of qubit $\\rvert\\psi\\rangle$ in terms of components of basis $B$, above, we can apply the corresponding projection operator $U_{b_i}$ to $\\rvert\\psi\\rangle$ as follows,\n",
    "\n",
    "$$U_{b_i}\\rvert\\psi\\rangle=(\\rvert b_i\\rangle\\langle b_i\\rvert)\\sum_{b_j}c_j\\rvert b_j\\rangle=\\sum_{b_j}c_j\\rvert b_i\\rangle\\langle b_i\\rvert b_j\\rangle=\\rvert b_i\\rangle\\sum_{b_j}c_j\\delta_{b_ib_j}=c_i\\rvert b_i\\rangle$$\n",
    "\n",
    "We see that application of the projection operator $U_{b_i}$ projects $\\rvert\\psi\\rangle$ onto the basis component; the projection being $c_i\\rvert b_i\\rangle$. Given this result, we can rewrite the expression for $\\rvert\\psi\\rangle$ as follows,\n",
    "\n",
    "$$\\rvert\\psi\\rangle=\\left(\\sum_{b_i}\\rvert b_i\\rangle\\langle b_i\\rvert\\right)\\rvert\\psi\\rangle$$"
   ]
  },
  {
   "cell_type": "markdown",
   "metadata": {},
   "source": [
    "From the above relation we see that the measurement operator $\\sum_{b_i} U_{b_i}=I$, where $I$ is the identity matrix. In other words, the sum of the projection operator over pure states is the identity operator.\n",
    "\n",
    "It is interesting to note that $U_b^2=U_b$. Therefore, projecting a state twice is the same as projecting the state once. It will produce the same result. In other words, repeated measurements of a state in the same basis produces the same result again and again."
   ]
  },
  {
   "cell_type": "markdown",
   "metadata": {},
   "source": [
    "### Example\n",
    "\n",
    "Consider qubit $\\rvert\\psi\\rangle=\\frac{1}{\\sqrt{3}}\\rvert0\\rangle+\\frac{\\sqrt{2}}{\\sqrt{3}}\\rvert1\\rangle$. Denote the projection operators for the standard basis as $U_{\\rvert0\\rangle}$ and $U_{\\rvert1\\rangle}$ then,\n",
    "\n",
    "$$U_{\\rvert0\\rangle}=\\rvert0\\rangle\\langle0\\rvert$$ and\n",
    "\n",
    "$$U_{\\rvert1\\rangle}=\\rvert1\\rangle\\langle1\\rvert$$"
   ]
  },
  {
   "cell_type": "markdown",
   "metadata": {},
   "source": [
    "Applying these projection operators to $\\rvert\\psi\\rangle$ we get,\n",
    "\n",
    "$$U_{\\rvert0\\rangle}\\rvert\\psi\\rangle=\\rvert0\\rangle\\langle0\\rvert\\left(\\frac{1}{\\sqrt{3}}\\rvert0\\rangle+\\frac{\\sqrt{2}}{\\sqrt{3}}\\rvert1\\rangle\\right)=\\frac{1}{\\sqrt{3}}\\rvert0\\rangle\\langle0\\rvert0\\rangle+\\frac{\\sqrt{2}}{\\sqrt{3}}\\rvert0\\rangle\\langle0\\rvert1\\rangle=\\frac{1}{\\sqrt{3}}\\rvert0\\rangle\\langle0\\rvert0\\rangle=\\frac{1}{\\sqrt{3}}\\rvert0\\rangle$$\n",
    "\n",
    "Similarly,\n",
    "$$U_{\\rvert1\\rangle}\\rvert\\psi\\rangle=\\frac{\\sqrt{2}}{\\sqrt{3}}\\rvert1\\rangle$$\n"
   ]
  },
  {
   "cell_type": "markdown",
   "metadata": {},
   "source": [
    "## Quantum Measurement Postulate\n",
    "\n",
    "Consider a collection of measurement operators $\\{M_m\\}$, on the state space of the system being measured and the state $\\rvert\\psi\\rangle$ of the quantum system just before measurement. Index $m$ refers the $m^{th}$ measurement outcome that may occur. Then the probability that $m$ occurs is given by,\n",
    "\n",
    "$$p(m)=\\langle\\psi\\rvert M_m^\\dagger M_m\\rvert\\psi\\rangle$$ \n",
    "\n",
    "and post-measurement state of the system is,\n",
    "\n",
    "$$\\frac{M_m\\rvert\\psi\\rangle}{\\sqrt{\\langle\\psi\\rvert M_m^\\dagger M_m\\rvert\\psi\\rangle}}$$"
   ]
  },
  {
   "cell_type": "markdown",
   "metadata": {},
   "source": [
    "Since the probabilities of each outcome must add to 1, $\\sum_m p(m)=\\sum_m\\langle\\psi\\rvert M_m^\\dagger M_m\\rvert\\psi\\rangle=1$, it implies that $\\sum_m M_m^\\dagger M_m=I$.\n",
    "\n",
    "Therefore, if the basis used is orthonormal then the measurement postulate reduces to projective measurement that we've discussed so far."
   ]
  },
  {
   "cell_type": "markdown",
   "metadata": {},
   "source": [
    "The two projection operators discussed above form the measurement operators for the computational/standard basis. $M_0=\\rvert0\\rangle\\langle0\\rvert$ and $M_1=\\rvert1\\rangle\\langle1\\rvert$. Both the measurement operators here are Hermitian operators. Therefore, $M_0^2=M_0$ and $M_1^2=M_1$. The completeness relation above states that $M_0^\\dagger M_0+M_1^\\dagger M_1= M_0+M_1=I$.\n",
    "\n",
    "Consider a state $\\psi=\\frac{i}{\\sqrt{4}}\\rvert0\\rangle+\\frac{i+\\sqrt{2}}{\\sqrt{4}}\\rvert1\\rangle$. Using the measurement postulate we see that the probability of obtaining a measurement outcome of 0 is,\n",
    "\n",
    "$$p(0)=\\langle\\psi\\rvert M_0^\\dagger M_0\\rvert\\psi\\rangle=\\langle\\psi\\rvert M_0\\rvert\\psi\\rangle=\\left|\\frac{i}{\\sqrt{4}}\\right|^2=\\frac{1}{4}$$"
   ]
  },
  {
   "cell_type": "markdown",
   "metadata": {},
   "source": [
    "Similarly, the probability of obtaining outcome 1 is $p(1)=\\left|\\frac{i+\\sqrt{2}}{\\sqrt{4}}\\right|^2$."
   ]
  },
  {
   "cell_type": "markdown",
   "metadata": {},
   "source": [
    "When the measurement outcome is 0, the post measurement state becomes,\n",
    "\n",
    "$$\\frac{M_0\\rvert\\psi\\rangle}{\\left|\\frac{i}{\\sqrt{4}}\\right|}=\\frac{\\frac{i}{\\sqrt{4}}}{\\left|\\frac{i}{\\sqrt{4}}\\right|}\\rvert0\\rangle$$\n",
    "\n",
    "and when the measurement outcome is 1, the post measurement state becomes,\n",
    "\n",
    "$$\\frac{M_1\\rvert\\psi\\rangle}{\\left|\\frac{1}{2}\\right|}=\\frac{\\frac{i+\\sqrt{2}}{\\sqrt{4}}}{\\left|\\frac{i+\\sqrt{2}}{\\sqrt{4}}\\right|}\\rvert1\\rangle$$"
   ]
  },
  {
   "cell_type": "markdown",
   "metadata": {},
   "source": [
    "Since the above post-measurements states only differ in a global phase from $\\rvert0\\rangle$ and $\\rvert1\\rangle$ and global phase can be effectively ignored, the post measurement states are effectively $\\rvert0\\rangle$ and $\\rvert1\\rangle$."
   ]
  },
  {
   "cell_type": "markdown",
   "metadata": {},
   "source": [
    "## Self-Assessment Quiz 1\n",
    "<b>Maybe used for in-class hands-on practice.</b>\n",
    "\n",
    "<b>1.1 What are the measurement operators for the following basis sets?</b>\n",
    "\n",
    "   1. $\\{\\rvert+\\rangle, \\rvert-\\rangle\\}$\n",
    "<br><br>    \n",
    "   2. $\\left\\{\\begin{bmatrix}\\frac{i\\sqrt{3}}{\\sqrt{5}}\\\\\\frac{\\sqrt{2}}{\\sqrt{5}}\\end{bmatrix}, \\begin{bmatrix}\\frac{\\sqrt{2}}{\\sqrt{5}}\\\\\\frac{i\\sqrt{3}}{\\sqrt{5}}\\end{bmatrix}\\right\\}$\n",
    "<br><br>    \n",
    "   3. $\\left\\{\\frac{1}{\\sqrt{3}}\\rvert+\\rangle-\\frac{\\sqrt{2}}{\\sqrt{3}}\\rvert-\\rangle, -\\frac{\\sqrt{2}}{\\sqrt{3}}\\rvert+\\rangle-\\frac{1}{\\sqrt{3}}\\rvert-\\rangle\\right\\}$\n",
    "<br>\n",
    "\n",
    "<b>1.2 For each of the measurement operators above, calculate the probability of collapse for the following qubits and the final state of the qubit after measurement.</b>\n",
    "<br>\n",
    "   1. $\\rvert+\\rangle$\n",
    "<br><br>         \n",
    "   2. $\\frac{i}{\\sqrt{3}}\\rvert0\\rangle-\\frac{\\sqrt{2}}{\\sqrt{3}}\\rvert1\\rangle$"
   ]
  },
  {
   "cell_type": "markdown",
   "metadata": {},
   "source": [
    "## Density Matrices\n",
    "\n",
    "Density matrices present an alternate way to describe quantum states. There are two main motivations for this new representation. First, so far we have only been discussing pure states. But there can be instances where some process prepares different states with certain probabilities. For example, if we have a situation where a process prepares state $\\rvert\\psi_1\\rangle$ with probability $p_1$ and state $\\rvert\\psi_1\\rangle$ with probability $p_2$ then we need a way to accurately express this by taking both the state and probabilities into account. This is called a mixed state.\n",
    "\n",
    "Second motivation for density matrices comes from desire to represent the state of a qubit that is a part of an entangled set of qubits. We haven't discussed multi-qubit systems yet but we've alluded to the fact that if two quantum states cannot be represented as tensor product of individual states then they are entangled. Therefore it seems that it would be impossible to just write the state of one qubit by itself. Density matrices help us do this. We will discuss multi-qubit systems in more detail in upcoming lessons."
   ]
  },
  {
   "cell_type": "markdown",
   "metadata": {},
   "source": [
    "The density matrix for an arbitrary quantum state is written as: $\\rho=\\rvert\\psi\\rangle\\langle\\psi\\rvert$. For example the density matrices for $\\rvert1\\rangle$ and $\\rvert+\\rangle=\\frac{\\rvert0\\rangle+\\rvert1\\rangle}{\\sqrt{2}}$ are given by,\n",
    "\n",
    "$$\\rvert1\\rangle\\langle1\\rvert=\\begin{bmatrix}0\\\\1\\end{bmatrix}\\begin{bmatrix}0&1\\end{bmatrix}=\\begin{bmatrix}0&0\\\\0&1\\end{bmatrix}$$\n",
    "\n",
    "$$\\rvert+\\rangle\\langle+\\rvert=\\frac{1}{\\sqrt{2}} \\begin{bmatrix}1\\\\1\\end{bmatrix} \\frac{1}{\\sqrt{2}} \\begin{bmatrix}1&1\\end{bmatrix} =\\frac{1}{2} \\begin{bmatrix}1&1\\\\1&1\\end{bmatrix}$$\n",
    "\n",
    "Now consider a system that produces state $\\rvert\\psi_1\\rangle=\\rvert0\\rangle$ with probability $p_1=\\frac{1}{5}$ and produces state $\\rvert\\psi_2\\rangle=\\rvert+\\rangle$ with probability $p_2=\\frac{4}{5}$. Therefore, such a quantum system is <b><i>not</i></b> in a superposition of $\\rvert\\psi_1\\rangle$ and $\\rvert\\psi_2\\rangle$ but in one of these two states with certain probability. In other words, it is a mixture of $\\rvert\\psi_1\\rangle$ and $\\rvert\\psi_2\\rangle$. Such a mixture can be described by a density matrix shown below,\n",
    "\n",
    "$$\\rho=p_1\\rvert\\psi_1\\rangle\\langle\\psi_1\\rvert+p_2\\rvert\\psi_2\\rangle\\langle\\psi_2\\rvert= \\frac{1}{5}\\rvert0\\rangle\\langle0\\rvert+ \\frac{4}{5}\\rvert+\\rangle\\langle+\\rvert$$\n",
    "\n",
    "#### Example of Measurement\n",
    "\n",
    "Let the system be in state $\\rvert\\psi_i\\rangle$, then the probabilities of outcomes $\\rvert0\\rangle$ and $\\rvert1\\rangle$ is given by,\n",
    "\n",
    "$$p_{0,i}=\\rvert\\langle0\\rvert\\psi_i\\rangle\\rvert^2=\\langle0\\rvert\\psi_i\\rangle\\langle\\psi_i\\rvert0\\rangle$$\n",
    "\n",
    "$$p_{1,i}=\\rvert\\langle1\\rvert\\psi_i\\rangle\\rvert^2=\\langle1\\rvert\\psi_i\\rangle\\langle\\psi_i\\rvert1\\rangle$$\n",
    "\n",
    "If, however, the system prepares state $\\rvert\\psi_i\\rangle$ with probability $p_i$, then the probabilities are given by,\n",
    "\n",
    "$$p(0)=\\sum_i p_i\\cdot p_{0,i}$$ \n",
    "and\n",
    "$$p(1)=\\sum_i p_i\\cdot p_{1,i}$$"
   ]
  },
  {
   "cell_type": "markdown",
   "metadata": {},
   "source": [
    "Expanding we get,\n",
    "\n",
    "$p(0)=\\sum_i p_i\\langle0\\rvert\\psi_i\\rangle\\langle\\psi_i\\rvert0\\rangle=\\langle0\\rvert \\left(\\sum_ip_i\\rvert\\psi_i\\rangle\\langle\\psi_i\\rvert\\right) \\rvert0\\rangle=\\langle0\\rvert\\rho\\rvert0\\rangle$\n",
    "\n",
    "Similarly,\n",
    "\n",
    "$p(1)=\\sum_i p_i\\langle1\\rvert\\psi_i\\rangle\\langle\\psi_i\\rvert1\\rangle=\\langle1\\rvert \\left(\\sum_ip_i\\rvert\\psi_i\\rangle\\langle\\psi_i\\rvert\\right) \\rvert1\\rangle=\\langle1\\rvert\\rho\\rvert1\\rangle$"
   ]
  },
  {
   "cell_type": "markdown",
   "metadata": {},
   "source": [
    "## Self Assessment Quiz 2\n",
    "<b>Maybe used for in-class hands-on practice.</b>\n",
    "\n",
    "<b>2.1 Compute the density matrices for the following scenarios where a source is preparing the following qubits:</b>\n",
    "\n",
    "   1. $\\rvert+\\rangle$ with probability $\\frac{1}{3}$ and $\\rvert-\\rangle$ with probability $\\frac{2}{3}$.\n",
    "   \n",
    "   2. $\\rvert0\\rangle$ with probability $\\frac{1}{5}$ and $\\rvert+\\rangle$ with probability $\\frac{4}{5}$.\n",
    "   \n",
    "   3. $\\rvert-\\rangle$ with probability $\\frac{1}{4}$, $\\rvert0\\rangle$ with probability $\\frac{1}{5}$ and $\\rvert+\\rangle$ with probability $1-(\\frac{1}{4}+\\frac{1}{5})$.\n",
    "   \n",
    "   4. $\\frac{1+\\sqrt{3}i}{\\sqrt{5}}\\rvert+\\rangle+\\frac{1}{\\sqrt{5}}\\rvert-\\rangle$ with probability $\\frac{9}{10}$ and $\\rvert0\\rangle$ with probability $\\frac{1}{10}$.\n",
    "   \n",
    "   5. $e^{i\\frac{\\pi}{4}}\\rvert1\\rangle$\n",
    " \n",
    "<b>2.2 Compute the probability of following outcomes, using density matrix formulation, for each of the quantum system states given above.</b>\n",
    "    \n",
    "   1. $\\rvert0\\rangle$\n",
    "   \n",
    "   2. $\\rvert+\\rangle$\n",
    "   \n",
    "   3. $\\frac{i}{\\sqrt{3}}\\rvert0\\rangle-\\frac{\\sqrt{2}}{\\sqrt{3}}\\rvert1\\rangle$\n"
   ]
  },
  {
   "cell_type": "markdown",
   "metadata": {},
   "source": [
    "#### Final Quiz 13  is in a separate notebook with filename: finalquiz13.ipynb or finalquiz13.pdf. Use whichever is convenient.\n",
    "Final quiz is intended to be completed and submitted to the instructor for grading."
   ]
  }
 ],
 "metadata": {
  "kernelspec": {
   "display_name": "Python 3",
   "language": "python",
   "name": "python3"
  },
  "language_info": {
   "codemirror_mode": {
    "name": "ipython",
    "version": 3
   },
   "file_extension": ".py",
   "mimetype": "text/x-python",
   "name": "python",
   "nbconvert_exporter": "python",
   "pygments_lexer": "ipython3",
   "version": "3.5.2"
  }
 },
 "nbformat": 4,
 "nbformat_minor": 2
}
