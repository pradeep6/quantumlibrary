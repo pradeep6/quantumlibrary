{
 "cells": [
  {
   "cell_type": "markdown",
   "metadata": {},
   "source": [
    "# Final Quiz 13\n",
    "\n",
    "### nanomodule 13\n",
    "\n",
    "#### Name: ________________"
   ]
  },
  {
   "cell_type": "markdown",
   "metadata": {},
   "source": [
    "<b>13.1 Compute the measurement operators for the following basis sets.</b>\n",
    "\n",
    "1. $\\left\\{\\begin{bmatrix}\\frac{-i}{2}\\\\\\frac{3i}{2}\\end{bmatrix}, \\begin{bmatrix}\\frac{-3i}{2}\\\\\\frac{-i}{2}\\end{bmatrix}\\right\\}$\n",
    "<br><br>\n",
    "2. $\\left\\{\\frac{1}{\\sqrt{7}}\\rvert0\\rangle+\\frac{2i+\\sqrt{2}}{\\sqrt{7}}\\rvert1\\rangle, \\frac{-2i+\\sqrt{2}}{\\sqrt{7}}\\rvert0\\rangle-\\frac{1}{\\sqrt{7}}\\rvert1\\rangle\\right\\}$\n",
    "<br><br>\n",
    "2. $\\left\\{\\frac{1}{\\sqrt{7}}\\rvert+\\rangle+\\frac{2i-\\sqrt{2}}{\\sqrt{7}}\\rvert-\\rangle, \\frac{-2i-\\sqrt{2}}{\\sqrt{7}}\\rvert+\\rangle-\\frac{1}{\\sqrt{7}}\\rvert-\\rangle\\right\\}$"
   ]
  },
  {
   "cell_type": "markdown",
   "metadata": {},
   "source": [
    "<b>13.2 For each of the measurement operators in 13.1, calculate the probabilities of collapse for the following qubits. What is the final state of the qubit after measurement?</b>\n",
    "\n",
    "1. $\\frac{1}{\\sqrt{2}}(\\rvert+\\rangle+\\rvert-\\rangle)$\n",
    "\n",
    "2. $\\frac{1}{\\sqrt{3}}\\rvert0\\rangle$\n",
    "\n",
    "3. $\\frac{2i}{3}\\rvert0\\rangle-\\frac{\\sqrt{5}}{3}\\rvert1\\rangle$"
   ]
  },
  {
   "cell_type": "markdown",
   "metadata": {},
   "source": [
    "<b>13.3 Compute the density matrices for the following pure and mixed states.</b>\n",
    "\n",
    "1. Source prepares qubit $\\rvert0\\rangle$ with probability $\\frac{1}{10}$ and $\\rvert+\\rangle$ with probability $\\frac{9}{10}$.\n",
    "\n",
    "2. Source prepares a superposition $\\frac{i}{\\sqrt{11}}\\rvert+\\rangle+\\frac{1+3i}{\\sqrt{11}}\\rvert-\\rangle$.\n",
    "\n",
    "3. Source prepares qubit $\\rvert-\\rangle$ with probability $\\frac{1}{3}$ and $\\rvert+\\rangle$ with probability $\\frac{2}{3}$.\n",
    "\n",
    "4. Source prepares qubit $e^{i\\pi}\\rvert+\\rangle$ and $\\rvert-\\rangle$ with equal probability.\n",
    "\n",
    "5. Source prepares $\\rvert0\\rangle$.\n"
   ]
  },
  {
   "cell_type": "markdown",
   "metadata": {},
   "source": [
    "<b>13.4 Compute the probabilities of outcomes for quantum states given in 13.3 with respect to bases given in 13.1.</b>"
   ]
  },
  {
   "cell_type": "markdown",
   "metadata": {},
   "source": [
    "<b>13.5 Write a Python function that will take a quantum system state as input in the form of ordered pairs (qubit in vector form, its probability of occurrence) and compute the density matrix for the system state. Note that the function must be able to handle both mixed states and pure states. Also validity of the inputs must be checked.</b>"
   ]
  },
  {
   "cell_type": "markdown",
   "metadata": {},
   "source": [
    "<b>13.6 Write a Python function that uses the density matrix formulation from the program you wrote in 13.5 and takes the basis state as one of the inputs (in vector form) and computes the probability of collapse to that basis state. The quantum state is the other input to the function in the same format as discussed in 13.5."
   ]
  }
 ],
 "metadata": {
  "kernelspec": {
   "display_name": "Python 3",
   "language": "python",
   "name": "python3"
  },
  "language_info": {
   "codemirror_mode": {
    "name": "ipython",
    "version": 3
   },
   "file_extension": ".py",
   "mimetype": "text/x-python",
   "name": "python",
   "nbconvert_exporter": "python",
   "pygments_lexer": "ipython3",
   "version": "3.5.2"
  }
 },
 "nbformat": 4,
 "nbformat_minor": 2
}
