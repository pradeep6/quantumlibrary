{
 "cells": [
  {
   "cell_type": "markdown",
   "metadata": {},
   "source": [
    "# 24. The Goldenberg-Vaidman Protocol\n",
    "\n",
    "### This is nanomodule 24-module 3\n",
    "\n",
    "<b>Learning Objectives:</b>\n",
    "\n",
    "24.1 Students will learn quantum key distribution based on orthogonal quantum states.\n",
    "\n",
    "24.2 Students will use Mach-Zehnder interferometer for QKD.\n",
    "\n"
   ]
  },
  {
   "cell_type": "markdown",
   "metadata": {},
   "source": [
    "## 24. 1 Introduction\n",
    "\n",
    "The Goldenberg-Vaidman protocol, also known as the GV protocol, proposed in 1995 was yet another surprise in the field of quantum cryptography. Until this protocol it was assumed that only non-orthogonal states can be used in a QKD (Quantum Key Distribution) scheme. This was because Eve would be able to faithfully reproduce/clone orthogonal states.\n",
    "\n",
    "\n",
    "When GV protocol was published claiming that it used orthogonal states for QKD, soon after an objection was published claiming the GV is equivalent to BB84 and actually used non-orthogonal qubits.\n",
    "\n",
    "However, Goldenberg and Vaidman successfully defended their protocol and has now lead to an entirely new stem of research.  "
   ]
  },
  {
   "cell_type": "markdown",
   "metadata": {},
   "source": [
    "## 24.2 The GV Protocol\n",
    "\n",
    "The GV protocol requires storage of qubits that is realised using a delay loop in the transmission line. The most common implementation was a Mach-Zehnder Interferometer as shown below.\n",
    "\n",
    "![Mach-Zehnder Interferometer](nanomod24-fig1.png)\n",
    "\n",
    "Consider two orthogonal states:\n",
    "\n",
    "$\\rvert \\psi_0 \\rangle = \\frac{1}{\\sqrt(2)}(\\rvert a\\rangle + \\rvert b\\rangle)$\n",
    "\n",
    "$\\rvert \\psi_1 \\rangle = \\frac{1}{\\sqrt(2)}(\\rvert a\\rangle - \\rvert b\\rangle)$\n",
    "\n",
    "Where $\\rvert a\\rangle$ and $\\rvert b\\rangle$ are localized wave packets, eg. $\\rvert 0\\rangle$ and $\\rvert 1\\rangle$.\n",
    "\n",
    "$\\rvert \\psi_0 \\rangle$ and $\\rvert \\psi_1 \\rangle$ are taken to represent bit values 0 and 1, respectively.\n",
    "\n"
   ]
  },
  {
   "cell_type": "markdown",
   "metadata": {},
   "source": [
    "\n",
    "The wave packets $\\rvert a\\rangle$ and $\\rvert b\\rangle$ travel to Bob, from Alice, using the two different arms of  Mach-Zehnder Interferometer meter.\n",
    "\n",
    "Alice sends Bob either $\\rvert \\psi_0 \\rangle$ or $\\rvert \\psi_1 \\rangle$. Therefore either $S_1$ fires or $S_2$ fires depending on if Alice wants to send 0 or 1 respectively. \n",
    "\n",
    "Now wave packet $\\rvert a\\rangle$ traveling in the upper arm of the interferometer is always sent first and $\\rvert b\\rangle$ traveling in the lower arm is delayed using an optical loop by time $T$.\n",
    "\n",
    "Assume that the travel time between Alice and Bob, denoted by $\\theta$, is less than $T$. This, however is not absolutely necessary. However, for security it is necessary that Alice transmits her qubit at a random time $t_s$.\n",
    "\n",
    "The delay in the transmission line of $\\rvert b\\rangle$ ensures that both $\\rvert a\\rangle$ and $\\rvert b\\rangle$ are not present in the transmission line, and thus accessible to Eve, simultaneously.\n",
    "\n",
    "At Bob’s end, the wave packed $\\rvert a\\rangle$ is delayed by $T$ and combined with $\\rvert b\\rangle$ when it reaches. \n",
    "\n",
    "Depending on what was transmitted, one of the detectors on Bob’s end will click indicating a 1 or a 0.\n"
   ]
  },
  {
   "cell_type": "markdown",
   "metadata": {},
   "source": [
    "### Eavesdropping\n",
    "\n",
    "To check for eavesdropping Alice and Bob do two things:\n",
    "\n",
    "1. They compare the received time, $t_r$, and transmission time, $t_s$, of every qubit.\n",
    "\n",
    "    $t_r = t_s + \\theta + T$ ideally\n",
    "\n",
    "    Eve therefore cannot delay $\\rvert a\\rangle$ and wait for $\\rvert b\\rangle$ to reach her.\n",
    "<br><br>\n",
    "2. Alice and Bob look for disagreement in transmitted and received bit values.\n",
    "\n",
    "Note that the requirement of random sending time is crucial for the security of GV protocol. If the transmission times are know then Eve can intercept $\\rvert a\\rangle$ and send a fake $\\rvert a\\rangle$ to Bob. Then when wave packet $\\rvert b\\rangle$ reaches Eve, she can make a measurement to determine whether alice transmitted $\\rvert \\psi_0 \\rangle$ or $\\rvert \\psi_1 \\rangle$ and accordingly send $\\rvert b\\rangle$ or -$\\rvert b\\rangle$ to Bob. If Eve’s measurement time is negligible then Eve will go undetected. \n"
   ]
  },
  {
   "cell_type": "markdown",
   "metadata": {},
   "source": [
    "***\n",
    "***\n",
    "### End of nanomodule 24\n",
    "***\n",
    "***"
   ]
  }
 ],
 "metadata": {
  "kernelspec": {
   "display_name": "Python 3",
   "language": "python",
   "name": "python3"
  },
  "language_info": {
   "codemirror_mode": {
    "name": "ipython",
    "version": 3
   },
   "file_extension": ".py",
   "mimetype": "text/x-python",
   "name": "python",
   "nbconvert_exporter": "python",
   "pygments_lexer": "ipython3",
   "version": "3.5.2"
  }
 },
 "nbformat": 4,
 "nbformat_minor": 2
}
