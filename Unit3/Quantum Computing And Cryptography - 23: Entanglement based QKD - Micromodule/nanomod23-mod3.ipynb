{
 "cells": [
  {
   "cell_type": "markdown",
   "metadata": {},
   "source": [
    "# 23 Entanglement based QKD\n",
    "\n",
    "### This is nanomodule 23-module 3\n",
    "\n",
    "<b>Learning Objectives:</b>\n",
    "\n",
    "1. Students will apply the principle of quantum entanglement and Bell's inequality to construct a quantum key distribution protocol.\n",
    "\n",
    "2. Students will be able to use Bell's inequality to check for eavesdropping.\n",
    "\n",
    "\n",
    "\n"
   ]
  },
  {
   "cell_type": "markdown",
   "metadata": {},
   "source": [
    "## 23.1 Introduction\n",
    "\n",
    "Another interesting turn in the field of quantum cryptography was the development of QKD schemes based on quantum entanglement. In fact, quantum entanglement now forms the basis of new types of schemes that are coming up called measurement devices independent QKD.\n",
    "\n",
    "Before we describe Ekert protocol (popularly called E91), the first QKD protocol using quantum entanglement, we will discuss a simpler version of the protocol."
   ]
  },
  {
   "cell_type": "markdown",
   "metadata": {},
   "source": [
    "## 23.2 EPR Based QKD Protocol\n",
    "\n",
    "Consider a Bell pair $\\frac{\\rvert00\\rangle + \\rvert11\\rangle}{\\sqrt{2}}$. We can also work with other Bell pairs for example $\\frac{\\rvert01\\rangle + \\rvert10\\rangle}{\\sqrt{2}}$. However, using $\\frac{\\rvert01\\rangle + \\rvert10\\rangle}{\\sqrt{2}}$ will result in Alice and Bob having opposite bit strings. \n",
    "For simplicity, we can assume that these Bell pairs were created sometime in the past and now Alice and Bob each have one qubit out of it. Alternatively, we can assume that Alice and Bob are provided a qubit out of the Bell pair by some third-party source who generates such pairs. \n",
    "\n",
    "Suppose Alice and Bob want to exchange a secret key. When they are ready they will measure their respective qubits. The order of which the measurements take place (Alice measures first or Bob measures first) does not matter. \n",
    "\n",
    "To prevent a third party from obtaining the same random string Alice and Bob must measure their qubits randomly in one of the two random (non-orthogonal) bases . \n",
    "\n"
   ]
  },
  {
   "cell_type": "markdown",
   "metadata": {},
   "source": [
    "### The Protocol Flow\n",
    "\n",
    "Assume that the bases are &#10010; and &#x2716; as before.\n",
    "\n",
    "The protocol proceeds shown in the table below. \n",
    "\n",
    "\n",
    "||||||        \n",
    "|: --- |:--:|: -- :|:--:|:--:|\n",
    "| ***Alice's Random Bases*** |✚ |✖| ✖ |✚ |✖ |✖ |✚ |✚ |\n",
    "| ***Alice's Observations*** |→  |↖|↖  |↑  |↖ |↗ |↑ |↑  |\n",
    "| ***Bob's Random Bases***   |✖ |✖| ✚ |✚ |✖ |✚ |✖|✚  |\n",
    "| ***Bob's Observations***   |↗ |↖ |↑  |↑  |↖  |→  | ↖|↑|  \n",
    "| ***Bases agree***          |  | Y |  | Y  | Y  |  | |Y |\n",
    "\n",
    "Alice and Bob keep the bits that were measured in the same basis.\n",
    "\n",
    "To detect an eavesdropper or other sources (environment) that may have either caused a qubit to collapse or entanglement to disintegrate, Alice and Bob will publicly compare the values of some of the qubits to look for discrepancies. If any discrepancies are found, assuming an error free channel, Alice and Bob have to throw out the exchanged bits. \n",
    "\n",
    "![EPR Protocol Illustration](nanomod23-fig1.png)\n"
   ]
  },
  {
   "cell_type": "markdown",
   "metadata": {},
   "source": [
    "## 23.3 The E91 Protocol\n",
    "\n",
    "Ekert’s 1991 protocol is almost the same as the EPR protocol from the previous section but differs in two steps. \n",
    "\n",
    "First, the measurement is done in three different bases (instead of just two).\n",
    "\n",
    "Second, the qubits that both parties measure in the same basis are saved as possible keys, the qubits that were measured in different basis are used to detect any eavesdropper, or decoherence of the entangled qubits by checking if they violate Bell's inequality (CHSH game) or not.\n",
    "\n",
    "Of the qubits are independent qubits (not entangled) they will satisfy Bell's inequality. \n"
   ]
  },
  {
   "cell_type": "markdown",
   "metadata": {},
   "source": [
    "***\n",
    "***\n",
    "## Project/Research Suggestions\n",
    "\n",
    "1. Modify the protocol such that instead of using Bell pairs it uses other general entangled qubits of the form $\\alpha\\rvert00\\rangle+\\beta\\rvert11\\rangle$. Does it have any advantages or disadvantages over the protocol that was presented?\n",
    "<br><br>\n",
    "2. Discuss the advantages and disadvantages (if any) of entanglement based protocol over BB84 and three-stage protocol.\n",
    "<br><br>\n",
    "3. Can you use entanglement based protocol to directly and securely send messages instead of encryption keys? How would you do it?\n",
    "<br><br>\n",
    "4. Can entangled states such as $a\\rvert00\\rangle+b\\rvert01\\rangle+c\\rvert11\\rangle$ be used for QKD? Why or why not, discuss.\n",
    "***\n",
    "***"
   ]
  },
  {
   "cell_type": "markdown",
   "metadata": {},
   "source": [
    "***\n",
    "***\n",
    "### End of Nanomodule 23\n",
    "***\n",
    "***"
   ]
  }
 ],
 "metadata": {
  "kernelspec": {
   "display_name": "Python 3",
   "language": "python",
   "name": "python3"
  },
  "language_info": {
   "codemirror_mode": {
    "name": "ipython",
    "version": 3
   },
   "file_extension": ".py",
   "mimetype": "text/x-python",
   "name": "python",
   "nbconvert_exporter": "python",
   "pygments_lexer": "ipython3",
   "version": "3.5.2"
  }
 },
 "nbformat": 4,
 "nbformat_minor": 2
}
