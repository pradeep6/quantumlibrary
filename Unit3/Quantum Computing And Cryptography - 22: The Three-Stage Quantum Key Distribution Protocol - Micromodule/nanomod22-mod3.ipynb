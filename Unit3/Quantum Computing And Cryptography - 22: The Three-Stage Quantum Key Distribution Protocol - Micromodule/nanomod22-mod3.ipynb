{
 "cells": [
  {
   "cell_type": "markdown",
   "metadata": {},
   "source": [
    "# 22. The Three-Stage Quantum Key Distribution Protocol\n",
    "\n",
    "### This is nanomodule 22-module 3\n",
    "\n",
    "<b>Learning Outcomes: </b>\n",
    "\n",
    "Upon completion of this lesson:\n",
    "\n",
    "22.1 Students will understand the concept of double lock cryptography.\n",
    "\n",
    "22.2 Students will know the working of three-stage quantum key distribution protocol.\n",
    "\n",
    "22.3 Students will be able to apply the concepts of orthogonality of basis, measurement and indistinguishability of non-orthogonal states.\n",
    "\n",
    "***"
   ]
  },
  {
   "cell_type": "markdown",
   "metadata": {},
   "source": [
    "## 22.1 Background\n",
    "\n",
    "So far we’ve seen protocols that use non-orthogonal basis and states to exchange keys. However, there are other ways of achieving the same goal. The three-stage protocol is one of them.\n",
    "\n",
    "The Three-stage protocol is based on one of the oldest ideas in secure exchange of messages and only assumes the availability of an authenticated channel. \n",
    "\n",
    "Consider Alice wants to secretly send a message to Bob. Both Alice and Bob have locks that are unique and only the other person recognizes as belonging to Alice/Bob. Now the secret message can be put into a strong box and sent to Bob using double lock cryptography. The process is straightforward and shown below. \n",
    "\n",
    "![nanomod22-fig1.png](nanomod22-fig1.png)\n",
    "\n",
    "*Note: There was no key exchange necessary in the above protocol.*"
   ]
  },
  {
   "cell_type": "markdown",
   "metadata": {},
   "source": [
    "## The 3-Stage QKD Protocol\n",
    "\n",
    "The three stage protocol is a simple, yet powerful, quantum analogy of the double lock cryptography.\n",
    "\n",
    "Assume Alice wants to send an arbitrary state $\\rvert+\\rangle$ to Bob.\n",
    "\n",
    "Both Alice and Bob are connected via an authenticated channel and have secret rotation transformations $U_a$ and $U_b$ such that $U_a U_b$ = $U_b U_a$\n",
    "\n",
    "$U_\\theta$ may be of the form,\n",
    "\n",
    "$U_\\theta =\\begin{bmatrix}cos \\theta & -sin \\theta \\\\sin\\theta& cos\\theta& \\end{bmatrix}$ \n"
   ]
  },
  {
   "cell_type": "markdown",
   "metadata": {},
   "source": [
    "The protocol proceeds as follows:\n",
    "\n",
    "1. Alice applies the secret transformation $U_a$ to $\\rvert+\\rangle$ and then sends Bob $U_a(\\rvert+\\rangle)$\n",
    "\n",
    "2. Bob applies $U_b$ and sends to Alice $U_b U_a(\\rvert+\\rangle)$\n",
    "\n",
    "3. Alice applies $U_a^\\dagger$ and returns $U_b(\\rvert+\\rangle)$ to Bob.\n",
    "\n",
    "4. Bob applies $U_b^\\dagger$ and retrieves $\\rvert+\\rangle$. \n",
    "\n",
    "State $\\rvert+\\rangle$ may be our encryption key or data or output of a quantum algorithm.\n",
    "\n",
    "\n",
    "\n"
   ]
  },
  {
   "cell_type": "markdown",
   "metadata": {},
   "source": [
    "## The Protocol Flow\n",
    "\n",
    "![nanomod22-fig2.png](nanomod22-fig2.png)\n",
    "\n",
    "Under single qubit implementation the protocol provides perfect secrecy. The protocol is also resistant to multi-photon implementations. \n"
   ]
  },
  {
   "cell_type": "markdown",
   "metadata": {},
   "source": [
    "***\n",
    "***\n",
    "# 3-Stage QKD Simulator (Interactive)\n",
    "\n",
    "**Execute the program and follow the prompt below**"
   ]
  },
  {
   "cell_type": "code",
   "execution_count": 1,
   "metadata": {
    "scrolled": false
   },
   "outputs": [
    {
     "name": "stdout",
     "output_type": "stream",
     "text": [
      "\n",
      "\n",
      "-----------------------------------------------------\n",
      "\n",
      "\n"
     ]
    },
    {
     "ename": "KeyboardInterrupt",
     "evalue": "",
     "output_type": "error",
     "traceback": [
      "\u001b[0;31m---------------------------------------------------------------------------\u001b[0m",
      "\u001b[0;31mKeyboardInterrupt\u001b[0m                         Traceback (most recent call last)",
      "\u001b[0;32m/Library/Frameworks/Python.framework/Versions/3.5/lib/python3.5/site-packages/ipykernel/kernelbase.py\u001b[0m in \u001b[0;36m_input_request\u001b[0;34m(self, prompt, ident, parent, password)\u001b[0m\n\u001b[1;32m    729\u001b[0m             \u001b[0;32mtry\u001b[0m\u001b[0;34m:\u001b[0m\u001b[0;34m\u001b[0m\u001b[0m\n\u001b[0;32m--> 730\u001b[0;31m                 \u001b[0mident\u001b[0m\u001b[0;34m,\u001b[0m \u001b[0mreply\u001b[0m \u001b[0;34m=\u001b[0m \u001b[0mself\u001b[0m\u001b[0;34m.\u001b[0m\u001b[0msession\u001b[0m\u001b[0;34m.\u001b[0m\u001b[0mrecv\u001b[0m\u001b[0;34m(\u001b[0m\u001b[0mself\u001b[0m\u001b[0;34m.\u001b[0m\u001b[0mstdin_socket\u001b[0m\u001b[0;34m,\u001b[0m \u001b[0;36m0\u001b[0m\u001b[0;34m)\u001b[0m\u001b[0;34m\u001b[0m\u001b[0m\n\u001b[0m\u001b[1;32m    731\u001b[0m             \u001b[0;32mexcept\u001b[0m \u001b[0mException\u001b[0m\u001b[0;34m:\u001b[0m\u001b[0;34m\u001b[0m\u001b[0m\n",
      "\u001b[0;32m/Library/Frameworks/Python.framework/Versions/3.5/lib/python3.5/site-packages/jupyter_client/session.py\u001b[0m in \u001b[0;36mrecv\u001b[0;34m(self, socket, mode, content, copy)\u001b[0m\n\u001b[1;32m    795\u001b[0m         \u001b[0;32mtry\u001b[0m\u001b[0;34m:\u001b[0m\u001b[0;34m\u001b[0m\u001b[0m\n\u001b[0;32m--> 796\u001b[0;31m             \u001b[0mmsg_list\u001b[0m \u001b[0;34m=\u001b[0m \u001b[0msocket\u001b[0m\u001b[0;34m.\u001b[0m\u001b[0mrecv_multipart\u001b[0m\u001b[0;34m(\u001b[0m\u001b[0mmode\u001b[0m\u001b[0;34m,\u001b[0m \u001b[0mcopy\u001b[0m\u001b[0;34m=\u001b[0m\u001b[0mcopy\u001b[0m\u001b[0;34m)\u001b[0m\u001b[0;34m\u001b[0m\u001b[0m\n\u001b[0m\u001b[1;32m    797\u001b[0m         \u001b[0;32mexcept\u001b[0m \u001b[0mzmq\u001b[0m\u001b[0;34m.\u001b[0m\u001b[0mZMQError\u001b[0m \u001b[0;32mas\u001b[0m \u001b[0me\u001b[0m\u001b[0;34m:\u001b[0m\u001b[0;34m\u001b[0m\u001b[0m\n",
      "\u001b[0;32m/Library/Frameworks/Python.framework/Versions/3.5/lib/python3.5/site-packages/zmq/sugar/socket.py\u001b[0m in \u001b[0;36mrecv_multipart\u001b[0;34m(self, flags, copy, track)\u001b[0m\n\u001b[1;32m    394\u001b[0m         \"\"\"\n\u001b[0;32m--> 395\u001b[0;31m         \u001b[0mparts\u001b[0m \u001b[0;34m=\u001b[0m \u001b[0;34m[\u001b[0m\u001b[0mself\u001b[0m\u001b[0;34m.\u001b[0m\u001b[0mrecv\u001b[0m\u001b[0;34m(\u001b[0m\u001b[0mflags\u001b[0m\u001b[0;34m,\u001b[0m \u001b[0mcopy\u001b[0m\u001b[0;34m=\u001b[0m\u001b[0mcopy\u001b[0m\u001b[0;34m,\u001b[0m \u001b[0mtrack\u001b[0m\u001b[0;34m=\u001b[0m\u001b[0mtrack\u001b[0m\u001b[0;34m)\u001b[0m\u001b[0;34m]\u001b[0m\u001b[0;34m\u001b[0m\u001b[0m\n\u001b[0m\u001b[1;32m    396\u001b[0m         \u001b[0;31m# have first part already, only loop while more to receive\u001b[0m\u001b[0;34m\u001b[0m\u001b[0;34m\u001b[0m\u001b[0m\n",
      "\u001b[0;32mzmq/backend/cython/socket.pyx\u001b[0m in \u001b[0;36mzmq.backend.cython.socket.Socket.recv\u001b[0;34m()\u001b[0m\n",
      "\u001b[0;32mzmq/backend/cython/socket.pyx\u001b[0m in \u001b[0;36mzmq.backend.cython.socket.Socket.recv\u001b[0;34m()\u001b[0m\n",
      "\u001b[0;32mzmq/backend/cython/socket.pyx\u001b[0m in \u001b[0;36mzmq.backend.cython.socket._recv_copy\u001b[0;34m()\u001b[0m\n",
      "\u001b[0;32m/Library/Frameworks/Python.framework/Versions/3.5/lib/python3.5/site-packages/zmq/backend/cython/checkrc.pxd\u001b[0m in \u001b[0;36mzmq.backend.cython.checkrc._check_rc\u001b[0;34m()\u001b[0m\n",
      "\u001b[0;31mKeyboardInterrupt\u001b[0m: ",
      "\nDuring handling of the above exception, another exception occurred:\n",
      "\u001b[0;31mKeyboardInterrupt\u001b[0m                         Traceback (most recent call last)",
      "\u001b[0;32m<ipython-input-1-74539e1eb95f>\u001b[0m in \u001b[0;36m<module>\u001b[0;34m()\u001b[0m\n\u001b[1;32m      6\u001b[0m \u001b[0mprint\u001b[0m\u001b[0;34m(\u001b[0m\u001b[0;34m\"\\n\\n-----------------------------------------------------\\n\\n\"\u001b[0m\u001b[0;34m)\u001b[0m\u001b[0;34m\u001b[0m\u001b[0m\n\u001b[1;32m      7\u001b[0m \u001b[0;32mwhile\u001b[0m\u001b[0;34m(\u001b[0m\u001b[0;32mTrue\u001b[0m\u001b[0;34m)\u001b[0m\u001b[0;34m:\u001b[0m\u001b[0;34m\u001b[0m\u001b[0m\n\u001b[0;32m----> 8\u001b[0;31m     \u001b[0mchoice\u001b[0m \u001b[0;34m=\u001b[0m \u001b[0minput\u001b[0m\u001b[0;34m(\u001b[0m\u001b[0;34m\"Hello, please create a basis; select an option below\\n1. Pre-set Basis \\n2. Custom Basis\\n\"\u001b[0m\u001b[0;34m)\u001b[0m\u001b[0;34m\u001b[0m\u001b[0m\n\u001b[0m\u001b[1;32m      9\u001b[0m     \u001b[0;32mif\u001b[0m \u001b[0;34m(\u001b[0m\u001b[0mchoice\u001b[0m \u001b[0;34m==\u001b[0m \u001b[0;34m\"1\"\u001b[0m\u001b[0;34m)\u001b[0m\u001b[0;34m:\u001b[0m\u001b[0;34m\u001b[0m\u001b[0m\n\u001b[1;32m     10\u001b[0m         \u001b[0;32mwhile\u001b[0m\u001b[0;34m(\u001b[0m\u001b[0;32mTrue\u001b[0m\u001b[0;34m)\u001b[0m\u001b[0;34m:\u001b[0m\u001b[0;34m\u001b[0m\u001b[0m\n",
      "\u001b[0;32m/Library/Frameworks/Python.framework/Versions/3.5/lib/python3.5/site-packages/ipykernel/kernelbase.py\u001b[0m in \u001b[0;36mraw_input\u001b[0;34m(self, prompt)\u001b[0m\n\u001b[1;32m    703\u001b[0m             \u001b[0mself\u001b[0m\u001b[0;34m.\u001b[0m\u001b[0m_parent_ident\u001b[0m\u001b[0;34m,\u001b[0m\u001b[0;34m\u001b[0m\u001b[0m\n\u001b[1;32m    704\u001b[0m             \u001b[0mself\u001b[0m\u001b[0;34m.\u001b[0m\u001b[0m_parent_header\u001b[0m\u001b[0;34m,\u001b[0m\u001b[0;34m\u001b[0m\u001b[0m\n\u001b[0;32m--> 705\u001b[0;31m             \u001b[0mpassword\u001b[0m\u001b[0;34m=\u001b[0m\u001b[0;32mFalse\u001b[0m\u001b[0;34m,\u001b[0m\u001b[0;34m\u001b[0m\u001b[0m\n\u001b[0m\u001b[1;32m    706\u001b[0m         )\n\u001b[1;32m    707\u001b[0m \u001b[0;34m\u001b[0m\u001b[0m\n",
      "\u001b[0;32m/Library/Frameworks/Python.framework/Versions/3.5/lib/python3.5/site-packages/ipykernel/kernelbase.py\u001b[0m in \u001b[0;36m_input_request\u001b[0;34m(self, prompt, ident, parent, password)\u001b[0m\n\u001b[1;32m    733\u001b[0m             \u001b[0;32mexcept\u001b[0m \u001b[0mKeyboardInterrupt\u001b[0m\u001b[0;34m:\u001b[0m\u001b[0;34m\u001b[0m\u001b[0m\n\u001b[1;32m    734\u001b[0m                 \u001b[0;31m# re-raise KeyboardInterrupt, to truncate traceback\u001b[0m\u001b[0;34m\u001b[0m\u001b[0;34m\u001b[0m\u001b[0m\n\u001b[0;32m--> 735\u001b[0;31m                 \u001b[0;32mraise\u001b[0m \u001b[0mKeyboardInterrupt\u001b[0m\u001b[0;34m\u001b[0m\u001b[0m\n\u001b[0m\u001b[1;32m    736\u001b[0m             \u001b[0;32melse\u001b[0m\u001b[0;34m:\u001b[0m\u001b[0;34m\u001b[0m\u001b[0m\n\u001b[1;32m    737\u001b[0m                 \u001b[0;32mbreak\u001b[0m\u001b[0;34m\u001b[0m\u001b[0m\n",
      "\u001b[0;31mKeyboardInterrupt\u001b[0m: "
     ]
    }
   ],
   "source": [
    "import  cmath, numpy, math\n",
    "\n",
    "\"\"\"\n",
    "Initialize variables taking user input.\n",
    "\"\"\"\n",
    "print(\"\\n\\n-----------------------------------------------------\\n\\n\")\n",
    "while(True):\n",
    "    choice = input(\"Hello, please create a basis; select an option below\\n1. Pre-set Basis \\n2. Custom Basis\\n\")\n",
    "    if (choice == \"1\"):\n",
    "        while(True):\n",
    "            choice2 = input(\"Choose one of the following basis (in degrees)\\n1. {0,90}\\n2. {-45,45}\\n3. {30,120}\")\n",
    "            if (choice2 == \"1\"):\n",
    "                basis = (\"0\",\"90\")\n",
    "                break\n",
    "            if (choice2 == \"2\"):\n",
    "                basis = (\"-45\",\"45\")\n",
    "                break\n",
    "            if (choice2 == \"3\"):\n",
    "                basis = (\"30\",\"120\")\n",
    "                break\n",
    "        break\n",
    "    if (choice == \"2\"):\n",
    "        while(True):\n",
    "            #\"Enter a measurement basis in the format {x, y}, where x and y are in degrees:\"\n",
    "            inall=input(\"Enter a measurement basis in the format {x, y}, where x and y are in degrees:\\n\").strip(\"{}\").replace(\" \",\"\")\n",
    "            in1 = inall.split(\",\")[0]\n",
    "            in2 = inall.split(\",\")[1]\n",
    "            if(float(in1)+90 == float(in2) or float(in2)+90 == float(in1)):\n",
    "                basis = (in1,in2)\n",
    "                break\n",
    "            else:\n",
    "                print(\"Your basis must be 90 degrees apart!\")\n",
    "        break\n",
    "basis1 = basis[0]\n",
    "basis2 = basis[1]\n",
    "basis = (basis1,basis2)\n",
    "while(True):\n",
    "    try:\n",
    "        binary1 = int(input(\"Input a binary string, this will act as the message\\n\"), 2)\n",
    "        break\n",
    "    except ValueError:\n",
    "        print(\"Try Again! String must be in binary format (ex. 10110011)\")\n",
    "print(\"\\n\\n-----------------------------------------------------\\n\\n\")\n",
    "\n",
    "messagetosend = format(binary1, 'b')\n",
    "\n",
    "arot = float(input(\"What is Alices secret rotation (in degrees)\\n\"))%360\n",
    "brot = float(input(\"What is Bob's secret rotation (in degrees)\\n\"))%360\n",
    "arads = math.radians(arot)\n",
    "\n",
    "asecretrot = numpy.array(\n",
    "[[math.cos(arads),-math.sin(arads)],\n",
    "[math.sin(arads),math.cos(arads)]])\n",
    "\n",
    "brads = math.radians(brot)\n",
    "bsecretrot = numpy.array(\n",
    "[[math.cos(brot),-math.sin(brot)],\n",
    "[math.sin(brot),math.cos(brot)]])\n",
    "\n",
    "\n",
    "\"\"\"\n",
    "This function takes in a bit to send and applies the three step protocol to the bit as it is sent back and forth from a hypothetical Alice to Bob.\n",
    "\"\"\"\n",
    "def sendbit(bit):\n",
    "    print(\"Sending bit: \"+bit)\n",
    "    tosend = numpy.array([math.cos(math.radians(float(basis1) + (90 * float(bit)))),math.sin(math.radians(float(basis1) + (90 * float(bit))))])\n",
    "    print(\"Sending \"+ str(tosend.tolist()))\n",
    "    amessage = aliceone(asecretrot, tosend)\n",
    "\n",
    "    print (\"Transmitting qubit: \" + str(amessage.tolist())+ \" to Bob\")\n",
    "    abmessage = bobone(bsecretrot, amessage)\n",
    "    print(\"Transmitting qubit: \"+ str(abmessage.tolist())+\" to Alice\")\n",
    "    bmessage = alicetwo(asecretrot, abmessage)\n",
    "    print(\"Transmitting qubit: \"+ str(bmessage.tolist())+\" to Bob\")\n",
    "    message = bobtwo(bsecretrot,bmessage)\n",
    "    print(\"Recieved qubit is: \"+str(message.tolist()) + \"\\nTherefore, the received bit after measurement is \"+bit)\n",
    "\n",
    "    \n",
    "\"\"\"\n",
    "Alice takes the message qubit and applies her secret rotation.\n",
    "\"\"\"\n",
    "def aliceone(secret,qubit):\n",
    "    print(\"Applying Alice's secret rotation...\")\n",
    "    return  numpy.dot(qubit,secret)\n",
    "\n",
    "\"\"\"\n",
    "Bob recieves the qubit from Alice and applies his secret rotation\n",
    "\"\"\"\n",
    "def bobone(secret, qubit):\n",
    "    print(\"Applying Bob's secret rotation...\")\n",
    "    return numpy.dot(qubit,secret)\n",
    "\"\"\"\n",
    "Alice applies the inverse of her secret rotation so only Bobs rotation is on the qubit.\n",
    "\"\"\"\n",
    "def alicetwo(secret,qubit):\n",
    "    print(\"Applying Alice's inverse secret rotation...\")\n",
    "    return  numpy.dot(qubit,secret.T)\n",
    "\n",
    "\"\"\"\n",
    "Bob applies the inverse of his secret rotation on the qubit.\n",
    "\n",
    "Now Bob has just the plain qubit. \n",
    "\"\"\"\n",
    "def bobtwo(secret,qubit):\n",
    "    print(\"Applying Bob's inverse secret rotation...\")\n",
    "    return  numpy.dot(qubit,secret.T)\n",
    "\n",
    "\n",
    "\n",
    "for c in messagetosend:\n",
    "    sendbit(c)\n",
    "    \n",
    "print(\"Alice's transmitted message was \"+ messagetosend)\n",
    "\n",
    "print(\"Bob's recieved message was \"+ messagetosend)\n"
   ]
  },
  {
   "cell_type": "markdown",
   "metadata": {},
   "source": [
    "***\n",
    "***"
   ]
  },
  {
   "cell_type": "markdown",
   "metadata": {},
   "source": [
    "## Project/Further Research Suggestions\n",
    "\n",
    "1. Can the three stage protocol be used to transmit messages directly instead of an encryption key? Discuss what could go wrong (if anything) from two perspectives:\n",
    "\n",
    "    a. Can Eve read some of the message bits?\n",
    "    \n",
    "    b. If Eve attempts to eavesdrop, can Alice and Bob detect it? How?\n",
    "<br><br>\n",
    "2. Design a circuit using quantum gates to implement the three-stage protocol. Which gates would you need to use?\n",
    "<br><br>\n",
    "3. Suppose that you decide to keep the rotation transformation constant for all the qubits as opposed to choosing a different $U_a$ and $U_b$ for every qubit. What security implications does that have? Consider the case when we are using it to transmit an encryption key.\n",
    "<br><br>\n",
    "4. If we consider a set of rotation transformations $U_A=\\{U_{a_1}, U_{a_2}, \\ldots, U_{a_l}\\}$. Alice randomly and uniformly chooses one of the transformations for every qubit that she sends. Same applies for Bob with $U_B$. What is the minimum number of unique rotation transformations one should use to construct a secure key exchange protocol using three-stage?"
   ]
  },
  {
   "cell_type": "markdown",
   "metadata": {},
   "source": [
    "***\n",
    "***\n",
    "## End of Nanomodule 22\n",
    "***\n",
    "***"
   ]
  }
 ],
 "metadata": {
  "kernelspec": {
   "display_name": "Python 3",
   "language": "python",
   "name": "python3"
  },
  "language_info": {
   "codemirror_mode": {
    "name": "ipython",
    "version": 3
   },
   "file_extension": ".py",
   "mimetype": "text/x-python",
   "name": "python",
   "nbconvert_exporter": "python",
   "pygments_lexer": "ipython3",
   "version": "3.5.2"
  }
 },
 "nbformat": 4,
 "nbformat_minor": 2
}
