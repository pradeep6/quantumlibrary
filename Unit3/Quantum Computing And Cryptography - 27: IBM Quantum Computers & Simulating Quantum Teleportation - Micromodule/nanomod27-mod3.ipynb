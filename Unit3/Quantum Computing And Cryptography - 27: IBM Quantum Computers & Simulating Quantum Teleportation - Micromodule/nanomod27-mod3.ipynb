{
 "cells": [
  {
   "cell_type": "markdown",
   "metadata": {},
   "source": [
    "## 27. IBM Quantum Computers & Simulating Quantum Teleportation\n",
    "\n",
    "### This is nanomodule 27-module 3\n",
    "\n",
    "<b>Learning objectives:</b>\n",
    "\n",
    "1. Students will apply quantum operations and use quantum entanglement to perform teleportation of arbitrary qubits.\n",
    "\n",
    "2. Students will experiment with IBM quantum computing interface and simulator.\n",
    "\n",
    "3. Students will build complex quantum circuits and perform actual measurements.\n",
    "\n",
    "***\n",
    "***\n",
    "\n",
    "Quantum teleportation is perhaps the most exciting application of quantum mechanics. Immediately images of Star Trek \"beam\" into one's mind upon hearing teleportation. While it won’t be as dramatic as Star Trek, if actually implemented for larger objects it would be pretty close to one seen on the big screen. \n",
    "\n",
    "Quantum Teleportation, essentially allows the teleportation of an arbitrary qubit to another location with the help of a pre-shared entangled pair and transmission of two classical bits.\n",
    "\n",
    "Since the transmission of classical bits is necessary to recreate the qubit at the receivers end, teleportation does not violate the assumption that nothing can travel faster than the speed of light.\n",
    "\n",
    "While quantum teleportation of small quantum objects has already been performed in laboratories, it is unclear if it will scale or if conscious entities can be teleported. Therefore, we may be a ways from “zooming” past traffic jams.\n",
    "\n",
    "Back to reality, let’s study a circuit for quantum teleportation. You will note as we describe the teleportation mechanism that we are not copying an arbitrary qubit (prohibited by the no-cloning theorem) but moving it from one location to another, therefore the original qubit will be destroyed in the process. \n"
   ]
  },
  {
   "cell_type": "markdown",
   "metadata": {},
   "source": [
    "## 27.1 The Teleportation circuit\n",
    "\n",
    "Recall our two favorite bases $\\{\\rvert 0 \\rangle, \\rvert 1 \\rangle \\}$ and $\\big\\{ \\frac{\\rvert 0 \\rangle + \\rvert 1 \\rangle}{\\sqrt{2}},\\frac{\\rvert 0 \\rangle - \\rvert 1 \\rangle}{\\sqrt{2}}\\big \\}$. The circuit used for quantum teleportation is below \n",
    "\n",
    "![Teleportation Circuit](nanomod27-fig1.png)\n",
    "\n",
    "$\\rvert\\beta_{00}\\rangle$ represents an entangled pair of qubits $\\frac{\\rvert 00 \\rangle + \\rvert 11 \\rangle}{\\sqrt{2}}$\n",
    "\n"
   ]
  },
  {
   "cell_type": "markdown",
   "metadata": {},
   "source": [
    "The first qubit of the entangled pair is with Alice and the second qubit is with Bob.\n",
    "\n",
    "Alice’s input qubit is denoted by $\\rvert q \\rangle$.\n",
    "\n",
    "We can compute the state of the system at various points in the circuit as $\\rvert \\psi_1 \\rangle$, $\\rvert \\psi_2 \\rangle$, $\\rvert \\psi_3 \\rangle$ and so on.\n",
    "\n",
    "The system state at $\\rvert \\psi_1 \\rangle$ is, therefore, given by \n",
    "\n",
    "$\\rvert \\psi_1 \\rangle = \\rvert q \\rangle \\otimes \\rvert \\beta_{00} \\rangle = ( \\alpha \\rvert 0 \\rangle + \\beta \\rvert 1 \\rangle ) \\otimes \\big ( \\frac{\\rvert 00 \\rangle + \\rvert 11 \\rangle}{\\sqrt{2}}\\big) = \\frac{1}{\\sqrt{2}} ( \\alpha \\rvert 000 \\rangle + \\alpha \\rvert 011 \\rangle + \\beta \\rvert 100 \\rangle + \\beta \\rvert 111 \\rangle )$\n",
    "\n"
   ]
  },
  {
   "cell_type": "markdown",
   "metadata": {},
   "source": [
    "The first operation that Alice applies is a CNOT between $\\rvert q \\rangle$ and her qubit from $\\rvert \\beta_{00} \\rangle$ acts as the controlled qubit.\n",
    "\n",
    "Therefore $\\rvert \\psi_2 \\rangle$ can be computed by noting the effect of CNOT which is given by,\n",
    "\n",
    "$\\rvert x,y,z \\rangle \\rightarrow \\rvert x,x\\oplus y,z \\rangle$\n",
    "\n",
    "$\\rvert \\psi_1 \\rangle \\rightarrow \\rvert \\psi_2 \\rangle = \\frac{1}{\\sqrt{2}} ( \\alpha \\rvert 000 \\rangle + \\alpha \\rvert 011 \\rangle + \\beta \\rvert 110 \\rangle + \\beta \\rvert 101 \\rangle )$\n",
    "\n",
    "\n"
   ]
  },
  {
   "cell_type": "markdown",
   "metadata": {},
   "source": [
    "Now Alice applies a Hadamard gate on the top qubit. Hadamard has the following mappings. \n",
    "\n",
    "$\\rvert 0 \\rangle \\rightarrow \\frac{\\rvert 0 \\rangle + \\rvert 1 \\rangle}{\\sqrt{2}}$\n",
    "\n",
    "\n",
    "$\\rvert 1 \\rangle \\rightarrow \\frac{\\rvert 0 \\rangle - \\rvert 1 \\rangle}{\\sqrt{2}}$\n",
    "\n",
    "\n",
    "Therefore, the terms in $\\rvert \\psi_2 \\rangle$ will be mapped as follows.\n",
    "\n",
    "$\\rvert \\underline{0}00 \\rangle \\rightarrow \\frac{1}{\\sqrt{2}} ( \\rvert \\underline{0}00 \\rangle + \\rvert \\underline{1}00 \\rangle ) $\n",
    "\n",
    "$\\rvert \\underline{0}11 \\rangle \\rightarrow \\frac{1}{\\sqrt{2}} ( \\rvert \\underline{0}11 \\rangle + \\rvert \\underline{1}11 \\rangle ) $\n",
    "\n",
    "$\\rvert \\underline{1}10 \\rangle \\rightarrow \\frac{1}{\\sqrt{2}} ( \\rvert \\underline{0}10 \\rangle - \\rvert \\underline{1}10 \\rangle ) $\n",
    "\n",
    "$\\rvert \\underline{1}01 \\rangle \\rightarrow \\frac{1}{\\sqrt{2}} ( \\rvert \\underline{0}01 \\rangle - \\rvert \\underline{1}01 \\rangle ) $\n"
   ]
  },
  {
   "cell_type": "markdown",
   "metadata": {},
   "source": [
    "\n",
    "Hence, we have \n",
    "\n",
    "$\\rvert \\psi_3 \\rangle = \\frac{1}{\\sqrt{2}}\\big[\\alpha \\rvert 000 \\rangle + \\alpha \\rvert 100 \\rangle + \\alpha \\rvert 001 \\rangle + \\alpha \\rvert 111 \\rangle + \\beta \\rvert 010 \\rangle - \\beta \\rvert 110 \\rangle + \\beta \\rvert 001 \\rangle - \\beta \\rvert 101 \\rangle \\big]$\n",
    "\n",
    "Collecting terms\n",
    "\n",
    "$\\rvert \\psi_3 \\rangle = \\rvert 00 \\rangle \\Big(\\frac{\\alpha \\rvert 0 \\rangle + \\beta \\rvert 1 \\rangle}{\\sqrt{2}}\\Big) + \n",
    "\\rvert 01 \\rangle \\Big(\\frac{\\alpha \\rvert 1 \\rangle + \\beta \\rvert 0 \\rangle}{\\sqrt{2}} \\Big)+ \\rvert 10 \\rangle \\Big(\\frac{\\alpha \\rvert 0 \\rangle - \\beta \\rvert 1 \\rangle}{\\sqrt{2}} \\Big)+ \\rvert 11 \\rangle \\Big(\\frac{\\alpha \\rvert 1 \\rangle - \\beta \\rvert 0 \\rangle}{\\sqrt{2}} \\Big)$\n",
    "\n",
    "\n"
   ]
  },
  {
   "cell_type": "markdown",
   "metadata": {},
   "source": [
    "In $\\rvert \\psi_3 \\rangle$ the first two qubits are controlled by Alice. She will measure them in the standard basis. The resulting possible outputs are given in the following table. We denote Alice’s measurement outcomes as $m$ and $m’$ for the two qubits under her control.\n",
    "\n",
    "\n",
    "||||        \n",
    "|: --- |:--:|: -- :|\n",
    "| **Alice's measurement outcomes** |**Bob's qubit** |**Gates applied by Bob**|\n",
    "| **m, m'** | ||\n",
    "| 0, 0| $\\alpha\\rvert0\\rangle+\\beta\\rvert1\\rangle$|I|\n",
    "| 0, 1| $\\alpha\\rvert1\\rangle+\\beta\\rvert0\\rangle$|Z|\n",
    "| 1, 0| $\\alpha\\rvert0\\rangle-\\beta\\rvert1\\rangle$|X|\n",
    "| 1, 1| $\\alpha\\rvert1\\rangle-\\beta\\rvert0\\rangle$|XZ|\n",
    "\n",
    "\n",
    "We have written the gate operations in short as $X^{m'}Z^m$ \n",
    "\n",
    "Where $X^0=Z^0=I$ and so on. \n",
    "\n",
    "When Alice transmits the values of $m$, $m’$ to Bob. Bob will apply the $X$ and $Z$ gates accordingly are retrieve the original qubit $\\rvert q \\rangle = \\alpha \\rvert 0 \\rangle + \\beta \\rvert 1 \\rangle$."
   ]
  },
  {
   "cell_type": "markdown",
   "metadata": {},
   "source": [
    "## 27.2 Simulating Teleportation on IBM Quantum Computer\n",
    "\n",
    "IBM provides a graphical interface to their quantum processors. In this graphical interface, you will find some of the basic quantum gates to the right and a scratch pad for circuits on the left. IBM has different size quantum processors but most people have access to the 5-qubit processor. The image below shows the important parts of the interface.\n",
    "\n",
    "![IBM Computer Overview](nanomod27-teleportIBMCompOvrvw.png)\n",
    "\n",
    "**Figure 1. IBM quantum computer interface shown along with circuit for quantum teleportation.**"
   ]
  },
  {
   "cell_type": "markdown",
   "metadata": {},
   "source": [
    "**Gates:** IBM provides access to $I, X, Y, Z, H, S$ and $T$ gates. The identity gate $I$ is shown as $id$. In addition there is a $CNOT$ gate and measurement operator that measures in the standard basis. One can drag and drop these gates to create circuits on the left. Each of the lines in the circuit is for a single qubit. The measurement operator writes its output to classical registers shown by a line with a forward slash on it at the bottom of the circuit. One can give different names to these classical registers a seen in the image above. The initial state of all the qubits is always set to $\\rvert0\\rangle$.\n",
    "\n",
    "The above circuit shows the teleportation of $\\frac{1}{\\sqrt{2}}(\\rvert0\\rangle-\\rvert1\\rangle)$. Since we cannot \"see\" a qubit in superposition, we measure the qubit in the Hadamard basis and write its output to a classical register called \"res\". The 0 on the res line indicates the bit number of that particular measurement operation in that classical register which in general may contain many bits."
   ]
  },
  {
   "cell_type": "markdown",
   "metadata": {},
   "source": [
    "**Restrictions:** The physical layout of the qubits in IBM's quantum processor, unfortunately, does not allow arbitrary gate operations between all qubits. For example, the CNOT gate cannot be used on all the qubits. Although this is not a major issue it does complicate the circuit design quite a bit and in some cases requiring the use of more gates than necessary leading to higher probabilities of error. In our experiments we choose to use the simulator that IBM provides. Therefore, you see a Simulate button on the right above the gates. Upon pressing the simulate button it asks for number of shots meaning the number of times we wish to execute the circuit. Since, all the measurements are probabilistic it is helpful to see an average of all the possible outcomes over several trials. The image below shows the result of executing the above circuit for teleporting $\\frac{1}{\\sqrt{2}}(\\rvert0\\rangle-\\rvert1\\rangle)$.\n",
    "\n",
    "![Result of XH Teleportation](nanomod27-resultXHrun.png)\n",
    "\n",
    "**Figure 2. Results of executing the teleportation circuit for teleporting $\\frac{1}{\\sqrt{2}}(\\rvert0\\rangle-\\rvert1\\rangle)$.**"
   ]
  },
  {
   "cell_type": "markdown",
   "metadata": {},
   "source": [
    "**Discussion**\n",
    "\n",
    "The bar graph in the results shows the fraction of number of times a particular output was achieved. Further, notice the slight grouping of the bit under the bar. Since we are writing the output to two classical registers \"mes\" and \"res\" (for measurements and result), the output bit belonging to the same register are shown close together. Further, res only has one bit and mes has two bits; the bit in res is shown first and mes is shown after.\n",
    "\n",
    "As we can see in the results, res is always set to 1. The bits in mes register however take on all the possible two bit values with equal probability. The 1 in res indicates that a $\\frac{1}{\\sqrt{2}}(\\rvert0\\rangle-\\rvert1\\rangle)$ was received. And all possible values of $m'$ and $m$ are equally likely therefore mes contains all possible outputs.\n",
    "\n",
    "**QASM**\n",
    "\n",
    "The graphical IBM circuit is translated into Open Quantum Assembly (OpenQASM) for execution. The blackbox on the right contains that code. It can be downloaded and saved and contains all the details for recreating the circuit.\n"
   ]
  },
  {
   "cell_type": "markdown",
   "metadata": {},
   "source": [
    "***\n",
    "***\n",
    "### Additional Examples\n",
    "\n",
    "Figure 3 below shows the result of teleporting $\\frac{1}{\\sqrt{2}}(\\rvert0\\rangle+\\rvert1\\rangle)$ and figure 4 shows the result of teleporting $\\rvert0\\rangle$.\n",
    "\n"
   ]
  },
  {
   "cell_type": "markdown",
   "metadata": {},
   "source": [
    "![Result of teleporting $\\frac{1}{\\sqrt{2}}(\\rvert0\\rangle+\\rvert1\\rangle)$](nanomod27-TeleportHRun.png)\n",
    "\n",
    "**Figure 3. Teleporting $\\frac{1}{\\sqrt{2}}(\\rvert0\\rangle+\\rvert1\\rangle)$ using the teleportation circuit.**"
   ]
  },
  {
   "cell_type": "markdown",
   "metadata": {},
   "source": [
    "***\n",
    "***\n",
    "![Result of teleporting $\\rvert0\\rangle$](nanomod27-TeleportBasicRun.png)\n",
    "\n",
    "**Figure 4. Teleporting $\\rvert0\\rangle$ using the teleportation circuit.**"
   ]
  },
  {
   "cell_type": "markdown",
   "metadata": {},
   "source": [
    "In the above circuits, we've assumed Alice to be on the left and Bob to the right. We don't have a way to implement actual networking so we envision in our mind's eye that the circuit wires between the gates serve as transmission lines between Alice and Bob. We will continue with such a set up with all our circuits."
   ]
  },
  {
   "cell_type": "markdown",
   "metadata": {},
   "source": [
    "***\n",
    "***\n",
    "### End of nanomodule 27\n",
    "***\n",
    "***"
   ]
  }
 ],
 "metadata": {
  "kernelspec": {
   "display_name": "Python 3",
   "language": "python",
   "name": "python3"
  },
  "language_info": {
   "codemirror_mode": {
    "name": "ipython",
    "version": 3
   },
   "file_extension": ".py",
   "mimetype": "text/x-python",
   "name": "python",
   "nbconvert_exporter": "python",
   "pygments_lexer": "ipython3",
   "version": "3.5.2"
  }
 },
 "nbformat": 4,
 "nbformat_minor": 2
}
