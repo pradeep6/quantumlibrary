{
 "cells": [
  {
   "cell_type": "markdown",
   "metadata": {},
   "source": [
    "# 21. B92 Quantum Key Distribution Protocol\n",
    "\n",
    "### This is nanomodule 21-module 3\n",
    "\n",
    "<b>Learning Outcomes: </b>\n",
    "\n",
    "Upon completion of this lesson:\n",
    "\n",
    "21.1 Students will understand the working of B92 quantum key distribution protocol.\n",
    "\n",
    "21.2 Students will understand the significance of non-orthogonal bases in QKD protocol.\n",
    "\n",
    "21.3 Students will apply the concept of measurement and non-orthogonal bases.\n",
    "\n",
    "21.4 Students will be able to analyze the effect of an eavesdropper on a QKD protocol.\n",
    "\n",
    "***\n",
    "***"
   ]
  },
  {
   "cell_type": "markdown",
   "metadata": {},
   "source": [
    "## 21.1 Background\n",
    "B92, proposed by Bennett in 1992 was another surprising protocol. It was a simplification of BB84 in several ways. It achieves key distribution by using two non-orthogonal states as compared to BB84 which uses four states. B92 uses only photons polarized at $\\mathrm{0}^{\\circ}$ and $\\mathrm{45}^{\\circ}$.Therefore, B92 only needs one of the components of rectilinear and one of the components of the diagonal basis that we have been using so far. "
   ]
  },
  {
   "cell_type": "markdown",
   "metadata": {},
   "source": [
    "## 21.2 The B92 Protocol\n",
    "##### Alice and Bob agree on the following bit to qubit mapping.\n",
    "\n",
    "\n",
    "|Bit| Polarisation |          \n",
    "|: -- :|:--:|\n",
    "| 0 |&#8594; &nbsp;&nbsp;($0^\\circ$)\n",
    "| 1 | &#8599; &nbsp;($45^\\circ$)     \n",
    "      \n",
    "\n",
    "_Note_: Bob’s measurement bases do not change. He still measures in the rectilinear and diagonal bases randomly just like in BB84. However, the interpretation of the results of these measurments on Bob's end is different and quite non-intuitive one might add.\n",
    "\n",
    "##### The interpretation of the results is summarized in the following table\n",
    "\n",
    "\n",
    "|Alices bit| Alice's Transmission|  Bob's Bases | Bob's Observation | Bob's Bit|        \n",
    "|: -- :|:--:|: -- :|:--:|:--:|\n",
    "| 0 |&#8594;| &#10010; |&#8594;|inconclusive|\n",
    "| 1 | &#8599;| &#10010; |&#8594;|inconclusive|\n",
    "| 1 | &#8599;| &#10010; |&#8593;|1|\n",
    "| 0 |&#8594;| &#x2716; |&#8598;|0|\n",
    "| 0 |&#8594;| &#x2716; | &#8599;|inconclusive|\n",
    "| 1 | &#8599;| &#x2716; |&#8599;|inconclusive|\n",
    "\n",
    "The protocol is executed in exactly the same manner as BB84 is except that now the new bit to qubit mappings are used.\n",
    "\n",
    "1. Alice generates a key bit stream $K=k_1, k_2, ...$. If $k_i=0$ she transmits a $0^\\circ$ degree polarized photon. If $k_i=1$ she transmits a $1^\\circ$ degree polarized photon.\n",
    "\n",
    "2. Bob measures the received qubits randomly in rectilinear or diagonal basis and records his results."
   ]
  },
  {
   "cell_type": "markdown",
   "metadata": {},
   "source": [
    "## 21.3 Discussion\n",
    "\n",
    "An observation of &#8594; in &#10010; basis is inconclusive because it can result from both  &#8594; and &#8599; transmissions. Similarly, an observation of &#8599; in the &#x2716; basis is inconclusive because it can result from both &#8594; and &#8599; transmissions from Alice. \n",
    "\n",
    "\n",
    "Now, an observation of &#8593; in the &#10010; basis can only occur if Alice had transmitted &#8599; . Therefore, Bob knows with certainty that Alice sent bit 1. Similarly, an observation of &#8598; in the &#x2716; basis can only happen if Alice had transmitted &#8594;. Therefore Bob records the bit in the table below as the transmitted bit. \n",
    "\n",
    "A sample run of the protocol is shown below\n",
    "\n",
    "||||||        \n",
    "|: --- |:--:|: -- :|:--:|:--:|\n",
    "| ***Alice's Bits*** |&nbsp;0&nbsp;| &nbsp;&nbsp; 0&nbsp;&nbsp;  |&nbsp;&nbsp;1&nbsp;&nbsp;|&nbsp;&nbsp;1&nbsp;&nbsp;|&nbsp;&nbsp;0&nbsp;&nbsp;|&nbsp;&nbsp;1&nbsp;&nbsp;|&nbsp;&nbsp;1&nbsp;&nbsp;|&nbsp;&nbsp;0&nbsp;&nbsp;| \n",
    "| ***Alice's Qubits*** | &#8594;| &#8594; |&#8599;|&#8599;|&#8594;|&#8599;|&#8599;|&#8594;\n",
    "| ***Quantum Channel*** | &#8659;|&#8659;|&#8659;|&#8659;|&#8659;|&#8659;|&#8659;|&#8659;\n",
    "| ***Bob's Bases*** |&#10010; |&#x2716;| &#x2716; |&#10010; |&#x2716; |&#10010; |&#10010; |&#10010; |\n",
    "| ***Bob's Observations*** |&#8594;| &#8598; | &#8599;|→|↗|↑|↑|→\n",
    "| ***Bob's Bits*** | | 0 | |||1|1| |\n",
    "\n",
    "Some of the qubits that Bob receives end up resulting in a inconclusive result and hence are omitted from the table able."
   ]
  },
  {
   "cell_type": "markdown",
   "metadata": {},
   "source": [
    "## 21.4 Key Sifting\n",
    "\n",
    "Once Bob has made his measurements he will simply tell Alice which of the qubits that he measured resulted in a conclusive output. No discussion of basis is required but just the index numbers of the bits that are to be retained. They will discard the remaining bits.\n",
    "\n",
    "Note that in B92 it is the measurement in the \"incorrect\" basis that results in a conclusive bit being recorded. For example a 45 degree polarized photon measured in rectilinear basis results in a conclusive result 50% of the time."
   ]
  },
  {
   "cell_type": "markdown",
   "metadata": {},
   "source": [
    "## 21.5 The Eavesdropping\n",
    "\n",
    "Alice and Bob check for Eve’s presence just like in BB84 by comparing a part of the correctly received bits.\n",
    "\n",
    "Any discrepancy in the compared bit values would reveal Eve’s presence. \n"
   ]
  },
  {
   "cell_type": "markdown",
   "metadata": {},
   "source": [
    "## 21.6 Security of B92\n",
    "\n",
    "The security of B92 comes from the fact that non-orthogonal states can not be distinguished from another in a single measurement without a priori knowledge of their basis. \n"
   ]
  },
  {
   "cell_type": "markdown",
   "metadata": {},
   "source": [
    "***\n",
    "***\n",
    "# <u>B92 Simulator (Interactive)</u>\n",
    "\n",
    "The following cell provides widgets to set the values that control the main program.\n",
    "* The first widget sets how many qubits are to be transmitted.  \n",
    "* The second widget controls whether Eve will be active or not.\n",
    "* The third, fourth and fifth widgets set the bias of X to + for Alice, Bob and Eve.\n",
    "\n",
    "These values are passed to the main program as parameters.\n",
    "\n"
   ]
  },
  {
   "cell_type": "code",
   "execution_count": 4,
   "metadata": {},
   "outputs": [
    {
     "data": {
      "application/vnd.jupyter.widget-view+json": {
       "model_id": "8e2c6ec9989040a6965665f8ef31bf9e",
       "version_major": 2,
       "version_minor": 0
      },
      "text/plain": [
       "VBox(children=(Label(value='Enter number of initial qubits'), IntText(value=100)))"
      ]
     },
     "metadata": {},
     "output_type": "display_data"
    },
    {
     "data": {
      "application/vnd.jupyter.widget-view+json": {
       "model_id": "e95ba286580949e187ff3d76e00537de",
       "version_major": 2,
       "version_minor": 0
      },
      "text/plain": [
       "VBox(children=(Label(value='Eve is not active'), ToggleButton(value=False, button_style='success', description…"
      ]
     },
     "metadata": {},
     "output_type": "display_data"
    },
    {
     "data": {
      "application/vnd.jupyter.widget-view+json": {
       "model_id": "b6a4003297c44fabaa43eb5804bf734a",
       "version_major": 2,
       "version_minor": 0
      },
      "text/plain": [
       "VBox(children=(Label(value=\"Enter Alice's bias for diagnal basis over standard basis (0-100)\"), BoundedIntText…"
      ]
     },
     "metadata": {},
     "output_type": "display_data"
    },
    {
     "data": {
      "application/vnd.jupyter.widget-view+json": {
       "model_id": "a80a5ffe543247008713b26098aaf745",
       "version_major": 2,
       "version_minor": 0
      },
      "text/plain": [
       "VBox(children=(Label(value=\"Enter Bob's bias for diagnal basis over standard basis (0-100)\"), BoundedIntText(v…"
      ]
     },
     "metadata": {},
     "output_type": "display_data"
    },
    {
     "data": {
      "application/vnd.jupyter.widget-view+json": {
       "model_id": "d30c45ba183a4b678e3296cc5928d272",
       "version_major": 2,
       "version_minor": 0
      },
      "text/plain": [
       "VBox(children=(Label(value=\"Enter Eve's bias for diagnal basis over standard basis (0-100)\"), BoundedIntText(v…"
      ]
     },
     "metadata": {},
     "output_type": "display_data"
    }
   ],
   "source": [
    "# Code to generate GUI for entering program parameters\n",
    "import ipywidgets as widgets\n",
    "from IPython.display import display\n",
    "\n",
    "# Configuration of the widget that controls the number of qubits\n",
    "number_of_qubits = widgets.IntText(\n",
    "                    value=100,\n",
    "                    disabled=False\n",
    "                    )\n",
    "qubit_control = widgets.VBox([widgets.Label(value=\"Enter number of initial qubits\"), number_of_qubits])\n",
    "\n",
    "# Configuration of the widget that controls whether Eve is active or not\n",
    "is_Eve_active =  widgets.ToggleButton(\n",
    "                    value=False,\n",
    "                    description='Click to activate',\n",
    "                    disabled=False,\n",
    "                    button_style='success', # 'success', 'info', 'warning', 'danger' or ''\n",
    "                    tooltip='Will Eve intercept the transmission',\n",
    "                    icon=''\n",
    "                    )\n",
    "eve_message = widgets.Label(value=\"Eve is not active\")\n",
    "eve_control = widgets.VBox([eve_message, is_Eve_active])\n",
    "\n",
    "# Configuration of an event handler for the eve control widget\n",
    "def on_value_change(change):\n",
    "    is_Eve_active.description = 'Click to deactivate' if change['new'] else 'Click to activate'\n",
    "    eve_message.value = 'Eve is active' if change['new'] else 'Eve is not active'\n",
    "is_Eve_active.observe(on_value_change, names='value')\n",
    "\n",
    "# Configuration of the widget that controls Alice's bias towards the diagonal bases\n",
    "abias = widgets.BoundedIntText(\n",
    "                    value=50,\n",
    "                    min=0,\n",
    "                    max=100,\n",
    "                    step=1,\n",
    "                    disabled=False\n",
    "                    )\n",
    "abias_control = widgets.VBox([widgets.Label(value=\"Enter Alice's bias for diagnal basis over standard basis (0-100)\"), abias])\n",
    "\n",
    "# Configuration of the widget that controls Bob's bias towards the diagonal bases\n",
    "bbias = widgets.BoundedIntText(\n",
    "                    value=50,\n",
    "                    min=0,\n",
    "                    max=100,\n",
    "                    step=1,\n",
    "                    disabled=False\n",
    "                    )\n",
    "bbias_control = widgets.VBox([widgets.Label(value=\"Enter Bob's bias for diagnal basis over standard basis (0-100)\"), bbias])\n",
    "\n",
    "# Configuration of the widget that controls Eve's bias towards the diagonal bases\n",
    "ebias = widgets.BoundedIntText(\n",
    "                    value=50,\n",
    "                    min=0,\n",
    "                    max=100,\n",
    "                    step=1,\n",
    "                    disabled=False\n",
    "                    )\n",
    "ebias_control = widgets.VBox([widgets.Label(value=\"Enter Eve's bias for diagnal basis over standard basis (0-100)\"), ebias])\n",
    "\n",
    "# display the control widgets\n",
    "display(qubit_control, eve_control, abias_control, bbias_control, ebias_control)"
   ]
  },
  {
   "cell_type": "markdown",
   "metadata": {},
   "source": [
    "After setting the parameters you may either:\n",
    "* Run each of the following cells one at a time in order or \n",
    "* Select \"Run All Below\" in the \"Cell\" sub-menu from here\n",
    "\n",
    "The following cells define the classes, function and main program.  Output is provided after each cell."
   ]
  },
  {
   "cell_type": "code",
   "execution_count": 5,
   "metadata": {},
   "outputs": [],
   "source": [
    "class Messenger:\n",
    "    \"\"\"Inherited class with methods common to both BB84 and B92 protocols\"\"\"\n",
    "    from random import choice\n",
    "    from random import choices\n",
    "    \n",
    "    # There are no class variables defined, only instance variables.  \n",
    "    # Therefore no data is shared between instances without going through the main program\n",
    "    def __init__(self, number_of_qubits):\n",
    "        \"\"\"Initialize a new instance\"\"\"\n",
    "        self.key = []\n",
    "        self.bases = []\n",
    "        self.valid_bit = []\n",
    "        self.secret_bit = []\n",
    "        for i in range(number_of_qubits):\n",
    "            self.valid_bit.append(1) \n",
    "            self.secret_bit.append(1) \n",
    "    \n",
    "    def generate_bits(self, number_of_bits):\n",
    "        \"\"\"Populate the key instance variable with a given number of random bits and return what was populated\"\"\"\n",
    "        self.key = self.choices([0,1], k=number_of_bits)\n",
    "        return self.key\n",
    "        \n",
    "    def generate_bases(self, number_of_qubits, biasToX):\n",
    "        \"\"\"Populate the bases instance variable with a given number of random bits and return what was populated\"\"\"\n",
    "        self.bases = self.choices(['×','+'], cum_weights=[biasToX,100], k=number_of_qubits)\n",
    "        return self.bases\n",
    "\n",
    "    def scratch_bits(self, input):\n",
    "        \"\"\"Based on the markers given in the input parameter, clear the bits considered to be valid and secret\"\"\"\n",
    "        markers = ['W', '?', '✓']\n",
    "        for i, delete_indicator in enumerate(input):\n",
    "            if delete_indicator in markers:\n",
    "                self.valid_bit[i] = 0 \n",
    "                self.secret_bit[i] = 0 \n",
    "        return\n",
    "                \n",
    "    def choose_half(self, input):\n",
    "        \"\"\"Given which are valid choices in the input parameter, make a 50/50 choice which to mark from the valid choices\"\"\"\n",
    "        output = []\n",
    "        for i, bit in enumerate(input):\n",
    "            if bit == 'W' or bit == '?':\n",
    "                output.append('')\n",
    "            else:\n",
    "                if self.choice([0, 1]):\n",
    "                    output.append('') \n",
    "                else:\n",
    "                    output.append('✓')\n",
    "        return output\n",
    "\n",
    "    def check_bits(self, input_key, bits_to_check, valid_bit):\n",
    "        \"\"\"From a given list of bits to check, see if the inputted bit equals the corresponding instance key bit\"\"\"\n",
    "        output = []\n",
    "        for i, bit in enumerate(bits_to_check):\n",
    "            if bit == '✓':\n",
    "                self.secret_bit[i] = 0\n",
    "                if input_key[i] == self.key[i]:\n",
    "                    output.append('✓') \n",
    "                else:\n",
    "                    output.append('')\n",
    "            else:\n",
    "                # If a bit is a valid bit but just not on the chosen list, reset it so it can be reused for multiple runs\n",
    "                if valid_bit[i] != 'W' and valid_bit[i] != '?':\n",
    "                    self.secret_bit[i] = 1\n",
    "                output.append('')\n",
    "        return output\n",
    "    \n",
    "    def show_valid_key(self):\n",
    "        \"\"\"Return the key for this instance based on the bits marked as valid\"\"\"\n",
    "        output = []\n",
    "        for key_bit, check_bit in zip(self.key, self.valid_bit):\n",
    "            output.append(key_bit) if check_bit == 1 else output.append('')\n",
    "        return output\n",
    "\n",
    "    def show_secret_key(self):\n",
    "        \"\"\"Return the key for this instance based on the bits marked as secret\"\"\"\n",
    "        output = []\n",
    "        for key_bit, check_bit in zip(self.key, self.secret_bit):\n",
    "            output.append(key_bit) if check_bit == 1 else output.append('')\n",
    "        return output\n",
    "    \n",
    "class BB84Messenger(Messenger):\n",
    "    \"\"\"methods for BB84 messaging\"\"\"\n",
    "\n",
    "    def encode_qubit(self, state, basis):\n",
    "        \"\"\"Return the qubit encoding based on the BB84 protocol\"\"\"\n",
    "        vocabulary = [{'+':'→', '×':'↗'}, {'+':'↑', '×':'↖'}]\n",
    "        return vocabulary[state][basis]\n",
    "        \n",
    "    def transmit_key(self):\n",
    "        \"\"\"Loop through all bits, returning the encoded BB84 qubits\"\"\"\n",
    "        return ''.join([self.encode_qubit(key, basis) for key, basis in zip(self.key, self.bases)])\n",
    "    \n",
    "    def compare_bases(self, input):\n",
    "        \"\"\"Compare the inputted bases with the instance bases and return a 'C' if they match or 'W' if they do not\"\"\"\n",
    "        output = []\n",
    "        for my_basis, other_basis in zip(self.bases, input):\n",
    "            output.append('C') if my_basis == other_basis else output.append('W')\n",
    "        return output\n",
    "\n",
    "    def receive_key(self, input):\n",
    "        \"\"\"Process an inputted string to extract the key bits and return what qubits were observed\"\"\"\n",
    "        qubits = list(input)\n",
    "        del self.key[:]\n",
    "        observed = []\n",
    "        for qubit, basis in zip(qubits, self.bases):\n",
    "            if basis == '+' and qubit == '→':\n",
    "                self.key.append(0)\n",
    "                observed.append('→')\n",
    "            elif basis == '×' and qubit == '↗':\n",
    "                self.key.append(0)\n",
    "                observed.append('↗')\n",
    "            elif basis == '+' and qubit == '↑':\n",
    "                self.key.append(1)\n",
    "                observed.append('↑')\n",
    "            elif basis == '×' and qubit == '↖':\n",
    "                self.key.append(1)\n",
    "                observed.append('↖')\n",
    "            else:\n",
    "                self.key.append(self.choice([0, 1]))\n",
    "                observed.append(self.encode_qubit(self.key[len(self.key)-1], basis))\n",
    "        return observed\n",
    "    \n",
    "class B92Messenger(Messenger):\n",
    "    \"\"\"methods for B92 messaging\"\"\"\n",
    "\n",
    "    def encode_qubit(self, state):\n",
    "        \"\"\"Return the qubit encoding based on the B92 protocol\"\"\"\n",
    "        vocabulary = ['→', '↗']\n",
    "        if state == '?':\n",
    "            state = self.choice([0, 1])\n",
    "        return vocabulary[state]\n",
    "        \n",
    "    def transmit_key(self):\n",
    "        \"\"\"Loop through all bits, returning the encoded B92 qubits\"\"\"\n",
    "        return ''.join([self.encode_qubit(key) for key in self.key])\n",
    "\n",
    "    def receive_key(self, input):\n",
    "        \"\"\"Process an inputted string to extract the key bits and return what qubits were observed\"\"\"\n",
    "        qubits = list(input)\n",
    "        del self.key[:]\n",
    "        observed = []\n",
    "        for qubit, basis in zip(qubits, self.bases):\n",
    "            if basis == '+' and qubit == '↗':\n",
    "                self.key.append(1)\n",
    "                observed.append('↑')\n",
    "            elif basis == '+' and qubit == '→':\n",
    "                self.key.append('?')\n",
    "                observed.append('→')\n",
    "            elif basis == '×' and qubit == '→':\n",
    "                self.key.append(0)\n",
    "                observed.append('↖')\n",
    "            elif basis == '×' and qubit == '↗':\n",
    "                self.key.append('?')\n",
    "                observed.append('↗')\n",
    "            else:\n",
    "                self.key.append('E')\n",
    "                observed.append('E')\n",
    "        return observed   \n",
    "    \n",
    "    def show_questionable_bits(self):\n",
    "        \"\"\"Return a list of bit positions for the qubits that cannot be accurately measured\"\"\"\n",
    "        output = []\n",
    "        for check_bit in self.key:\n",
    "            output.append('?') if check_bit == '?' else output.append('')\n",
    "        return output\n",
    "        \n",
    "    \n",
    "def printTable(caption, rows):\n",
    "    \"\"\"Make a nice looking table like in the book\"\"\"\n",
    "    from IPython.display import HTML, display\n",
    "    display(HTML(\n",
    "    '<table style=\"border-bottom: 4px double #333;border-top: 4px double #333;padding: 10px 0;\">' +\n",
    "    '<caption style=\"font-weight:900; color:black; border-top: 4px double #333;\">' + caption + '</caption>' +\n",
    "    '<tr>{}</tr></table>'.format('</tr><tr>'.join(\n",
    "        '<td>' + row[0] + '</td><td>{}</td>'.format('</td><td>'.join(row[1])) for row in rows))))"
   ]
  },
  {
   "cell_type": "markdown",
   "metadata": {},
   "source": [
    "# Main program continues now using the B92 protocol"
   ]
  },
  {
   "cell_type": "code",
   "execution_count": 6,
   "metadata": {},
   "outputs": [
    {
     "name": "stdout",
     "output_type": "stream",
     "text": [
      "Program parameters have been entered into the program as follows:\n",
      "  * Alice will start with 100 qubits to generate a key to send to Bob.\n",
      "  * Eve will not intercept the transmission.\n",
      "  * Alice has a 50/50 chance of choosing diagonal basis over standard basis\n",
      "  * Bob has a 50/50 chance of choosing diagonal basis over standard basis\n",
      "  * Eve has a 50/50 chance of choosing diagonal basis over standard basis\n"
     ]
    }
   ],
   "source": [
    "# parameters passed into main program from GUI\n",
    "n = number_of_qubits.value\n",
    "eve_present = is_Eve_active.value\n",
    "aliceXbias = abias.value\n",
    "bobXbias = bbias.value\n",
    "eveXbias = ebias.value\n",
    "\n",
    "# instantiate a messenger class for each persona \n",
    "alice92 = B92Messenger(n)\n",
    "bob92 = B92Messenger(n)\n",
    "eve92 = B92Messenger(n)\n",
    "\n",
    "# Let's remind us of the parameters that we are working with\n",
    "print(\"Program parameters have been entered into the program as follows:\")\n",
    "print(\"  * Alice will start with {} qubits to generate a key to send to Bob.\".format(n))\n",
    "print(\"  * Eve will {}intercept the transmission.\".format('' if eve_present else 'not '))\n",
    "print(\"  * Alice has a {}/{} chance of choosing diagonal basis over standard basis\".format(aliceXbias, 100 - aliceXbias))\n",
    "print(\"  * Bob has a {}/{} chance of choosing diagonal basis over standard basis\".format(bobXbias, 100 - bobXbias))\n",
    "print(\"  * Eve has a {}/{} chance of choosing diagonal basis over standard basis\".format(eveXbias, 100 - eveXbias))"
   ]
  },
  {
   "cell_type": "markdown",
   "metadata": {},
   "source": [
    "### Step 1 of the B92 protocol -  Alice sends a candidate key\n",
    "\n",
    "* Alice flips a coin *n* times to determine which classical bits to send.  \n",
    "* She then sends the bits in the appropriate polarization with a quantum channel."
   ]
  },
  {
   "cell_type": "code",
   "execution_count": 7,
   "metadata": {},
   "outputs": [
    {
     "data": {
      "text/html": [
       "<table style=\"border-bottom: 4px double #333;border-top: 4px double #333;padding: 10px 0;\"><caption style=\"font-weight:900; color:black; border-top: 4px double #333;\">Step 1: Alice sends 100 random bits in the ∠ basis</caption><tr><td>Bit&nbsp;number</td><td>1</td><td>2</td><td>3</td><td>4</td><td>5</td><td>6</td><td>7</td><td>8</td><td>9</td><td>10</td><td>11</td><td>12</td><td>13</td><td>14</td><td>15</td><td>16</td><td>17</td><td>18</td><td>19</td><td>20</td><td>21</td><td>22</td><td>23</td><td>24</td><td>25</td><td>26</td><td>27</td><td>28</td><td>29</td><td>30</td><td>31</td><td>32</td><td>33</td><td>34</td><td>35</td><td>36</td><td>37</td><td>38</td><td>39</td><td>40</td><td>41</td><td>42</td><td>43</td><td>44</td><td>45</td><td>46</td><td>47</td><td>48</td><td>49</td><td>50</td><td>51</td><td>52</td><td>53</td><td>54</td><td>55</td><td>56</td><td>57</td><td>58</td><td>59</td><td>60</td><td>61</td><td>62</td><td>63</td><td>64</td><td>65</td><td>66</td><td>67</td><td>68</td><td>69</td><td>70</td><td>71</td><td>72</td><td>73</td><td>74</td><td>75</td><td>76</td><td>77</td><td>78</td><td>79</td><td>80</td><td>81</td><td>82</td><td>83</td><td>84</td><td>85</td><td>86</td><td>87</td><td>88</td><td>89</td><td>90</td><td>91</td><td>92</td><td>93</td><td>94</td><td>95</td><td>96</td><td>97</td><td>98</td><td>99</td><td>100</td></tr><tr><td>Alice's&nbsp;random&nbsp;bits</td><td>0</td><td>1</td><td>1</td><td>0</td><td>0</td><td>0</td><td>0</td><td>0</td><td>0</td><td>0</td><td>0</td><td>1</td><td>1</td><td>1</td><td>0</td><td>0</td><td>0</td><td>1</td><td>0</td><td>0</td><td>1</td><td>1</td><td>1</td><td>0</td><td>1</td><td>0</td><td>0</td><td>1</td><td>0</td><td>1</td><td>1</td><td>1</td><td>1</td><td>0</td><td>1</td><td>1</td><td>0</td><td>1</td><td>0</td><td>0</td><td>1</td><td>1</td><td>0</td><td>0</td><td>0</td><td>0</td><td>0</td><td>0</td><td>1</td><td>0</td><td>0</td><td>0</td><td>1</td><td>1</td><td>0</td><td>0</td><td>0</td><td>1</td><td>0</td><td>0</td><td>1</td><td>0</td><td>0</td><td>1</td><td>1</td><td>0</td><td>1</td><td>0</td><td>0</td><td>0</td><td>0</td><td>1</td><td>0</td><td>1</td><td>1</td><td>0</td><td>0</td><td>1</td><td>0</td><td>1</td><td>1</td><td>0</td><td>0</td><td>1</td><td>0</td><td>1</td><td>0</td><td>1</td><td>0</td><td>0</td><td>1</td><td>0</td><td>0</td><td>1</td><td>0</td><td>1</td><td>1</td><td>0</td><td>0</td><td>0</td></tr><tr><td>Alice&nbsp;qubits</td><td>→</td><td>↗</td><td>↗</td><td>→</td><td>→</td><td>→</td><td>→</td><td>→</td><td>→</td><td>→</td><td>→</td><td>↗</td><td>↗</td><td>↗</td><td>→</td><td>→</td><td>→</td><td>↗</td><td>→</td><td>→</td><td>↗</td><td>↗</td><td>↗</td><td>→</td><td>↗</td><td>→</td><td>→</td><td>↗</td><td>→</td><td>↗</td><td>↗</td><td>↗</td><td>↗</td><td>→</td><td>↗</td><td>↗</td><td>→</td><td>↗</td><td>→</td><td>→</td><td>↗</td><td>↗</td><td>→</td><td>→</td><td>→</td><td>→</td><td>→</td><td>→</td><td>↗</td><td>→</td><td>→</td><td>→</td><td>↗</td><td>↗</td><td>→</td><td>→</td><td>→</td><td>↗</td><td>→</td><td>→</td><td>↗</td><td>→</td><td>→</td><td>↗</td><td>↗</td><td>→</td><td>↗</td><td>→</td><td>→</td><td>→</td><td>→</td><td>↗</td><td>→</td><td>↗</td><td>↗</td><td>→</td><td>→</td><td>↗</td><td>→</td><td>↗</td><td>↗</td><td>→</td><td>→</td><td>↗</td><td>→</td><td>↗</td><td>→</td><td>↗</td><td>→</td><td>→</td><td>↗</td><td>→</td><td>→</td><td>↗</td><td>→</td><td>↗</td><td>↗</td><td>→</td><td>→</td><td>→</td></tr></table>"
      ],
      "text/plain": [
       "<IPython.core.display.HTML object>"
      ]
     },
     "metadata": {},
     "output_type": "display_data"
    }
   ],
   "source": [
    "# Alice randomly generates n bits.  These are private to Alice but pulled out here so they can be printed to show what was done\n",
    "alice92bits = alice92.generate_bits(n)\n",
    "\n",
    "# Alice takes the bits she generated, encodes them into qubits using her generated bases, and puts them on the transmission line\n",
    "transmission = alice92.transmit_key()\n",
    "\n",
    "# Show all the work done by Alice in a nice convienient table\n",
    "printTable(caption=\"Step 1: Alice sends \" + str(n) + \" random bits in the ∠ basis\",\n",
    "           rows = [[\"Bit&nbsp;number\", map(str, range(1, n+1))],\n",
    "                   [\"Alice's&nbsp;random&nbsp;bits\", map(str, alice92bits)],\n",
    "                   [\"Alice&nbsp;qubits\", transmission]]\n",
    "          )"
   ]
  },
  {
   "cell_type": "markdown",
   "metadata": {},
   "source": [
    "### Step 2 of the B92 protocol - Bob receives a candidate key\n",
    "\n",
    "* Bob flips a coin *n* times to determine the basis by which to measure.\n",
    "* For each qubit received, Bob measures the qubit in either the + basis or × basis.\n",
    "* If Bob uses + and observes ↑, then he knows Alice sent a ↗ = |1>.\n",
    "* If Bob uses + and observes →, then he cannot be sure if Alice sent → or ↗.\n",
    "* If Bob uses × and observes ↖, then he knows Alice sent a → = |0>.\n",
    "* If Bob uses × and observes ↗, then he cannot be sure if Alice sent → or ↗."
   ]
  },
  {
   "cell_type": "code",
   "execution_count": 8,
   "metadata": {},
   "outputs": [
    {
     "data": {
      "text/html": [
       "<table style=\"border-bottom: 4px double #333;border-top: 4px double #333;padding: 10px 0;\"><caption style=\"font-weight:900; color:black; border-top: 4px double #333;\">Step 2: Bob receives 100 random bits in a random basis</caption><tr><td>Bit&nbsp;number</td><td>1</td><td>2</td><td>3</td><td>4</td><td>5</td><td>6</td><td>7</td><td>8</td><td>9</td><td>10</td><td>11</td><td>12</td><td>13</td><td>14</td><td>15</td><td>16</td><td>17</td><td>18</td><td>19</td><td>20</td><td>21</td><td>22</td><td>23</td><td>24</td><td>25</td><td>26</td><td>27</td><td>28</td><td>29</td><td>30</td><td>31</td><td>32</td><td>33</td><td>34</td><td>35</td><td>36</td><td>37</td><td>38</td><td>39</td><td>40</td><td>41</td><td>42</td><td>43</td><td>44</td><td>45</td><td>46</td><td>47</td><td>48</td><td>49</td><td>50</td><td>51</td><td>52</td><td>53</td><td>54</td><td>55</td><td>56</td><td>57</td><td>58</td><td>59</td><td>60</td><td>61</td><td>62</td><td>63</td><td>64</td><td>65</td><td>66</td><td>67</td><td>68</td><td>69</td><td>70</td><td>71</td><td>72</td><td>73</td><td>74</td><td>75</td><td>76</td><td>77</td><td>78</td><td>79</td><td>80</td><td>81</td><td>82</td><td>83</td><td>84</td><td>85</td><td>86</td><td>87</td><td>88</td><td>89</td><td>90</td><td>91</td><td>92</td><td>93</td><td>94</td><td>95</td><td>96</td><td>97</td><td>98</td><td>99</td><td>100</td></tr><tr><td>Bob's&nbsp;received</td><td>→</td><td>↗</td><td>↗</td><td>→</td><td>→</td><td>→</td><td>→</td><td>→</td><td>→</td><td>→</td><td>→</td><td>↗</td><td>↗</td><td>↗</td><td>→</td><td>→</td><td>→</td><td>↗</td><td>→</td><td>→</td><td>↗</td><td>↗</td><td>↗</td><td>→</td><td>↗</td><td>→</td><td>→</td><td>↗</td><td>→</td><td>↗</td><td>↗</td><td>↗</td><td>↗</td><td>→</td><td>↗</td><td>↗</td><td>→</td><td>↗</td><td>→</td><td>→</td><td>↗</td><td>↗</td><td>→</td><td>→</td><td>→</td><td>→</td><td>→</td><td>→</td><td>↗</td><td>→</td><td>→</td><td>→</td><td>↗</td><td>↗</td><td>→</td><td>→</td><td>→</td><td>↗</td><td>→</td><td>→</td><td>↗</td><td>→</td><td>→</td><td>↗</td><td>↗</td><td>→</td><td>↗</td><td>→</td><td>→</td><td>→</td><td>→</td><td>↗</td><td>→</td><td>↗</td><td>↗</td><td>→</td><td>→</td><td>↗</td><td>→</td><td>↗</td><td>↗</td><td>→</td><td>→</td><td>↗</td><td>→</td><td>↗</td><td>→</td><td>↗</td><td>→</td><td>→</td><td>↗</td><td>→</td><td>→</td><td>↗</td><td>→</td><td>↗</td><td>↗</td><td>→</td><td>→</td><td>→</td></tr><tr><td>Bob's&nbsp;random&nbsp;bases</td><td>×</td><td>×</td><td>+</td><td>×</td><td>×</td><td>×</td><td>×</td><td>×</td><td>+</td><td>×</td><td>+</td><td>+</td><td>+</td><td>+</td><td>+</td><td>+</td><td>×</td><td>+</td><td>+</td><td>×</td><td>+</td><td>+</td><td>+</td><td>+</td><td>+</td><td>×</td><td>+</td><td>×</td><td>+</td><td>+</td><td>×</td><td>+</td><td>×</td><td>+</td><td>×</td><td>+</td><td>×</td><td>×</td><td>×</td><td>+</td><td>+</td><td>+</td><td>+</td><td>×</td><td>×</td><td>×</td><td>+</td><td>+</td><td>×</td><td>×</td><td>+</td><td>×</td><td>+</td><td>×</td><td>+</td><td>×</td><td>×</td><td>+</td><td>+</td><td>×</td><td>×</td><td>×</td><td>×</td><td>×</td><td>×</td><td>×</td><td>+</td><td>+</td><td>+</td><td>+</td><td>×</td><td>+</td><td>×</td><td>+</td><td>+</td><td>+</td><td>+</td><td>+</td><td>×</td><td>×</td><td>×</td><td>+</td><td>+</td><td>×</td><td>×</td><td>×</td><td>×</td><td>×</td><td>×</td><td>+</td><td>+</td><td>×</td><td>+</td><td>+</td><td>×</td><td>+</td><td>×</td><td>+</td><td>×</td><td>+</td></tr><tr><td>Bob's&nbsp;observations</td><td>↖</td><td>↗</td><td>↑</td><td>↖</td><td>↖</td><td>↖</td><td>↖</td><td>↖</td><td>→</td><td>↖</td><td>→</td><td>↑</td><td>↑</td><td>↑</td><td>→</td><td>→</td><td>↖</td><td>↑</td><td>→</td><td>↖</td><td>↑</td><td>↑</td><td>↑</td><td>→</td><td>↑</td><td>↖</td><td>→</td><td>↗</td><td>→</td><td>↑</td><td>↗</td><td>↑</td><td>↗</td><td>→</td><td>↗</td><td>↑</td><td>↖</td><td>↗</td><td>↖</td><td>→</td><td>↑</td><td>↑</td><td>→</td><td>↖</td><td>↖</td><td>↖</td><td>→</td><td>→</td><td>↗</td><td>↖</td><td>→</td><td>↖</td><td>↑</td><td>↗</td><td>→</td><td>↖</td><td>↖</td><td>↑</td><td>→</td><td>↖</td><td>↗</td><td>↖</td><td>↖</td><td>↗</td><td>↗</td><td>↖</td><td>↑</td><td>→</td><td>→</td><td>→</td><td>↖</td><td>↑</td><td>↖</td><td>↑</td><td>↑</td><td>→</td><td>→</td><td>↑</td><td>↖</td><td>↗</td><td>↗</td><td>→</td><td>→</td><td>↗</td><td>↖</td><td>↗</td><td>↖</td><td>↗</td><td>↖</td><td>→</td><td>↑</td><td>↖</td><td>→</td><td>↑</td><td>↖</td><td>↑</td><td>↗</td><td>→</td><td>↖</td><td>→</td></tr><tr><td>Bob's&nbsp;interpretation</td><td>0</td><td>?</td><td>1</td><td>0</td><td>0</td><td>0</td><td>0</td><td>0</td><td>?</td><td>0</td><td>?</td><td>1</td><td>1</td><td>1</td><td>?</td><td>?</td><td>0</td><td>1</td><td>?</td><td>0</td><td>1</td><td>1</td><td>1</td><td>?</td><td>1</td><td>0</td><td>?</td><td>?</td><td>?</td><td>1</td><td>?</td><td>1</td><td>?</td><td>?</td><td>?</td><td>1</td><td>0</td><td>?</td><td>0</td><td>?</td><td>1</td><td>1</td><td>?</td><td>0</td><td>0</td><td>0</td><td>?</td><td>?</td><td>?</td><td>0</td><td>?</td><td>0</td><td>1</td><td>?</td><td>?</td><td>0</td><td>0</td><td>1</td><td>?</td><td>0</td><td>?</td><td>0</td><td>0</td><td>?</td><td>?</td><td>0</td><td>1</td><td>?</td><td>?</td><td>?</td><td>0</td><td>1</td><td>0</td><td>1</td><td>1</td><td>?</td><td>?</td><td>1</td><td>0</td><td>?</td><td>?</td><td>?</td><td>?</td><td>?</td><td>0</td><td>?</td><td>0</td><td>?</td><td>0</td><td>?</td><td>1</td><td>0</td><td>?</td><td>1</td><td>0</td><td>1</td><td>?</td><td>?</td><td>0</td><td>?</td></tr></table>"
      ],
      "text/plain": [
       "<IPython.core.display.HTML object>"
      ]
     },
     "metadata": {},
     "output_type": "display_data"
    }
   ],
   "source": [
    "# Bob randomly generates his n bases with a bias towards X defined by bobXbias\n",
    "bob92bases = bob92.generate_bases(n, bobXbias)\n",
    "\n",
    "# If eve is present, then the interception occurs\n",
    "if eve_present:\n",
    "\n",
    "    # Eve generates her bases with her given bias.\n",
    "    eve92.generate_bases(n, eveXbias)\n",
    "    \n",
    "    # Eve intercepts the tranmission and reads it\n",
    "    eve92.receive_key(transmission)\n",
    "    \n",
    "    # She then replaces it with her own encoding from her set of randomly chosen bases\n",
    "    transmission = eve92.transmit_key()\n",
    "\n",
    "# Bob receives the transmission but it could have come from Alice or Eve    \n",
    "bob92received = bob92.receive_key(transmission)\n",
    "\n",
    "# Show everything from Bob's point of view\n",
    "printTable(caption=\"Step 2: Bob receives \" + str(n) + \" random bits in a random basis\",\n",
    "           rows = [[\"Bit&nbsp;number\", map(str, range(1, n+1))],\n",
    "                   [\"Bob's&nbsp;received\", transmission],\n",
    "                   [\"Bob's&nbsp;random&nbsp;bases\", bob92bases],\n",
    "                   [\"Bob's&nbsp;observations\", bob92received],\n",
    "                   [\"Bob's&nbsp;interpretation\", map(str, bob92.key)]]\n",
    "          )"
   ]
  },
  {
   "cell_type": "markdown",
   "metadata": {},
   "source": [
    "### Step 3 of B92 protocol - Alice and Bob evaluate the candidate key \n",
    "\n",
    "* Bob lets Alice know which bits that he is unsure about\n",
    "* Alice and Bob drop those bits\n",
    "* On average the length of the remaining subsequence should be about $\\frac{n}{2}$ bits"
   ]
  },
  {
   "cell_type": "code",
   "execution_count": 9,
   "metadata": {},
   "outputs": [
    {
     "data": {
      "text/html": [
       "<table style=\"border-bottom: 4px double #333;border-top: 4px double #333;padding: 10px 0;\"><caption style=\"font-weight:900; color:black; border-top: 4px double #333;\">Step 3: Alice and Bob evaluate the candidate key</caption><tr><td>Bit&nbsp;number</td><td>1</td><td>2</td><td>3</td><td>4</td><td>5</td><td>6</td><td>7</td><td>8</td><td>9</td><td>10</td><td>11</td><td>12</td><td>13</td><td>14</td><td>15</td><td>16</td><td>17</td><td>18</td><td>19</td><td>20</td><td>21</td><td>22</td><td>23</td><td>24</td><td>25</td><td>26</td><td>27</td><td>28</td><td>29</td><td>30</td><td>31</td><td>32</td><td>33</td><td>34</td><td>35</td><td>36</td><td>37</td><td>38</td><td>39</td><td>40</td><td>41</td><td>42</td><td>43</td><td>44</td><td>45</td><td>46</td><td>47</td><td>48</td><td>49</td><td>50</td><td>51</td><td>52</td><td>53</td><td>54</td><td>55</td><td>56</td><td>57</td><td>58</td><td>59</td><td>60</td><td>61</td><td>62</td><td>63</td><td>64</td><td>65</td><td>66</td><td>67</td><td>68</td><td>69</td><td>70</td><td>71</td><td>72</td><td>73</td><td>74</td><td>75</td><td>76</td><td>77</td><td>78</td><td>79</td><td>80</td><td>81</td><td>82</td><td>83</td><td>84</td><td>85</td><td>86</td><td>87</td><td>88</td><td>89</td><td>90</td><td>91</td><td>92</td><td>93</td><td>94</td><td>95</td><td>96</td><td>97</td><td>98</td><td>99</td><td>100</td></tr><tr><td>Bob's&nbsp;questionable&nbsp;bits</td><td></td><td>?</td><td></td><td></td><td></td><td></td><td></td><td></td><td>?</td><td></td><td>?</td><td></td><td></td><td></td><td>?</td><td>?</td><td></td><td></td><td>?</td><td></td><td></td><td></td><td></td><td>?</td><td></td><td></td><td>?</td><td>?</td><td>?</td><td></td><td>?</td><td></td><td>?</td><td>?</td><td>?</td><td></td><td></td><td>?</td><td></td><td>?</td><td></td><td></td><td>?</td><td></td><td></td><td></td><td>?</td><td>?</td><td>?</td><td></td><td>?</td><td></td><td></td><td>?</td><td>?</td><td></td><td></td><td></td><td>?</td><td></td><td>?</td><td></td><td></td><td>?</td><td>?</td><td></td><td></td><td>?</td><td>?</td><td>?</td><td></td><td></td><td></td><td></td><td></td><td>?</td><td>?</td><td></td><td></td><td>?</td><td>?</td><td>?</td><td>?</td><td>?</td><td></td><td>?</td><td></td><td>?</td><td></td><td>?</td><td></td><td></td><td>?</td><td></td><td></td><td></td><td>?</td><td>?</td><td></td><td>?</td></tr><tr><td>Alice's&nbsp;secret&nbsp;bits</td><td>0</td><td></td><td>1</td><td>0</td><td>0</td><td>0</td><td>0</td><td>0</td><td></td><td>0</td><td></td><td>1</td><td>1</td><td>1</td><td></td><td></td><td>0</td><td>1</td><td></td><td>0</td><td>1</td><td>1</td><td>1</td><td></td><td>1</td><td>0</td><td></td><td></td><td></td><td>1</td><td></td><td>1</td><td></td><td></td><td></td><td>1</td><td>0</td><td></td><td>0</td><td></td><td>1</td><td>1</td><td></td><td>0</td><td>0</td><td>0</td><td></td><td></td><td></td><td>0</td><td></td><td>0</td><td>1</td><td></td><td></td><td>0</td><td>0</td><td>1</td><td></td><td>0</td><td></td><td>0</td><td>0</td><td></td><td></td><td>0</td><td>1</td><td></td><td></td><td></td><td>0</td><td>1</td><td>0</td><td>1</td><td>1</td><td></td><td></td><td>1</td><td>0</td><td></td><td></td><td></td><td></td><td></td><td>0</td><td></td><td>0</td><td></td><td>0</td><td></td><td>1</td><td>0</td><td></td><td>1</td><td>0</td><td>1</td><td></td><td></td><td>0</td><td></td></tr><tr><td>Bob's&nbsp;secret&nbsp;bits</td><td>0</td><td></td><td>1</td><td>0</td><td>0</td><td>0</td><td>0</td><td>0</td><td></td><td>0</td><td></td><td>1</td><td>1</td><td>1</td><td></td><td></td><td>0</td><td>1</td><td></td><td>0</td><td>1</td><td>1</td><td>1</td><td></td><td>1</td><td>0</td><td></td><td></td><td></td><td>1</td><td></td><td>1</td><td></td><td></td><td></td><td>1</td><td>0</td><td></td><td>0</td><td></td><td>1</td><td>1</td><td></td><td>0</td><td>0</td><td>0</td><td></td><td></td><td></td><td>0</td><td></td><td>0</td><td>1</td><td></td><td></td><td>0</td><td>0</td><td>1</td><td></td><td>0</td><td></td><td>0</td><td>0</td><td></td><td></td><td>0</td><td>1</td><td></td><td></td><td></td><td>0</td><td>1</td><td>0</td><td>1</td><td>1</td><td></td><td></td><td>1</td><td>0</td><td></td><td></td><td></td><td></td><td></td><td>0</td><td></td><td>0</td><td></td><td>0</td><td></td><td>1</td><td>0</td><td></td><td>1</td><td>0</td><td>1</td><td></td><td></td><td>0</td><td></td></tr></table>"
      ],
      "text/plain": [
       "<IPython.core.display.HTML object>"
      ]
     },
     "metadata": {},
     "output_type": "display_data"
    },
    {
     "name": "stdout",
     "output_type": "stream",
     "text": [
      "The expected number of usable bits is 50 and the actual number is 56.\n"
     ]
    }
   ],
   "source": [
    "# Bob decides which bases he is unsure about\n",
    "questionable_bits = bob92.show_questionable_bits()\n",
    "\n",
    "# Alice & Bob drop the bits that are questionable\n",
    "alice92.scratch_bits(questionable_bits)\n",
    "bob92.scratch_bits(questionable_bits)\n",
    "\n",
    "# Let's see how things are progressing\n",
    "alice_valid_key = alice92.show_valid_key()\n",
    "bob_valid_key = bob92.show_valid_key()\n",
    "printTable(caption=\"Step 3: Alice and Bob evaluate the candidate key\",\n",
    "           rows = [[\"Bit&nbsp;number\", map(str, range(1, n+1))],\n",
    "                   [\"Bob's&nbsp;questionable&nbsp;bits\", questionable_bits],\n",
    "                   [\"Alice's&nbsp;secret&nbsp;bits\", map(str, alice_valid_key)],\n",
    "                   [\"Bob's&nbsp;secret&nbsp;bits\", map(str, bob_valid_key)]]\n",
    "          )\n",
    "\n",
    "# and evaluate how we are doing so far\n",
    "print('The expected number of usable bits is {} and the actual number is {}.'\n",
    "      .format(int(n/2), len(list(filter(lambda x:x in {0,1}, bob_valid_key)))))"
   ]
  },
  {
   "cell_type": "markdown",
   "metadata": {},
   "source": [
    "### Step 4 of the B92 protocol - Alice and Bob check if there was an eavesdropper\n",
    "\n",
    "* Bob randomly chooses half of the remaining $\\frac{n}{2}$ bits and compares them with Alice.\n",
    "* Assuming no channel errors, Alice's and Bob's comparison should match.\n",
    "* If they do not match, then there was an eavesdropper and the whole set is discarded."
   ]
  },
  {
   "cell_type": "code",
   "execution_count": 10,
   "metadata": {},
   "outputs": [
    {
     "data": {
      "text/html": [
       "<table style=\"border-bottom: 4px double #333;border-top: 4px double #333;padding: 10px 0;\"><caption style=\"font-weight:900; color:black; border-top: 4px double #333;\">Step 4: Alice and Bob publicly compare half of the remaining bits</caption><tr><td>Bit&nbsp;number</td><td>1</td><td>2</td><td>3</td><td>4</td><td>5</td><td>6</td><td>7</td><td>8</td><td>9</td><td>10</td><td>11</td><td>12</td><td>13</td><td>14</td><td>15</td><td>16</td><td>17</td><td>18</td><td>19</td><td>20</td><td>21</td><td>22</td><td>23</td><td>24</td><td>25</td><td>26</td><td>27</td><td>28</td><td>29</td><td>30</td><td>31</td><td>32</td><td>33</td><td>34</td><td>35</td><td>36</td><td>37</td><td>38</td><td>39</td><td>40</td><td>41</td><td>42</td><td>43</td><td>44</td><td>45</td><td>46</td><td>47</td><td>48</td><td>49</td><td>50</td><td>51</td><td>52</td><td>53</td><td>54</td><td>55</td><td>56</td><td>57</td><td>58</td><td>59</td><td>60</td><td>61</td><td>62</td><td>63</td><td>64</td><td>65</td><td>66</td><td>67</td><td>68</td><td>69</td><td>70</td><td>71</td><td>72</td><td>73</td><td>74</td><td>75</td><td>76</td><td>77</td><td>78</td><td>79</td><td>80</td><td>81</td><td>82</td><td>83</td><td>84</td><td>85</td><td>86</td><td>87</td><td>88</td><td>89</td><td>90</td><td>91</td><td>92</td><td>93</td><td>94</td><td>95</td><td>96</td><td>97</td><td>98</td><td>99</td><td>100</td></tr><tr><td>Bob's&nbsp;secret&nbsp;keys</td><td>0</td><td></td><td>1</td><td>0</td><td>0</td><td>0</td><td>0</td><td>0</td><td></td><td>0</td><td></td><td>1</td><td>1</td><td>1</td><td></td><td></td><td>0</td><td>1</td><td></td><td>0</td><td>1</td><td>1</td><td>1</td><td></td><td>1</td><td>0</td><td></td><td></td><td></td><td>1</td><td></td><td>1</td><td></td><td></td><td></td><td>1</td><td>0</td><td></td><td>0</td><td></td><td>1</td><td>1</td><td></td><td>0</td><td>0</td><td>0</td><td></td><td></td><td></td><td>0</td><td></td><td>0</td><td>1</td><td></td><td></td><td>0</td><td>0</td><td>1</td><td></td><td>0</td><td></td><td>0</td><td>0</td><td></td><td></td><td>0</td><td>1</td><td></td><td></td><td></td><td>0</td><td>1</td><td>0</td><td>1</td><td>1</td><td></td><td></td><td>1</td><td>0</td><td></td><td></td><td></td><td></td><td></td><td>0</td><td></td><td>0</td><td></td><td>0</td><td></td><td>1</td><td>0</td><td></td><td>1</td><td>0</td><td>1</td><td></td><td></td><td>0</td><td></td></tr><tr><td>Randomly&nbsp;chosen&nbsp;to&nbsp;compare</td><td></td><td></td><td></td><td></td><td></td><td></td><td>✓</td><td></td><td></td><td></td><td></td><td></td><td>✓</td><td>✓</td><td></td><td></td><td>✓</td><td></td><td></td><td>✓</td><td>✓</td><td>✓</td><td></td><td></td><td></td><td></td><td></td><td></td><td></td><td>✓</td><td></td><td></td><td></td><td></td><td></td><td>✓</td><td>✓</td><td></td><td></td><td></td><td></td><td></td><td></td><td></td><td></td><td></td><td></td><td></td><td></td><td>✓</td><td></td><td></td><td></td><td></td><td></td><td></td><td></td><td></td><td></td><td></td><td></td><td></td><td></td><td></td><td></td><td>✓</td><td></td><td></td><td></td><td></td><td>✓</td><td></td><td></td><td></td><td>✓</td><td></td><td></td><td>✓</td><td></td><td></td><td></td><td></td><td></td><td></td><td>✓</td><td></td><td></td><td></td><td></td><td></td><td></td><td></td><td></td><td></td><td></td><td>✓</td><td></td><td></td><td></td><td></td></tr><tr><td>Alice's&nbsp;secret&nbsp;keys</td><td>0</td><td></td><td>1</td><td>0</td><td>0</td><td>0</td><td>0</td><td>0</td><td></td><td>0</td><td></td><td>1</td><td>1</td><td>1</td><td></td><td></td><td>0</td><td>1</td><td></td><td>0</td><td>1</td><td>1</td><td>1</td><td></td><td>1</td><td>0</td><td></td><td></td><td></td><td>1</td><td></td><td>1</td><td></td><td></td><td></td><td>1</td><td>0</td><td></td><td>0</td><td></td><td>1</td><td>1</td><td></td><td>0</td><td>0</td><td>0</td><td></td><td></td><td></td><td>0</td><td></td><td>0</td><td>1</td><td></td><td></td><td>0</td><td>0</td><td>1</td><td></td><td>0</td><td></td><td>0</td><td>0</td><td></td><td></td><td>0</td><td>1</td><td></td><td></td><td></td><td>0</td><td>1</td><td>0</td><td>1</td><td>1</td><td></td><td></td><td>1</td><td>0</td><td></td><td></td><td></td><td></td><td></td><td>0</td><td></td><td>0</td><td></td><td>0</td><td></td><td>1</td><td>0</td><td></td><td>1</td><td>0</td><td>1</td><td></td><td></td><td>0</td><td></td></tr><tr><td>Which&nbsp;agree?</td><td></td><td></td><td></td><td></td><td></td><td></td><td>✓</td><td></td><td></td><td></td><td></td><td></td><td>✓</td><td>✓</td><td></td><td></td><td>✓</td><td></td><td></td><td>✓</td><td>✓</td><td>✓</td><td></td><td></td><td></td><td></td><td></td><td></td><td></td><td>✓</td><td></td><td></td><td></td><td></td><td></td><td>✓</td><td>✓</td><td></td><td></td><td></td><td></td><td></td><td></td><td></td><td></td><td></td><td></td><td></td><td></td><td>✓</td><td></td><td></td><td></td><td></td><td></td><td></td><td></td><td></td><td></td><td></td><td></td><td></td><td></td><td></td><td></td><td>✓</td><td></td><td></td><td></td><td></td><td>✓</td><td></td><td></td><td></td><td>✓</td><td></td><td></td><td>✓</td><td></td><td></td><td></td><td></td><td></td><td></td><td>✓</td><td></td><td></td><td></td><td></td><td></td><td></td><td></td><td></td><td></td><td></td><td>✓</td><td></td><td></td><td></td><td></td></tr><tr><td>Unrevealed&nbsp;secret&nbsp;keys</td><td>0</td><td></td><td>1</td><td>0</td><td>0</td><td>0</td><td></td><td>0</td><td></td><td>0</td><td></td><td>1</td><td></td><td></td><td></td><td></td><td></td><td>1</td><td></td><td></td><td></td><td></td><td>1</td><td></td><td>1</td><td>0</td><td></td><td></td><td></td><td></td><td></td><td>1</td><td></td><td></td><td></td><td></td><td></td><td></td><td>0</td><td></td><td>1</td><td>1</td><td></td><td>0</td><td>0</td><td>0</td><td></td><td></td><td></td><td></td><td></td><td>0</td><td>1</td><td></td><td></td><td>0</td><td>0</td><td>1</td><td></td><td>0</td><td></td><td>0</td><td>0</td><td></td><td></td><td></td><td>1</td><td></td><td></td><td></td><td></td><td>1</td><td>0</td><td>1</td><td></td><td></td><td></td><td></td><td>0</td><td></td><td></td><td></td><td></td><td></td><td></td><td></td><td>0</td><td></td><td>0</td><td></td><td>1</td><td>0</td><td></td><td>1</td><td>0</td><td></td><td></td><td></td><td>0</td><td></td></tr></table>"
      ],
      "text/plain": [
       "<IPython.core.display.HTML object>"
      ]
     },
     "metadata": {},
     "output_type": "display_data"
    },
    {
     "name": "stdout",
     "output_type": "stream",
     "text": [
      "Alice and Bob matched 17 out of 17 bits.\n",
      "Everything seems OK, no eavesdropping detected\n",
      "There are 39 usable bits in the final key from 56 shared bits and 100 qubits initially transmitted\n",
      "The key generation rate is 0.3900\n"
     ]
    }
   ],
   "source": [
    "# Bob chooses half of the bits from the correctly matched bases\n",
    "bits_to_compare = bob92.choose_half(questionable_bits)\n",
    "\n",
    "# Alice can check the chosen bits from her key against Bob's key\n",
    "alice92.check_bits(bob_valid_key, bits_to_compare, questionable_bits)\n",
    "\n",
    "# Bob can do the same against Alice's key and mark the bits that match\n",
    "matched = bob92.check_bits(alice_valid_key, bits_to_compare, questionable_bits)\n",
    "\n",
    "# Let's see how things turned out\n",
    "shared_secret_key = bob92.show_secret_key()\n",
    "printTable(caption=\"Step 4: Alice and Bob publicly compare half of the remaining bits\",\n",
    "           rows = [[\"Bit&nbsp;number\", map(str, range(1, n+1))],\n",
    "                   [\"Bob's&nbsp;secret&nbsp;keys\", map(str, bob_valid_key)],\n",
    "                   [\"Randomly&nbsp;chosen&nbsp;to&nbsp;compare\", bits_to_compare],\n",
    "                   [\"Alice's&nbsp;secret&nbsp;keys\", map(str, alice_valid_key)],\n",
    "                   [\"Which&nbsp;agree?\", matched],\n",
    "                   [\"Unrevealed&nbsp;secret&nbsp;keys\", map(str, shared_secret_key)]]\n",
    "          )\n",
    "\n",
    "# and evaluate our results\n",
    "print('Alice and Bob matched {} out of {} bits.'.format(matched.count('✓'), bits_to_compare.count('✓')))\n",
    "\n",
    "if matched.count('✓') == 0:\n",
    "    print('There are no usable bits. You should choose different biases for your bases')\n",
    "else:\n",
    "    if matched.count('✓') == bits_to_compare.count('✓'):\n",
    "        print('Everything seems OK, no eavesdropping detected')\n",
    "        print('There are {} usable bits in the final key from {} shared bits and {} qubits initially transmitted'\n",
    "              .format(len(list(filter(lambda x:x in {0,1}, shared_secret_key))), \n",
    "                      len(list(filter(lambda x:x != '?', questionable_bits))), \n",
    "                      n))\n",
    "        print('The key generation rate is {:.4f}'.format(len(list(filter(lambda x:x in {0,1}, shared_secret_key)))/n))\n",
    "    else:\n",
    "        print('Oh oh, there seems to be an eavesdropper')\n",
    "        print('All bits must be discarded.  The key generation rate is 0.0000')"
   ]
  },
  {
   "cell_type": "markdown",
   "metadata": {},
   "source": [
    "***\n",
    "***"
   ]
  },
  {
   "cell_type": "markdown",
   "metadata": {},
   "source": [
    "## Project/Research Questions:\n",
    "\n",
    "1. Are two non-orthogonal states optimal for QKD? Or would using more than two non-orthogonal states improve security? For example, using {0, 30 and 60} for instance.\n",
    "<br><br>\n",
    "2. Does it make any difference in security if the states chosen in B92 were 0 and 30 degrees, rather than 0 and 45 degrees?\n",
    "<br><br>\n",
    "3. How does detection of Eve change when the channel itself has an error rate of 10%?\n",
    "<br><br>\n",
    "4. Can Eve go undetected if she only interferes with a fraction of all the qubits?\n",
    "<br><br>\n",
    "5. How is the classical phase of B92 different from BB84? What purpose does the classical discussion serve in both these protocols?\n",
    "<br><br>\n",
    "6. Compare the efficiency of B92 and BB84 protocols assuming no channel errors or Eve.\n",
    "\n",
    "***\n",
    "***"
   ]
  },
  {
   "cell_type": "markdown",
   "metadata": {},
   "source": [
    "***\n",
    "***\n",
    "### End of nanomodule 21\n",
    "***\n",
    "***"
   ]
  }
 ],
 "metadata": {
  "kernelspec": {
   "display_name": "Python 3",
   "language": "python",
   "name": "python3"
  },
  "language_info": {
   "codemirror_mode": {
    "name": "ipython",
    "version": 3
   },
   "file_extension": ".py",
   "mimetype": "text/x-python",
   "name": "python",
   "nbconvert_exporter": "python",
   "pygments_lexer": "ipython3",
   "version": "3.7.2"
  }
 },
 "nbformat": 4,
 "nbformat_minor": 2
}
