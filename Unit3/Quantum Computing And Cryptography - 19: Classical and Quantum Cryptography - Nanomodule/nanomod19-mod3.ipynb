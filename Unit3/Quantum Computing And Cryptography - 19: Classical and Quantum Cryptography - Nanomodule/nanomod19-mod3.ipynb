{
 "cells": [
  {
   "cell_type": "markdown",
   "metadata": {
    "slideshow": {
     "slide_type": "slide"
    }
   },
   "source": [
    "# 19. Classical and Quantum Cryptography\n",
    "\n",
    "#### This lesson belongs to nanomodule 19 - module 3\n",
    "\n",
    "Upon completion of this lesson:\n",
    "\n",
    "19.1 Students will learn the relationship between classical cryptography and quantum cryptography.\n",
    "\n",
    "19.2 Students will understand the impact of quantum computing on classical cryptography. \n",
    "\n",
    "19.3 Students will learn no-cloning theorem of quantum mechanics."
   ]
  },
  {
   "cell_type": "markdown",
   "metadata": {
    "slideshow": {
     "slide_type": "slide"
    }
   },
   "source": [
    "## 19.1 Secret Key Cryptography\n",
    "\n",
    "Today, the applications of cryptography reach far beyond just encryption and decryption of data. It is used for authentication, integrity protection and many esoteric protocols such as secure multiparty computations, homomorphic encryption, secret sharing, and so on.\n",
    "\n",
    "Classical cryptography has been around for over 4000 years of documented history. But for most if it, it has existed only in the form of secret key cryptography. Sometimes also called conventional cryptography, secret key cryptography uses only one key for encryption and decryption and therefore the key must be kept secure. While in the past, several of the cryptosystems that were used did not have any mathematical basis and used fixed keys (or the algorithm itself defined the key), today most of them have been extensively modeled mathematically and security defined rigorously."
   ]
  },
  {
   "cell_type": "markdown",
   "metadata": {
    "slideshow": {
     "slide_type": "slide"
    }
   },
   "source": [
    "It, however, remains a surprise that most secret key algorithms that are in use today are still based on primitive operations of substitution and permutations. The main reason for this being their efficiency. In 1949, when Claude Shannon laid out the definitions for information theory he also laid out a measure for \"perfect secrecy\". A conventional algorithm that produces a cipher that does not leak any information about the plaintext is said to provide perfect secrecy. Shannon also described how the Vernam cipher (commonly known as One-Time-Pad, OTP) provides perfect secrecy if the key is as long as the message and random and uniform.\n",
    "\n",
    "Most other crypto algorithms in use today such as AES, 3DES, Serpent, Blowfish, etc. do not provide perfect secrecy. However, their key sizes are manageable and their outputs quite resistant to cryptanalysis. Although it is of interest to note that none of these algorithms have any proof of security and we chose to trust them because no one to our knowledge has been able to break them yet."
   ]
  },
  {
   "cell_type": "markdown",
   "metadata": {
    "slideshow": {
     "slide_type": "slide"
    }
   },
   "source": [
    "## 19.2 Public-Key Cryptography\n",
    "\n",
    "Even though, secret key algorithms are very efficient and provide practical levels of security they do suffer from a major drawback that all conventional algorithms do: there is no easy way to exchange keys. This is where public-key algorithms come in. They transform the problem of key exchange into authentication. Authentication is almost as difficult a problem to solve but does avoid complications of trusting a third party with your conventional encryption key.\n",
    "\n",
    "Public key algorithms use two different keys, one for encryption and another for decryption. The encryption key can be given to anyone and made public knowledge, the decryption key must be kept secret. Although the encryption and decryption keys typically have a one-to-one relationship one cannot be derived from the other, in a reasonable amount of time, without the knowledge of some trapdoor information.\n"
   ]
  },
  {
   "cell_type": "markdown",
   "metadata": {
    "slideshow": {
     "slide_type": "slide"
    }
   },
   "source": [
    "The knowledge of this trapdoor information, typically, helps solve some underlying mathematical problem efficiently. The three popular public key cryptosystems are:\n",
    "1. RSA (named after its inventors Rivest, Shamir and Adleman)\n",
    "2. Diffie-Hellman (DH - named after its inventors Diffie and Hellman)\n",
    "3. ECC (Elliptic Curve Cryptography)\n",
    "\n",
    "All these cryptosystems use different underlying (hard) mathematical problems. RSA depends on the difficulty of factoring and DH depends on difficulty of computing discrete logarithms. ECC also depends on difficulty of computing discrete logs but on certain mathematical functions called elliptic curves."
   ]
  },
  {
   "cell_type": "markdown",
   "metadata": {
    "slideshow": {
     "slide_type": "slide"
    }
   },
   "source": [
    "## A Hybrid System\n",
    "\n",
    "Today, public key cryptography and secret key cryptography thrive side by side. In fact, even today bulk of data encryption is done using secret key cryptography because of its efficiency. Public key cryptography is only used in the initial key exchange phase to generate an encryption key and to authenticate communicating parties.\n",
    "\n",
    "Further, the levels of security provided by public key cryptography per bit of encryption key is much much lower than that provided by secret key systems. The table below shows the correspondence between key sizes, algorithms and security levels."
   ]
  },
  {
   "cell_type": "markdown",
   "metadata": {
    "slideshow": {
     "slide_type": "slide"
    }
   },
   "source": [
    "| Symmetric Key Sizes (bits) | RSA and DH Key Sizes (bits) | ECC Key Sizes (bits) |\n",
    "|:--------------------------:|:---------------------------:|:--------------------:|\n",
    "| 80                         | 1024                        | 160                  |\n",
    "| 112                        | 2048                        | 224                  |\n",
    "| 128                        | 3072                        | 256                  |\n",
    "| 192                        | 7680                        | 384                  |\n",
    "| 256                        | 15360                       | 521                  |\n",
    "\n",
    "As one can see from the table to provide an security equivalent to AES 256, one would have to use an RSA modulus of size **15,360** which is very problematic to work with. However, ECC scales more linearly and therefore most modern implementations are moving towards adopting ECC for public key exchange and authentication."
   ]
  },
  {
   "cell_type": "markdown",
   "metadata": {
    "slideshow": {
     "slide_type": "slide"
    }
   },
   "source": [
    "## 19.3 Impact of Quantum Computing on Classical Cryptography\n",
    "\n",
    "So far, we've discussed the various secret-key and public-key cryptosystems that are in use today, their relationship and levels of security that they provide.\n",
    "\n",
    "### 19.3.1 Quantum Computing\n",
    "\n",
    "Around 1985, Richard Feynman and others proposed that perhaps computers built on quantum mechanics could solve problems that classical computers could not. Or at least at a faster speed.\n",
    "\n",
    "In 1994, Peter Shor produced a breakthrough algorithm that can solve the factorization problem in $log(n)$ steps, where $n$ is the size of the integer being factored. This is an exponential speed up compared to the best known classical algorithm today. Further, Shor's algorithm can be modified to solve the discrete logarithm problem as well. This implies that once a quantum computer is built, RSA, DH and ECC would no longer be secure! Consequently, all of cryptography as we know it today will fall apart."
   ]
  },
  {
   "cell_type": "markdown",
   "metadata": {
    "slideshow": {
     "slide_type": "slide"
    }
   },
   "source": [
    "| Cryptographic Algorithm                          | Type          | Purpose                   | Impact of quantum computer |\n",
    "|--------------------------------------------------|---------------|---------------------------|----------------------------|\n",
    "| AES-256                                          | Symmetric Key | Encryption                | Larger key sizes needed    |\n",
    "| SHA-256, SHA-3                                   |               | Hash functions            | Larger output needed       |\n",
    "| RSA                                              | Public key    | Signatures, key agreement | No longer secure           |\n",
    "| ECC                                              | Public key    | Signatures, key exchange  | No longer secure           |\n",
    "| Digital Signature Algorithm (finite field based) | Public key    | Signatures, key exchange  | No longer secure           |\n",
    "\n",
    "The table above (by NIST) shows the impact that quantum computers will have on the security of popular classical cryptosystems. "
   ]
  },
  {
   "cell_type": "markdown",
   "metadata": {
    "slideshow": {
     "slide_type": "slide"
    }
   },
   "source": [
    "### 19.3.2 Quantum Cryptography\n",
    "\n",
    "Quantum Cryptography was invented in 1984 (before the proposals for quantum computing were put forward, surprisingly) as a replacement for public key cryptography. It provides security based on the laws of Physics instead of \"hard\" mathematical problems.\n",
    "\n",
    "We will use many quantum mechanical concepts such as superposition, entanglement, measurement, basis, quantum gates and operations to construct our quantum cryptographic protocols. The go to quantum phenomenon that we use is polarization of photons that we've seen before to describe our protocols, however, the actual implementations may end up use other phenomenon such as spin or phase difference.\n",
    "\n",
    "The security in quantum key distribution protocols mainly stems from a combination of following facts:\n",
    "\n",
    "1. An unknown quantum state cannot be cloned.\n",
    "2. A measurement in the wrong basis disturbs the qubit.\n",
    "3. Non-orthogonal qubit states cannot be distinguished from one another.\n"
   ]
  },
  {
   "cell_type": "markdown",
   "metadata": {
    "slideshow": {
     "slide_type": "slide"
    }
   },
   "source": [
    "## 9.4 The No-Cloning Theorem\n",
    "\n",
    "Discovered in 1982, the no-cloning theorem was a somewhat later addition in the field of quantum mechanics. But it's implications were profound. It says that an unknown arbitrary qubit cannot be cloned. Therefore, an eavesdropper will be forced to make a measurement in a random basis and thereby affect the original qubit if the chosen basis is incorrect.\n",
    "\n",
    "The no-cloning theorem lies at the foundation of all quantum cryptographic protocols and yet it is very easy to understand and see why an arbitrary qubit cannot be cloned."
   ]
  },
  {
   "cell_type": "markdown",
   "metadata": {
    "slideshow": {
     "slide_type": "slide"
    }
   },
   "source": [
    "Let's look at the details of the no-cloning theorem. Assume that we have an arbitrary state $\\rvert\\psi\\rangle$. A cloning machine/operation must take this qubit and create another identical qubit. Therefore, the operation would look like,\n",
    "\n",
    "$C(\\rvert\\psi\\rangle\\otimes0)=(\\rvert\\psi\\rangle\\otimes\\rvert\\psi\\rangle)$\n",
    "\n",
    "If such a cloning operation exists then it should work for any arbitrary qubit $\\rvert\\psi\\rangle$. Therefore,\n",
    "\n",
    "$C(\\rvert0\\rangle\\otimes\\rvert0\\rangle)=\\rvert0\\rangle\\otimes\\rvert0\\rangle$ and\n",
    "$C(\\rvert1\\rangle\\otimes\\rvert0\\rangle)=\\rvert1\\rangle\\otimes\\rvert1\\rangle$\n",
    "\n",
    "We are using $\\rvert0\\rangle$ as a template onto which the qubit is being copied. In general,\n",
    "\n",
    "$C((\\alpha\\rvert0\\rangle+\\beta\\rvert1\\rangle)\\otimes\\rvert0\\rangle)=  C(\\alpha\\rvert0\\rangle\\otimes\\rvert0\\rangle +\\beta\\rvert1\\rangle\\otimes\\rvert0\\rangle)=  C(\\alpha\\rvert0\\rangle\\otimes\\rvert0\\rangle)+ C(\\beta\\rvert1\\rangle\\otimes\\rvert0\\rangle)=  \\alpha\\rvert0\\rangle\\otimes\\rvert0\\rangle+\\beta\\rvert1\\rangle\\otimes\\rvert1\\rangle$\n",
    "\n",
    "for an arbitrary quantum state that is in superposition of $\\rvert0\\rangle$ and $\\rvert1\\rangle$ because $C$ is a linear operation."
   ]
  },
  {
   "cell_type": "markdown",
   "metadata": {
    "slideshow": {
     "slide_type": "slide"
    }
   },
   "source": [
    "Now if $C$ is a cloning machine, then if we are given a state $\\alpha\\rvert0\\rangle+\\beta\\rvert1\\rangle$ we would like the clone to also be $\\alpha\\rvert0\\rangle+\\beta\\rvert1\\rangle$. Therefore, we would like,\n",
    "\n",
    "$C((\\alpha\\rvert0\\rangle+\\beta\\rvert1\\rangle)\\otimes\\rvert0\\rangle)=(\\alpha\\rvert0\\rangle+\\beta\\rvert1\\rangle)\\otimes(\\alpha\\rvert0\\rangle+\\beta\\rvert1\\rangle)$\n",
    "\n",
    "However, $(\\alpha\\rvert0\\rangle+\\beta\\rvert1\\rangle)\\otimes(\\alpha\\rvert0\\rangle+\\beta\\rvert1\\rangle)\\neq\\alpha\\rvert0\\rangle\\otimes\\rvert0\\rangle+\\beta\\rvert1\\rangle\\otimes\\rvert1\\rangle$\n",
    "\n",
    "Therefore, cloning of an arbitrary qubit state is not possible. Although it may suspiciously look like CNOT should do the trick, the theorem holds.\n",
    "\n",
    "Note, however, that transporting of a qubit from one place to another is allowed and manifests itself in the form of quantum teleportation. In this application the original qubit is destroyed and recreated at the receiving end."
   ]
  },
  {
   "cell_type": "markdown",
   "metadata": {
    "slideshow": {
     "slide_type": "slide"
    }
   },
   "source": [
    "***\n",
    "## Open Research Questions\n",
    "\n",
    "1. Explore Shor's factoring algorithm and learn how it is applied to break RSA. You already have all the tools you need from quantum mechanics to understand the algorithm.\n",
    "<br><br>\n",
    "2. Explore Grover's search algorithm and how can it be modified to crack AES.\n",
    "<br><br>\n",
    "3. Before BB84, circa 1970 a graduate student Stephen Wiesner described in a paper the idea for unforgeable quantum money. However, his ideas were so far ahead of its time that it was not published until 1983. Read his paper and describe how this scheme work.\n",
    "<br><br>\n",
    "4. What is the current state of development of quantum processors? Are there any commercially available? What capabilities do they have?\n",
    "<br><br>\n",
    "5. What is quantum supremacy?"
   ]
  },
  {
   "cell_type": "markdown",
   "metadata": {
    "slideshow": {
     "slide_type": "slide"
    }
   },
   "source": [
    "***\n",
    "***\n",
    "### End of Nanomodule 19\n",
    "***\n",
    "***"
   ]
  }
 ],
 "metadata": {
  "celltoolbar": "Slideshow",
  "kernelspec": {
   "display_name": "Python 3",
   "language": "python",
   "name": "python3"
  },
  "language_info": {
   "codemirror_mode": {
    "name": "ipython",
    "version": 3
   },
   "file_extension": ".py",
   "mimetype": "text/x-python",
   "name": "python",
   "nbconvert_exporter": "python",
   "pygments_lexer": "ipython3",
   "version": "3.5.2"
  }
 },
 "nbformat": 4,
 "nbformat_minor": 2
}
