{
 "cells": [
  {
   "cell_type": "markdown",
   "metadata": {},
   "source": [
    "## 28. Simulating BB84, EPR and Three-Stage QKD Protocols\n",
    "\n",
    "### This is nanomodule 28-module 3\n",
    "\n",
    "<b>Learning objectives:</b>\n",
    "\n",
    "1. Students will apply quantum operations and use quantum entanglement to simulate quantum key distribution on IBM quantum computer interface.\n",
    "\n",
    "2. Students will experiment with IBM quantum computing interface and simulator.\n",
    "\n",
    "3. Students will build complex quantum circuits, perform measurements and interpret the outputs.\n",
    "\n",
    "***\n",
    "***\n",
    "\n"
   ]
  },
  {
   "cell_type": "markdown",
   "metadata": {},
   "source": [
    "## 28.1 Simulating BB84\n",
    "\n",
    "As before, in order to simulate communication and QKD protocols we have to linearize the design and assume that Alice is on the left and Bob is on the right. The circuit lines in between them represent the transmission channel. Figure 1 below show the quantum circuit for BB84 with no Eve. Further, 10 quantum registers are shown that simulate the transmission of 10 qubits from Alice to Bob. All qubits are initialized to $\\rvert0\\rangle$ by default but since Alice wants to transmit random 1s and 0s in randomly chosen bases, we randomly apply the $X$ and $H$ gates to the qubits.\n",
    "\n",
    "On Bob's end he randomly chooses a basis to measure each qubit. This is simulated by applying the Hadamard gate on random qubits. The default measurement operations is already in the standard basis, therefore nothing additional needs to be done to measure in the standard basis.\n",
    "\n",
    "The bar graph shows the obtained results. The simulation was run a 100 times. There are only 16 outcomes because only some of the qubits exhibit a random collapse while the ones that were measured in a basis compatible with Alice's basis always collapse to the same value. Since the random collapse happens with a uniform probability every possible outcome happens roughly 6.4% of the time. The $x$-axis labels consists of the bit values in the classical register and are read from right to left. Therefore, bit number 0 in the classical register is written on the right.\n",
    "\n",
    "![Simulation of BB84 without Eve](nanomod28-BB84-withoutEve.png)\n",
    "\n",
    "**Figure 1. Simulation of BB84 without Eve. Measurement results are shown along with the circuit.**"
   ]
  },
  {
   "cell_type": "markdown",
   "metadata": {},
   "source": [
    "***\n",
    "***"
   ]
  },
  {
   "cell_type": "markdown",
   "metadata": {},
   "source": [
    "## 28.2 EPR Protocol"
   ]
  },
  {
   "cell_type": "markdown",
   "metadata": {},
   "source": [
    "Figure 2 shows the circuit diagram and the result of simulation of EPR protocol. A combination of H and CNOT gates are used to create entangled qubits in the state $\\frac{1}{\\sqrt{2}}(\\rvert00\\rangle+\\rvert11\\rangle)$. Alice randomly measures the first qubit of the entangled pair in  standard or Hadamard basis. In order to measure in the Hadamard basis, like before, Alice applies the H gate before measurement. Similarly Bob measures the second qubit from every EPR pair in the standard or Hadamard basis. Execution results are shown for 8192 shots (maximum number of shots) and match the expected output. The results are stored in two classical registers of 10 bits each called abits and bbits for Alice's and Bob's bits respectively. Now Alice and Bob can execute the remaining classical steps of the protocol.\n",
    "\n",
    "![EPR QKD illustration](nanomod28-eprQKD20bits.png)\n",
    "\n",
    "**Figure 2. Illustration of QKD protocol using EPR pairs. Simulation is shown for 20 qubits or 10 EPR pairs.**"
   ]
  },
  {
   "cell_type": "markdown",
   "metadata": {},
   "source": [
    "***\n",
    "***\n",
    "## 28.3 Three-Stage QKD Protocol\n",
    "\n",
    "The three-stage QKD protocol is unique in the sense that it requires the back and forth transmission of qubits before a measurement is made in the end. We will continue to use our linear model for simulation and show Alice and Bob on the same circuit line repeated in order to simulate the back and forth communication.\n",
    "\n",
    "Figure 3 shows one possible instance of the three-stage protocol. In the figure only two rotations are used by Alice and Bob, namely the identity rotation shown by id gate and the Hadamard rotation shown by H gate. These gates commute with each other and therefore satify the requirement of $U_aU_b=U_bU_a$. The two orthogonal states agreed upon by Alice and Bob are $\\rvert0\\rangle$ and $\\rvert1\\rangle$. Alice applies a X gate in order to convert the default qubit $\\rvert0\\rangle$ into $\\rvert1\\rangle$ before transmission.\n",
    "\n",
    "Recall that the classical bit values written on $x$-axis, of the bar graph, as labels are to be read from right to left. Therefore, Alice sends $\\rvert0\\rangle\\rvert0\\rangle\\rvert1\\rangle\\rvert0\\rangle\\rvert1\\rangle\\rvert0\\rangle\\rvert0\\rangle\\rvert0\\rangle\\rvert1\\rangle\\rvert1\\rangle$ with qubit $q[0]$ written in the LSB position. Corresponding to this, Bob receives 0010100011 which is what we expected.\n",
    "\n",
    "![Illustration of the 3 Stage QKD Protocol](nanomod28-3stageQKD.png)"
   ]
  },
  {
   "cell_type": "markdown",
   "metadata": {},
   "source": [
    "***\n",
    "***\n",
    "### End of nanomodule 28\n",
    "***\n",
    "***"
   ]
  }
 ],
 "metadata": {
  "kernelspec": {
   "display_name": "Python 3",
   "language": "python",
   "name": "python3"
  },
  "language_info": {
   "codemirror_mode": {
    "name": "ipython",
    "version": 3
   },
   "file_extension": ".py",
   "mimetype": "text/x-python",
   "name": "python",
   "nbconvert_exporter": "python",
   "pygments_lexer": "ipython3",
   "version": "3.5.2"
  }
 },
 "nbformat": 4,
 "nbformat_minor": 2
}
