{
 "cells": [
  {
   "cell_type": "markdown",
   "metadata": {},
   "source": [
    "## 26. Attacks on QKD Implementations\n",
    "\n",
    "### This is nanomodule 26-module 3\n",
    "\n",
    "<b>Learning objectives:</b>\n",
    "\n",
    "1. Students will learn about various attacks on quantum key distribution schemes.\n",
    "***\n",
    "***\n",
    "\n"
   ]
  },
  {
   "cell_type": "markdown",
   "metadata": {},
   "source": [
    "## 26.1 Attacks on QKD Implementations\n",
    "\n",
    "\n",
    "Quantum channels connecting Alice and Bob often suffer from absorption and scattering due to which not all the states that Alice transmits reach Bob. In addition, even the ones that do make it to Bob may be in error due to noise in the channel and therefore result in an incorrect bit. Although some of these errors may be caused due to Eve, not all are due to Eve. \n",
    "\n",
    "Similar to non-ideal channels, we also have other non-ideal components such as photon sources and photon detectors. As mentioned before, most common implementations use attenuated lasers to implement single photon sources. The photons emitted exhibit a Poisson probability distribution where the mean photon number is given by $\\mu$. Typically $\\mu<1$ is employed which means most of the time periods do not even contain a photon! On the other hand, some of the time periods contain more than one photon.\n",
    "\n",
    "Similar to imperfect photon emitters, there are imperfect photon detectors that may suffer from dark noise (dark clicks). In other words, the photon detector may sometimes click even when there is no photon present!\n",
    "\n",
    "In addition to hardware imperfections, other factors such as optically misaligned components may lead to errors in detection as well as stray light can lead to false clicks.\n",
    "\n",
    "Since the procedure to detect Eve basically looks for errors in the received bit sequence, Eve is able to successfully launch an attack if she can use these imperfections to her advantage. This in means she needs to stay below the abort threshold of quantum bit error rate (QBER) and channel transmittance that Alice and Bob expect. Several manufacturers of quantum equipment such as IDQuantique abort protocols at around 8% error rates and about 0.15 channel transmittance.\n",
    "\n",
    "\n",
    "\n",
    "\n"
   ]
  },
  {
   "cell_type": "markdown",
   "metadata": {},
   "source": [
    "<b>1. Photon number splitting attack</b>\n",
    "\n",
    "The photon number splitting attack, or the PNS attack for short, is the simplest attack to understand conceptually and also reemphasizes the importance of single photon emitters. The attack assumes that Eve has a photon counting device and if the photon emitter produces more than one photon in a given pulse Eve will siphon off the excess photons and let one pass through to Bob. Alice and Bob would suspect absolutely nothing since this attack does not effect the quantum bit error rate (QBER).\n",
    "\n",
    "In the context of BB84, if there are two photons in a pulse, then Eve can siphon of one of them and measure it in a randomly chosen basis. With a 50% probability she will share that bit with Alice and Bob.\n",
    "\n",
    "On the other hand, if there are three (or more) photons in a pulse, Eve really just needs two of the photons that she will measure in different bases and therefore record both possible outcomes. During the public discussion phase she will simply discard the outcome that resulted from the incorrect bases measurement. Eve will therefore have the correct bit value for such multi-photon pulses.\n"
   ]
  },
  {
   "cell_type": "markdown",
   "metadata": {},
   "source": [
    "**2. Intercept and resend attack**\n",
    "\n",
    "Intercept and resend is the most naive attack Eve can launch. In this case, she simply blocks all the pulses, measures them randomly and reconstructs these pulses based on her observation and sends them off. In intercept and resend attack she will cause about 50% of the qubits that were supposed to be received correctly collapse randomly. Therefore, her presence will be detected with a probability of 25%.\n",
    "\n",
    "Eve can, on the other hand, decide to only intercept and resend a fraction of the qubits in the hope that the amount of error that she causes remains well below the channel quantum bit error rate. In this case, privacy amplification should eliminate any partial information that Eve was able to determine.\n"
   ]
  },
  {
   "cell_type": "markdown",
   "metadata": {},
   "source": [
    "**3. Denial of service attack**\n",
    "\n",
    "This follows directly from the intercept and resend attack. If Eve naively decides to measure all the qubits such that she is detected then Alice and Bob will either have to move to a different quantum channel or wait for sometime before trying again. If Eve constantly interferes with the qubits, Alice and Bob will never be able to communicate and therefore become victims of a denial of service attack.\n",
    "\n",
    "**4. Man-in-the-middle attack**\n",
    "\n",
    "A man-in-the-middle attack may be possible if there is no classical authenticated channel between Alice and Bob. In this case, Eve can simply do an intercept and resend attack on the quantum channel and then launch a conventional man-in-the-middle attack on the classical channel without either Bob or Alice suspecting anything and each thinking that they are talking to the legitimate party. Therefore, an authenticated classical channel is a fundamental requirement. \n",
    "\n",
    "One can therefore argue that quantum key distribution schemes really are just a way to expand a small amount of authentication information into a large encryption key.\n"
   ]
  },
  {
   "cell_type": "markdown",
   "metadata": {},
   "source": [
    "**5. Trojan attack**\n",
    "\n",
    "This is a somewhat sophisticated attack in that it can reveal the entire encryption key without leaving a trace. The idea in this attack is to send bright pulses into Alice and Bob's equipment and observing the back reflection that occurs. It turns out that this back reflection reveals the exact orientation of Alice and Bob's modulators and thus the secret basis they are using. Eve can then simply set her basis to the same basis and measure the qubit. This attack has been demonstrated against Calvis2 (IDQuantique) equipment.\n",
    "\n"
   ]
  },
  {
   "cell_type": "markdown",
   "metadata": {},
   "source": [
    "**6. Faked-state attack:** Several of the recent attacks involve *faked states* of light which are specially crafted optical signals that Eve prepares and sends to Bob in order to control Bob's detector in a manner that she wishes. The goal of Eve here is not to read the original qubits correctly but to make Bob only read qubits of her choosing such that in the end only the qubits where all the three bases between Alice, Bob and Eve match up are retained. In order to achieve this Eve shines a bright light at Bob's detector forcing Bob's detector to operate in linear mode acting as a simple avalanche photo diode.\n",
    "\n",
    "Faked state attack is typically implemented as a intercept and resend attack. Therefore, Eve intercepts Alice's photon and measures it in randomly chosen basis. if Eve's and Alice's bases match, they will share a common bit $b_e=b_a$. Eve will now reconstruct a photon and transmit to Bob. Here, due to the linear mode of operation of Bob's detector two possible cases may happen.\n",
    "\n",
    "a. Bob and Eve measure in the same basis leading to a click at Bob's detector.\n",
    "    \n",
    "b. Bob and Eve's bases differ in which case no click takes place at Bob's end.\n",
    "\n",
    "If on the other hand, if Alice's and Eve's bases don't match then Eve's signal is detected at Bob's end only when Alice's and Bob's bases don't match. These bits will eventually be thrown out during the key sifting phase.\n",
    "\n",
    "Therefore, after key sifting only bits where all three bases coincide would be retained and remaining thrown away. Eve would therefore have the entire key. She can now simply listen to the classical error correction protocol for information reconciliation and privacy amplification.\n",
    "\n",
    "The most common method for implementing faked state attack is blinding attack where the detector falls into the linear mode of operation and thus becomes \"blind\" to single photon pulses."
   ]
  },
  {
   "cell_type": "markdown",
   "metadata": {},
   "source": [
    "***\n",
    "***\n",
    "### End of nanomodule 26\n",
    "***\n",
    "***"
   ]
  }
 ],
 "metadata": {
  "kernelspec": {
   "display_name": "Python 3",
   "language": "python",
   "name": "python3"
  },
  "language_info": {
   "codemirror_mode": {
    "name": "ipython",
    "version": 3
   },
   "file_extension": ".py",
   "mimetype": "text/x-python",
   "name": "python",
   "nbconvert_exporter": "python",
   "pygments_lexer": "ipython3",
   "version": "3.5.2"
  }
 },
 "nbformat": 4,
 "nbformat_minor": 2
}
